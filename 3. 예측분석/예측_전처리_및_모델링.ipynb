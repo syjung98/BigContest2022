{
 "cells": [
  {
   "cell_type": "code",
   "execution_count": null,
   "metadata": {},
   "outputs": [],
   "source": [
    "# !pip install optuna"
   ]
  },
  {
   "cell_type": "code",
   "execution_count": 2,
   "metadata": {},
   "outputs": [],
   "source": [
    "# !pip install catboost"
   ]
  },
  {
   "cell_type": "code",
   "execution_count": 1,
   "metadata": {},
   "outputs": [],
   "source": [
    "import pandas as pd\n",
    "import numpy as np\n",
    "import seaborn as sns\n",
    "import matplotlib.pyplot as plt\n",
    "import matplotlib\n",
    "import glob\n",
    "import os\n",
    "import seaborn as sns\n",
    "import sklearn.metrics as metrics\n",
    "from matplotlib import font_manager, rc\n",
    "font_name = font_manager.FontProperties(fname=\"c:/Windows/Fonts/malgun.ttf\").get_name()\n",
    "rc('font', family=font_name)\n",
    "\n",
    "import warnings\n",
    "warnings.filterwarnings(\"ignore\")\n",
    "\n",
    "import optuna\n",
    "from optuna.samplers import TPESampler\n",
    "from sklearn.model_selection import train_test_split, StratifiedKFold\n",
    "from tqdm import tnrange, tqdm_notebook\n",
    "from sklearn.metrics import roc_curve, auc\n",
    "import catboost\n",
    "from catboost import CatBoostClassifier\n",
    "from sklearn.preprocessing import StandardScaler"
   ]
  },
  {
   "cell_type": "code",
   "execution_count": 2,
   "metadata": {},
   "outputs": [],
   "source": [
    "loan_df = pd.read_csv('data/loan_result.csv')\n",
    "# log_data = pd.read_csv('data/log_Data.csv')\n",
    "user_df = pd.read_csv('data/user_spec.csv')"
   ]
  },
  {
   "cell_type": "code",
   "execution_count": 3,
   "metadata": {},
   "outputs": [
    {
     "data": {
      "text/html": [
       "<div>\n",
       "<style scoped>\n",
       "    .dataframe tbody tr th:only-of-type {\n",
       "        vertical-align: middle;\n",
       "    }\n",
       "\n",
       "    .dataframe tbody tr th {\n",
       "        vertical-align: top;\n",
       "    }\n",
       "\n",
       "    .dataframe thead th {\n",
       "        text-align: right;\n",
       "    }\n",
       "</style>\n",
       "<table border=\"1\" class=\"dataframe\">\n",
       "  <thead>\n",
       "    <tr style=\"text-align: right;\">\n",
       "      <th></th>\n",
       "      <th>신청서_번호</th>\n",
       "      <th>한도조회_일시</th>\n",
       "      <th>금융사_번호</th>\n",
       "      <th>상품번호</th>\n",
       "      <th>승인한도</th>\n",
       "      <th>승인금리</th>\n",
       "      <th>신청_여부(타겟)</th>\n",
       "    </tr>\n",
       "  </thead>\n",
       "  <tbody>\n",
       "    <tr>\n",
       "      <th>0</th>\n",
       "      <td>1748340</td>\n",
       "      <td>2022-06-07 13:05:41</td>\n",
       "      <td>7</td>\n",
       "      <td>191</td>\n",
       "      <td>42000000.0</td>\n",
       "      <td>13.6</td>\n",
       "      <td>NaN</td>\n",
       "    </tr>\n",
       "    <tr>\n",
       "      <th>1</th>\n",
       "      <td>1748340</td>\n",
       "      <td>2022-06-07 13:05:41</td>\n",
       "      <td>25</td>\n",
       "      <td>169</td>\n",
       "      <td>24000000.0</td>\n",
       "      <td>17.9</td>\n",
       "      <td>NaN</td>\n",
       "    </tr>\n",
       "    <tr>\n",
       "      <th>2</th>\n",
       "      <td>1748340</td>\n",
       "      <td>2022-06-07 13:05:41</td>\n",
       "      <td>2</td>\n",
       "      <td>7</td>\n",
       "      <td>24000000.0</td>\n",
       "      <td>18.5</td>\n",
       "      <td>NaN</td>\n",
       "    </tr>\n",
       "    <tr>\n",
       "      <th>3</th>\n",
       "      <td>1748340</td>\n",
       "      <td>2022-06-07 13:05:41</td>\n",
       "      <td>4</td>\n",
       "      <td>268</td>\n",
       "      <td>29000000.0</td>\n",
       "      <td>10.8</td>\n",
       "      <td>NaN</td>\n",
       "    </tr>\n",
       "    <tr>\n",
       "      <th>4</th>\n",
       "      <td>1748340</td>\n",
       "      <td>2022-06-07 13:05:41</td>\n",
       "      <td>11</td>\n",
       "      <td>118</td>\n",
       "      <td>5000000.0</td>\n",
       "      <td>16.4</td>\n",
       "      <td>NaN</td>\n",
       "    </tr>\n",
       "  </tbody>\n",
       "</table>\n",
       "</div>"
      ],
      "text/plain": [
       "    신청서_번호              한도조회_일시  금융사_번호  상품번호        승인한도  승인금리  신청_여부(타겟)\n",
       "0  1748340  2022-06-07 13:05:41       7   191  42000000.0  13.6        NaN\n",
       "1  1748340  2022-06-07 13:05:41      25   169  24000000.0  17.9        NaN\n",
       "2  1748340  2022-06-07 13:05:41       2     7  24000000.0  18.5        NaN\n",
       "3  1748340  2022-06-07 13:05:41       4   268  29000000.0  10.8        NaN\n",
       "4  1748340  2022-06-07 13:05:41      11   118   5000000.0  16.4        NaN"
      ]
     },
     "execution_count": 3,
     "metadata": {},
     "output_type": "execute_result"
    }
   ],
   "source": [
    "loan_df.columns = [\"신청서_번호\",\"한도조회_일시\",\"금융사_번호\",\"상품번호\",\"승인한도\",\"승인금리\",\"신청_여부(타겟)\"]\n",
    "loan_df.head()"
   ]
  },
  {
   "cell_type": "code",
   "execution_count": 4,
   "metadata": {},
   "outputs": [],
   "source": [
    "loan_df['승인한도'] = loan_df['승인한도']/10000\n",
    "loan_df = loan_df[[\"신청서_번호\",\"금융사_번호\",\"상품번호\",\"승인한도\",\"승인금리\",\"신청_여부(타겟)\"]]"
   ]
  },
  {
   "cell_type": "code",
   "execution_count": 5,
   "metadata": {},
   "outputs": [],
   "source": [
    "user_df.columns = [\"신청서_번호\",\"유저_번호\",\"유저_생년월일\",\"유저_성별\",\"생성일시\",\"한도조회_당시_유저_신용점수\",\n",
    "                  \"연소득\",\"근로형태\",\"입사연월\",\"고용형태\",\"주거소유형태\",\"대출희망금액\",\"대출_목적\",\n",
    "                  \"개인회생자_여부\",\"개인회생자_납입_완료_여부\",\"기대출수\",\"기대출금액\"]"
   ]
  },
  {
   "cell_type": "code",
   "execution_count": 6,
   "metadata": {},
   "outputs": [],
   "source": [
    "loan_df = loan_df[loan_df['승인한도'].notnull()]"
   ]
  },
  {
   "cell_type": "markdown",
   "metadata": {},
   "source": [
    "### 개인회생자 처리하기"
   ]
  },
  {
   "cell_type": "markdown",
   "metadata": {},
   "source": [
    "개인회생자_여부와 개인회생자_납입_완료_여부를 category로 변환"
   ]
  },
  {
   "cell_type": "code",
   "execution_count": 7,
   "metadata": {},
   "outputs": [],
   "source": [
    "def 개인회생자(df):\n",
    "    df.loc[(df['개인회생자_여부']==0)&\n",
    "                          (df['개인회생자_납입_완료_여부']==1),'개인회생자_납입_완료_여부']=0 # 개인회생자가 아니면서 납입완료된 유저는 3명 -> 완료여부 0으로 변경\n",
    "\n",
    "    df.loc[(df['개인회생자_여부']==0)&\n",
    "                          (df['개인회생자_납입_완료_여부'].isnull()),'개인회생자_납입_완료_여부'] = 0\n",
    "    df['개인회생자'] = 10 #null값인 데이터는 처리 못한 상황\n",
    "\n",
    "    df.loc[(df['개인회생자_여부']==0)\n",
    "                          &(df['개인회생자_납입_완료_여부']==0),'개인회생자'] = 0\n",
    "\n",
    "    df.loc[(df['개인회생자_여부']==1)\n",
    "                          &(df['개인회생자_납입_완료_여부']==0),'개인회생자'] = 1\n",
    "\n",
    "    df.loc[(df['개인회생자_여부']==1)\n",
    "                          &(df['개인회생자_납입_완료_여부']==1),'개인회생자'] = 2\n",
    "    return df"
   ]
  },
  {
   "cell_type": "code",
   "execution_count": 8,
   "metadata": {},
   "outputs": [],
   "source": [
    "user_df = 개인회생자(user_df)"
   ]
  },
  {
   "cell_type": "markdown",
   "metadata": {},
   "source": [
    "### 성별 결측치 채우기"
   ]
  },
  {
   "cell_type": "markdown",
   "metadata": {},
   "source": [
    "이미 기존의 데이터에 성별 및 생년월일이 존재한다면 대체"
   ]
  },
  {
   "cell_type": "code",
   "execution_count": 9,
   "metadata": {},
   "outputs": [],
   "source": [
    "sex_null_list = set(user_df[(user_df['유저_번호'].isin(\n",
    "    set(user_df[user_df['유저_성별'].isnull()]['유저_번호'])))&(user_df['유저_성별'].notnull())]['유저_번호'])\n",
    "for i in sex_null_list:\n",
    "    user_df.loc[(user_df['유저_번호']==i)&(user_df['유저_생년월일'].isnull()),\n",
    "                  '유저_생년월일'] = user_df[user_df['유저_번호'] ==i]['유저_생년월일'].dropna().unique().item()\n",
    "    user_df.loc[(user_df['유저_번호']==i)&(user_df['유저_성별'].isnull()),\n",
    "                  '유저_성별'] = user_df[user_df['유저_번호'] ==i]['유저_성별'].dropna().unique().item()"
   ]
  },
  {
   "cell_type": "markdown",
   "metadata": {},
   "source": [
    "user_train,user_test 나누기"
   ]
  },
  {
   "cell_type": "code",
   "execution_count": 11,
   "metadata": {},
   "outputs": [],
   "source": [
    "user_train = user_df[user_df['신청서_번호'].isin(set(loan_df[loan_df['신청_여부(타겟)'].notnull()]['신청서_번호']))]\n",
    "user_test = user_df[user_df['신청서_번호'].isin(set(loan_df[loan_df['신청_여부(타겟)'].isnull()]['신청서_번호']))]"
   ]
  },
  {
   "cell_type": "code",
   "execution_count": 12,
   "metadata": {},
   "outputs": [
    {
     "name": "stdout",
     "output_type": "stream",
     "text": [
      "(728862, 18)\n",
      "(239865, 18)\n"
     ]
    }
   ],
   "source": [
    "print(user_train.shape)\n",
    "print(user_test.shape)"
   ]
  },
  {
   "cell_type": "code",
   "execution_count": 15,
   "metadata": {},
   "outputs": [],
   "source": [
    "user_train.sort_values(by = '생성일시',ascending = True,inplace = True)# 날짜순서로 sort\n",
    "user_train.reset_index(drop = True,inplace = True)\n",
    "user_test.sort_values(by = '생성일시',ascending = True,inplace = True)# 날짜순서로 sort\n",
    "user_test.reset_index(drop = True,inplace = True)"
   ]
  },
  {
   "cell_type": "code",
   "execution_count": 16,
   "metadata": {},
   "outputs": [
    {
     "data": {
      "text/html": [
       "<div>\n",
       "<style scoped>\n",
       "    .dataframe tbody tr th:only-of-type {\n",
       "        vertical-align: middle;\n",
       "    }\n",
       "\n",
       "    .dataframe tbody tr th {\n",
       "        vertical-align: top;\n",
       "    }\n",
       "\n",
       "    .dataframe thead th {\n",
       "        text-align: right;\n",
       "    }\n",
       "</style>\n",
       "<table border=\"1\" class=\"dataframe\">\n",
       "  <thead>\n",
       "    <tr style=\"text-align: right;\">\n",
       "      <th></th>\n",
       "      <th>유저_성별</th>\n",
       "      <th>연소득</th>\n",
       "      <th>근로형태</th>\n",
       "      <th>고용형태</th>\n",
       "      <th>주거소유형태</th>\n",
       "      <th>대출희망금액</th>\n",
       "      <th>대출_목적</th>\n",
       "      <th>개인회생자</th>\n",
       "    </tr>\n",
       "  </thead>\n",
       "  <tbody>\n",
       "    <tr>\n",
       "      <th>604</th>\n",
       "      <td>NaN</td>\n",
       "      <td>30000000.0</td>\n",
       "      <td>EARNEDINCOME</td>\n",
       "      <td>정규직</td>\n",
       "      <td>전월세</td>\n",
       "      <td>15000000.0</td>\n",
       "      <td>생활비</td>\n",
       "      <td>0</td>\n",
       "    </tr>\n",
       "    <tr>\n",
       "      <th>960</th>\n",
       "      <td>NaN</td>\n",
       "      <td>74000000.0</td>\n",
       "      <td>EARNEDINCOME</td>\n",
       "      <td>정규직</td>\n",
       "      <td>자가</td>\n",
       "      <td>80000000.0</td>\n",
       "      <td>대환대출</td>\n",
       "      <td>0</td>\n",
       "    </tr>\n",
       "    <tr>\n",
       "      <th>1842</th>\n",
       "      <td>NaN</td>\n",
       "      <td>24000000.0</td>\n",
       "      <td>EARNEDINCOME</td>\n",
       "      <td>정규직</td>\n",
       "      <td>기타가족소유</td>\n",
       "      <td>15000000.0</td>\n",
       "      <td>대환대출</td>\n",
       "      <td>0</td>\n",
       "    </tr>\n",
       "  </tbody>\n",
       "</table>\n",
       "</div>"
      ],
      "text/plain": [
       "      유저_성별         연소득          근로형태 고용형태  주거소유형태      대출희망금액 대출_목적  개인회생자\n",
       "604     NaN  30000000.0  EARNEDINCOME  정규직     전월세  15000000.0   생활비      0\n",
       "960     NaN  74000000.0  EARNEDINCOME  정규직      자가  80000000.0  대환대출      0\n",
       "1842    NaN  24000000.0  EARNEDINCOME  정규직  기타가족소유  15000000.0  대환대출      0"
      ]
     },
     "execution_count": 16,
     "metadata": {},
     "output_type": "execute_result"
    }
   ],
   "source": [
    "train_data = user_df.dropna(how = 'any')[[\"유저_성별\",\"연소득\",\"근로형태\",\"고용형태\",\"주거소유형태\",\"대출희망금액\",\"대출_목적\",\n",
    "                                             \"개인회생자\"]]\n",
    "\n",
    "\n",
    "test_data = user_test[user_test[\"유저_성별\"].isnull()][[\"유저_성별\",\"연소득\",\"근로형태\",\n",
    "                                                       \"고용형태\",\"주거소유형태\",\"대출희망금액\",\"대출_목적\",\"개인회생자\"]]\n",
    "test_data.head(3)"
   ]
  },
  {
   "cell_type": "code",
   "execution_count": 18,
   "metadata": {},
   "outputs": [
    {
     "data": {
      "text/plain": [
       "(558947, 8)"
      ]
     },
     "execution_count": 18,
     "metadata": {},
     "output_type": "execute_result"
    }
   ],
   "source": [
    "data = pd.concat([train_data,test_data],axis=0)\n",
    "data.shape"
   ]
  },
  {
   "cell_type": "code",
   "execution_count": 19,
   "metadata": {},
   "outputs": [],
   "source": [
    "from sklearn.preprocessing import LabelEncoder\n",
    "from sklearn.model_selection import train_test_split\n",
    "from sklearn.preprocessing import MinMaxScaler\n",
    "\n",
    "le = LabelEncoder()\n",
    "for col in [\"고용형태\",\"주거소유형태\",\"대출_목적\",\"근로형태\"]:\n",
    "    data[col] = le.fit_transform(data[col])\n",
    "\n",
    "for col in [\"연소득\",\"대출희망금액\"]:\n",
    "    data[col] = np.log1p(data[col])   \n",
    "    \n",
    "train_data = data.iloc[:556936,:]    \n",
    "test_data = data.iloc[556936:,:]    \n",
    "    \n",
    "features_train = train_data.drop(\"유저_성별\",axis=1)\n",
    "labels_train = train_data[\"유저_성별\"]\n",
    "\n",
    "features_test = test_data.drop(\"유저_성별\",axis=1)\n",
    "labels_test = test_data[\"유저_성별\"]\n",
    "\n",
    "scaler = MinMaxScaler(feature_range = (0,1))\n",
    "\n",
    "scaler.fit(features_train)\n",
    "features_train = scaler.transform(features_train)\n",
    "features_test = scaler.transform(features_test)\n",
    "\n",
    "X_train, X_test, y_train, y_test = train_test_split(features_train,labels_train,\n",
    "                                                    random_state=0,test_size=0.2,shuffle=True,stratify=labels_train)"
   ]
  },
  {
   "cell_type": "code",
   "execution_count": 20,
   "metadata": {},
   "outputs": [
    {
     "name": "stdout",
     "output_type": "stream",
     "text": [
      "test accuracy :  0.6961701440011492\n",
      "최적의 parameters :  {'C': 0.01, 'max_iter': 100}\n"
     ]
    }
   ],
   "source": [
    "from sklearn.model_selection import GridSearchCV\n",
    "from sklearn.linear_model import LogisticRegression\n",
    "\n",
    "param_grid = {\n",
    "    'C' : [0.001, 0.01, 0.1, 1, 10, 100],\n",
    "    'max_iter' : [100,1000]\n",
    "}\n",
    "\n",
    "grid_search = GridSearchCV(LogisticRegression(), param_grid, cv=5)\n",
    "\n",
    "grid_search.fit(X_train, y_train)\n",
    "print('test accuracy : ', grid_search.score(X_test, y_test))\n",
    "print('최적의 parameters : ', grid_search.best_params_)"
   ]
  },
  {
   "cell_type": "code",
   "execution_count": 21,
   "metadata": {},
   "outputs": [],
   "source": [
    "from sklearn.metrics import accuracy_score, precision_score, recall_score, confusion_matrix, f1_score\n",
    "\n",
    "def get_clf_eval(y_test, pred):\n",
    "    confusion = confusion_matrix(y_test, pred)\n",
    "    accuracy = accuracy_score(y_test, pred)\n",
    "    precision = precision_score(y_test, pred)\n",
    "    recall = recall_score(y_test, pred)\n",
    "    f1_score_ = f1_score(y_test, pred)\n",
    "    print('Confusion Matrix')\n",
    "    print(confusion)\n",
    "    print('정확도:{}, 정밀도:{}, 재현율:{}'.format(accuracy, precision, recall))\n",
    "    print('f1 score:{}'.format(f1_score_))"
   ]
  },
  {
   "cell_type": "code",
   "execution_count": 22,
   "metadata": {},
   "outputs": [
    {
     "name": "stdout",
     "output_type": "stream",
     "text": [
      "Confusion Matrix\n",
      "[[   55 33833]\n",
      " [   92 77408]]\n",
      "정확도:0.6954339785255145, 정밀도:0.6958585413651441, 재현율:0.9988129032258064\n",
      "f1 score:0.8202563301031571\n"
     ]
    }
   ],
   "source": [
    "lm = LogisticRegression(max_iter = 100, C=0.001)\n",
    "lm.fit(X_train, y_train)\n",
    "pred = lm.predict(X_test)\n",
    "get_clf_eval(y_test, pred)"
   ]
  },
  {
   "cell_type": "markdown",
   "metadata": {},
   "source": [
    "성별 예측진행하기"
   ]
  },
  {
   "cell_type": "code",
   "execution_count": 23,
   "metadata": {},
   "outputs": [],
   "source": [
    "sex_predict = lm.predict(features_test) # 12901개의 데이터가 예측완료"
   ]
  },
  {
   "cell_type": "code",
   "execution_count": 25,
   "metadata": {},
   "outputs": [],
   "source": [
    "user_test_sex_null = user_test[user_test[\"유저_성별\"].isnull()].reset_index(drop=True)\n",
    "user_test_sex_nonull = user_test[user_test[\"유저_성별\"].notnull()].reset_index(drop=True)\n",
    "\n",
    "user_test_sex_null[\"유저_성별\"] = sex_predict"
   ]
  },
  {
   "cell_type": "markdown",
   "metadata": {},
   "source": [
    "### 성별 결측치가 채워진 user_df_2"
   ]
  },
  {
   "cell_type": "code",
   "execution_count": 26,
   "metadata": {},
   "outputs": [],
   "source": [
    "user_test = pd.concat([user_test_sex_nonull,user_test_sex_null],axis=0)"
   ]
  },
  {
   "cell_type": "code",
   "execution_count": 27,
   "metadata": {},
   "outputs": [],
   "source": [
    "user_train = user_train[user_train['유저_성별'].notnull()]"
   ]
  },
  {
   "cell_type": "code",
   "execution_count": 28,
   "metadata": {},
   "outputs": [],
   "source": [
    "user_test = user_test.drop([\"개인회생자_여부\",\"개인회생자_납입_완료_여부\"],axis=1).reset_index(drop=True)\n",
    "user_train = user_train.drop([\"개인회생자_여부\",\"개인회생자_납입_완료_여부\"],axis=1).reset_index(drop=True)"
   ]
  },
  {
   "cell_type": "code",
   "execution_count": 29,
   "metadata": {},
   "outputs": [
    {
     "name": "stdout",
     "output_type": "stream",
     "text": [
      "(724130, 16)\n",
      "(239865, 16)\n"
     ]
    }
   ],
   "source": [
    "print(user_train.shape)\n",
    "print(user_test.shape)"
   ]
  },
  {
   "cell_type": "markdown",
   "metadata": {},
   "source": [
    "### numeric한 데이터에 대한 이상치 처리\n",
    "- 만원 단위로 낮춰서하기\n",
    "- 성별, 근로형태, 고용형태, 주거소유형태 : 평균값으로 numeric 데이터 이상치 처리해주기"
   ]
  },
  {
   "cell_type": "code",
   "execution_count": 32,
   "metadata": {},
   "outputs": [],
   "source": [
    "# 이상치 처리 시작\n",
    "user_df_3 = pd.concat([user_train,user_test],axis = 0)\n",
    "user_df_3.reset_index(drop=True,inplace = True)"
   ]
  },
  {
   "cell_type": "markdown",
   "metadata": {},
   "source": [
    "### 소득분위 구간 추가하기\n",
    "- https://insfiler.com/detail/rt_285_incomeq10-0001"
   ]
  },
  {
   "cell_type": "code",
   "execution_count": 33,
   "metadata": {},
   "outputs": [],
   "source": [
    "for col in [\"기대출금액\",\"연소득\",\"대출희망금액\"]:\n",
    "    user_df_3[col] = user_df_3[col] / 10000"
   ]
  },
  {
   "cell_type": "code",
   "execution_count": 34,
   "metadata": {},
   "outputs": [],
   "source": [
    "bins = [-2, 70, 170, 2400, 3100, 3800, 4600, 5500, 6600, 8100, 12600,1000001]\n",
    "#labels = ['null', '1분위', '9분위', '8등급', '7등급', '6등급', '5등급', '4등급', '3등급', '2등급', '1등급']\n",
    "labels = [0,1,2,3,4,5,6,7,8,9,10]\n",
    "\n",
    "user_df_3.loc[user_df_3['연소득'].isnull(),'연소득'] = 0\n",
    "user_df_3['연소득분위'] = pd.cut(user_df_3['연소득'],bins = bins, labels = labels)\n"
   ]
  },
  {
   "cell_type": "code",
   "execution_count": 35,
   "metadata": {},
   "outputs": [],
   "source": [
    "user_train = user_df_3[user_df_3['신청서_번호'].isin(set(loan_df[loan_df['신청_여부(타겟)'].notnull()]['신청서_번호']))]\n",
    "user_test = user_df_3[user_df_3['신청서_번호'].isin(set(loan_df[loan_df['신청_여부(타겟)'].isnull()]['신청서_번호']))]\n",
    "user_train.reset_index(drop = True,inplace = True)\n",
    "user_test.reset_index(drop = True,inplace = True)"
   ]
  },
  {
   "cell_type": "markdown",
   "metadata": {},
   "source": [
    "##### 결측치 처리하기\n",
    "- 성별, 근로형태, 고용형태, 주거소유형태, 연소득분위로 하나의 그룹을 생성하고 해당 그룹의 평균값으로 채워주기\n",
    "\n",
    "- 기대출수, 기대출금액, 신용점수등급 결측치 채우기"
   ]
  },
  {
   "cell_type": "markdown",
   "metadata": {},
   "source": [
    "\"유저_성별\",\"근로형태\",\"고용형태\",\"주거소유형태\",\"연소득분위\""
   ]
  },
  {
   "cell_type": "code",
   "execution_count": 38,
   "metadata": {},
   "outputs": [],
   "source": [
    "def get_replace_null(full_data,data,col):\n",
    "    df = full_data.copy()\n",
    "\n",
    "    null_data = data[data[col].isnull()]\n",
    "    \n",
    "    nonull_test_data =data[data[col].notnull()] \n",
    "    nonull_data = df[df[col].notnull()]\n",
    "    \n",
    "    # 대체할 데이터가 담긴\n",
    "    standard_df = nonull_data.groupby([\"유저_성별\",\"근로형태\",\"고용형태\",\"주거소유형태\",\"연소득분위\"]).mean().reset_index()\n",
    "    \n",
    "    # null값이 대체될 데이터\n",
    "    null_replace = pd.merge(null_data.drop(col,axis=1),\n",
    "\n",
    "                  standard_df[[\"유저_성별\",\"근로형태\",\"고용형태\",\"주거소유형태\",\"연소득분위\",col]]\n",
    "\n",
    "             ,on=[\"유저_성별\",\"근로형태\",\"고용형태\",\"주거소유형태\",\"연소득분위\"],how=\"inner\")\n",
    "\n",
    "    # 이상치 대체하고나서 concat해주기\n",
    "    final = pd.concat([null_replace[df.columns],\n",
    "               nonull_test_data],\n",
    "             axis = 0)\n",
    "\n",
    "    #final[col] = final[col].astype(int)\n",
    "    \n",
    "    return final.reset_index(drop=True)"
   ]
  },
  {
   "cell_type": "markdown",
   "metadata": {},
   "source": [
    "\"유저_성별\",\"근로형태\",\"고용형태\",\"주거소유형태\""
   ]
  },
  {
   "cell_type": "code",
   "execution_count": 39,
   "metadata": {},
   "outputs": [],
   "source": [
    "def get_replace_null_1(full_data,data,col):\n",
    "    df = full_data.copy()\n",
    "\n",
    "    null_data = data[data[col].isnull()]\n",
    "    nonull_test_data =data[data[col].notnull()] \n",
    "    nonull_data = df[df[col].notnull()]\n",
    "    \n",
    "    # 대체할 데이터가 담긴\n",
    "    standard_df = nonull_data.groupby([\"유저_성별\",\"근로형태\",\"고용형태\",\"주거소유형태\"]).mean().reset_index()\n",
    "    \n",
    "    # null값이 대체될 데이터\n",
    "    null_replace = pd.merge(null_data.drop(col,axis=1),\n",
    "\n",
    "                  standard_df[[\"유저_성별\",\"근로형태\",\"고용형태\",\"주거소유형태\",col]]\n",
    "\n",
    "             ,on=[\"유저_성별\",\"근로형태\",\"고용형태\",\"주거소유형태\"],how=\"inner\")\n",
    "\n",
    "    # 이상치 대체하고나서 concat해주기\n",
    "    final = pd.concat([null_replace[df.columns],\n",
    "               nonull_test_data],\n",
    "             axis = 0)\n",
    "\n",
    "    #final[col] = final[col].astype(int)\n",
    "    \n",
    "    return final.reset_index(drop=True)"
   ]
  },
  {
   "cell_type": "code",
   "execution_count": 40,
   "metadata": {},
   "outputs": [],
   "source": [
    "temp = user_test.copy()"
   ]
  },
  {
   "cell_type": "code",
   "execution_count": 41,
   "metadata": {},
   "outputs": [],
   "source": [
    "for col in [\"기대출수\",\"기대출금액\"]:\n",
    "    user_test = get_replace_null(user_df_3,user_test,col)\n",
    "    user_test = get_replace_null_1(user_df_3,user_test,col)\n",
    "    user_test[col] = user_test[col].astype(int)\n"
   ]
  },
  {
   "cell_type": "markdown",
   "metadata": {},
   "source": [
    "처리 안되는 유저 1명 따로 처리"
   ]
  },
  {
   "cell_type": "code",
   "execution_count": 42,
   "metadata": {},
   "outputs": [
    {
     "data": {
      "text/plain": [
       "{1946326}"
      ]
     },
     "execution_count": 42,
     "metadata": {},
     "output_type": "execute_result"
    }
   ],
   "source": [
    "set(temp['신청서_번호'])-set(user_test['신청서_번호'])"
   ]
  },
  {
   "cell_type": "code",
   "execution_count": 43,
   "metadata": {},
   "outputs": [],
   "source": [
    "temp.loc[temp['신청서_번호']==1946326,'기대출금액']=temp[(temp['유저_성별']==0)&(temp['근로형태']=='PRACTITIONER')&(temp['고용형태']=='일용직')]['기대출금액'].mean()\n",
    "user_test = pd.concat([user_test,temp[temp['신청서_번호']==1946326]],axis =0)"
   ]
  },
  {
   "cell_type": "code",
   "execution_count": 44,
   "metadata": {},
   "outputs": [],
   "source": [
    "user_train =user_train[(user_train['기대출수'].notnull())&(user_train['기대출금액'].notnull())]"
   ]
  },
  {
   "cell_type": "code",
   "execution_count": 45,
   "metadata": {},
   "outputs": [
    {
     "name": "stdout",
     "output_type": "stream",
     "text": [
      "(552670, 17)\n",
      "(239865, 17)\n"
     ]
    }
   ],
   "source": [
    "print(user_train.shape)\n",
    "print(user_test.shape)"
   ]
  },
  {
   "cell_type": "markdown",
   "metadata": {},
   "source": [
    "###### 신용점수 결측치 채우기\n",
    "- 신용점수가 0점인 얘들은 원래 다 결측치\n",
    "- 신용점수가 0점인 얘들은 신용점수랑 신용점수 등급 날려주기"
   ]
  },
  {
   "cell_type": "code",
   "execution_count": 46,
   "metadata": {},
   "outputs": [],
   "source": [
    "# user_df_3 = pd.concat([user_train,user_test],axis = 0)\n",
    "# user_df_3.reset_index(drop=True,inplace = True)"
   ]
  },
  {
   "cell_type": "code",
   "execution_count": 49,
   "metadata": {},
   "outputs": [],
   "source": [
    "# 0을 결측치로 바꾸기\n",
    "user_train[\"한도조회_당시_유저_신용점수\"] = user_train[\"한도조회_당시_유저_신용점수\"].replace(0.0, np.NaN)\n",
    "user_test[\"한도조회_당시_유저_신용점수\"] = user_test[\"한도조회_당시_유저_신용점수\"].replace(0.0, np.NaN)\n"
   ]
  },
  {
   "cell_type": "code",
   "execution_count": 50,
   "metadata": {},
   "outputs": [],
   "source": [
    "user_test = get_replace_null(user_df_3,user_test,\"한도조회_당시_유저_신용점수\")\n",
    "user_test = get_replace_null_1(user_df_3,user_test,\"한도조회_당시_유저_신용점수\")"
   ]
  },
  {
   "cell_type": "code",
   "execution_count": 51,
   "metadata": {},
   "outputs": [],
   "source": [
    "user_train = user_train[user_train['한도조회_당시_유저_신용점수'].notnull()]"
   ]
  },
  {
   "cell_type": "code",
   "execution_count": 52,
   "metadata": {},
   "outputs": [],
   "source": [
    "bins = [0, 444, 514, 599, 664, 749, 804, 839, 869, 899, 1000]\n",
    "labels = [10, 9, 8, 7, 6, 5, 4, 3, 2, 1]\n",
    "\n",
    "user_train['신용점수등급'] = pd.cut(user_train['한도조회_당시_유저_신용점수'],bins = bins, labels = labels)\n",
    "user_test['신용점수등급'] = pd.cut(user_test['한도조회_당시_유저_신용점수'],bins = bins, labels = labels)\n"
   ]
  },
  {
   "cell_type": "code",
   "execution_count": 53,
   "metadata": {},
   "outputs": [],
   "source": [
    "user_df_3 = pd.concat([user_train,user_test],axis = 0)\n",
    "user_df_3.reset_index(drop=True,inplace = True)"
   ]
  },
  {
   "cell_type": "code",
   "execution_count": 54,
   "metadata": {},
   "outputs": [
    {
     "name": "stdout",
     "output_type": "stream",
     "text": [
      "(239865, 18)\n",
      "(534883, 18)\n"
     ]
    }
   ],
   "source": [
    "print(user_test.shape)\n",
    "print(user_train.shape)"
   ]
  },
  {
   "cell_type": "markdown",
   "metadata": {},
   "source": [
    "##### 개인회생자 결측치 처리하기\n",
    "- 9등급 이하인 경우에는 0으로 할당하기"
   ]
  },
  {
   "cell_type": "code",
   "execution_count": 58,
   "metadata": {},
   "outputs": [
    {
     "data": {
      "text/plain": [
       "0     236649\n",
       "1       1851\n",
       "10      1108\n",
       "2        257\n",
       "Name: 개인회생자, dtype: int64"
      ]
     },
     "execution_count": 58,
     "metadata": {},
     "output_type": "execute_result"
    }
   ],
   "source": [
    "user_test['개인회생자'].value_counts()"
   ]
  },
  {
   "cell_type": "code",
   "execution_count": 59,
   "metadata": {},
   "outputs": [],
   "source": [
    "user_df_3_ = user_test.copy()"
   ]
  },
  {
   "cell_type": "code",
   "execution_count": 60,
   "metadata": {},
   "outputs": [],
   "source": [
    "user_df_3_null = user_df_3_[(user_df_3_[\"개인회생자\"] == 10) & (user_df_3_[\"신용점수등급\"] == 10)]\n",
    "user_df_3_nonull1 = user_df_3_[(user_df_3_[\"개인회생자\"] == 10) & (user_df_3_[\"신용점수등급\"] != 10)]\n",
    "user_df_3_nonull2 = user_df_3_[(user_df_3_[\"개인회생자\"] != 10)]"
   ]
  },
  {
   "cell_type": "markdown",
   "metadata": {},
   "source": [
    "##### 신용점수가 9등급이상인 것들 해결하기"
   ]
  },
  {
   "cell_type": "code",
   "execution_count": 61,
   "metadata": {},
   "outputs": [],
   "source": [
    "user_df_3_nonull1[\"개인회생자\"] = 0"
   ]
  },
  {
   "cell_type": "markdown",
   "metadata": {},
   "source": [
    "##### 신용점수가 10등급인 것들 해결하기\n",
    "- 신용점수가 150미만인 것들은 1로 할당\n",
    "- 신용점수가 150이상이면 1로 할당"
   ]
  },
  {
   "cell_type": "code",
   "execution_count": 62,
   "metadata": {},
   "outputs": [
    {
     "data": {
      "text/plain": [
       "<matplotlib.axes._subplots.AxesSubplot at 0x1c481172a48>"
      ]
     },
     "execution_count": 62,
     "metadata": {},
     "output_type": "execute_result"
    },
    {
     "data": {
      "image/png": "[encoded data removed]",
      "text/plain": [
       "<Figure size 432x288 with 1 Axes>"
      ]
     },
     "metadata": {
      "needs_background": "light"
     },
     "output_type": "display_data"
    }
   ],
   "source": [
    "user_df_3[(user_df_3[\"신용점수등급\"] == 10) &\n",
    "                  (user_df_3[\"개인회생자\"] == 0)][\"한도조회_당시_유저_신용점수\"].hist()"
   ]
  },
  {
   "cell_type": "code",
   "execution_count": 63,
   "metadata": {},
   "outputs": [
    {
     "data": {
      "text/plain": [
       "<matplotlib.axes._subplots.AxesSubplot at 0x1c48b470e88>"
      ]
     },
     "execution_count": 63,
     "metadata": {},
     "output_type": "execute_result"
    },
    {
     "data": {
      "image/png": "[encoded data removed]",
      "text/plain": [
       "<Figure size 432x288 with 1 Axes>"
      ]
     },
     "metadata": {
      "needs_background": "light"
     },
     "output_type": "display_data"
    }
   ],
   "source": [
    "user_df_3[(user_df_3[\"신용점수등급\"] == 10) &\n",
    "                  (user_df_3[\"개인회생자\"] == 2)][\"한도조회_당시_유저_신용점수\"].hist()"
   ]
  },
  {
   "cell_type": "code",
   "execution_count": 64,
   "metadata": {},
   "outputs": [
    {
     "data": {
      "text/plain": [
       "<matplotlib.axes._subplots.AxesSubplot at 0x1c48b535908>"
      ]
     },
     "execution_count": 64,
     "metadata": {},
     "output_type": "execute_result"
    },
    {
     "data": {
      "image/png": "[encoded data removed]",
      "text/plain": [
       "<Figure size 432x288 with 1 Axes>"
      ]
     },
     "metadata": {
      "needs_background": "light"
     },
     "output_type": "display_data"
    }
   ],
   "source": [
    "user_df_3[(user_df_3[\"신용점수등급\"] == 10) &\n",
    "                  (user_df_3[\"개인회생자\"] == 1)][\"한도조회_당시_유저_신용점수\"].hist()"
   ]
  },
  {
   "cell_type": "code",
   "execution_count": 65,
   "metadata": {},
   "outputs": [],
   "source": [
    "user_df_3_null1 = user_df_3_null[user_df_3_null[\"한도조회_당시_유저_신용점수\"] < 150]\n",
    "user_df_3_null2 = user_df_3_null[user_df_3_null[\"한도조회_당시_유저_신용점수\"] >= 150]\n",
    "\n",
    "user_df_3_null1[\"개인회생자\"] = 1\n",
    "user_df_3_null2[\"개인회생자\"] = 0"
   ]
  },
  {
   "cell_type": "code",
   "execution_count": 66,
   "metadata": {},
   "outputs": [],
   "source": [
    "user_train = user_train[user_train['개인회생자']!=10]"
   ]
  },
  {
   "cell_type": "code",
   "execution_count": 67,
   "metadata": {},
   "outputs": [],
   "source": [
    "user_test = pd.concat([user_df_3_nonull2,user_df_3_nonull1,user_df_3_null1,user_df_3_null2],axis=0)"
   ]
  },
  {
   "cell_type": "code",
   "execution_count": 68,
   "metadata": {},
   "outputs": [],
   "source": [
    "user_df_3 = pd.concat([user_train,user_test],axis = 0)\n",
    "user_df_3.reset_index(drop=True,inplace = True)"
   ]
  },
  {
   "cell_type": "markdown",
   "metadata": {},
   "source": [
    "##### 기대출수 먼저 이상치 잡기\n",
    "##### 대출희망금액 먼저 이상치 잡기"
   ]
  },
  {
   "cell_type": "code",
   "execution_count": 69,
   "metadata": {},
   "outputs": [],
   "source": [
    "def find_outlier_z(data):\n",
    "    \n",
    "    threshold = 3\n",
    "    \n",
    "    mean = np.mean(data)\n",
    "    std = np.std(data)\n",
    "    \n",
    "    z_score = [(y-mean) / std for y in data]\n",
    "    \n",
    "    masks = np.where(np.abs(z_score) >= threshold)\n",
    "    \n",
    "    #print(mean+threshold*std)\n",
    "    #print(mean-threshold*std)\n",
    "    return masks[0]"
   ]
  },
  {
   "cell_type": "code",
   "execution_count": 70,
   "metadata": {},
   "outputs": [],
   "source": [
    "def no_outlier_z(data):\n",
    "    \n",
    "    threshold = 3\n",
    "    \n",
    "    mean = np.mean(data)\n",
    "    std = np.std(data)\n",
    "    \n",
    "    z_score = [(y-mean) / std for y in data]\n",
    "    \n",
    "    masks = np.where(np.abs(z_score) < threshold)\n",
    "    \n",
    "    #print(mean+threshold*std)\n",
    "    #print(mean-threshold*std)\n",
    "    return masks[0]"
   ]
  },
  {
   "cell_type": "markdown",
   "metadata": {},
   "source": [
    "결측을 채울 기준이 되는 dataframe\n",
    "- 기준이 되는 dataframe : standard_df"
   ]
  },
  {
   "cell_type": "code",
   "execution_count": 71,
   "metadata": {},
   "outputs": [],
   "source": [
    "def iqr_func(x):\n",
    "    q3, q1 = np.percentile(x, [75, 25])\n",
    "    iqr = q3 - q1\n",
    "    final = q3 + 1.5*iqr\n",
    "    return int(final)"
   ]
  },
  {
   "cell_type": "code",
   "execution_count": 72,
   "metadata": {},
   "outputs": [],
   "source": [
    "def get_replace_outlier(data,col):\n",
    "    # col에 해당하는 이상치 대체하기\n",
    "    # data : 이상치 대체할 데이터프레임\n",
    "    \n",
    "    df = data.copy()\n",
    "    \n",
    "    # 이상치 대체의 기준 dataframe\n",
    "    standard_df = df[df[col].notnull()].groupby([\"유저_성별\",\"근로형태\",\"고용형태\",\"주거소유형태\",\"연소득분위\"]\n",
    "                               ).agg({col: iqr_func}).reset_index()\n",
    "    \n",
    "    # 이상치의 index\n",
    "    outlier_index = find_outlier_z(df[col])\n",
    "    \n",
    "    # 이상치 아닌 것 index\n",
    "    nooutlier_index = no_outlier_z(df[col])\n",
    "    \n",
    "    # 이상치에 속하는 데이터\n",
    "    outlier_data = df.loc[outlier_index,:]\n",
    "    \n",
    "    # 이상치가 아닌 것에 속하는 데이터\n",
    "    nooutlier_data = df.loc[nooutlier_index,:]\n",
    "    \n",
    "    # 이상치가 대체된 데이터프레임\n",
    "    \n",
    "    outlier_replace = pd.merge(outlier_data.drop(col,axis=1),\n",
    "              \n",
    "              standard_df[[\"유저_성별\",\"근로형태\",\"고용형태\",\"주거소유형태\",\"연소득분위\",col]]\n",
    "         \n",
    "         ,on=[\"유저_성별\",\"근로형태\",\"고용형태\",\"주거소유형태\",\"연소득분위\"],how=\"inner\")\n",
    "\n",
    "    \n",
    "    # 이상치 대체하고나서 concat해주기\n",
    "    final = pd.concat([outlier_replace[df.columns],\n",
    "           nooutlier_data,\n",
    "          df[df[col].isnull()]],\n",
    "         axis = 0)\n",
    "    \n",
    "    \n",
    "    return final.reset_index(drop=True)"
   ]
  },
  {
   "cell_type": "markdown",
   "metadata": {},
   "source": [
    "##### user_df_4 : column의 이상치가 처리된 dataframe"
   ]
  },
  {
   "cell_type": "code",
   "execution_count": 73,
   "metadata": {},
   "outputs": [],
   "source": [
    "user_df_4 = get_replace_outlier(user_df_3,\"기대출수\")\n",
    "\n",
    "user_df_4 = get_replace_outlier(user_df_4,\"기대출금액\")\n",
    "\n",
    "user_df_4 = get_replace_outlier(user_df_4,\"대출희망금액\")\n",
    "\n",
    "user_df_4 = get_replace_outlier(user_df_4,\"연소득\")"
   ]
  },
  {
   "cell_type": "markdown",
   "metadata": {},
   "source": [
    "##### user_df_5 : 연소득 0원 이상치가 처리된 dataframe"
   ]
  },
  {
   "cell_type": "code",
   "execution_count": 74,
   "metadata": {
    "scrolled": true
   },
   "outputs": [
    {
     "data": {
      "text/html": [
       "<div>\n",
       "<style scoped>\n",
       "    .dataframe tbody tr th:only-of-type {\n",
       "        vertical-align: middle;\n",
       "    }\n",
       "\n",
       "    .dataframe tbody tr th {\n",
       "        vertical-align: top;\n",
       "    }\n",
       "\n",
       "    .dataframe thead th {\n",
       "        text-align: right;\n",
       "    }\n",
       "</style>\n",
       "<table border=\"1\" class=\"dataframe\">\n",
       "  <thead>\n",
       "    <tr style=\"text-align: right;\">\n",
       "      <th></th>\n",
       "      <th>신청서_번호</th>\n",
       "      <th>유저_번호</th>\n",
       "      <th>유저_생년월일</th>\n",
       "      <th>유저_성별</th>\n",
       "      <th>생성일시</th>\n",
       "      <th>한도조회_당시_유저_신용점수</th>\n",
       "      <th>연소득</th>\n",
       "      <th>근로형태</th>\n",
       "      <th>입사연월</th>\n",
       "      <th>고용형태</th>\n",
       "      <th>주거소유형태</th>\n",
       "      <th>대출희망금액</th>\n",
       "      <th>대출_목적</th>\n",
       "      <th>기대출수</th>\n",
       "      <th>기대출금액</th>\n",
       "      <th>개인회생자</th>\n",
       "      <th>연소득분위</th>\n",
       "      <th>신용점수등급</th>\n",
       "    </tr>\n",
       "  </thead>\n",
       "  <tbody>\n",
       "    <tr>\n",
       "      <th>52</th>\n",
       "      <td>1341046</td>\n",
       "      <td>732757</td>\n",
       "      <td>1982.0</td>\n",
       "      <td>1.0</td>\n",
       "      <td>2022-05-06 10:29:46</td>\n",
       "      <td>650.0</td>\n",
       "      <td>36250.0</td>\n",
       "      <td>EARNEDINCOME</td>\n",
       "      <td>200801.0</td>\n",
       "      <td>정규직</td>\n",
       "      <td>전월세</td>\n",
       "      <td>0.0</td>\n",
       "      <td>생활비</td>\n",
       "      <td>4.0</td>\n",
       "      <td>1800.0</td>\n",
       "      <td>0</td>\n",
       "      <td>10</td>\n",
       "      <td>7</td>\n",
       "    </tr>\n",
       "    <tr>\n",
       "      <th>558</th>\n",
       "      <td>805227</td>\n",
       "      <td>26899</td>\n",
       "      <td>1960.0</td>\n",
       "      <td>1.0</td>\n",
       "      <td>2022-05-25 01:48:38</td>\n",
       "      <td>600.0</td>\n",
       "      <td>101075.0</td>\n",
       "      <td>OTHERINCOME</td>\n",
       "      <td>NaN</td>\n",
       "      <td>기타</td>\n",
       "      <td>자가</td>\n",
       "      <td>0.0</td>\n",
       "      <td>사업자금</td>\n",
       "      <td>8.0</td>\n",
       "      <td>9700.0</td>\n",
       "      <td>0</td>\n",
       "      <td>10</td>\n",
       "      <td>7</td>\n",
       "    </tr>\n",
       "    <tr>\n",
       "      <th>1212</th>\n",
       "      <td>1336031</td>\n",
       "      <td>781341</td>\n",
       "      <td>1989.0</td>\n",
       "      <td>1.0</td>\n",
       "      <td>2022-06-21 21:09:13</td>\n",
       "      <td>650.0</td>\n",
       "      <td>112987.0</td>\n",
       "      <td>EARNEDINCOME</td>\n",
       "      <td>20210801.0</td>\n",
       "      <td>계약직</td>\n",
       "      <td>기타가족소유</td>\n",
       "      <td>0.0</td>\n",
       "      <td>대환대출</td>\n",
       "      <td>5.0</td>\n",
       "      <td>10200.0</td>\n",
       "      <td>0</td>\n",
       "      <td>10</td>\n",
       "      <td>7</td>\n",
       "    </tr>\n",
       "    <tr>\n",
       "      <th>1229</th>\n",
       "      <td>982323</td>\n",
       "      <td>167746</td>\n",
       "      <td>1981.0</td>\n",
       "      <td>1.0</td>\n",
       "      <td>2022-06-24 07:51:55</td>\n",
       "      <td>600.0</td>\n",
       "      <td>52500.0</td>\n",
       "      <td>FREELANCER</td>\n",
       "      <td>20130624.0</td>\n",
       "      <td>기타</td>\n",
       "      <td>전월세</td>\n",
       "      <td>0.0</td>\n",
       "      <td>생활비</td>\n",
       "      <td>6.0</td>\n",
       "      <td>3400.0</td>\n",
       "      <td>0</td>\n",
       "      <td>10</td>\n",
       "      <td>7</td>\n",
       "    </tr>\n",
       "    <tr>\n",
       "      <th>4492</th>\n",
       "      <td>285970</td>\n",
       "      <td>776496</td>\n",
       "      <td>1980.0</td>\n",
       "      <td>1.0</td>\n",
       "      <td>2022-05-15 20:10:59</td>\n",
       "      <td>760.0</td>\n",
       "      <td>11000.0</td>\n",
       "      <td>EARNEDINCOME</td>\n",
       "      <td>201112.0</td>\n",
       "      <td>정규직</td>\n",
       "      <td>전월세</td>\n",
       "      <td>0.0</td>\n",
       "      <td>생활비</td>\n",
       "      <td>7.0</td>\n",
       "      <td>43500.0</td>\n",
       "      <td>0</td>\n",
       "      <td>9</td>\n",
       "      <td>5</td>\n",
       "    </tr>\n",
       "    <tr>\n",
       "      <th>...</th>\n",
       "      <td>...</td>\n",
       "      <td>...</td>\n",
       "      <td>...</td>\n",
       "      <td>...</td>\n",
       "      <td>...</td>\n",
       "      <td>...</td>\n",
       "      <td>...</td>\n",
       "      <td>...</td>\n",
       "      <td>...</td>\n",
       "      <td>...</td>\n",
       "      <td>...</td>\n",
       "      <td>...</td>\n",
       "      <td>...</td>\n",
       "      <td>...</td>\n",
       "      <td>...</td>\n",
       "      <td>...</td>\n",
       "      <td>...</td>\n",
       "      <td>...</td>\n",
       "    </tr>\n",
       "    <tr>\n",
       "      <th>478967</th>\n",
       "      <td>643845</td>\n",
       "      <td>458501</td>\n",
       "      <td>1995.0</td>\n",
       "      <td>1.0</td>\n",
       "      <td>2022-06-10 21:46:37</td>\n",
       "      <td>750.0</td>\n",
       "      <td>800.0</td>\n",
       "      <td>FREELANCER</td>\n",
       "      <td>20210101.0</td>\n",
       "      <td>기타</td>\n",
       "      <td>전월세</td>\n",
       "      <td>0.0</td>\n",
       "      <td>생활비</td>\n",
       "      <td>3.0</td>\n",
       "      <td>2581.0</td>\n",
       "      <td>0</td>\n",
       "      <td>2</td>\n",
       "      <td>5</td>\n",
       "    </tr>\n",
       "    <tr>\n",
       "      <th>478968</th>\n",
       "      <td>515047</td>\n",
       "      <td>458501</td>\n",
       "      <td>1995.0</td>\n",
       "      <td>1.0</td>\n",
       "      <td>2022-06-15 14:48:17</td>\n",
       "      <td>750.0</td>\n",
       "      <td>800.0</td>\n",
       "      <td>FREELANCER</td>\n",
       "      <td>20210101.0</td>\n",
       "      <td>기타</td>\n",
       "      <td>전월세</td>\n",
       "      <td>0.0</td>\n",
       "      <td>생활비</td>\n",
       "      <td>3.0</td>\n",
       "      <td>2581.0</td>\n",
       "      <td>0</td>\n",
       "      <td>2</td>\n",
       "      <td>5</td>\n",
       "    </tr>\n",
       "    <tr>\n",
       "      <th>478971</th>\n",
       "      <td>1928816</td>\n",
       "      <td>458501</td>\n",
       "      <td>1995.0</td>\n",
       "      <td>1.0</td>\n",
       "      <td>2022-06-21 06:08:21</td>\n",
       "      <td>750.0</td>\n",
       "      <td>800.0</td>\n",
       "      <td>FREELANCER</td>\n",
       "      <td>20210101.0</td>\n",
       "      <td>기타</td>\n",
       "      <td>전월세</td>\n",
       "      <td>0.0</td>\n",
       "      <td>생활비</td>\n",
       "      <td>3.0</td>\n",
       "      <td>2581.0</td>\n",
       "      <td>0</td>\n",
       "      <td>2</td>\n",
       "      <td>5</td>\n",
       "    </tr>\n",
       "    <tr>\n",
       "      <th>478972</th>\n",
       "      <td>345511</td>\n",
       "      <td>458501</td>\n",
       "      <td>1995.0</td>\n",
       "      <td>1.0</td>\n",
       "      <td>2022-06-22 15:48:48</td>\n",
       "      <td>750.0</td>\n",
       "      <td>800.0</td>\n",
       "      <td>FREELANCER</td>\n",
       "      <td>20210101.0</td>\n",
       "      <td>기타</td>\n",
       "      <td>전월세</td>\n",
       "      <td>0.0</td>\n",
       "      <td>생활비</td>\n",
       "      <td>3.0</td>\n",
       "      <td>2581.0</td>\n",
       "      <td>0</td>\n",
       "      <td>2</td>\n",
       "      <td>5</td>\n",
       "    </tr>\n",
       "    <tr>\n",
       "      <th>479429</th>\n",
       "      <td>1711740</td>\n",
       "      <td>99365</td>\n",
       "      <td>1998.0</td>\n",
       "      <td>0.0</td>\n",
       "      <td>2022-06-22 16:54:54</td>\n",
       "      <td>590.0</td>\n",
       "      <td>2300.0</td>\n",
       "      <td>EARNEDINCOME</td>\n",
       "      <td>20220501.0</td>\n",
       "      <td>정규직</td>\n",
       "      <td>전월세</td>\n",
       "      <td>0.0</td>\n",
       "      <td>생활비</td>\n",
       "      <td>3.0</td>\n",
       "      <td>1700.0</td>\n",
       "      <td>0</td>\n",
       "      <td>2</td>\n",
       "      <td>8</td>\n",
       "    </tr>\n",
       "  </tbody>\n",
       "</table>\n",
       "<p>1179 rows × 18 columns</p>\n",
       "</div>"
      ],
      "text/plain": [
       "         신청서_번호   유저_번호  유저_생년월일  유저_성별                 생성일시  한도조회_당시_유저_신용점수  \\\n",
       "52      1341046  732757   1982.0    1.0  2022-05-06 10:29:46            650.0   \n",
       "558      805227   26899   1960.0    1.0  2022-05-25 01:48:38            600.0   \n",
       "1212    1336031  781341   1989.0    1.0  2022-06-21 21:09:13            650.0   \n",
       "1229     982323  167746   1981.0    1.0  2022-06-24 07:51:55            600.0   \n",
       "4492     285970  776496   1980.0    1.0  2022-05-15 20:10:59            760.0   \n",
       "...         ...     ...      ...    ...                  ...              ...   \n",
       "478967   643845  458501   1995.0    1.0  2022-06-10 21:46:37            750.0   \n",
       "478968   515047  458501   1995.0    1.0  2022-06-15 14:48:17            750.0   \n",
       "478971  1928816  458501   1995.0    1.0  2022-06-21 06:08:21            750.0   \n",
       "478972   345511  458501   1995.0    1.0  2022-06-22 15:48:48            750.0   \n",
       "479429  1711740   99365   1998.0    0.0  2022-06-22 16:54:54            590.0   \n",
       "\n",
       "             연소득          근로형태        입사연월 고용형태  주거소유형태  대출희망금액 대출_목적  기대출수  \\\n",
       "52       36250.0  EARNEDINCOME    200801.0  정규직     전월세     0.0   생활비   4.0   \n",
       "558     101075.0   OTHERINCOME         NaN   기타      자가     0.0  사업자금   8.0   \n",
       "1212    112987.0  EARNEDINCOME  20210801.0  계약직  기타가족소유     0.0  대환대출   5.0   \n",
       "1229     52500.0    FREELANCER  20130624.0   기타     전월세     0.0   생활비   6.0   \n",
       "4492     11000.0  EARNEDINCOME    201112.0  정규직     전월세     0.0   생활비   7.0   \n",
       "...          ...           ...         ...  ...     ...     ...   ...   ...   \n",
       "478967     800.0    FREELANCER  20210101.0   기타     전월세     0.0   생활비   3.0   \n",
       "478968     800.0    FREELANCER  20210101.0   기타     전월세     0.0   생활비   3.0   \n",
       "478971     800.0    FREELANCER  20210101.0   기타     전월세     0.0   생활비   3.0   \n",
       "478972     800.0    FREELANCER  20210101.0   기타     전월세     0.0   생활비   3.0   \n",
       "479429    2300.0  EARNEDINCOME  20220501.0  정규직     전월세     0.0   생활비   3.0   \n",
       "\n",
       "          기대출금액  개인회생자 연소득분위 신용점수등급  \n",
       "52       1800.0      0    10      7  \n",
       "558      9700.0      0    10      7  \n",
       "1212    10200.0      0    10      7  \n",
       "1229     3400.0      0    10      7  \n",
       "4492    43500.0      0     9      5  \n",
       "...         ...    ...   ...    ...  \n",
       "478967   2581.0      0     2      5  \n",
       "478968   2581.0      0     2      5  \n",
       "478971   2581.0      0     2      5  \n",
       "478972   2581.0      0     2      5  \n",
       "479429   1700.0      0     2      8  \n",
       "\n",
       "[1179 rows x 18 columns]"
      ]
     },
     "execution_count": 74,
     "metadata": {},
     "output_type": "execute_result"
    }
   ],
   "source": [
    "user_df_5 = user_df_4.copy()\n",
    "user_df_5[user_df_5[\"대출희망금액\"] == 0]"
   ]
  },
  {
   "cell_type": "code",
   "execution_count": 75,
   "metadata": {},
   "outputs": [],
   "source": [
    "user_train = user_df_5[user_df_5['신청서_번호'].isin(set(loan_df[loan_df['신청_여부(타겟)'].notnull()]['신청서_번호']))]\n",
    "user_test = user_df_5[user_df_5['신청서_번호'].isin(set(loan_df[loan_df['신청_여부(타겟)'].isnull()]['신청서_번호']))]\n",
    "user_train.reset_index(drop = True,inplace = True)\n",
    "user_test.reset_index(drop = True,inplace = True)"
   ]
  },
  {
   "cell_type": "markdown",
   "metadata": {},
   "source": [
    "#### 연소득 0원 데이터 처리하기\n",
    "- OTHERINCOME 기타소득을 제외하곤 연소득 0원을 평균으로 대체하기"
   ]
  },
  {
   "cell_type": "code",
   "execution_count": 76,
   "metadata": {},
   "outputs": [
    {
     "data": {
      "text/plain": [
       "(479473, 18)"
      ]
     },
     "execution_count": 76,
     "metadata": {},
     "output_type": "execute_result"
    }
   ],
   "source": [
    "user_df_5.shape"
   ]
  },
  {
   "cell_type": "code",
   "execution_count": 77,
   "metadata": {},
   "outputs": [],
   "source": [
    "drop_list = set(user_train[(user_train['연소득']==0)&(user_train['근로형태']!='OTHERINCOME')]['신청서_번호'])\n",
    "user_train.drop(user_train[user_train['신청서_번호'].isin(drop_list)].index,inplace = True)"
   ]
  },
  {
   "cell_type": "markdown",
   "metadata": {},
   "source": [
    "- 근로형태에 따라서 하나씩 평균값 대입"
   ]
  },
  {
   "cell_type": "code",
   "execution_count": 78,
   "metadata": {},
   "outputs": [
    {
     "name": "stdout",
     "output_type": "stream",
     "text": [
      "FREELANCER 전처리 끝\n",
      "PRIVATEBUSINESS 전처리 끝\n",
      "EARNEDINCOME 전처리 끝\n",
      "EARNEDINCOME2 전처리 끝\n",
      "PRACTITIONER 전처리 끝\n"
     ]
    }
   ],
   "source": [
    "df_lst = []\n",
    "\n",
    "for work_type in ['FREELANCER', 'PRIVATEBUSINESS', 'EARNEDINCOME', 'EARNEDINCOME2',\n",
    "       'PRACTITIONER']:\n",
    "    \n",
    "    # 연소득 0원 채워야하는 데이터\n",
    "    replaced = user_test[(user_test[\"연소득\"] == 0) & (user_test[\"근로형태\"] == work_type)]\n",
    "\n",
    "    # 연소득 0원이 아닌 데이터\n",
    "    no_replace = user_test[(user_test[\"연소득\"] != 0) & (user_test[\"근로형태\"] == work_type)]\n",
    "    \n",
    "    standard_df = user_df_5.groupby([\"유저_성별\",\"근로형태\",\"고용형태\",\"주거소유형태\"]).mean().reset_index()\n",
    "   \n",
    "    # 0값이 처리된 데이터\n",
    "    zero_replace = pd.merge(replaced.drop(\"연소득\",axis=1),\n",
    "\n",
    "                  standard_df[[\"유저_성별\",\"근로형태\",\"고용형태\",\"주거소유형태\",\"연소득\"]]\n",
    "\n",
    "             ,on=[\"유저_성별\",\"근로형태\",\"고용형태\",\"주거소유형태\"],how=\"inner\")\n",
    "\n",
    "    zero_replace = zero_replace[user_test.columns] # 0값이 처리된 데이터\n",
    "    zero_replace[\"연소득\"] = zero_replace[\"연소득\"].astype(int)\n",
    "    \n",
    "    print(work_type,\"전처리 끝\")\n",
    "    \n",
    "    df_lst.append(zero_replace)\n",
    "    df_lst.append(no_replace)\n",
    "    \n",
    "df_lst.append(user_test[user_test[\"근로형태\"] == \"OTHERINCOME\"])"
   ]
  },
  {
   "cell_type": "markdown",
   "metadata": {},
   "source": [
    "#### 대출희망금액 0원 전처리\n",
    "- \"유저_성별\",\"근로형태\",\"고용형태\",\"주거소유형태\",\"연소득분위\" 기반 평균으로 대체\n",
    "- 그래도 0이면?\n",
    "- \"유저_성별\",\"근로형태\",\"고용형태\",\"주거소유형태\" 기반 평균으로 대체"
   ]
  },
  {
   "cell_type": "code",
   "execution_count": 79,
   "metadata": {},
   "outputs": [],
   "source": [
    "user_test = pd.concat(df_lst,axis=0).reset_index(drop=True)"
   ]
  },
  {
   "cell_type": "code",
   "execution_count": 80,
   "metadata": {},
   "outputs": [],
   "source": [
    "user_df_5 = pd.concat([user_train,user_test],axis = 0)\n",
    "user_df_5.reset_index(drop=True,inplace = True)"
   ]
  },
  {
   "cell_type": "code",
   "execution_count": 81,
   "metadata": {},
   "outputs": [],
   "source": [
    "# 대출희망금액 0원 채워야하는 데이터\n",
    "replaced = user_test[(user_test[\"대출희망금액\"] == 0)]\n",
    "\n",
    "# 대출희망금액 0원이 아닌 데이터\n",
    "no_replace = user_test[(user_test[\"대출희망금액\"] != 0)]\n",
    "    \n",
    "standard_df = user_df_5.groupby([\"유저_성별\",\"근로형태\",\"고용형태\",\"주거소유형태\",\"연소득분위\"]).mean().reset_index()"
   ]
  },
  {
   "cell_type": "code",
   "execution_count": 82,
   "metadata": {},
   "outputs": [],
   "source": [
    "# 0값이 처리된 데이터\n",
    "zero_replace = pd.merge(replaced.drop(\"대출희망금액\",axis=1),\n",
    "                  standard_df[[\"유저_성별\",\"근로형태\",\"고용형태\",\"주거소유형태\",\"연소득분위\",\"대출희망금액\"]]\n",
    "\n",
    "             ,on=[\"유저_성별\",\"근로형태\",\"고용형태\",\"주거소유형태\",\"연소득분위\"],how=\"inner\")\n",
    "\n",
    "zero_replace = zero_replace[user_test.columns] # 0값이 처리된 데이터\n",
    "zero_replace[\"대출희망금액\"] = zero_replace[\"대출희망금액\"].astype(int)"
   ]
  },
  {
   "cell_type": "code",
   "execution_count": 83,
   "metadata": {},
   "outputs": [],
   "source": [
    "user_test = pd.concat([zero_replace,no_replace],axis=0).reset_index(drop=True)\n",
    "user_train = user_train[(user_train[\"대출희망금액\"] != 0)]"
   ]
  },
  {
   "cell_type": "markdown",
   "metadata": {},
   "source": [
    "\"유저_성별\",\"근로형태\",\"고용형태\",\"주거소유형태\" 기반 평균으로 대체"
   ]
  },
  {
   "cell_type": "code",
   "execution_count": 84,
   "metadata": {},
   "outputs": [],
   "source": [
    "# 대출희망금액 0원 채워야하는 데이터\n",
    "replaced = user_test[(user_test[\"대출희망금액\"] == 0)]\n",
    "\n",
    "# 대출희망금액 0원이 아닌 데이터\n",
    "no_replace = user_test[(user_test[\"대출희망금액\"] != 0)]\n",
    "    \n",
    "standard_df = user_df_5.groupby([\"유저_성별\",\"근로형태\",\"고용형태\",\"주거소유형태\"]).mean().reset_index()\n",
    "\n",
    "# 0값이 처리된 데이터\n",
    "zero_replace = pd.merge(replaced.drop(\"대출희망금액\",axis=1),\n",
    "                  standard_df[[\"유저_성별\",\"근로형태\",\"고용형태\",\"주거소유형태\",\"대출희망금액\"]]\n",
    "\n",
    "             ,on=[\"유저_성별\",\"근로형태\",\"고용형태\",\"주거소유형태\"],how=\"inner\")\n",
    "\n",
    "zero_replace = zero_replace[user_test.columns] # 0값이 처리된 데이터\n",
    "zero_replace[\"대출희망금액\"] = zero_replace[\"대출희망금액\"].astype(int)\n",
    "\n",
    "user_test = pd.concat([zero_replace,no_replace],axis=0).reset_index(drop=True)"
   ]
  },
  {
   "cell_type": "code",
   "execution_count": 85,
   "metadata": {},
   "outputs": [],
   "source": [
    "user_train.reset_index(drop=True,inplace = True)\n",
    "user_test.reset_index(drop=True,inplace = True)"
   ]
  },
  {
   "cell_type": "code",
   "execution_count": 86,
   "metadata": {},
   "outputs": [],
   "source": [
    "user_df_5 = pd.concat([user_train,user_test],axis = 0)\n",
    "user_df_5.reset_index(drop=True,inplace = True)"
   ]
  },
  {
   "cell_type": "markdown",
   "metadata": {},
   "source": [
    "############### 이상치 처리 끝 #####################"
   ]
  },
  {
   "cell_type": "markdown",
   "metadata": {},
   "source": [
    "## 생년월일 이상치 처리"
   ]
  },
  {
   "cell_type": "code",
   "execution_count": 88,
   "metadata": {},
   "outputs": [],
   "source": [
    "user_test = get_replace_null_1(user_df_5,user_test,'유저_생년월일')\n",
    "user_test['유저_생년월일'] = user_test['유저_생년월일'].astype(int)"
   ]
  },
  {
   "cell_type": "code",
   "execution_count": 89,
   "metadata": {},
   "outputs": [],
   "source": [
    "user_df_5 = pd.concat([user_train,user_test],axis = 0)\n",
    "user_df_5.reset_index(drop=True,inplace = True)"
   ]
  },
  {
   "cell_type": "markdown",
   "metadata": {},
   "source": [
    "## 입사연월 이상치 및 결측치 처리"
   ]
  },
  {
   "cell_type": "code",
   "execution_count": 91,
   "metadata": {},
   "outputs": [],
   "source": [
    "user_df_5_1 = user_df_5.copy()"
   ]
  },
  {
   "cell_type": "code",
   "execution_count": 92,
   "metadata": {},
   "outputs": [],
   "source": [
    "#소수만 입사연월있음 -> 이상치로 보고 모두 입사연월 제거\n",
    "user_df_5.loc[user_df_5['근로형태']=='OTHERINCOME','입사연월'] ='nan'"
   ]
  },
  {
   "cell_type": "code",
   "execution_count": 93,
   "metadata": {},
   "outputs": [
    {
     "data": {
      "text/plain": [
       "PRIVATEBUSINESS    2\n",
       "EARNEDINCOME       1\n",
       "Name: 근로형태, dtype: int64"
      ]
     },
     "execution_count": 93,
     "metadata": {},
     "output_type": "execute_result"
    }
   ],
   "source": [
    "user_df_5[user_df_5['입사연월'].isnull()]['근로형태'].value_counts()"
   ]
  },
  {
   "cell_type": "code",
   "execution_count": 94,
   "metadata": {},
   "outputs": [],
   "source": [
    "#입사연월은 평균값이 안됨 -> 최빈값으로 대체\n",
    "user_list = list(user_df_5[(user_df_5['입사연월'].isnull())&(user_df_5['근로형태']=='EARNEDINCOME')]['유저_번호'].index)+list(user_df_5[(user_df_5['입사연월'].isnull())&(user_df_5['근로형태']=='PRIVATEBUSINESS')]['유저_번호'].index)\n",
    "for i in user_list:\n",
    "    user_df_5.iloc[i,8] = user_df_5[(user_df_5['근로형태']==user_df_5.iloc[i,7])&(user_df_5['유저_생년월일']==user_df_5.iloc[i,2])&(user_df_5['유저_성별']==user_df_5.iloc[i,3])]['입사연월'].mode()[0]"
   ]
  },
  {
   "cell_type": "code",
   "execution_count": 95,
   "metadata": {},
   "outputs": [],
   "source": [
    "#생성일시 datetime으로 변경\n",
    "user_df_5['생성일시_연월'] = user_df_5['생성일시'].str[:7]\n",
    "user_df_5['생성일시_연월'] = user_df_5['생성일시_연월'].str.replace(pat=r'[^\\w]', repl=r'', regex=True)\n",
    "user_df_5['생성일시_연월'] = pd.to_datetime(user_df_5['생성일시_연월'],format = '%Y%m')"
   ]
  },
  {
   "cell_type": "code",
   "execution_count": 96,
   "metadata": {},
   "outputs": [],
   "source": [
    "#입사연월 datetime으로 변경\n",
    "user_df_5['입사연월_연월'] = user_df_5['입사연월'].astype(str).str[:6]\n",
    "user_df_5.loc[user_df_5['입사연월_연월']=='nan','입사연월_연월'] = '202301'# nan값인 데이터들 처리\n",
    "user_df_5.loc[user_df_5['입사연월'].isnull(),'입사연월'] = '202301'\n",
    "user_df_5['입사연월_연월'] = pd.to_datetime(user_df_5['입사연월_연월'],format = '%Y%m')"
   ]
  },
  {
   "cell_type": "markdown",
   "metadata": {},
   "source": [
    "유저_생년월일보다 입사연월_연월이 더 빠른경우->   \n",
    " [유저_생년월일,유저_성별,근로형태,고용형태]를 기준으로 최빈값 넣기"
   ]
  },
  {
   "cell_type": "code",
   "execution_count": 97,
   "metadata": {},
   "outputs": [],
   "source": [
    "user_df_5['유저_생년월일'] = pd.to_datetime(user_df_5['유저_생년월일'],format = '%Y') #유저 생년월일 datetime으로 변경"
   ]
  },
  {
   "cell_type": "code",
   "execution_count": 98,
   "metadata": {},
   "outputs": [],
   "source": [
    "temp_list =set(user_df_5[user_df_5['유저_생년월일']>user_df_5['입사연월_연월']]['신청서_번호'])#유저 생년월일이 입사연월보다 빠른 유저 리스트\n",
    "temp = list(user_df_5[user_df_5['신청서_번호'].isin(temp_list)].index)\n",
    "for i in temp:\n",
    "    user_df_5.iloc[i,-1] = user_df_5[(user_df_5['유저_생년월일']==user_df_5.iloc[i,2])\n",
    "                                              &(user_df_5['유저_성별']==user_df_5.iloc[i,3])\n",
    "                                              &(user_df_5['근로형태']==user_df_5.iloc[i,7])\n",
    "                                              &(user_df_5['고용형태']==user_df_5.iloc[i,9])]['입사연월_연월'].mode()[0]"
   ]
  },
  {
   "cell_type": "code",
   "execution_count": 99,
   "metadata": {},
   "outputs": [],
   "source": [
    "from datetime import datetime\n",
    "def diff_month(x): # 입사개월 계산 함수\n",
    "    return (x[0].year - x[1].year) * 12 + x[0].month - x[1].month + 1\n",
    "def diff_year(x): # 년차 계산 함수\n",
    "    return x[0].year - x[1].year"
   ]
  },
  {
   "cell_type": "code",
   "execution_count": 101,
   "metadata": {},
   "outputs": [],
   "source": [
    "user_df_5['입사개월'] = user_df_5[['생성일시_연월', '입사연월_연월']].apply(diff_month,axis=1)\n",
    "user_df_5['입사개월'] = user_df_5['입사개월'].astype(int)\n",
    "user_df_5.loc[user_df_5['입사개월']<1,'입사개월'] = 0# 입사연월이 없는 otherincome 유저들은 0으로 mapping\n"
   ]
  },
  {
   "cell_type": "code",
   "execution_count": 102,
   "metadata": {},
   "outputs": [
    {
     "data": {
      "text/plain": [
       "PRIVATEBUSINESS    75\n",
       "EARNEDINCOME       57\n",
       "FREELANCER         14\n",
       "PRACTITIONER        6\n",
       "EARNEDINCOME2       6\n",
       "Name: 근로형태, dtype: int64"
      ]
     },
     "execution_count": 102,
     "metadata": {},
     "output_type": "execute_result"
    }
   ],
   "source": [
    "user_df_5['입사나이'] = user_df_5[['입사연월_연월','유저_생년월일']].apply(diff_year,axis =1)#입사나이\n",
    "user_df_5[user_df_5['입사나이']<15]['근로형태'].value_counts()\n"
   ]
  },
  {
   "cell_type": "code",
   "execution_count": 103,
   "metadata": {},
   "outputs": [
    {
     "data": {
      "text/plain": [
       "Index(['신청서_번호', '유저_번호', '유저_생년월일', '유저_성별', '생성일시', '한도조회_당시_유저_신용점수', '연소득',\n",
       "       '근로형태', '입사연월', '고용형태', '주거소유형태', '대출희망금액', '대출_목적', '기대출수', '기대출금액',\n",
       "       '개인회생자', '연소득분위', '신용점수등급', '생성일시_연월', '입사연월_연월', '입사개월', '입사나이'],\n",
       "      dtype='object')"
      ]
     },
     "execution_count": 103,
     "metadata": {},
     "output_type": "execute_result"
    }
   ],
   "source": [
    "user_df_5.columns"
   ]
  },
  {
   "cell_type": "code",
   "execution_count": 104,
   "metadata": {},
   "outputs": [],
   "source": [
    "# 법적 근무나이인 만 15세 이하인 유저들 중 사업과 프리랜서를 제외한 122명은 최빈값으로 처리\n",
    "user_list = list(user_df_5[(user_df_5['입사나이']<15)&(user_df_5['근로형태']!='PRIVATEBUSINESS')&(user_df_5['근로형태']!='FREELANCER')]['신청서_번호'].index)\n",
    "for i in user_list:\n",
    "    user_df_5.iloc[i,-3] = user_df_5[(user_df_5['유저_생년월일']==user_df_5.iloc[i,2])\n",
    "                                              &(user_df_5['유저_성별']==user_df_5.iloc[i,3])\n",
    "                                              &(user_df_5['근로형태']==user_df_5.iloc[i,7])\n",
    "                                              &(user_df_5['고용형태']==user_df_5.iloc[i,9])]['입사연월_연월'].mode()[0]"
   ]
  },
  {
   "cell_type": "code",
   "execution_count": 105,
   "metadata": {},
   "outputs": [],
   "source": [
    "#입사연월 변경으로 인한 입사개월 다시 계산 \n",
    "user_df_5['입사개월'] = user_df_5[['생성일시_연월', '입사연월_연월']].apply(diff_month,axis=1)\n",
    "user_df_5['입사개월'] = user_df_5['입사개월'].astype(int)\n",
    "user_df_5.loc[user_df_5['입사개월']<1,'입사개월'] = 0# 입사연월이 없는 otherincome 유저들은 0으로 mapping"
   ]
  },
  {
   "cell_type": "code",
   "execution_count": 106,
   "metadata": {},
   "outputs": [],
   "source": [
    "user_df_5['나이'] = user_df_5[['생성일시_연월','유저_생년월일']].apply(diff_year,axis =1)#나이\n",
    "user_df_5['나이'] = user_df_5['나이'].astype(int)"
   ]
  },
  {
   "cell_type": "code",
   "execution_count": 108,
   "metadata": {},
   "outputs": [],
   "source": [
    "user_train = user_df_5[user_df_5['신청서_번호'].isin(set(loan_df[loan_df['신청_여부(타겟)'].notnull()]['신청서_번호']))]\n",
    "user_test = user_df_5[user_df_5['신청서_번호'].isin(set(loan_df[loan_df['신청_여부(타겟)'].isnull()]['신청서_번호']))]\n",
    "user_train.reset_index(drop = True,inplace = True)\n",
    "user_test.reset_index(drop = True,inplace = True)"
   ]
  },
  {
   "cell_type": "code",
   "execution_count": 109,
   "metadata": {},
   "outputs": [
    {
     "name": "stdout",
     "output_type": "stream",
     "text": [
      "(238826, 23)\n",
      "(239865, 23)\n"
     ]
    }
   ],
   "source": [
    "print(user_train.shape)\n",
    "print(user_test.shape)"
   ]
  },
  {
   "cell_type": "markdown",
   "metadata": {},
   "source": [
    "## 병합용 데이터 처리"
   ]
  },
  {
   "cell_type": "code",
   "execution_count": 110,
   "metadata": {},
   "outputs": [],
   "source": [
    "temp = user_df_5[['신청서_번호', '유저_번호', '유저_성별','근로형태', '고용형태', '주거소유형태', '대출희망금액', '대출_목적', '기대출수', '기대출금액',\n",
    "       '개인회생자', '신용점수등급', '연소득분위', '입사개월', '나이']]"
   ]
  },
  {
   "cell_type": "code",
   "execution_count": 111,
   "metadata": {},
   "outputs": [],
   "source": [
    "temp['기대출금액'] = round(temp['기대출금액'],-3)\n",
    "temp['대출희망금액'] = round(temp['대출희망금액'],-3)"
   ]
  },
  {
   "cell_type": "code",
   "execution_count": 112,
   "metadata": {},
   "outputs": [],
   "source": [
    "loan_df_train = loan_df[loan_df['신청_여부(타겟)'].notnull()]"
   ]
  },
  {
   "cell_type": "code",
   "execution_count": 114,
   "metadata": {},
   "outputs": [],
   "source": [
    "df= pd.merge(temp,loan_df,how ='inner',on = '신청서_번호')\n",
    "# clustering_df = pd.merge(temp,loan_df_train, how='left', left_on='신청서_번호', right_on='신청서_번호')"
   ]
  },
  {
   "cell_type": "markdown",
   "metadata": {},
   "source": [
    "제출파일형식과 맞게 test 데이터 변형"
   ]
  },
  {
   "cell_type": "code",
   "execution_count": 115,
   "metadata": {},
   "outputs": [],
   "source": [
    "df1 = pd.merge(temp,loan_df,how ='inner',on = '신청서_번호')"
   ]
  },
  {
   "cell_type": "code",
   "execution_count": 116,
   "metadata": {},
   "outputs": [],
   "source": [
    "result_set =  pd.read_csv('데이터분석분야_퓨처스부문_평가데이터.csv')\n",
    "result_set.columns = ['신청서_번호','상품번호','신청_여부(타겟)']"
   ]
  },
  {
   "cell_type": "code",
   "execution_count": 119,
   "metadata": {},
   "outputs": [],
   "source": [
    "temp_result = df1[df1['신청_여부(타겟)'].isnull()]\n",
    "temp_result=temp_result.drop_duplicates(['신청서_번호','상품번호'], keep=False)\n",
    "temp_result = temp_result.sort_values(by = '신청서_번호')\n",
    "temp_result.reset_index(drop= True,inplace =True)"
   ]
  },
  {
   "cell_type": "code",
   "execution_count": 120,
   "metadata": {},
   "outputs": [],
   "source": [
    "tt = pd.merge(result_set,temp_result,on = ['신청서_번호','상품번호'])"
   ]
  },
  {
   "cell_type": "code",
   "execution_count": 122,
   "metadata": {},
   "outputs": [],
   "source": [
    "tt.drop(columns = ['신청_여부(타겟)_x','유저_번호'],axis =1,inplace=True)\n",
    "tt.rename(columns ={'신청_여부(타겟)_y':'신청_여부(타겟)'},inplace = True)"
   ]
  },
  {
   "cell_type": "code",
   "execution_count": 125,
   "metadata": {},
   "outputs": [],
   "source": [
    "# df.to_csv('prediction_df_final.csv')"
   ]
  },
  {
   "cell_type": "markdown",
   "metadata": {},
   "source": [
    "상품 번호 드랍한 버전"
   ]
  },
  {
   "cell_type": "code",
   "execution_count": 307,
   "metadata": {},
   "outputs": [],
   "source": [
    "df = df[['유저_성별', '근로형태', '고용형태', '주거소유형태', '대출희망금액', '대출_목적',\n",
    "       '기대출수', '기대출금액', '개인회생자', '신용점수등급', '연소득분위', '입사개월', '나이', '금융사_번호',\n",
    "        '승인한도', '승인금리', '신청_여부(타겟)']]"
   ]
  },
  {
   "cell_type": "code",
   "execution_count": null,
   "metadata": {},
   "outputs": [],
   "source": [
    "train = df[df['신청_여부(타겟)'].notnull()]\n",
    "train.reset_index(drop= True,inplace =True)\n",
    "test=tt[['유저_성별', '근로형태', '고용형태', '주거소유형태', '대출희망금액', '대출_목적',\n",
    "       '기대출수', '기대출금액', '개인회생자', '신용점수등급', '연소득분위', '입사개월', '나이', '금융사_번호',\n",
    "        '승인한도', '승인금리', '신청_여부(타겟)']]\n",
    "test.reset_index(drop= True,inplace =True)"
   ]
  },
  {
   "cell_type": "code",
   "execution_count": 213,
   "metadata": {},
   "outputs": [],
   "source": [
    "train_cat_col = train[['근로형태','고용형태','주거소유형태','대출_목적','신용점수등급','연소득분위','금융사_번호','신청_여부(타겟)']]\n",
    "train_feature = train.drop(list(train_cat_col.columns),axis=1)\n",
    "train_label = train[\"신청_여부(타겟)\"]\n",
    "test_cat_col = test[['근로형태','고용형태','주거소유형태','대출_목적','신용점수등급','연소득분위','금융사_번호','신청_여부(타겟)']]\n",
    "test_feature = test.drop(list(test_cat_col.columns),axis=1)\n",
    "test_label = test[\"신청_여부(타겟)\"]"
   ]
  },
  {
   "cell_type": "code",
   "execution_count": 214,
   "metadata": {},
   "outputs": [],
   "source": [
    "df_col = train_feature.columns"
   ]
  },
  {
   "cell_type": "code",
   "execution_count": null,
   "metadata": {},
   "outputs": [],
   "source": [
    "from sklearn.preprocessing import StandardScaler\n",
    "\n",
    "# Normalization 최소값 0 / 최대값 1\n",
    "scaler = StandardScaler()\n",
    "\n",
    "train_feature = scaler.fit_transform(train_feature)\n",
    "test_feature = scaler.transform(test_feature)\n",
    "\n",
    "train_feature = pd.DataFrame(train_feature,columns = df_col)\n",
    "test_feature = pd.DataFrame(test_feature,columns = df_col)"
   ]
  },
  {
   "cell_type": "code",
   "execution_count": null,
   "metadata": {},
   "outputs": [],
   "source": [
    "train= pd.concat([train_feature,train_cat_col],axis =1)\n",
    "test = pd.concat([test_feature,test_cat_col],axis =1)"
   ]
  },
  {
   "cell_type": "code",
   "execution_count": null,
   "metadata": {},
   "outputs": [],
   "source": [
    "features = list(train.columns)\n",
    "features.remove('신청_여부(타겟)')\n",
    "cat_features = ['근로형태','고용형태','주거소유형태','대출_목적','신용점수등급','연소득분위','금융사_번호']"
   ]
  },
  {
   "cell_type": "code",
   "execution_count": 215,
   "metadata": {},
   "outputs": [],
   "source": [
    "# seed = 42\n",
    "# n_fold = 10\n",
    "# n_class = 2\n",
    "\n",
    "target = '신청_여부(타겟)'\n",
    "train_X = train[features]\n",
    "train_Y = train[target]\n"
   ]
  },
  {
   "cell_type": "markdown",
   "metadata": {},
   "source": [
    "Modeling"
   ]
  },
  {
   "cell_type": "code",
   "execution_count": 154,
   "metadata": {},
   "outputs": [],
   "source": [
    "def objective(trial):\n",
    "    score = []\n",
    "    kf = StratifiedKFold(n_splits = 6, random_state = 42 , shuffle = True)\n",
    "    for train_fold, test_fold in tqdm_notebook(kf.split(train_X, train_Y), desc = 'k_fold'):\n",
    "        X_train, X_test, y_train, y_test = train_X.iloc[train_fold], train_X.iloc[test_fold], train_Y[train_fold], train_Y[test_fold] \n",
    "        \n",
    "        # Parameter 범위는 처음에는 넓게, 이후 조금씩 줄여나가는 것을 추천 # \n",
    "        params = {\n",
    "            'iterations':trial.suggest_int(\"iterations\", 100, 300),\n",
    "            \"max_ctr_complexity\":2,\n",
    "            'learning_rate' : trial.suggest_uniform('learning_rate',0.1, 1),\n",
    "            'depth': trial.suggest_int('depth',1, 15),\n",
    "            'min_data_in_leaf': trial.suggest_int('min_data_in_leaf',1,30),\n",
    "            'reg_lambda': trial.suggest_uniform('reg_lambda',1,100),\n",
    "            'subsample': trial.suggest_uniform('subsample',0.3,1),\n",
    "            'random_strength': trial.suggest_uniform('random_strength',10,100),\n",
    "            'od_wait':trial.suggest_int('od_wait', 10, 150),\n",
    "            'leaf_estimation_iterations': trial.suggest_int('leaf_estimation_iterations',1,15),\n",
    "            'bagging_temperature' :trial.suggest_loguniform('bagging_temperature', 1, 100),\n",
    "            \"colsample_bylevel\": trial.suggest_float(\"colsample_bylevel\", 0., 1.0),\n",
    "            'random_state' : 0,\n",
    "            'verbose' : 0,\n",
    "        }\n",
    "    \n",
    "            \n",
    "        model = CatBoostClassifier(**params)\n",
    "        model.fit(X_train, y_train,\n",
    "                  eval_set=[(X_train, y_train), (X_test,y_test)],\n",
    "                  early_stopping_rounds=35,cat_features=cat_features,\n",
    "                  verbose=100)\n",
    "        pred_proba = model.predict_proba(X_test)[:, 1]\n",
    "        fpr, tpr, threshold = roc_curve(y_test, pred_proba)\n",
    "        auc_score = auc(fpr, tpr)\n",
    "        score.append(auc_score)\n",
    "\n",
    "    return np.mean(score)"
   ]
  },
  {
   "cell_type": "code",
   "execution_count": 155,
   "metadata": {},
   "outputs": [
    {
     "name": "stderr",
     "output_type": "stream",
     "text": [
      "\u001b[32m[I 2022-10-12 02:12:01,406]\u001b[0m A new study created in memory with name: no-name-fbd80e34-70ec-43de-aebd-7ff3535aba06\u001b[0m\n"
     ]
    },
    {
     "data": {
      "application/vnd.jupyter.widget-view+json": {
       "model_id": "9e048841bb9540e6ac54edfb001e636b",
       "version_major": 2,
       "version_minor": 0
      },
      "text/plain": [
       "HBox(children=(FloatProgress(value=1.0, bar_style='info', description='k_fold', max=1.0, style=ProgressStyle(d…"
      ]
     },
     "metadata": {},
     "output_type": "display_data"
    },
    {
     "name": "stdout",
     "output_type": "stream",
     "text": [
      "0:\tlearn: 0.2162296\ttest: 0.2162241\ttest1: 0.2162369\tbest: 0.2162369 (0)\ttotal: 965ms\tremaining: 2m 47s\n",
      "100:\tlearn: 0.1871385\ttest: 0.1869881\ttest1: 0.1867221\tbest: 0.1867221 (100)\ttotal: 39.4s\tremaining: 28.8s\n",
      "174:\tlearn: 0.1834125\ttest: 0.1832237\ttest1: 0.1830742\tbest: 0.1830742 (174)\ttotal: 1m 4s\tremaining: 0us\n",
      "\n",
      "bestTest = 0.1830742079\n",
      "bestIteration = 174\n",
      "\n",
      "0:\tlearn: 0.2162250\ttest: 0.2162184\ttest1: 0.2162698\tbest: 0.2162698 (0)\ttotal: 672ms\tremaining: 1m 56s\n",
      "100:\tlearn: 0.1917928\ttest: 0.1914647\ttest1: 0.1915967\tbest: 0.1915967 (100)\ttotal: 37s\tremaining: 27.1s\n",
      "174:\tlearn: 0.1896444\ttest: 0.1893215\ttest1: 0.1895565\tbest: 0.1895565 (174)\ttotal: 1m 3s\tremaining: 0us\n",
      "\n",
      "bestTest = 0.1895564782\n",
      "bestIteration = 174\n",
      "\n",
      "0:\tlearn: 0.2290338\ttest: 0.2290338\ttest1: 0.2290309\tbest: 0.2290309 (0)\ttotal: 459ms\tremaining: 1m 19s\n",
      "100:\tlearn: 0.1866797\ttest: 0.1865246\ttest1: 0.1864736\tbest: 0.1864736 (100)\ttotal: 38.4s\tremaining: 28.2s\n",
      "174:\tlearn: 0.1832778\ttest: 0.1830617\ttest1: 0.1827729\tbest: 0.1827729 (174)\ttotal: 1m 4s\tremaining: 0us\n",
      "\n",
      "bestTest = 0.182772902\n",
      "bestIteration = 174\n",
      "\n",
      "0:\tlearn: 0.2290338\ttest: 0.2290338\ttest1: 0.2290309\tbest: 0.2290309 (0)\ttotal: 447ms\tremaining: 1m 17s\n",
      "100:\tlearn: 0.1895219\ttest: 0.1895312\ttest1: 0.1895999\tbest: 0.1895999 (95)\ttotal: 36.2s\tremaining: 26.5s\n",
      "174:\tlearn: 0.1854062\ttest: 0.1853181\ttest1: 0.1853590\tbest: 0.1853590 (167)\ttotal: 1m 2s\tremaining: 0us\n",
      "\n",
      "bestTest = 0.1853589913\n",
      "bestIteration = 167\n",
      "\n",
      "Shrink model to first 168 iterations.\n",
      "0:\tlearn: 0.2290338\ttest: 0.2290338\ttest1: 0.2290309\tbest: 0.2290309 (0)\ttotal: 445ms\tremaining: 1m 17s\n",
      "100:\tlearn: 0.1893273\ttest: 0.1889938\ttest1: 0.1888776\tbest: 0.1888776 (100)\ttotal: 35.8s\tremaining: 26.2s\n",
      "174:\tlearn: 0.1864561\ttest: 0.1863269\ttest1: 0.1862814\tbest: 0.1862814 (171)\ttotal: 1m\tremaining: 0us\n",
      "\n",
      "bestTest = 0.1862813588\n",
      "bestIteration = 171\n",
      "\n",
      "Shrink model to first 172 iterations.\n",
      "0:\tlearn: 0.2290327\ttest: 0.2290327\ttest1: 0.2290359\tbest: 0.2290359 (0)\ttotal: 441ms\tremaining: 1m 16s\n",
      "100:\tlearn: 0.1871461\ttest: 0.1871162\ttest1: 0.1878355\tbest: 0.1878355 (97)\ttotal: 38.3s\tremaining: 28.1s\n",
      "174:\tlearn: 0.1858306\ttest: 0.1857856\ttest1: 0.1865554\tbest: 0.1865554 (174)\ttotal: 1m 4s\tremaining: 0us\n",
      "\n",
      "bestTest = 0.1865553832\n",
      "bestIteration = 174\n",
      "\n"
     ]
    },
    {
     "name": "stderr",
     "output_type": "stream",
     "text": [
      "\u001b[32m[I 2022-10-12 02:19:53,554]\u001b[0m Trial 0 finished with value: 0.8277099468360869 and parameters: {'iterations': 175, 'learning_rate': 0.9556428757689246, 'depth': 11, 'min_data_in_leaf': 18, 'reg_lambda': 16.445845403801215, 'subsample': 0.40919616423534183, 'random_strength': 15.227525095137953, 'od_wait': 132, 'leaf_estimation_iterations': 10, 'bagging_temperature': 26.070247583707673, 'colsample_bylevel': 0.020584494295802447}. Best is trial 0 with value: 0.8277099468360869.\u001b[0m\n"
     ]
    },
    {
     "name": "stdout",
     "output_type": "stream",
     "text": [
      "\n"
     ]
    },
    {
     "data": {
      "application/vnd.jupyter.widget-view+json": {
       "model_id": "a68985a1ad154334996cd122471c0bb3",
       "version_major": 2,
       "version_minor": 0
      },
      "text/plain": [
       "HBox(children=(FloatProgress(value=1.0, bar_style='info', description='k_fold', max=1.0, style=ProgressStyle(d…"
      ]
     },
     "metadata": {},
     "output_type": "display_data"
    },
    {
     "name": "stdout",
     "output_type": "stream",
     "text": [
      "0:\tlearn: 0.2320024\ttest: 0.2320024\ttest1: 0.2319815\tbest: 0.2319815 (0)\ttotal: 997ms\tremaining: 4m 52s\n",
      "100:\tlearn: 0.1741453\ttest: 0.1739638\ttest1: 0.1745617\tbest: 0.1745617 (100)\ttotal: 1m 11s\tremaining: 2m 15s\n",
      "200:\tlearn: 0.1713719\ttest: 0.1712102\ttest1: 0.1720550\tbest: 0.1720550 (200)\ttotal: 2m 18s\tremaining: 1m 4s\n",
      "293:\tlearn: 0.1699089\ttest: 0.1697526\ttest1: 0.1707015\tbest: 0.1707015 (293)\ttotal: 3m 19s\tremaining: 0us\n",
      "\n",
      "bestTest = 0.1707015182\n",
      "bestIteration = 293\n",
      "\n",
      "0:\tlearn: 0.2320203\ttest: 0.2320203\ttest1: 0.2319119\tbest: 0.2319119 (0)\ttotal: 975ms\tremaining: 4m 45s\n",
      "100:\tlearn: 0.1732429\ttest: 0.1731102\ttest1: 0.1736639\tbest: 0.1736639 (100)\ttotal: 1m 8s\tremaining: 2m 11s\n",
      "200:\tlearn: 0.1705626\ttest: 0.1704056\ttest1: 0.1713427\tbest: 0.1713427 (200)\ttotal: 2m 13s\tremaining: 1m 1s\n",
      "293:\tlearn: 0.1694258\ttest: 0.1692754\ttest1: 0.1705075\tbest: 0.1705075 (293)\ttotal: 3m 16s\tremaining: 0us\n",
      "\n",
      "bestTest = 0.1705075394\n",
      "bestIteration = 293\n",
      "\n",
      "0:\tlearn: 0.2340965\ttest: 0.2340965\ttest1: 0.2340940\tbest: 0.2340940 (0)\ttotal: 348ms\tremaining: 1m 42s\n",
      "100:\tlearn: 0.1734099\ttest: 0.1733111\ttest1: 0.1730167\tbest: 0.1730167 (100)\ttotal: 1m 5s\tremaining: 2m 4s\n",
      "200:\tlearn: 0.1704723\ttest: 0.1703766\ttest1: 0.1703579\tbest: 0.1703579 (200)\ttotal: 2m 18s\tremaining: 1m 3s\n",
      "293:\tlearn: 0.1692748\ttest: 0.1691657\ttest1: 0.1693873\tbest: 0.1693873 (293)\ttotal: 3m 20s\tremaining: 0us\n",
      "\n",
      "bestTest = 0.1693873192\n",
      "bestIteration = 293\n",
      "\n",
      "0:\tlearn: 0.2340965\ttest: 0.2340965\ttest1: 0.2340940\tbest: 0.2340940 (0)\ttotal: 339ms\tremaining: 1m 39s\n",
      "100:\tlearn: 0.1731947\ttest: 0.1729583\ttest1: 0.1735601\tbest: 0.1735601 (100)\ttotal: 1m 9s\tremaining: 2m 12s\n",
      "200:\tlearn: 0.1707623\ttest: 0.1705124\ttest1: 0.1714406\tbest: 0.1714406 (200)\ttotal: 2m 16s\tremaining: 1m 3s\n",
      "293:\tlearn: 0.1693942\ttest: 0.1691509\ttest1: 0.1703529\tbest: 0.1703521 (291)\ttotal: 3m 20s\tremaining: 0us\n",
      "\n",
      "bestTest = 0.170352082\n",
      "bestIteration = 291\n",
      "\n",
      "Shrink model to first 292 iterations.\n",
      "0:\tlearn: 0.2340965\ttest: 0.2340965\ttest1: 0.2340940\tbest: 0.2340940 (0)\ttotal: 338ms\tremaining: 1m 38s\n",
      "100:\tlearn: 0.1733666\ttest: 0.1732253\ttest1: 0.1732631\tbest: 0.1732631 (100)\ttotal: 1m 10s\tremaining: 2m 15s\n",
      "200:\tlearn: 0.1707805\ttest: 0.1706379\ttest1: 0.1710346\tbest: 0.1710318 (199)\ttotal: 2m 19s\tremaining: 1m 4s\n",
      "293:\tlearn: 0.1697019\ttest: 0.1695260\ttest1: 0.1701117\tbest: 0.1701106 (292)\ttotal: 3m 22s\tremaining: 0us\n",
      "\n",
      "bestTest = 0.1701106433\n",
      "bestIteration = 292\n",
      "\n",
      "Shrink model to first 293 iterations.\n",
      "0:\tlearn: 0.2340955\ttest: 0.2340955\ttest1: 0.2340983\tbest: 0.2340983 (0)\ttotal: 337ms\tremaining: 1m 38s\n",
      "100:\tlearn: 0.1740612\ttest: 0.1738477\ttest1: 0.1747146\tbest: 0.1747146 (100)\ttotal: 1m 11s\tremaining: 2m 16s\n",
      "200:\tlearn: 0.1709908\ttest: 0.1708064\ttest1: 0.1719480\tbest: 0.1719480 (200)\ttotal: 2m 14s\tremaining: 1m 2s\n",
      "293:\tlearn: 0.1696802\ttest: 0.1695249\ttest1: 0.1708404\tbest: 0.1708404 (293)\ttotal: 3m 13s\tremaining: 0us\n",
      "\n",
      "bestTest = 0.1708404048\n",
      "bestIteration = 293\n",
      "\n"
     ]
    },
    {
     "name": "stderr",
     "output_type": "stream",
     "text": [
      "\u001b[32m[I 2022-10-12 02:41:31,719]\u001b[0m Trial 1 finished with value: 0.8672758024140542 and parameters: {'iterations': 294, 'learning_rate': 0.8491983767203796, 'depth': 4, 'min_data_in_leaf': 6, 'reg_lambda': 19.15704647548995, 'subsample': 0.5129695700716763, 'random_strength': 57.228078846901404, 'od_wait': 70, 'leaf_estimation_iterations': 5, 'bagging_temperature': 16.73808578875213, 'colsample_bylevel': 0.13949386065204183}. Best is trial 1 with value: 0.8672758024140542.\u001b[0m\n"
     ]
    },
    {
     "name": "stdout",
     "output_type": "stream",
     "text": [
      "\n"
     ]
    },
    {
     "data": {
      "application/vnd.jupyter.widget-view+json": {
       "model_id": "ef3a1afc651444c2a113c9a58c598b94",
       "version_major": 2,
       "version_minor": 0
      },
      "text/plain": [
       "HBox(children=(FloatProgress(value=1.0, bar_style='info', description='k_fold', max=1.0, style=ProgressStyle(d…"
      ]
     },
     "metadata": {},
     "output_type": "display_data"
    },
    {
     "name": "stdout",
     "output_type": "stream",
     "text": [
      "0:\tlearn: 0.3389522\ttest: 0.3389522\ttest1: 0.3389472\tbest: 0.3389472 (0)\ttotal: 580ms\tremaining: 1m 31s\n",
      "100:\tlearn: 0.1784742\ttest: 0.1784033\ttest1: 0.1785575\tbest: 0.1785575 (100)\ttotal: 1m\tremaining: 34s\n",
      "157:\tlearn: 0.1735373\ttest: 0.1734165\ttest1: 0.1737921\tbest: 0.1737921 (157)\ttotal: 1m 39s\tremaining: 0us\n",
      "\n",
      "bestTest = 0.173792103\n",
      "bestIteration = 157\n",
      "\n",
      "0:\tlearn: 0.3389436\ttest: 0.3389436\ttest1: 0.3390002\tbest: 0.3390002 (0)\ttotal: 599ms\tremaining: 1m 34s\n",
      "100:\tlearn: 0.1767641\ttest: 0.1766460\ttest1: 0.1770759\tbest: 0.1770759 (100)\ttotal: 1m 3s\tremaining: 36s\n",
      "157:\tlearn: 0.1730495\ttest: 0.1729610\ttest1: 0.1736326\tbest: 0.1736326 (157)\ttotal: 1m 44s\tremaining: 0us\n",
      "\n",
      "bestTest = 0.1736326077\n",
      "bestIteration = 157\n",
      "\n",
      "0:\tlearn: 0.3398143\ttest: 0.3398143\ttest1: 0.3398130\tbest: 0.3398130 (0)\ttotal: 428ms\tremaining: 1m 7s\n",
      "100:\tlearn: 0.1772079\ttest: 0.1771397\ttest1: 0.1768087\tbest: 0.1768087 (100)\ttotal: 1m 6s\tremaining: 37.4s\n",
      "157:\tlearn: 0.1734857\ttest: 0.1734626\ttest1: 0.1731848\tbest: 0.1731848 (157)\ttotal: 1m 46s\tremaining: 0us\n",
      "\n",
      "bestTest = 0.1731848212\n",
      "bestIteration = 157\n",
      "\n",
      "0:\tlearn: 0.3398143\ttest: 0.3398143\ttest1: 0.3398130\tbest: 0.3398130 (0)\ttotal: 403ms\tremaining: 1m 3s\n",
      "100:\tlearn: 0.1792494\ttest: 0.1791679\ttest1: 0.1793341\tbest: 0.1793340 (98)\ttotal: 1m 6s\tremaining: 37.7s\n",
      "157:\tlearn: 0.1753461\ttest: 0.1752691\ttest1: 0.1756401\tbest: 0.1756401 (157)\ttotal: 1m 38s\tremaining: 0us\n",
      "\n",
      "bestTest = 0.1756400635\n",
      "bestIteration = 157\n",
      "\n",
      "0:\tlearn: 0.3398143\ttest: 0.3398143\ttest1: 0.3398130\tbest: 0.3398130 (0)\ttotal: 437ms\tremaining: 1m 8s\n",
      "100:\tlearn: 0.1786302\ttest: 0.1786410\ttest1: 0.1788682\tbest: 0.1788682 (100)\ttotal: 1m 2s\tremaining: 35.1s\n",
      "157:\tlearn: 0.1743892\ttest: 0.1743503\ttest1: 0.1747371\tbest: 0.1747371 (157)\ttotal: 1m 40s\tremaining: 0us\n",
      "\n",
      "bestTest = 0.1747371059\n",
      "bestIteration = 157\n",
      "\n",
      "0:\tlearn: 0.3398133\ttest: 0.3398133\ttest1: 0.3398148\tbest: 0.3398148 (0)\ttotal: 427ms\tremaining: 1m 7s\n",
      "100:\tlearn: 0.1774857\ttest: 0.1773672\ttest1: 0.1784196\tbest: 0.1784196 (100)\ttotal: 1m 6s\tremaining: 37.5s\n",
      "157:\tlearn: 0.1741984\ttest: 0.1740686\ttest1: 0.1752672\tbest: 0.1752672 (157)\ttotal: 1m 41s\tremaining: 0us\n",
      "\n",
      "bestTest = 0.1752671978\n",
      "bestIteration = 157\n",
      "\n"
     ]
    },
    {
     "name": "stderr",
     "output_type": "stream",
     "text": [
      "\u001b[32m[I 2022-10-12 02:53:26,472]\u001b[0m Trial 2 finished with value: 0.8569562039201096 and parameters: {'iterations': 158, 'learning_rate': 0.4297256589643226, 'depth': 7, 'min_data_in_leaf': 24, 'reg_lambda': 20.767704433677615, 'subsample': 0.6599641068895281, 'random_strength': 63.31731119758382, 'od_wait': 16, 'leaf_estimation_iterations': 10, 'bagging_temperature': 2.1930485556643684, 'colsample_bylevel': 0.06505159298527952}. Best is trial 1 with value: 0.8672758024140542.\u001b[0m\n"
     ]
    },
    {
     "name": "stdout",
     "output_type": "stream",
     "text": [
      "\n"
     ]
    },
    {
     "data": {
      "application/vnd.jupyter.widget-view+json": {
       "model_id": "982933294db64346b2e25d3ec6e40282",
       "version_major": 2,
       "version_minor": 0
      },
      "text/plain": [
       "HBox(children=(FloatProgress(value=1.0, bar_style='info', description='k_fold', max=1.0, style=ProgressStyle(d…"
      ]
     },
     "metadata": {},
     "output_type": "display_data"
    },
    {
     "name": "stdout",
     "output_type": "stream",
     "text": [
      "0:\tlearn: 0.2259474\ttest: 0.2259467\ttest1: 0.2260670\tbest: 0.2260670 (0)\ttotal: 2.72s\tremaining: 13m 6s\n",
      "Stopped by overfitting detector  (35 iterations wait)\n",
      "\n",
      "bestTest = 0.1710813834\n",
      "bestIteration = 44\n",
      "\n",
      "Shrink model to first 45 iterations.\n",
      "0:\tlearn: 0.2286989\ttest: 0.2286994\ttest1: 0.2287096\tbest: 0.2287096 (0)\ttotal: 1.85s\tremaining: 8m 55s\n",
      "Stopped by overfitting detector  (35 iterations wait)\n",
      "\n",
      "bestTest = 0.1711409749\n",
      "bestIteration = 46\n",
      "\n",
      "Shrink model to first 47 iterations.\n",
      "0:\tlearn: 0.2279407\ttest: 0.2279378\ttest1: 0.2278430\tbest: 0.2278430 (0)\ttotal: 2.37s\tremaining: 11m 26s\n",
      "Stopped by overfitting detector  (35 iterations wait)\n",
      "\n",
      "bestTest = 0.1708493719\n",
      "bestIteration = 40\n",
      "\n",
      "Shrink model to first 41 iterations.\n",
      "0:\tlearn: 0.2279242\ttest: 0.2279222\ttest1: 0.2279410\tbest: 0.2279410 (0)\ttotal: 2.44s\tremaining: 11m 44s\n",
      "Stopped by overfitting detector  (35 iterations wait)\n",
      "\n",
      "bestTest = 0.1714627377\n",
      "bestIteration = 40\n",
      "\n",
      "Shrink model to first 41 iterations.\n",
      "0:\tlearn: 0.2279147\ttest: 0.2279133\ttest1: 0.2279478\tbest: 0.2279478 (0)\ttotal: 2.63s\tremaining: 12m 41s\n",
      "Stopped by overfitting detector  (35 iterations wait)\n",
      "\n",
      "bestTest = 0.1704945583\n",
      "bestIteration = 40\n",
      "\n",
      "Shrink model to first 41 iterations.\n",
      "0:\tlearn: 0.2279255\ttest: 0.2279247\ttest1: 0.2278950\tbest: 0.2278950 (0)\ttotal: 2.71s\tremaining: 13m 4s\n",
      "Stopped by overfitting detector  (35 iterations wait)\n",
      "\n",
      "bestTest = 0.1716486206\n",
      "bestIteration = 62\n",
      "\n",
      "Shrink model to first 63 iterations.\n"
     ]
    },
    {
     "name": "stderr",
     "output_type": "stream",
     "text": [
      "\u001b[32m[I 2022-10-12 03:42:08,109]\u001b[0m Trial 3 finished with value: 0.8694395787984531 and parameters: {'iterations': 290, 'learning_rate': 0.9690688297671034, 'depth': 13, 'min_data_in_leaf': 10, 'reg_lambda': 10.669539286632004, 'subsample': 0.7789631185585097, 'random_strength': 49.61372443656412, 'od_wait': 27, 'leaf_estimation_iterations': 8, 'bagging_temperature': 1.1715937392307056, 'colsample_bylevel': 0.9093204020787821}. Best is trial 3 with value: 0.8694395787984531.\u001b[0m\n"
     ]
    },
    {
     "name": "stdout",
     "output_type": "stream",
     "text": [
      "\n"
     ]
    },
    {
     "data": {
      "application/vnd.jupyter.widget-view+json": {
       "model_id": "a625d73a671d4849ad00d5414f03e733",
       "version_major": 2,
       "version_minor": 0
      },
      "text/plain": [
       "HBox(children=(FloatProgress(value=1.0, bar_style='info', description='k_fold', max=1.0, style=ProgressStyle(d…"
      ]
     },
     "metadata": {},
     "output_type": "display_data"
    },
    {
     "name": "stdout",
     "output_type": "stream",
     "text": [
      "0:\tlearn: 0.2471720\ttest: 0.2471697\ttest1: 0.2472816\tbest: 0.2472816 (0)\ttotal: 2.6s\tremaining: 6m 32s\n",
      "100:\tlearn: 0.1703566\ttest: 0.1701680\ttest1: 0.1706412\tbest: 0.1706412 (100)\ttotal: 2m 58s\tremaining: 1m 29s\n",
      "151:\tlearn: 0.1686560\ttest: 0.1684799\ttest1: 0.1693561\tbest: 0.1693561 (151)\ttotal: 4m 39s\tremaining: 0us\n",
      "\n",
      "bestTest = 0.1693560933\n",
      "bestIteration = 151\n",
      "\n",
      "0:\tlearn: 0.2472216\ttest: 0.2472206\ttest1: 0.2471064\tbest: 0.2471064 (0)\ttotal: 2.65s\tremaining: 6m 40s\n",
      "100:\tlearn: 0.1700527\ttest: 0.1698961\ttest1: 0.1707112\tbest: 0.1707112 (100)\ttotal: 3m 5s\tremaining: 1m 33s\n",
      "151:\tlearn: 0.1683481\ttest: 0.1681847\ttest1: 0.1693894\tbest: 0.1693894 (151)\ttotal: 4m 39s\tremaining: 0us\n",
      "\n",
      "bestTest = 0.1693893519\n",
      "bestIteration = 151\n",
      "\n",
      "0:\tlearn: 0.2507844\ttest: 0.2507838\ttest1: 0.2508029\tbest: 0.2508029 (0)\ttotal: 1.86s\tremaining: 4m 41s\n",
      "100:\tlearn: 0.1700867\ttest: 0.1699503\ttest1: 0.1700629\tbest: 0.1700629 (100)\ttotal: 2m 52s\tremaining: 1m 27s\n",
      "151:\tlearn: 0.1687099\ttest: 0.1685572\ttest1: 0.1689959\tbest: 0.1689959 (151)\ttotal: 4m 18s\tremaining: 0us\n",
      "\n",
      "bestTest = 0.1689959473\n",
      "bestIteration = 151\n",
      "\n",
      "0:\tlearn: 0.2507999\ttest: 0.2507992\ttest1: 0.2507885\tbest: 0.2507885 (0)\ttotal: 1.67s\tremaining: 4m 12s\n",
      "100:\tlearn: 0.1699057\ttest: 0.1697439\ttest1: 0.1704062\tbest: 0.1704062 (100)\ttotal: 2m 50s\tremaining: 1m 26s\n",
      "151:\tlearn: 0.1683513\ttest: 0.1682076\ttest1: 0.1692595\tbest: 0.1692595 (151)\ttotal: 4m 19s\tremaining: 0us\n",
      "\n",
      "bestTest = 0.1692595097\n",
      "bestIteration = 151\n",
      "\n",
      "0:\tlearn: 0.2508025\ttest: 0.2508012\ttest1: 0.2507603\tbest: 0.2507603 (0)\ttotal: 1.92s\tremaining: 4m 50s\n",
      "100:\tlearn: 0.1699096\ttest: 0.1697637\ttest1: 0.1701521\tbest: 0.1701521 (100)\ttotal: 2m 48s\tremaining: 1m 24s\n",
      "151:\tlearn: 0.1684939\ttest: 0.1683397\ttest1: 0.1691399\tbest: 0.1691368 (150)\ttotal: 4m 18s\tremaining: 0us\n",
      "\n",
      "bestTest = 0.1691368019\n",
      "bestIteration = 150\n",
      "\n",
      "Shrink model to first 151 iterations.\n",
      "0:\tlearn: 0.2507792\ttest: 0.2507784\ttest1: 0.2508715\tbest: 0.2508715 (0)\ttotal: 1.88s\tremaining: 4m 43s\n",
      "100:\tlearn: 0.1698964\ttest: 0.1697725\ttest1: 0.1709966\tbest: 0.1709966 (100)\ttotal: 2m 45s\tremaining: 1m 23s\n",
      "151:\tlearn: 0.1684084\ttest: 0.1682893\ttest1: 0.1698435\tbest: 0.1698435 (151)\ttotal: 4m 15s\tremaining: 0us\n",
      "\n",
      "bestTest = 0.1698434666\n",
      "bestIteration = 151\n",
      "\n"
     ]
    },
    {
     "name": "stderr",
     "output_type": "stream",
     "text": [
      "\u001b[32m[I 2022-10-12 04:10:21,501]\u001b[0m Trial 4 finished with value: 0.8694134275454766 and parameters: {'iterations': 152, 'learning_rate': 0.6962700559185838, 'depth': 5, 'min_data_in_leaf': 16, 'reg_lambda': 55.12431765498469, 'subsample': 0.42939811886786894, 'random_strength': 97.26261649881027, 'od_wait': 119, 'leaf_estimation_iterations': 15, 'bagging_temperature': 61.61049539380964, 'colsample_bylevel': 0.5978999788110851}. Best is trial 3 with value: 0.8694395787984531.\u001b[0m\n"
     ]
    },
    {
     "name": "stdout",
     "output_type": "stream",
     "text": [
      "\n"
     ]
    },
    {
     "data": {
      "application/vnd.jupyter.widget-view+json": {
       "model_id": "b2b4a56cf6fc48c2b9032bd27cdd1dcb",
       "version_major": 2,
       "version_minor": 0
      },
      "text/plain": [
       "HBox(children=(FloatProgress(value=1.0, bar_style='info', description='k_fold', max=1.0, style=ProgressStyle(d…"
      ]
     },
     "metadata": {},
     "output_type": "display_data"
    },
    {
     "name": "stdout",
     "output_type": "stream",
     "text": [
      "0:\tlearn: 0.5061016\ttest: 0.5061016\ttest1: 0.5061050\tbest: 0.5061050 (0)\ttotal: 1.07s\tremaining: 5m 3s\n",
      "100:\tlearn: 0.1826064\ttest: 0.1824743\ttest1: 0.1824312\tbest: 0.1824312 (100)\ttotal: 1m 24s\tremaining: 2m 34s\n",
      "200:\tlearn: 0.1756874\ttest: 0.1755423\ttest1: 0.1757151\tbest: 0.1757151 (200)\ttotal: 2m 50s\tremaining: 1m 11s\n",
      "284:\tlearn: 0.1735921\ttest: 0.1734295\ttest1: 0.1736378\tbest: 0.1736378 (284)\ttotal: 4m 1s\tremaining: 0us\n",
      "\n",
      "bestTest = 0.1736377898\n",
      "bestIteration = 284\n",
      "\n",
      "0:\tlearn: 0.5060636\ttest: 0.5060636\ttest1: 0.5060710\tbest: 0.5060710 (0)\ttotal: 1.15s\tremaining: 5m 26s\n",
      "100:\tlearn: 0.1819278\ttest: 0.1817233\ttest1: 0.1819571\tbest: 0.1819571 (100)\ttotal: 1m 25s\tremaining: 2m 35s\n",
      "200:\tlearn: 0.1753846\ttest: 0.1751951\ttest1: 0.1756276\tbest: 0.1756276 (200)\ttotal: 2m 51s\tremaining: 1m 11s\n",
      "284:\tlearn: 0.1733379\ttest: 0.1731610\ttest1: 0.1736628\tbest: 0.1736628 (284)\ttotal: 4m 5s\tremaining: 0us\n",
      "\n",
      "bestTest = 0.1736627735\n",
      "bestIteration = 284\n",
      "\n",
      "0:\tlearn: 0.5000650\ttest: 0.5000650\ttest1: 0.5001196\tbest: 0.5001196 (0)\ttotal: 1.12s\tremaining: 5m 17s\n",
      "100:\tlearn: 0.1823948\ttest: 0.1821747\ttest1: 0.1817160\tbest: 0.1817160 (100)\ttotal: 1m 24s\tremaining: 2m 33s\n",
      "200:\tlearn: 0.1756965\ttest: 0.1755599\ttest1: 0.1750671\tbest: 0.1750671 (200)\ttotal: 2m 52s\tremaining: 1m 11s\n",
      "284:\tlearn: 0.1737433\ttest: 0.1736317\ttest1: 0.1731941\tbest: 0.1731941 (284)\ttotal: 4m 4s\tremaining: 0us\n",
      "\n",
      "bestTest = 0.1731940814\n",
      "bestIteration = 284\n",
      "\n",
      "0:\tlearn: 0.4998798\ttest: 0.4998798\ttest1: 0.4999440\tbest: 0.4999440 (0)\ttotal: 1.16s\tremaining: 5m 28s\n",
      "100:\tlearn: 0.1819507\ttest: 0.1818336\ttest1: 0.1817768\tbest: 0.1817768 (100)\ttotal: 1m 24s\tremaining: 2m 33s\n",
      "200:\tlearn: 0.1753164\ttest: 0.1751788\ttest1: 0.1752700\tbest: 0.1752700 (200)\ttotal: 2m 49s\tremaining: 1m 10s\n",
      "284:\tlearn: 0.1733746\ttest: 0.1732366\ttest1: 0.1734442\tbest: 0.1734442 (284)\ttotal: 4m 4s\tremaining: 0us\n",
      "\n",
      "bestTest = 0.1734441671\n",
      "bestIteration = 284\n",
      "\n",
      "0:\tlearn: 0.4997783\ttest: 0.4997783\ttest1: 0.4997480\tbest: 0.4997480 (0)\ttotal: 1.1s\tremaining: 5m 12s\n",
      "100:\tlearn: 0.1819735\ttest: 0.1819744\ttest1: 0.1819870\tbest: 0.1819870 (100)\ttotal: 1m 15s\tremaining: 2m 17s\n",
      "200:\tlearn: 0.1754078\ttest: 0.1753770\ttest1: 0.1753705\tbest: 0.1753705 (200)\ttotal: 2m 38s\tremaining: 1m 6s\n",
      "284:\tlearn: 0.1735774\ttest: 0.1735245\ttest1: 0.1735419\tbest: 0.1735419 (284)\ttotal: 3m 55s\tremaining: 0us\n",
      "\n",
      "bestTest = 0.1735418959\n",
      "bestIteration = 284\n",
      "\n",
      "0:\tlearn: 0.5000513\ttest: 0.5000513\ttest1: 0.5000661\tbest: 0.5000661 (0)\ttotal: 1.17s\tremaining: 5m 33s\n",
      "100:\tlearn: 0.1818595\ttest: 0.1818121\ttest1: 0.1824489\tbest: 0.1824489 (100)\ttotal: 1m 21s\tremaining: 2m 27s\n",
      "200:\tlearn: 0.1751835\ttest: 0.1750696\ttest1: 0.1758600\tbest: 0.1758600 (200)\ttotal: 2m 50s\tremaining: 1m 11s\n",
      "284:\tlearn: 0.1730822\ttest: 0.1729540\ttest1: 0.1737632\tbest: 0.1737632 (284)\ttotal: 4m 9s\tremaining: 0us\n",
      "\n",
      "bestTest = 0.1737632237\n",
      "bestIteration = 284\n",
      "\n"
     ]
    },
    {
     "name": "stderr",
     "output_type": "stream",
     "text": [
      "\u001b[32m[I 2022-10-12 04:36:23,133]\u001b[0m Trial 5 finished with value: 0.8597281217627577 and parameters: {'iterations': 285, 'learning_rate': 0.17964325184672755, 'depth': 3, 'min_data_in_leaf': 2, 'reg_lambda': 33.20770274556317, 'subsample': 0.5720741027826374, 'random_strength': 34.42141285965063, 'od_wait': 126, 'leaf_estimation_iterations': 6, 'bagging_temperature': 3.6464395589807204, 'colsample_bylevel': 0.5426960831582485}. Best is trial 3 with value: 0.8694395787984531.\u001b[0m\n"
     ]
    },
    {
     "name": "stdout",
     "output_type": "stream",
     "text": [
      "\n"
     ]
    },
    {
     "data": {
      "application/vnd.jupyter.widget-view+json": {
       "model_id": "387f6892cbc9411d9d598a12cc9c89e7",
       "version_major": 2,
       "version_minor": 0
      },
      "text/plain": [
       "HBox(children=(FloatProgress(value=1.0, bar_style='info', description='k_fold', max=1.0, style=ProgressStyle(d…"
      ]
     },
     "metadata": {},
     "output_type": "display_data"
    },
    {
     "name": "stdout",
     "output_type": "stream",
     "text": [
      "0:\tlearn: 0.2362027\ttest: 0.2362027\ttest1: 0.2361674\tbest: 0.2361674 (0)\ttotal: 1.26s\tremaining: 2m 39s\n",
      "100:\tlearn: 0.1751735\ttest: 0.1750319\ttest1: 0.1751042\tbest: 0.1751042 (100)\ttotal: 1m 17s\tremaining: 20.6s\n",
      "127:\tlearn: 0.1745137\ttest: 0.1743466\ttest1: 0.1744703\tbest: 0.1744703 (127)\ttotal: 1m 36s\tremaining: 0us\n",
      "\n",
      "bestTest = 0.1744703033\n",
      "bestIteration = 127\n",
      "\n",
      "0:\tlearn: 0.2361960\ttest: 0.2361960\ttest1: 0.2361901\tbest: 0.2361901 (0)\ttotal: 1.28s\tremaining: 2m 42s\n",
      "100:\tlearn: 0.1752830\ttest: 0.1750863\ttest1: 0.1755126\tbest: 0.1755126 (100)\ttotal: 1m 17s\tremaining: 20.8s\n",
      "127:\tlearn: 0.1745012\ttest: 0.1743080\ttest1: 0.1747448\tbest: 0.1747448 (127)\ttotal: 1m 38s\tremaining: 0us\n",
      "\n",
      "bestTest = 0.1747448493\n",
      "bestIteration = 127\n",
      "\n",
      "0:\tlearn: 0.2358807\ttest: 0.2358807\ttest1: 0.2358493\tbest: 0.2358493 (0)\ttotal: 1.25s\tremaining: 2m 39s\n",
      "100:\tlearn: 0.1747728\ttest: 0.1747029\ttest1: 0.1743127\tbest: 0.1743127 (100)\ttotal: 1m 15s\tremaining: 20.2s\n",
      "127:\tlearn: 0.1740126\ttest: 0.1739087\ttest1: 0.1734685\tbest: 0.1734685 (127)\ttotal: 1m 35s\tremaining: 0us\n",
      "\n",
      "bestTest = 0.1734684722\n",
      "bestIteration = 127\n",
      "\n",
      "0:\tlearn: 0.2358764\ttest: 0.2358764\ttest1: 0.2358726\tbest: 0.2358726 (0)\ttotal: 1.21s\tremaining: 2m 33s\n",
      "100:\tlearn: 0.1748596\ttest: 0.1747714\ttest1: 0.1748146\tbest: 0.1748146 (100)\ttotal: 1m 17s\tremaining: 20.6s\n",
      "127:\tlearn: 0.1741965\ttest: 0.1740962\ttest1: 0.1741770\tbest: 0.1741770 (127)\ttotal: 1m 38s\tremaining: 0us\n",
      "\n",
      "bestTest = 0.174176992\n",
      "bestIteration = 127\n",
      "\n",
      "0:\tlearn: 0.2358685\ttest: 0.2358685\ttest1: 0.2358922\tbest: 0.2358922 (0)\ttotal: 1.23s\tremaining: 2m 36s\n",
      "100:\tlearn: 0.1756033\ttest: 0.1755111\ttest1: 0.1755380\tbest: 0.1755380 (100)\ttotal: 1m 16s\tremaining: 20.4s\n",
      "127:\tlearn: 0.1741419\ttest: 0.1740408\ttest1: 0.1740955\tbest: 0.1740955 (127)\ttotal: 1m 36s\tremaining: 0us\n",
      "\n",
      "bestTest = 0.1740954824\n",
      "bestIteration = 127\n",
      "\n",
      "0:\tlearn: 0.2358747\ttest: 0.2358747\ttest1: 0.2358744\tbest: 0.2358744 (0)\ttotal: 1.23s\tremaining: 2m 36s\n",
      "100:\tlearn: 0.1750697\ttest: 0.1749546\ttest1: 0.1759051\tbest: 0.1759051 (100)\ttotal: 1m 16s\tremaining: 20.5s\n",
      "127:\tlearn: 0.1742960\ttest: 0.1741718\ttest1: 0.1750648\tbest: 0.1750648 (127)\ttotal: 1m 36s\tremaining: 0us\n",
      "\n",
      "bestTest = 0.1750647749\n",
      "bestIteration = 127\n",
      "\n"
     ]
    },
    {
     "name": "stderr",
     "output_type": "stream",
     "text": [
      "\u001b[32m[I 2022-10-12 04:47:37,412]\u001b[0m Trial 6 finished with value: 0.8577531647581623 and parameters: {'iterations': 128, 'learning_rate': 0.8219772826786357, 'depth': 2, 'min_data_in_leaf': 30, 'reg_lambda': 77.45223216036908, 'subsample': 0.43910097707392065, 'random_strength': 10.496990541124216, 'od_wait': 124, 'leaf_estimation_iterations': 11, 'bagging_temperature': 28.70875348195468, 'colsample_bylevel': 0.7712703466859457}. Best is trial 3 with value: 0.8694395787984531.\u001b[0m\n"
     ]
    },
    {
     "name": "stdout",
     "output_type": "stream",
     "text": [
      "\n"
     ]
    },
    {
     "data": {
      "application/vnd.jupyter.widget-view+json": {
       "model_id": "9fd30555fac34e7fbb7f4d4c2a07104f",
       "version_major": 2,
       "version_minor": 0
      },
      "text/plain": [
       "HBox(children=(FloatProgress(value=1.0, bar_style='info', description='k_fold', max=1.0, style=ProgressStyle(d…"
      ]
     },
     "metadata": {},
     "output_type": "display_data"
    },
    {
     "name": "stdout",
     "output_type": "stream",
     "text": [
      "0:\tlearn: 0.3430954\ttest: 0.3430954\ttest1: 0.3431078\tbest: 0.3431078 (0)\ttotal: 939ms\tremaining: 1m 46s\n",
      "100:\tlearn: 0.1775353\ttest: 0.1774132\ttest1: 0.1774523\tbest: 0.1774523 (100)\ttotal: 1m 4s\tremaining: 8.28s\n",
      "113:\tlearn: 0.1769404\ttest: 0.1768170\ttest1: 0.1768806\tbest: 0.1768806 (113)\ttotal: 1m 12s\tremaining: 0us\n",
      "\n",
      "bestTest = 0.1768806386\n",
      "bestIteration = 113\n",
      "\n",
      "0:\tlearn: 0.3430981\ttest: 0.3430981\ttest1: 0.3431035\tbest: 0.3431035 (0)\ttotal: 979ms\tremaining: 1m 50s\n",
      "100:\tlearn: 0.1773858\ttest: 0.1772057\ttest1: 0.1775972\tbest: 0.1775972 (100)\ttotal: 1m 3s\tremaining: 8.15s\n",
      "113:\tlearn: 0.1766059\ttest: 0.1764334\ttest1: 0.1768929\tbest: 0.1768929 (113)\ttotal: 1m 11s\tremaining: 0us\n",
      "\n",
      "bestTest = 0.1768928641\n",
      "bestIteration = 113\n",
      "\n",
      "0:\tlearn: 0.3393097\ttest: 0.3393097\ttest1: 0.3393014\tbest: 0.3393014 (0)\ttotal: 984ms\tremaining: 1m 51s\n",
      "100:\tlearn: 0.1765925\ttest: 0.1764594\ttest1: 0.1759375\tbest: 0.1759375 (100)\ttotal: 1m 4s\tremaining: 8.29s\n",
      "113:\tlearn: 0.1760851\ttest: 0.1759690\ttest1: 0.1754713\tbest: 0.1754713 (113)\ttotal: 1m 13s\tremaining: 0us\n",
      "\n",
      "bestTest = 0.1754712568\n",
      "bestIteration = 113\n",
      "\n",
      "0:\tlearn: 0.3393212\ttest: 0.3393212\ttest1: 0.3393148\tbest: 0.3393148 (0)\ttotal: 1.01s\tremaining: 1m 53s\n",
      "100:\tlearn: 0.1775327\ttest: 0.1775190\ttest1: 0.1774988\tbest: 0.1774988 (100)\ttotal: 1m 3s\tremaining: 8.13s\n",
      "113:\tlearn: 0.1766897\ttest: 0.1766763\ttest1: 0.1766718\tbest: 0.1766718 (113)\ttotal: 1m 11s\tremaining: 0us\n",
      "\n",
      "bestTest = 0.1766718005\n",
      "bestIteration = 113\n",
      "\n",
      "0:\tlearn: 0.3393215\ttest: 0.3393215\ttest1: 0.3392517\tbest: 0.3392517 (0)\ttotal: 896ms\tremaining: 1m 41s\n",
      "100:\tlearn: 0.1772719\ttest: 0.1772593\ttest1: 0.1771620\tbest: 0.1771620 (100)\ttotal: 1m 2s\tremaining: 8.05s\n",
      "113:\tlearn: 0.1767845\ttest: 0.1767563\ttest1: 0.1766584\tbest: 0.1766584 (113)\ttotal: 1m 10s\tremaining: 0us\n",
      "\n",
      "bestTest = 0.1766584276\n",
      "bestIteration = 113\n",
      "\n",
      "0:\tlearn: 0.3392774\ttest: 0.3392774\ttest1: 0.3393642\tbest: 0.3393642 (0)\ttotal: 900ms\tremaining: 1m 41s\n",
      "100:\tlearn: 0.1767975\ttest: 0.1767066\ttest1: 0.1773943\tbest: 0.1773943 (100)\ttotal: 1m 4s\tremaining: 8.31s\n",
      "113:\tlearn: 0.1762878\ttest: 0.1761865\ttest1: 0.1768938\tbest: 0.1768938 (113)\ttotal: 1m 12s\tremaining: 0us\n",
      "\n",
      "bestTest = 0.1768937799\n",
      "bestIteration = 113\n",
      "\n"
     ]
    },
    {
     "name": "stderr",
     "output_type": "stream",
     "text": [
      "\u001b[32m[I 2022-10-12 04:56:20,336]\u001b[0m Trial 7 finished with value: 0.8524624367551853 and parameters: {'iterations': 114, 'learning_rate': 0.4226191556898453, 'depth': 2, 'min_data_in_leaf': 26, 'reg_lambda': 62.70651455592824, 'subsample': 0.5316286173968544, 'random_strength': 15.720251525742128, 'od_wait': 53, 'leaf_estimation_iterations': 5, 'bagging_temperature': 28.788057183089233, 'colsample_bylevel': 0.6375574713552131}. Best is trial 3 with value: 0.8694395787984531.\u001b[0m\n"
     ]
    },
    {
     "name": "stdout",
     "output_type": "stream",
     "text": [
      "\n"
     ]
    },
    {
     "data": {
      "application/vnd.jupyter.widget-view+json": {
       "model_id": "dd9ae832b8ba4963acfd562c24b8d7aa",
       "version_major": 2,
       "version_minor": 0
      },
      "text/plain": [
       "HBox(children=(FloatProgress(value=1.0, bar_style='info', description='k_fold', max=1.0, style=ProgressStyle(d…"
      ]
     },
     "metadata": {},
     "output_type": "display_data"
    },
    {
     "name": "stdout",
     "output_type": "stream",
     "text": [
      "0:\tlearn: 0.2991684\ttest: 0.2991684\ttest1: 0.2991655\tbest: 0.2991655 (0)\ttotal: 514ms\tremaining: 2m 22s\n",
      "100:\tlearn: 0.1898698\ttest: 0.1898151\ttest1: 0.1897804\tbest: 0.1897804 (100)\ttotal: 34.9s\tremaining: 1m 1s\n",
      "200:\tlearn: 0.1862363\ttest: 0.1861403\ttest1: 0.1861455\tbest: 0.1861455 (200)\ttotal: 1m 7s\tremaining: 26s\n",
      "277:\tlearn: 0.1851852\ttest: 0.1850716\ttest1: 0.1850485\tbest: 0.1850485 (277)\ttotal: 1m 33s\tremaining: 0us\n",
      "\n",
      "bestTest = 0.1850484672\n",
      "bestIteration = 277\n",
      "\n",
      "0:\tlearn: 0.2991598\ttest: 0.2991598\ttest1: 0.2992202\tbest: 0.2992202 (0)\ttotal: 483ms\tremaining: 2m 13s\n",
      "100:\tlearn: 0.1897415\ttest: 0.1896411\ttest1: 0.1899254\tbest: 0.1899254 (100)\ttotal: 35.8s\tremaining: 1m 2s\n",
      "200:\tlearn: 0.1850915\ttest: 0.1849679\ttest1: 0.1854577\tbest: 0.1854577 (200)\ttotal: 1m 8s\tremaining: 26.4s\n",
      "277:\tlearn: 0.1841513\ttest: 0.1840344\ttest1: 0.1845336\tbest: 0.1845336 (277)\ttotal: 1m 33s\tremaining: 0us\n",
      "\n",
      "bestTest = 0.1845336243\n",
      "bestIteration = 277\n",
      "\n",
      "0:\tlearn: 0.3000115\ttest: 0.3000115\ttest1: 0.3000100\tbest: 0.3000100 (0)\ttotal: 403ms\tremaining: 1m 51s\n",
      "100:\tlearn: 0.1868644\ttest: 0.1868472\ttest1: 0.1865187\tbest: 0.1864962 (99)\ttotal: 35.6s\tremaining: 1m 2s\n",
      "200:\tlearn: 0.1842757\ttest: 0.1842736\ttest1: 0.1838607\tbest: 0.1838607 (200)\ttotal: 1m 8s\tremaining: 26.3s\n",
      "277:\tlearn: 0.1832501\ttest: 0.1832680\ttest1: 0.1828445\tbest: 0.1828440 (274)\ttotal: 1m 32s\tremaining: 0us\n",
      "\n",
      "bestTest = 0.1828439535\n",
      "bestIteration = 274\n",
      "\n",
      "Shrink model to first 275 iterations.\n",
      "0:\tlearn: 0.3000115\ttest: 0.3000115\ttest1: 0.3000100\tbest: 0.3000100 (0)\ttotal: 400ms\tremaining: 1m 50s\n",
      "100:\tlearn: 0.1899204\ttest: 0.1899205\ttest1: 0.1898953\tbest: 0.1898953 (100)\ttotal: 34.9s\tremaining: 1m 1s\n",
      "200:\tlearn: 0.1839216\ttest: 0.1838684\ttest1: 0.1839094\tbest: 0.1839094 (191)\ttotal: 1m 7s\tremaining: 25.9s\n",
      "277:\tlearn: 0.1831025\ttest: 0.1830320\ttest1: 0.1830607\tbest: 0.1830607 (277)\ttotal: 1m 32s\tremaining: 0us\n",
      "\n",
      "bestTest = 0.1830607087\n",
      "bestIteration = 277\n",
      "\n",
      "0:\tlearn: 0.3000115\ttest: 0.3000115\ttest1: 0.3000100\tbest: 0.3000100 (0)\ttotal: 423ms\tremaining: 1m 57s\n",
      "100:\tlearn: 0.1887580\ttest: 0.1887252\ttest1: 0.1886818\tbest: 0.1886818 (98)\ttotal: 35s\tremaining: 1m 1s\n",
      "200:\tlearn: 0.1850058\ttest: 0.1849245\ttest1: 0.1847990\tbest: 0.1847990 (200)\ttotal: 1m 7s\tremaining: 25.9s\n",
      "277:\tlearn: 0.1844188\ttest: 0.1843168\ttest1: 0.1841598\tbest: 0.1841598 (275)\ttotal: 1m 31s\tremaining: 0us\n",
      "\n",
      "bestTest = 0.1841598377\n",
      "bestIteration = 275\n",
      "\n",
      "Shrink model to first 276 iterations.\n",
      "0:\tlearn: 0.3000105\ttest: 0.3000105\ttest1: 0.3000122\tbest: 0.3000122 (0)\ttotal: 390ms\tremaining: 1m 48s\n",
      "100:\tlearn: 0.1889674\ttest: 0.1889639\ttest1: 0.1895880\tbest: 0.1895880 (100)\ttotal: 35.1s\tremaining: 1m 1s\n",
      "200:\tlearn: 0.1840197\ttest: 0.1839341\ttest1: 0.1846741\tbest: 0.1846741 (200)\ttotal: 1m 7s\tremaining: 25.9s\n",
      "277:\tlearn: 0.1831309\ttest: 0.1830372\ttest1: 0.1838166\tbest: 0.1838166 (277)\ttotal: 1m 31s\tremaining: 0us\n",
      "\n",
      "bestTest = 0.1838166001\n",
      "bestIteration = 277\n",
      "\n"
     ]
    },
    {
     "name": "stderr",
     "output_type": "stream",
     "text": [
      "\u001b[32m[I 2022-10-12 05:07:04,204]\u001b[0m Trial 8 finished with value: 0.8339819809422736 and parameters: {'iterations': 278, 'learning_rate': 0.5249934326457544, 'depth': 2, 'min_data_in_leaf': 22, 'reg_lambda': 76.31771981307284, 'subsample': 0.6928940382986473, 'random_strength': 79.38704619591049, 'od_wait': 79, 'leaf_estimation_iterations': 8, 'bagging_temperature': 7.16278699989734, 'colsample_bylevel': 0.02541912674409519}. Best is trial 3 with value: 0.8694395787984531.\u001b[0m\n"
     ]
    },
    {
     "name": "stdout",
     "output_type": "stream",
     "text": [
      "\n"
     ]
    },
    {
     "data": {
      "application/vnd.jupyter.widget-view+json": {
       "model_id": "5f3a3ad333e743d189fa9ca7b300f7cf",
       "version_major": 2,
       "version_minor": 0
      },
      "text/plain": [
       "HBox(children=(FloatProgress(value=1.0, bar_style='info', description='k_fold', max=1.0, style=ProgressStyle(d…"
      ]
     },
     "metadata": {},
     "output_type": "display_data"
    },
    {
     "name": "stdout",
     "output_type": "stream",
     "text": [
      "0:\tlearn: 0.5535183\ttest: 0.5535180\ttest1: 0.5535131\tbest: 0.5535131 (0)\ttotal: 862ms\tremaining: 1m 43s\n",
      "100:\tlearn: 0.1870025\ttest: 0.1869764\ttest1: 0.1869208\tbest: 0.1869208 (100)\ttotal: 1m 15s\tremaining: 15s\n",
      "120:\tlearn: 0.1855467\ttest: 0.1855139\ttest1: 0.1854731\tbest: 0.1854731 (120)\ttotal: 1m 26s\tremaining: 0us\n",
      "\n",
      "bestTest = 0.1854730926\n",
      "bestIteration = 120\n",
      "\n",
      "0:\tlearn: 0.5535126\ttest: 0.5535122\ttest1: 0.5535381\tbest: 0.5535381 (0)\ttotal: 1.03s\tremaining: 2m 3s\n",
      "100:\tlearn: 0.1880898\ttest: 0.1880595\ttest1: 0.1882216\tbest: 0.1882216 (100)\ttotal: 1m 6s\tremaining: 13.1s\n",
      "120:\tlearn: 0.1862641\ttest: 0.1861914\ttest1: 0.1863825\tbest: 0.1863825 (120)\ttotal: 1m 20s\tremaining: 0us\n",
      "\n",
      "bestTest = 0.1863824666\n",
      "bestIteration = 120\n",
      "\n",
      "0:\tlearn: 0.5540116\ttest: 0.5540116\ttest1: 0.5540112\tbest: 0.5540112 (0)\ttotal: 433ms\tremaining: 51.9s\n",
      "100:\tlearn: 0.1882290\ttest: 0.1880792\ttest1: 0.1878138\tbest: 0.1878138 (100)\ttotal: 1m 11s\tremaining: 14.2s\n",
      "120:\tlearn: 0.1858452\ttest: 0.1856800\ttest1: 0.1853855\tbest: 0.1853855 (120)\ttotal: 1m 25s\tremaining: 0us\n",
      "\n",
      "bestTest = 0.1853855336\n",
      "bestIteration = 120\n",
      "\n",
      "0:\tlearn: 0.5540116\ttest: 0.5540116\ttest1: 0.5540112\tbest: 0.5540112 (0)\ttotal: 453ms\tremaining: 54.4s\n",
      "100:\tlearn: 0.1872019\ttest: 0.1870552\ttest1: 0.1870380\tbest: 0.1870380 (100)\ttotal: 1m 13s\tremaining: 14.5s\n",
      "120:\tlearn: 0.1848390\ttest: 0.1846436\ttest1: 0.1846587\tbest: 0.1846587 (120)\ttotal: 1m 28s\tremaining: 0us\n",
      "\n",
      "bestTest = 0.1846586615\n",
      "bestIteration = 120\n",
      "\n",
      "0:\tlearn: 0.5540116\ttest: 0.5540116\ttest1: 0.5540112\tbest: 0.5540112 (0)\ttotal: 436ms\tremaining: 52.3s\n",
      "100:\tlearn: 0.1864460\ttest: 0.1863814\ttest1: 0.1864447\tbest: 0.1864447 (100)\ttotal: 1m 17s\tremaining: 15.3s\n",
      "120:\tlearn: 0.1847166\ttest: 0.1846382\ttest1: 0.1847156\tbest: 0.1847156 (120)\ttotal: 1m 35s\tremaining: 0us\n",
      "\n",
      "bestTest = 0.1847156144\n",
      "bestIteration = 120\n",
      "\n",
      "0:\tlearn: 0.5540111\ttest: 0.5540111\ttest1: 0.5540116\tbest: 0.5540116 (0)\ttotal: 415ms\tremaining: 49.8s\n",
      "100:\tlearn: 0.1877238\ttest: 0.1876964\ttest1: 0.1882338\tbest: 0.1882338 (100)\ttotal: 1m 9s\tremaining: 13.7s\n",
      "120:\tlearn: 0.1857862\ttest: 0.1857658\ttest1: 0.1863855\tbest: 0.1863855 (120)\ttotal: 1m 21s\tremaining: 0us\n",
      "\n",
      "bestTest = 0.1863854859\n",
      "bestIteration = 120\n",
      "\n"
     ]
    },
    {
     "name": "stderr",
     "output_type": "stream",
     "text": [
      "\u001b[32m[I 2022-10-12 05:17:19,430]\u001b[0m Trial 9 finished with value: 0.8303689435551145 and parameters: {'iterations': 121, 'learning_rate': 0.12828626711806082, 'depth': 10, 'min_data_in_leaf': 10, 'reg_lambda': 51.34849842530557, 'subsample': 0.9352965317482651, 'random_strength': 32.43630062339874, 'od_wait': 67, 'leaf_estimation_iterations': 12, 'bagging_temperature': 2.868113482103007, 'colsample_bylevel': 0.07697990982879299}. Best is trial 3 with value: 0.8694395787984531.\u001b[0m\n"
     ]
    },
    {
     "name": "stdout",
     "output_type": "stream",
     "text": [
      "\n"
     ]
    },
    {
     "data": {
      "application/vnd.jupyter.widget-view+json": {
       "model_id": "4a86dabb1f29498b923fa139c8bf2209",
       "version_major": 2,
       "version_minor": 0
      },
      "text/plain": [
       "HBox(children=(FloatProgress(value=1.0, bar_style='info', description='k_fold', max=1.0, style=ProgressStyle(d…"
      ]
     },
     "metadata": {},
     "output_type": "display_data"
    },
    {
     "name": "stdout",
     "output_type": "stream",
     "text": [
      "0:\tlearn: 0.2665308\ttest: 0.2665302\ttest1: 0.2665383\tbest: 0.2665383 (0)\ttotal: 1.78s\tremaining: 6m 51s\n",
      "100:\tlearn: 0.1140559\ttest: 0.1191377\ttest1: 0.1690260\tbest: 0.1675175 (72)\ttotal: 11m 53s\tremaining: 15m 25s\n",
      "Stopped by overfitting detector  (35 iterations wait)\n",
      "\n",
      "bestTest = 0.167517535\n",
      "bestIteration = 72\n",
      "\n",
      "Shrink model to first 73 iterations.\n",
      "0:\tlearn: 0.2665303\ttest: 0.2665298\ttest1: 0.2665352\tbest: 0.2665352 (0)\ttotal: 1.9s\tremaining: 7m 18s\n",
      "Stopped by overfitting detector  (35 iterations wait)\n",
      "\n",
      "bestTest = 0.1673104655\n",
      "bestIteration = 61\n",
      "\n",
      "Shrink model to first 62 iterations.\n",
      "0:\tlearn: 0.2660890\ttest: 0.2660890\ttest1: 0.2660694\tbest: 0.2660694 (0)\ttotal: 2.81s\tremaining: 10m 48s\n",
      "Stopped by overfitting detector  (35 iterations wait)\n",
      "\n",
      "bestTest = 0.1675914742\n",
      "bestIteration = 52\n",
      "\n",
      "Shrink model to first 53 iterations.\n",
      "0:\tlearn: 0.2660868\ttest: 0.2660868\ttest1: 0.2660795\tbest: 0.2660795 (0)\ttotal: 2.85s\tremaining: 10m 57s\n",
      "100:\tlearn: 0.1097909\ttest: 0.1139509\ttest1: 0.1689683\tbest: 0.1676571 (72)\ttotal: 12m 2s\tremaining: 15m 36s\n",
      "Stopped by overfitting detector  (35 iterations wait)\n",
      "\n",
      "bestTest = 0.1676570708\n",
      "bestIteration = 72\n",
      "\n",
      "Shrink model to first 73 iterations.\n",
      "0:\tlearn: 0.2660892\ttest: 0.2660892\ttest1: 0.2660711\tbest: 0.2660711 (0)\ttotal: 2.94s\tremaining: 11m 18s\n",
      "Stopped by overfitting detector  (35 iterations wait)\n",
      "\n",
      "bestTest = 0.1677489343\n",
      "bestIteration = 60\n",
      "\n",
      "Shrink model to first 61 iterations.\n",
      "0:\tlearn: 0.2660778\ttest: 0.2660778\ttest1: 0.2661154\tbest: 0.2661154 (0)\ttotal: 2.8s\tremaining: 10m 46s\n",
      "Stopped by overfitting detector  (35 iterations wait)\n",
      "\n",
      "bestTest = 0.1676355041\n",
      "bestIteration = 51\n",
      "\n",
      "Shrink model to first 52 iterations.\n"
     ]
    },
    {
     "name": "stderr",
     "output_type": "stream",
     "text": [
      "\u001b[32m[I 2022-10-12 06:28:01,840]\u001b[0m Trial 10 finished with value: 0.8770540366736421 and parameters: {'iterations': 232, 'learning_rate': 0.7136092422820268, 'depth': 15, 'min_data_in_leaf': 11, 'reg_lambda': 2.452685608700243, 'subsample': 0.851489816957595, 'random_strength': 42.51807967976283, 'od_wait': 11, 'leaf_estimation_iterations': 2, 'bagging_temperature': 1.0583330024545177, 'colsample_bylevel': 0.9923290764061804}. Best is trial 10 with value: 0.8770540366736421.\u001b[0m\n"
     ]
    },
    {
     "name": "stdout",
     "output_type": "stream",
     "text": [
      "\n"
     ]
    },
    {
     "data": {
      "application/vnd.jupyter.widget-view+json": {
       "model_id": "25ad04913fe04afa94005ae5952f0fc1",
       "version_major": 2,
       "version_minor": 0
      },
      "text/plain": [
       "HBox(children=(FloatProgress(value=1.0, bar_style='info', description='k_fold', max=1.0, style=ProgressStyle(d…"
      ]
     },
     "metadata": {},
     "output_type": "display_data"
    },
    {
     "name": "stdout",
     "output_type": "stream",
     "text": [
      "0:\tlearn: 0.3380140\ttest: 0.3380134\ttest1: 0.3380180\tbest: 0.3380180 (0)\ttotal: 1.83s\tremaining: 7m 11s\n",
      "100:\tlearn: 0.1227488\ttest: 0.1258172\ttest1: 0.1652897\tbest: 0.1652145 (96)\ttotal: 10m 54s\tremaining: 14m 34s\n",
      "Stopped by overfitting detector  (35 iterations wait)\n",
      "\n",
      "bestTest = 0.1650907873\n",
      "bestIteration = 106\n",
      "\n",
      "Shrink model to first 107 iterations.\n",
      "0:\tlearn: 0.3380138\ttest: 0.3380131\ttest1: 0.3380159\tbest: 0.3380159 (0)\ttotal: 1.71s\tremaining: 6m 41s\n",
      "100:\tlearn: 0.1201780\ttest: 0.1233874\ttest1: 0.1658008\tbest: 0.1656432 (76)\ttotal: 11m 22s\tremaining: 15m 11s\n",
      "Stopped by overfitting detector  (35 iterations wait)\n",
      "\n",
      "bestTest = 0.1655012768\n",
      "bestIteration = 112\n",
      "\n",
      "Shrink model to first 113 iterations.\n",
      "0:\tlearn: 0.3378468\ttest: 0.3378468\ttest1: 0.3378356\tbest: 0.3378356 (0)\ttotal: 3.21s\tremaining: 12m 34s\n",
      "100:\tlearn: 0.1221016\ttest: 0.1257194\ttest1: 0.1651073\tbest: 0.1650457 (93)\ttotal: 12m 48s\tremaining: 17m 7s\n",
      "Stopped by overfitting detector  (35 iterations wait)\n",
      "\n",
      "bestTest = 0.1650456977\n",
      "bestIteration = 93\n",
      "\n",
      "Shrink model to first 94 iterations.\n",
      "0:\tlearn: 0.3378467\ttest: 0.3378467\ttest1: 0.3378382\tbest: 0.3378382 (0)\ttotal: 2.94s\tremaining: 11m 30s\n",
      "100:\tlearn: 0.1226951\ttest: 0.1251669\ttest1: 0.1645042\tbest: 0.1642577 (87)\ttotal: 11m 53s\tremaining: 15m 53s\n",
      "Stopped by overfitting detector  (35 iterations wait)\n",
      "\n",
      "bestTest = 0.16425771\n",
      "bestIteration = 87\n",
      "\n",
      "Shrink model to first 88 iterations.\n",
      "0:\tlearn: 0.3378471\ttest: 0.3378471\ttest1: 0.3378366\tbest: 0.3378366 (0)\ttotal: 2.85s\tremaining: 11m 9s\n",
      "100:\tlearn: 0.1233530\ttest: 0.1265091\ttest1: 0.1653823\tbest: 0.1652464 (94)\ttotal: 11m 23s\tremaining: 15m 13s\n",
      "Stopped by overfitting detector  (35 iterations wait)\n",
      "\n",
      "bestTest = 0.1652463612\n",
      "bestIteration = 94\n",
      "\n",
      "Shrink model to first 95 iterations.\n",
      "0:\tlearn: 0.3378417\ttest: 0.3378417\ttest1: 0.3378597\tbest: 0.3378597 (0)\ttotal: 2.74s\tremaining: 10m 44s\n",
      "100:\tlearn: 0.1229320\ttest: 0.1256548\ttest1: 0.1654949\tbest: 0.1654949 (100)\ttotal: 11m 19s\tremaining: 15m 8s\n",
      "Stopped by overfitting detector  (35 iterations wait)\n",
      "\n",
      "bestTest = 0.1654498141\n",
      "bestIteration = 106\n",
      "\n",
      "Shrink model to first 107 iterations.\n"
     ]
    },
    {
     "name": "stderr",
     "output_type": "stream",
     "text": [
      "\u001b[32m[I 2022-10-12 08:07:55,648]\u001b[0m Trial 11 finished with value: 0.8827751176825398 and parameters: {'iterations': 236, 'learning_rate': 0.6759845291348995, 'depth': 15, 'min_data_in_leaf': 11, 'reg_lambda': 2.0895806657769787, 'subsample': 0.8457329038837105, 'random_strength': 41.384711936476656, 'od_wait': 11, 'leaf_estimation_iterations': 1, 'bagging_temperature': 1.3218097423267259, 'colsample_bylevel': 0.9987524270874559}. Best is trial 11 with value: 0.8827751176825398.\u001b[0m\n"
     ]
    },
    {
     "name": "stdout",
     "output_type": "stream",
     "text": [
      "\n"
     ]
    },
    {
     "data": {
      "application/vnd.jupyter.widget-view+json": {
       "model_id": "b46a07a410904e568f06e6b1ed5733d4",
       "version_major": 2,
       "version_minor": 0
      },
      "text/plain": [
       "HBox(children=(FloatProgress(value=1.0, bar_style='info', description='k_fold', max=1.0, style=ProgressStyle(d…"
      ]
     },
     "metadata": {},
     "output_type": "display_data"
    },
    {
     "name": "stdout",
     "output_type": "stream",
     "text": [
      "0:\tlearn: 0.3427565\ttest: 0.3427196\ttest1: 0.3427686\tbest: 0.3427686 (0)\ttotal: 7.25s\tremaining: 27m 26s\n",
      "100:\tlearn: 0.1208453\ttest: 0.1246926\ttest1: 0.1653757\tbest: 0.1648893 (84)\ttotal: 11m 40s\tremaining: 14m 40s\n",
      "Stopped by overfitting detector  (35 iterations wait)\n",
      "\n",
      "bestTest = 0.1648893\n",
      "bestIteration = 84\n",
      "\n",
      "Shrink model to first 85 iterations.\n",
      "0:\tlearn: 0.3427657\ttest: 0.3427149\ttest1: 0.3427097\tbest: 0.3427097 (0)\ttotal: 7.32s\tremaining: 27m 42s\n",
      "100:\tlearn: 0.1175874\ttest: 0.1215205\ttest1: 0.1666218\tbest: 0.1665013 (83)\ttotal: 11m 43s\tremaining: 14m 44s\n",
      "Stopped by overfitting detector  (35 iterations wait)\n",
      "\n",
      "bestTest = 0.166501342\n",
      "bestIteration = 83\n",
      "\n",
      "Shrink model to first 84 iterations.\n",
      "0:\tlearn: 0.3446271\ttest: 0.3446254\ttest1: 0.3446081\tbest: 0.3446081 (0)\ttotal: 3.12s\tremaining: 11m 47s\n",
      "100:\tlearn: 0.1176910\ttest: 0.1212020\ttest1: 0.1655445\tbest: 0.1650129 (77)\ttotal: 11m 40s\tremaining: 14m 40s\n",
      "Stopped by overfitting detector  (35 iterations wait)\n",
      "\n",
      "bestTest = 0.165012911\n",
      "bestIteration = 77\n",
      "\n",
      "Shrink model to first 78 iterations.\n",
      "0:\tlearn: 0.3446246\ttest: 0.3446227\ttest1: 0.3446396\tbest: 0.3446396 (0)\ttotal: 3.13s\tremaining: 11m 51s\n",
      "100:\tlearn: 0.1194454\ttest: 0.1226926\ttest1: 0.1664252\tbest: 0.1658475 (77)\ttotal: 11m 15s\tremaining: 14m 9s\n",
      "Stopped by overfitting detector  (35 iterations wait)\n",
      "\n",
      "bestTest = 0.1658475419\n",
      "bestIteration = 77\n",
      "\n",
      "Shrink model to first 78 iterations.\n",
      "0:\tlearn: 0.3446276\ttest: 0.3446258\ttest1: 0.3446219\tbest: 0.3446219 (0)\ttotal: 3.07s\tremaining: 11m 37s\n",
      "100:\tlearn: 0.1177329\ttest: 0.1208724\ttest1: 0.1655846\tbest: 0.1654061 (85)\ttotal: 11m 45s\tremaining: 14m 47s\n",
      "Stopped by overfitting detector  (35 iterations wait)\n",
      "\n",
      "bestTest = 0.1654061106\n",
      "bestIteration = 85\n",
      "\n",
      "Shrink model to first 86 iterations.\n",
      "0:\tlearn: 0.3446238\ttest: 0.3446224\ttest1: 0.3446245\tbest: 0.3446245 (0)\ttotal: 3.17s\tremaining: 12m\n",
      "100:\tlearn: 0.1200255\ttest: 0.1230646\ttest1: 0.1666403\tbest: 0.1664024 (76)\ttotal: 11m 37s\tremaining: 14m 36s\n",
      "Stopped by overfitting detector  (35 iterations wait)\n",
      "\n",
      "bestTest = 0.1664023709\n",
      "bestIteration = 76\n",
      "\n",
      "Shrink model to first 77 iterations.\n"
     ]
    },
    {
     "name": "stderr",
     "output_type": "stream",
     "text": [
      "\u001b[32m[I 2022-10-12 09:31:53,377]\u001b[0m Trial 12 finished with value: 0.8810930543768283 and parameters: {'iterations': 228, 'learning_rate': 0.6537785454491633, 'depth': 15, 'min_data_in_leaf': 10, 'reg_lambda': 1.3139315261192699, 'subsample': 0.9397058706877969, 'random_strength': 40.735059825651746, 'od_wait': 37, 'leaf_estimation_iterations': 1, 'bagging_temperature': 1.0210619574793993, 'colsample_bylevel': 0.956643754233711}. Best is trial 11 with value: 0.8827751176825398.\u001b[0m\n"
     ]
    },
    {
     "name": "stdout",
     "output_type": "stream",
     "text": [
      "\n"
     ]
    },
    {
     "data": {
      "application/vnd.jupyter.widget-view+json": {
       "model_id": "0badd9a73f1b4d0f90ae6e675e00503f",
       "version_major": 2,
       "version_minor": 0
      },
      "text/plain": [
       "HBox(children=(FloatProgress(value=1.0, bar_style='info', description='k_fold', max=1.0, style=ProgressStyle(d…"
      ]
     },
     "metadata": {},
     "output_type": "display_data"
    },
    {
     "name": "stdout",
     "output_type": "stream",
     "text": [
      "0:\tlearn: 0.3533142\ttest: 0.3533142\ttest1: 0.3533198\tbest: 0.3533198 (0)\ttotal: 1.63s\tremaining: 6m 9s\n",
      "100:\tlearn: 0.1599737\ttest: 0.1601394\ttest1: 0.1659328\tbest: 0.1659328 (100)\ttotal: 5m 16s\tremaining: 6m 38s\n",
      "200:\tlearn: 0.1525586\ttest: 0.1530107\ttest1: 0.1632003\tbest: 0.1632003 (200)\ttotal: 11m 26s\tremaining: 1m 32s\n",
      "227:\tlearn: 0.1511502\ttest: 0.1516938\ttest1: 0.1628518\tbest: 0.1628518 (227)\ttotal: 13m 3s\tremaining: 0us\n",
      "\n",
      "bestTest = 0.1628518464\n",
      "bestIteration = 227\n",
      "\n",
      "0:\tlearn: 0.3533057\ttest: 0.3533057\ttest1: 0.3533297\tbest: 0.3533297 (0)\ttotal: 1.64s\tremaining: 6m 12s\n",
      "100:\tlearn: 0.1614199\ttest: 0.1614769\ttest1: 0.1670227\tbest: 0.1670227 (100)\ttotal: 5m 23s\tremaining: 6m 46s\n",
      "200:\tlearn: 0.1532173\ttest: 0.1535157\ttest1: 0.1636886\tbest: 0.1636885 (199)\ttotal: 11m 35s\tremaining: 1m 33s\n",
      "227:\tlearn: 0.1511060\ttest: 0.1514740\ttest1: 0.1630206\tbest: 0.1630206 (227)\ttotal: 13m 22s\tremaining: 0us\n",
      "\n",
      "bestTest = 0.1630205958\n",
      "bestIteration = 227\n",
      "\n",
      "0:\tlearn: 0.3525664\ttest: 0.3525664\ttest1: 0.3526045\tbest: 0.3526045 (0)\ttotal: 1.41s\tremaining: 5m 21s\n",
      "100:\tlearn: 0.1622164\ttest: 0.1623191\ttest1: 0.1662873\tbest: 0.1662873 (100)\ttotal: 5m 12s\tremaining: 6m 33s\n",
      "200:\tlearn: 0.1568665\ttest: 0.1572001\ttest1: 0.1639383\tbest: 0.1639383 (200)\ttotal: 11m 3s\tremaining: 1m 29s\n",
      "227:\tlearn: 0.1555720\ttest: 0.1559709\ttest1: 0.1635285\tbest: 0.1635285 (227)\ttotal: 12m 36s\tremaining: 0us\n",
      "\n",
      "bestTest = 0.163528485\n",
      "bestIteration = 227\n",
      "\n",
      "0:\tlearn: 0.3525722\ttest: 0.3525722\ttest1: 0.3525850\tbest: 0.3525850 (0)\ttotal: 1.41s\tremaining: 5m 20s\n",
      "100:\tlearn: 0.1623460\ttest: 0.1623757\ttest1: 0.1670047\tbest: 0.1670047 (100)\ttotal: 5m 14s\tremaining: 6m 35s\n",
      "200:\tlearn: 0.1550001\ttest: 0.1552720\ttest1: 0.1640138\tbest: 0.1640138 (200)\ttotal: 11m 10s\tremaining: 1m 30s\n",
      "227:\tlearn: 0.1534272\ttest: 0.1537516\ttest1: 0.1635368\tbest: 0.1635368 (227)\ttotal: 12m 50s\tremaining: 0us\n",
      "\n",
      "bestTest = 0.1635367752\n",
      "bestIteration = 227\n",
      "\n",
      "0:\tlearn: 0.3525233\ttest: 0.3525233\ttest1: 0.3525323\tbest: 0.3525323 (0)\ttotal: 1.34s\tremaining: 5m 4s\n",
      "100:\tlearn: 0.1603813\ttest: 0.1605796\ttest1: 0.1662860\tbest: 0.1662860 (100)\ttotal: 5m 29s\tremaining: 6m 54s\n",
      "200:\tlearn: 0.1545710\ttest: 0.1549423\ttest1: 0.1638420\tbest: 0.1638417 (199)\ttotal: 11m 13s\tremaining: 1m 30s\n",
      "227:\tlearn: 0.1536650\ttest: 0.1540699\ttest1: 0.1634891\tbest: 0.1634873 (223)\ttotal: 12m 47s\tremaining: 0us\n",
      "\n",
      "bestTest = 0.1634872679\n",
      "bestIteration = 223\n",
      "\n",
      "Shrink model to first 224 iterations.\n",
      "0:\tlearn: 0.3525635\ttest: 0.3525635\ttest1: 0.3525634\tbest: 0.3525634 (0)\ttotal: 1.42s\tremaining: 5m 21s\n",
      "100:\tlearn: 0.1629092\ttest: 0.1628710\ttest1: 0.1678421\tbest: 0.1678421 (100)\ttotal: 5m 21s\tremaining: 6m 44s\n",
      "200:\tlearn: 0.1567513\ttest: 0.1568999\ttest1: 0.1650004\tbest: 0.1650004 (200)\ttotal: 11m 22s\tremaining: 1m 31s\n",
      "227:\tlearn: 0.1554596\ttest: 0.1556775\ttest1: 0.1645649\tbest: 0.1645631 (226)\ttotal: 12m 54s\tremaining: 0us\n",
      "\n",
      "bestTest = 0.1645630661\n",
      "bestIteration = 226\n",
      "\n",
      "Shrink model to first 227 iterations.\n"
     ]
    },
    {
     "name": "stderr",
     "output_type": "stream",
     "text": [
      "\u001b[32m[I 2022-10-12 10:51:21,704]\u001b[0m Trial 13 finished with value: 0.8822292108270734 and parameters: {'iterations': 228, 'learning_rate': 0.6285939593152056, 'depth': 15, 'min_data_in_leaf': 5, 'reg_lambda': 96.56845666048008, 'subsample': 0.9954907117183592, 'random_strength': 68.12591856767949, 'od_wait': 38, 'leaf_estimation_iterations': 1, 'bagging_temperature': 6.767265768662897, 'colsample_bylevel': 0.29424160044289926}. Best is trial 11 with value: 0.8827751176825398.\u001b[0m\n"
     ]
    },
    {
     "name": "stdout",
     "output_type": "stream",
     "text": [
      "\n"
     ]
    },
    {
     "data": {
      "application/vnd.jupyter.widget-view+json": {
       "model_id": "349aac4a22314de5af339e82316ba225",
       "version_major": 2,
       "version_minor": 0
      },
      "text/plain": [
       "HBox(children=(FloatProgress(value=1.0, bar_style='info', description='k_fold', max=1.0, style=ProgressStyle(d…"
      ]
     },
     "metadata": {},
     "output_type": "display_data"
    },
    {
     "name": "stdout",
     "output_type": "stream",
     "text": [
      "0:\tlearn: 0.2994620\ttest: 0.2994620\ttest1: 0.2994607\tbest: 0.2994607 (0)\ttotal: 710ms\tremaining: 2m 41s\n",
      "100:\tlearn: 0.1621684\ttest: 0.1621864\ttest1: 0.1663848\tbest: 0.1663848 (100)\ttotal: 4m 5s\tremaining: 5m 8s\n",
      "200:\tlearn: 0.1570735\ttest: 0.1572652\ttest1: 0.1644822\tbest: 0.1644822 (200)\ttotal: 8m 37s\tremaining: 1m 9s\n",
      "227:\tlearn: 0.1557078\ttest: 0.1559559\ttest1: 0.1640762\tbest: 0.1640762 (227)\ttotal: 9m 54s\tremaining: 0us\n",
      "\n",
      "bestTest = 0.1640762189\n",
      "bestIteration = 227\n",
      "\n",
      "0:\tlearn: 0.2994599\ttest: 0.2994599\ttest1: 0.2994643\tbest: 0.2994643 (0)\ttotal: 721ms\tremaining: 2m 43s\n",
      "100:\tlearn: 0.1619789\ttest: 0.1620588\ttest1: 0.1668139\tbest: 0.1668139 (100)\ttotal: 4m 22s\tremaining: 5m 30s\n",
      "200:\tlearn: 0.1561572\ttest: 0.1564208\ttest1: 0.1644912\tbest: 0.1644912 (200)\ttotal: 9m\tremaining: 1m 12s\n",
      "227:\tlearn: 0.1555345\ttest: 0.1558367\ttest1: 0.1642622\tbest: 0.1642622 (225)\ttotal: 10m 10s\tremaining: 0us\n",
      "\n",
      "bestTest = 0.1642621691\n",
      "bestIteration = 225\n",
      "\n",
      "Shrink model to first 226 iterations.\n",
      "0:\tlearn: 0.2957193\ttest: 0.2957193\ttest1: 0.2958394\tbest: 0.2958394 (0)\ttotal: 2.29s\tremaining: 8m 41s\n",
      "100:\tlearn: 0.1626741\ttest: 0.1627585\ttest1: 0.1662609\tbest: 0.1662609 (100)\ttotal: 4m 8s\tremaining: 5m 12s\n",
      "200:\tlearn: 0.1564139\ttest: 0.1567083\ttest1: 0.1638416\tbest: 0.1638416 (200)\ttotal: 8m 47s\tremaining: 1m 10s\n",
      "227:\tlearn: 0.1551978\ttest: 0.1555376\ttest1: 0.1634020\tbest: 0.1634020 (227)\ttotal: 10m 6s\tremaining: 0us\n",
      "\n",
      "bestTest = 0.1634020348\n",
      "bestIteration = 227\n",
      "\n",
      "0:\tlearn: 0.2957468\ttest: 0.2957468\ttest1: 0.2957890\tbest: 0.2957890 (0)\ttotal: 2.29s\tremaining: 8m 38s\n",
      "100:\tlearn: 0.1619566\ttest: 0.1619131\ttest1: 0.1664209\tbest: 0.1664209 (100)\ttotal: 4m 5s\tremaining: 5m 8s\n",
      "200:\tlearn: 0.1555762\ttest: 0.1557410\ttest1: 0.1640101\tbest: 0.1640101 (200)\ttotal: 8m 46s\tremaining: 1m 10s\n",
      "227:\tlearn: 0.1545756\ttest: 0.1547751\ttest1: 0.1636441\tbest: 0.1636441 (227)\ttotal: 9m 56s\tremaining: 0us\n",
      "\n",
      "bestTest = 0.1636441083\n",
      "bestIteration = 227\n",
      "\n",
      "0:\tlearn: 0.2955565\ttest: 0.2955565\ttest1: 0.2955923\tbest: 0.2955923 (0)\ttotal: 2.33s\tremaining: 8m 50s\n",
      "100:\tlearn: 0.1621323\ttest: 0.1622331\ttest1: 0.1665643\tbest: 0.1665643 (100)\ttotal: 4m 42s\tremaining: 5m 55s\n",
      "200:\tlearn: 0.1571996\ttest: 0.1574381\ttest1: 0.1646435\tbest: 0.1646435 (200)\ttotal: 9m 55s\tremaining: 1m 20s\n",
      "227:\tlearn: 0.1562822\ttest: 0.1565669\ttest1: 0.1643120\tbest: 0.1643120 (226)\ttotal: 11m 18s\tremaining: 0us\n",
      "\n",
      "bestTest = 0.1643119872\n",
      "bestIteration = 226\n",
      "\n",
      "Shrink model to first 227 iterations.\n",
      "0:\tlearn: 0.2957214\ttest: 0.2957214\ttest1: 0.2957008\tbest: 0.2957008 (0)\ttotal: 2.67s\tremaining: 10m 6s\n",
      "100:\tlearn: 0.1623048\ttest: 0.1622639\ttest1: 0.1672802\tbest: 0.1672802 (100)\ttotal: 5m 11s\tremaining: 6m 31s\n",
      "200:\tlearn: 0.1567533\ttest: 0.1569007\ttest1: 0.1651483\tbest: 0.1651480 (199)\ttotal: 10m 44s\tremaining: 1m 26s\n",
      "227:\tlearn: 0.1555748\ttest: 0.1557540\ttest1: 0.1647554\tbest: 0.1647554 (227)\ttotal: 12m 13s\tremaining: 0us\n",
      "\n",
      "bestTest = 0.1647554312\n",
      "bestIteration = 227\n",
      "\n"
     ]
    },
    {
     "name": "stderr",
     "output_type": "stream",
     "text": [
      "\u001b[32m[I 2022-10-12 11:57:00,002]\u001b[0m Trial 14 finished with value: 0.8810092500862076 and parameters: {'iterations': 228, 'learning_rate': 0.5331856668043972, 'depth': 12, 'min_data_in_leaf': 1, 'reg_lambda': 93.81855477723627, 'subsample': 0.9813250718495835, 'random_strength': 71.3902753834335, 'od_wait': 42, 'leaf_estimation_iterations': 3, 'bagging_temperature': 6.592595990238197, 'colsample_bylevel': 0.3198725735968876}. Best is trial 11 with value: 0.8827751176825398.\u001b[0m\n"
     ]
    },
    {
     "name": "stdout",
     "output_type": "stream",
     "text": [
      "\n",
      "Best auc: 0.8827751176825398\n"
     ]
    }
   ],
   "source": [
    "sampler = TPESampler(seed = 42)\n",
    "\n",
    "optim = optuna.create_study(\n",
    "    direction=\"maximize\",sampler=sampler)\n",
    "\n",
    "optim.optimize(objective, n_trials=15) \n",
    "print(\"Best auc:\", optim.best_value)"
   ]
  },
  {
   "cell_type": "code",
   "execution_count": 298,
   "metadata": {
    "tags": []
   },
   "outputs": [
    {
     "name": "stdout",
     "output_type": "stream",
     "text": [
      "0:\tlearn: 0.3373487\ttotal: 3.07s\tremaining: 12m 2s\n",
      "100:\tlearn: 0.1264109\ttotal: 10m 37s\tremaining: 14m 11s\n",
      "200:\tlearn: 0.1044863\ttotal: 23m 25s\tremaining: 4m 4s\n",
      "235:\tlearn: 0.0982992\ttotal: 28m 9s\tremaining: 0us\n"
     ]
    }
   ],
   "source": [
    "params = {'iterations': 236, 'learning_rate': 0.6759845291348995, 'depth': 15, 'min_data_in_leaf': 11, 'reg_lambda': 2.0895806657769787, 'subsample': 0.8457329038837105, 'random_strength': 41.384711936476656, 'od_wait': 11, 'leaf_estimation_iterations': 1, 'bagging_temperature': 1.3218097423267259, 'colsample_bylevel': 0.9987524270874559}\n",
    "model = CatBoostClassifier(**params)\n",
    "model.fit(train_X, train_Y,\n",
    "              early_stopping_rounds=35,cat_features=cat_features,\n",
    "              verbose=100)\n",
    "pred = model.predict(test)"
   ]
  },
  {
   "cell_type": "markdown",
   "metadata": {},
   "source": [
    "새로 돌린 결과로 pred 만들기"
   ]
  },
  {
   "cell_type": "code",
   "execution_count": 127,
   "metadata": {},
   "outputs": [
    {
     "name": "stdout",
     "output_type": "stream",
     "text": [
      "0:\tlearn: 0.3373487\ttotal: 5.46s\tremaining: 21m 23s\n",
      "100:\tlearn: 0.1264109\ttotal: 14m 28s\tremaining: 19m 21s\n",
      "200:\tlearn: 0.1044863\ttotal: 31m 9s\tremaining: 5m 25s\n",
      "235:\tlearn: 0.0982992\ttotal: 37m 4s\tremaining: 0us\n"
     ]
    }
   ],
   "source": [
    "params = {'iterations': 236, 'learning_rate': 0.6759845291348995, 'depth': 15, 'min_data_in_leaf': 11, 'reg_lambda': 2.0895806657769787, 'subsample': 0.8457329038837105, 'random_strength': 41.384711936476656, 'od_wait': 11, 'leaf_estimation_iterations': 1, 'bagging_temperature': 1.3218097423267259, 'colsample_bylevel': 0.9987524270874559}\n",
    "model = CatBoostClassifier(**params)\n",
    "model.fit(train_X, train_Y,\n",
    "              early_stopping_rounds=35,cat_features=cat_features,\n",
    "              verbose=100)\n",
    "pred = model.predict(test)"
   ]
  },
  {
   "cell_type": "code",
   "execution_count": 128,
   "metadata": {},
   "outputs": [],
   "source": [
    "result_set['신청_여부(타겟)']=pred"
   ]
  },
  {
   "cell_type": "code",
   "execution_count": 129,
   "metadata": {},
   "outputs": [],
   "source": [
    "#제출 파일\n",
    "result_set.to_csv('데이터분석분야_퓨처스부문_ASK팀_평가데이터.csv')"
   ]
  }
 ],
 "metadata": {
  "kernelspec": {
   "display_name": "Python 3 (ipykernel)",
   "language": "python",
   "name": "python3"
  },
  "language_info": {
   "codemirror_mode": {
    "name": "ipython",
    "version": 3
   },
   "file_extension": ".py",
   "mimetype": "text/x-python",
   "name": "python",
   "nbconvert_exporter": "python",
   "pygments_lexer": "ipython3",
   "version": "3.9.12"
  }
 },
 "nbformat": 4,
 "nbformat_minor": 4
}
