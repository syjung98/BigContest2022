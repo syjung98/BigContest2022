{
 "cells": [
  {
   "cell_type": "code",
   "execution_count": 133,
   "metadata": {},
   "outputs": [],
   "source": [
    "import pandas as pd\n",
    "import numpy as np\n",
    "import seaborn as sns\n",
    "import matplotlib.pyplot as plt\n",
    "import matplotlib\n",
    "import glob\n",
    "import os\n",
    "import seaborn as sns\n",
    "import sklearn.metrics as metrics\n",
    "from matplotlib import font_manager, rc\n",
    "font_name = font_manager.FontProperties(fname=\"c:/Windows/Fonts/malgun.ttf\").get_name()\n",
    "rc('font', family=font_name)\n",
    "\n",
    "import warnings\n",
    "warnings.filterwarnings(\"ignore\")\n",
    "\n",
    "import optuna\n",
    "from optuna.samplers import TPESampler\n",
    "from sklearn.model_selection import train_test_split, StratifiedKFold\n",
    "from tqdm import tnrange, tqdm_notebook\n",
    "from sklearn.metrics import roc_curve, auc\n",
    "import catboost\n",
    "from catboost import CatBoostClassifier\n",
    "from sklearn.preprocessing import StandardScaler"
   ]
  },
  {
   "cell_type": "code",
   "execution_count": 2,
   "metadata": {},
   "outputs": [],
   "source": [
    "loan_df = pd.read_csv('data/loan_result.csv')\n",
    "# log_data = pd.read_csv('data/log_Data.csv')\n",
    "user_df = pd.read_csv('data/user_spec.csv')"
   ]
  },
  {
   "cell_type": "code",
   "execution_count": 3,
   "metadata": {},
   "outputs": [
    {
     "data": {
      "text/html": [
       "<div>\n",
       "<style scoped>\n",
       "    .dataframe tbody tr th:only-of-type {\n",
       "        vertical-align: middle;\n",
       "    }\n",
       "\n",
       "    .dataframe tbody tr th {\n",
       "        vertical-align: top;\n",
       "    }\n",
       "\n",
       "    .dataframe thead th {\n",
       "        text-align: right;\n",
       "    }\n",
       "</style>\n",
       "<table border=\"1\" class=\"dataframe\">\n",
       "  <thead>\n",
       "    <tr style=\"text-align: right;\">\n",
       "      <th></th>\n",
       "      <th>신청서_번호</th>\n",
       "      <th>한도조회_일시</th>\n",
       "      <th>금융사_번호</th>\n",
       "      <th>상품번호</th>\n",
       "      <th>승인한도</th>\n",
       "      <th>승인금리</th>\n",
       "      <th>신청_여부(타겟)</th>\n",
       "    </tr>\n",
       "  </thead>\n",
       "  <tbody>\n",
       "    <tr>\n",
       "      <th>0</th>\n",
       "      <td>1748340</td>\n",
       "      <td>2022-06-07 13:05:41</td>\n",
       "      <td>7</td>\n",
       "      <td>191</td>\n",
       "      <td>42000000.0</td>\n",
       "      <td>13.6</td>\n",
       "      <td>NaN</td>\n",
       "    </tr>\n",
       "    <tr>\n",
       "      <th>1</th>\n",
       "      <td>1748340</td>\n",
       "      <td>2022-06-07 13:05:41</td>\n",
       "      <td>25</td>\n",
       "      <td>169</td>\n",
       "      <td>24000000.0</td>\n",
       "      <td>17.9</td>\n",
       "      <td>NaN</td>\n",
       "    </tr>\n",
       "    <tr>\n",
       "      <th>2</th>\n",
       "      <td>1748340</td>\n",
       "      <td>2022-06-07 13:05:41</td>\n",
       "      <td>2</td>\n",
       "      <td>7</td>\n",
       "      <td>24000000.0</td>\n",
       "      <td>18.5</td>\n",
       "      <td>NaN</td>\n",
       "    </tr>\n",
       "    <tr>\n",
       "      <th>3</th>\n",
       "      <td>1748340</td>\n",
       "      <td>2022-06-07 13:05:41</td>\n",
       "      <td>4</td>\n",
       "      <td>268</td>\n",
       "      <td>29000000.0</td>\n",
       "      <td>10.8</td>\n",
       "      <td>NaN</td>\n",
       "    </tr>\n",
       "    <tr>\n",
       "      <th>4</th>\n",
       "      <td>1748340</td>\n",
       "      <td>2022-06-07 13:05:41</td>\n",
       "      <td>11</td>\n",
       "      <td>118</td>\n",
       "      <td>5000000.0</td>\n",
       "      <td>16.4</td>\n",
       "      <td>NaN</td>\n",
       "    </tr>\n",
       "  </tbody>\n",
       "</table>\n",
       "</div>"
      ],
      "text/plain": [
       "    신청서_번호              한도조회_일시  금융사_번호  상품번호        승인한도  승인금리  신청_여부(타겟)\n",
       "0  1748340  2022-06-07 13:05:41       7   191  42000000.0  13.6        NaN\n",
       "1  1748340  2022-06-07 13:05:41      25   169  24000000.0  17.9        NaN\n",
       "2  1748340  2022-06-07 13:05:41       2     7  24000000.0  18.5        NaN\n",
       "3  1748340  2022-06-07 13:05:41       4   268  29000000.0  10.8        NaN\n",
       "4  1748340  2022-06-07 13:05:41      11   118   5000000.0  16.4        NaN"
      ]
     },
     "execution_count": 3,
     "metadata": {},
     "output_type": "execute_result"
    }
   ],
   "source": [
    "loan_df.columns = [\"신청서_번호\",\"한도조회_일시\",\"금융사_번호\",\"상품번호\",\"승인한도\",\"승인금리\",\"신청_여부(타겟)\"]\n",
    "loan_df.head()"
   ]
  },
  {
   "cell_type": "code",
   "execution_count": 4,
   "metadata": {},
   "outputs": [],
   "source": [
    "loan_df['승인한도'] = loan_df['승인한도']/10000\n",
    "loan_df = loan_df[[\"신청서_번호\",\"금융사_번호\",\"상품번호\",\"승인한도\",\"승인금리\",\"신청_여부(타겟)\"]]"
   ]
  },
  {
   "cell_type": "code",
   "execution_count": 6,
   "metadata": {},
   "outputs": [],
   "source": [
    "user_df.columns = [\"신청서_번호\",\"유저_번호\",\"유저_생년월일\",\"유저_성별\",\"생성일시\",\"한도조회_당시_유저_신용점수\",\n",
    "                  \"연소득\",\"근로형태\",\"입사연월\",\"고용형태\",\"주거소유형태\",\"대출희망금액\",\"대출_목적\",\n",
    "                  \"개인회생자_여부\",\"개인회생자_납입_완료_여부\",\"기대출수\",\"기대출금액\"]"
   ]
  },
  {
   "cell_type": "code",
   "execution_count": 7,
   "metadata": {},
   "outputs": [],
   "source": [
    "# 승인한도가 없는 데이터 삭제하기\n",
    "loan_df_null = loan_df[loan_df[\"승인한도\"].isnull()]"
   ]
  },
  {
   "cell_type": "code",
   "execution_count": 8,
   "metadata": {},
   "outputs": [],
   "source": [
    "loan_df = loan_df[loan_df['승인한도'].notnull()]"
   ]
  },
  {
   "cell_type": "code",
   "execution_count": 9,
   "metadata": {},
   "outputs": [],
   "source": [
    "user_df_drop_list = set(loan_df_null['신청서_번호'])\n",
    "user_df.drop(user_df[user_df['신청서_번호'].isin(user_df_drop_list)].index,inplace=True)\n",
    "user_df.sort_values(by = '생성일시',ascending = True,inplace = True)# 날짜순서로 sort\n",
    "user_df.reset_index(drop = True,inplace = True)"
   ]
  },
  {
   "cell_type": "markdown",
   "metadata": {},
   "source": [
    "### 85개의 결측 빼기\n",
    "- 대출_목적, 희망금액 ... 등 결측치가 많은 85명 우선적으로 처리하기"
   ]
  },
  {
   "cell_type": "code",
   "execution_count": 11,
   "metadata": {},
   "outputs": [],
   "source": [
    "user_df = user_df[user_df[\"대출_목적\"].notnull()]"
   ]
  },
  {
   "cell_type": "code",
   "execution_count": 12,
   "metadata": {},
   "outputs": [
    {
     "data": {
      "text/plain": [
       "신청서_번호                   0\n",
       "유저_번호                    0\n",
       "유저_생년월일              12901\n",
       "유저_성별                12901\n",
       "생성일시                     0\n",
       "한도조회_당시_유저_신용점수     104456\n",
       "연소득                      5\n",
       "근로형태                     0\n",
       "입사연월                170541\n",
       "고용형태                     0\n",
       "주거소유형태                   0\n",
       "대출희망금액                   0\n",
       "대출_목적                    0\n",
       "개인회생자_여부            584593\n",
       "개인회생자_납입_완료_여부     1196795\n",
       "기대출수                197556\n",
       "기대출금액               312309\n",
       "dtype: int64"
      ]
     },
     "execution_count": 12,
     "metadata": {},
     "output_type": "execute_result"
    }
   ],
   "source": [
    "user_df.isnull().sum()"
   ]
  },
  {
   "cell_type": "markdown",
   "metadata": {},
   "source": [
    "### 개인회생자 처리하기"
   ]
  },
  {
   "cell_type": "code",
   "execution_count": 13,
   "metadata": {},
   "outputs": [],
   "source": [
    "user_df.loc[(user_df['개인회생자_여부']==0)&\n",
    "                      (user_df['개인회생자_납입_완료_여부']==1),'개인회생자_납입_완료_여부']=0 # 개인회생자가 아니면서 납입완료된 유저는 3명 -> 완료여부 0으로 변경\n",
    "\n",
    "user_df.loc[(user_df['개인회생자_여부']==0)&\n",
    "                      (user_df['개인회생자_납입_완료_여부'].isnull()),'개인회생자_납입_완료_여부'] = 0"
   ]
  },
  {
   "cell_type": "code",
   "execution_count": 14,
   "metadata": {},
   "outputs": [],
   "source": [
    "user_df['개인회생자'] = 10 #null값인 데이터는 처리 못한 상황\n",
    "\n",
    "user_df.loc[(user_df['개인회생자_여부']==0)\n",
    "                      &(user_df['개인회생자_납입_완료_여부']==0),'개인회생자'] = 0\n",
    "\n",
    "user_df.loc[(user_df['개인회생자_여부']==1)\n",
    "                      &(user_df['개인회생자_납입_완료_여부']==0),'개인회생자'] = 1\n",
    "\n",
    "user_df.loc[(user_df['개인회생자_여부']==1)\n",
    "                      &(user_df['개인회생자_납입_완료_여부']==1),'개인회생자'] = 2"
   ]
  },
  {
   "cell_type": "markdown",
   "metadata": {},
   "source": [
    "### 신용점수 등급추가하기"
   ]
  },
  {
   "cell_type": "code",
   "execution_count": 16,
   "metadata": {},
   "outputs": [],
   "source": [
    "bins = [0, 444, 514, 599, 664, 749, 804, 839, 869, 899, 1000]\n",
    "#labels = ['null', '10등급', '9등급', '8등급', '7등급', '6등급', '5등급', '4등급', '3등급', '2등급', '1등급']\n",
    "labels = [10, 9, 8, 7, 6, 5, 4, 3, 2, 1]\n",
    "\n",
    "\n",
    "user_df['신용점수등급'] = pd.cut(user_df['한도조회_당시_유저_신용점수'],bins = bins, labels = labels)\n",
    "user_df.loc[user_df['한도조회_당시_유저_신용점수'].isnull(),'한도조회_당시_유저_신용점수'] = 0"
   ]
  },
  {
   "cell_type": "markdown",
   "metadata": {},
   "source": [
    "### 성별 결측치 채우기"
   ]
  },
  {
   "cell_type": "markdown",
   "metadata": {},
   "source": [
    "이미 기존의 데이터에 성별 및 생년월일이 존재한다면 대체"
   ]
  },
  {
   "cell_type": "code",
   "execution_count": 19,
   "metadata": {},
   "outputs": [],
   "source": [
    "sex_null_list = set(user_df[(user_df['유저_번호'].isin(\n",
    "    set(user_df[user_df['유저_성별'].isnull()]['유저_번호'])))&(user_df['유저_성별'].notnull())]['유저_번호'])\n",
    "for i in sex_null_list:\n",
    "    user_df.loc[(user_df['유저_번호']==i)&(user_df['유저_생년월일'].isnull()),\n",
    "                  '유저_생년월일'] = user_df[user_df['유저_번호'] ==i]['유저_생년월일'].dropna().unique().item()\n",
    "    user_df.loc[(user_df['유저_번호']==i)&(user_df['유저_성별'].isnull()),\n",
    "                  '유저_성별'] = user_df[user_df['유저_번호'] ==i]['유저_성별'].dropna().unique().item()"
   ]
  },
  {
   "cell_type": "code",
   "execution_count": 20,
   "metadata": {},
   "outputs": [
    {
     "data": {
      "text/html": [
       "<div>\n",
       "<style scoped>\n",
       "    .dataframe tbody tr th:only-of-type {\n",
       "        vertical-align: middle;\n",
       "    }\n",
       "\n",
       "    .dataframe tbody tr th {\n",
       "        vertical-align: top;\n",
       "    }\n",
       "\n",
       "    .dataframe thead th {\n",
       "        text-align: right;\n",
       "    }\n",
       "</style>\n",
       "<table border=\"1\" class=\"dataframe\">\n",
       "  <thead>\n",
       "    <tr style=\"text-align: right;\">\n",
       "      <th></th>\n",
       "      <th>유저_성별</th>\n",
       "      <th>연소득</th>\n",
       "      <th>근로형태</th>\n",
       "      <th>고용형태</th>\n",
       "      <th>주거소유형태</th>\n",
       "      <th>대출희망금액</th>\n",
       "      <th>대출_목적</th>\n",
       "      <th>개인회생자</th>\n",
       "    </tr>\n",
       "  </thead>\n",
       "  <tbody>\n",
       "    <tr>\n",
       "      <th>58</th>\n",
       "      <td>NaN</td>\n",
       "      <td>24000000.0</td>\n",
       "      <td>EARNEDINCOME</td>\n",
       "      <td>정규직</td>\n",
       "      <td>전월세</td>\n",
       "      <td>30000000.0</td>\n",
       "      <td>대환대출</td>\n",
       "      <td>10</td>\n",
       "    </tr>\n",
       "    <tr>\n",
       "      <th>99</th>\n",
       "      <td>NaN</td>\n",
       "      <td>30000000.0</td>\n",
       "      <td>EARNEDINCOME</td>\n",
       "      <td>정규직</td>\n",
       "      <td>전월세</td>\n",
       "      <td>3000000.0</td>\n",
       "      <td>생활비</td>\n",
       "      <td>10</td>\n",
       "    </tr>\n",
       "    <tr>\n",
       "      <th>114</th>\n",
       "      <td>NaN</td>\n",
       "      <td>30000000.0</td>\n",
       "      <td>EARNEDINCOME</td>\n",
       "      <td>정규직</td>\n",
       "      <td>전월세</td>\n",
       "      <td>10000000.0</td>\n",
       "      <td>생활비</td>\n",
       "      <td>10</td>\n",
       "    </tr>\n",
       "  </tbody>\n",
       "</table>\n",
       "</div>"
      ],
      "text/plain": [
       "     유저_성별         연소득          근로형태 고용형태 주거소유형태      대출희망금액 대출_목적  개인회생자\n",
       "58     NaN  24000000.0  EARNEDINCOME  정규직    전월세  30000000.0  대환대출     10\n",
       "99     NaN  30000000.0  EARNEDINCOME  정규직    전월세   3000000.0   생활비     10\n",
       "114    NaN  30000000.0  EARNEDINCOME  정규직    전월세  10000000.0   생활비     10"
      ]
     },
     "execution_count": 20,
     "metadata": {},
     "output_type": "execute_result"
    }
   ],
   "source": [
    "train_data = user_df.dropna(how = 'any')[[\"유저_성별\",\"연소득\",\"근로형태\",\"고용형태\",\"주거소유형태\",\"대출희망금액\",\"대출_목적\",\n",
    "                                             \"개인회생자\"]]\n",
    "\n",
    "\n",
    "test_data = user_df[user_df[\"유저_성별\"].isnull()][[\"유저_성별\",\"연소득\",\"근로형태\",\n",
    "                                                       \"고용형태\",\"주거소유형태\",\"대출희망금액\",\"대출_목적\",\"개인회생자\"]]\n",
    "test_data.head(3)"
   ]
  },
  {
   "cell_type": "code",
   "execution_count": 21,
   "metadata": {},
   "outputs": [
    {
     "data": {
      "text/plain": [
       "(563549, 8)"
      ]
     },
     "execution_count": 21,
     "metadata": {},
     "output_type": "execute_result"
    }
   ],
   "source": [
    "data = pd.concat([train_data,test_data],axis=0)\n",
    "data.shape"
   ]
  },
  {
   "cell_type": "code",
   "execution_count": 22,
   "metadata": {},
   "outputs": [],
   "source": [
    "from sklearn.preprocessing import LabelEncoder\n",
    "from sklearn.model_selection import train_test_split\n",
    "from sklearn.preprocessing import MinMaxScaler\n",
    "\n",
    "le = LabelEncoder()\n",
    "for col in [\"고용형태\",\"주거소유형태\",\"대출_목적\",\"근로형태\"]:\n",
    "    data[col] = le.fit_transform(data[col])\n",
    "\n",
    "for col in [\"연소득\",\"대출희망금액\"]:\n",
    "    data[col] = np.log1p(data[col])   \n",
    "    \n",
    "train_data = data.iloc[:553869,:]    \n",
    "test_data = data.iloc[553869:,:]    \n",
    "    \n",
    "features_train = train_data.drop(\"유저_성별\",axis=1)\n",
    "labels_train = train_data[\"유저_성별\"]\n",
    "\n",
    "features_test = test_data.drop(\"유저_성별\",axis=1)\n",
    "labels_test = test_data[\"유저_성별\"]\n",
    "\n",
    "scaler = MinMaxScaler(feature_range = (0,1))\n",
    "\n",
    "scaler.fit(features_train)\n",
    "features_train = scaler.transform(features_train)\n",
    "features_test = scaler.transform(features_test)\n",
    "\n",
    "X_train, X_test, y_train, y_test = train_test_split(features_train,labels_train,\n",
    "                                                    random_state=0,test_size=0.2,shuffle=True,stratify=labels_train)"
   ]
  },
  {
   "cell_type": "code",
   "execution_count": 23,
   "metadata": {},
   "outputs": [
    {
     "name": "stdout",
     "output_type": "stream",
     "text": [
      "test accuracy :  0.6961290555545525\n",
      "최적의 parameters :  {'C': 0.01, 'max_iter': 100}\n"
     ]
    }
   ],
   "source": [
    "from sklearn.model_selection import GridSearchCV\n",
    "from sklearn.linear_model import LogisticRegression\n",
    "\n",
    "param_grid = {\n",
    "    'C' : [0.001, 0.01, 0.1, 1, 10, 100],\n",
    "    'max_iter' : [100,1000]\n",
    "}\n",
    "\n",
    "grid_search = GridSearchCV(LogisticRegression(), param_grid, cv=5)\n",
    "\n",
    "grid_search.fit(X_train, y_train)\n",
    "print('test accuracy : ', grid_search.score(X_test, y_test))\n",
    "print('최적의 parameters : ', grid_search.best_params_)"
   ]
  },
  {
   "cell_type": "code",
   "execution_count": 24,
   "metadata": {},
   "outputs": [],
   "source": [
    "from sklearn.metrics import accuracy_score, precision_score, recall_score, confusion_matrix, f1_score\n",
    "\n",
    "def get_clf_eval(y_test, pred):\n",
    "    confusion = confusion_matrix(y_test, pred)\n",
    "    accuracy = accuracy_score(y_test, pred)\n",
    "    precision = precision_score(y_test, pred)\n",
    "    recall = recall_score(y_test, pred)\n",
    "    f1_score_ = f1_score(y_test, pred)\n",
    "    print('Confusion Matrix')\n",
    "    print(confusion)\n",
    "    print('정확도:{}, 정밀도:{}, 재현율:{}'.format(accuracy, precision, recall))\n",
    "    print('f1 score:{}'.format(f1_score_))"
   ]
  },
  {
   "cell_type": "code",
   "execution_count": 25,
   "metadata": {},
   "outputs": [
    {
     "name": "stdout",
     "output_type": "stream",
     "text": [
      "Confusion Matrix\n",
      "[[   68 33594]\n",
      " [  121 76991]]\n",
      "정확도:0.6956415765432322, 정밀도:0.6962155807749695, 재현율:0.9984308538230107\n",
      "f1 score:0.8203753922545379\n"
     ]
    }
   ],
   "source": [
    "lm = LogisticRegression(max_iter = 100, C=0.001)\n",
    "lm.fit(X_train, y_train)\n",
    "pred = lm.predict(X_test)\n",
    "get_clf_eval(y_test, pred)"
   ]
  },
  {
   "cell_type": "markdown",
   "metadata": {},
   "source": [
    "성별 예측진행하기"
   ]
  },
  {
   "cell_type": "code",
   "execution_count": 26,
   "metadata": {},
   "outputs": [],
   "source": [
    "sex_predict = lm.predict(features_test) # 12901개의 데이터가 예측완료"
   ]
  },
  {
   "cell_type": "code",
   "execution_count": null,
   "metadata": {},
   "outputs": [],
   "source": [
    "len(sex_predict)"
   ]
  },
  {
   "cell_type": "code",
   "execution_count": 27,
   "metadata": {},
   "outputs": [],
   "source": [
    "user_df_sex_null = user_df[user_df[\"유저_성별\"].isnull()].reset_index(drop=True)\n",
    "user_df_sex_nonull = user_df[user_df[\"유저_성별\"].notnull()].reset_index(drop=True)\n",
    "\n",
    "user_df_sex_null[\"유저_성별\"] = sex_predict"
   ]
  },
  {
   "cell_type": "markdown",
   "metadata": {},
   "source": [
    "### 성별 결측치가 채워진 user_df_2"
   ]
  },
  {
   "cell_type": "code",
   "execution_count": 28,
   "metadata": {},
   "outputs": [],
   "source": [
    "user_df_2 = pd.concat([user_df_sex_nonull,user_df_sex_null],axis=0)"
   ]
  },
  {
   "cell_type": "code",
   "execution_count": 29,
   "metadata": {},
   "outputs": [],
   "source": [
    "user_df_2 = user_df_2.drop([\"개인회생자_여부\",\"개인회생자_납입_완료_여부\"],axis=1).reset_index(drop=True)"
   ]
  },
  {
   "cell_type": "markdown",
   "metadata": {},
   "source": [
    "### numeric한 데이터에 대한 이상치 처리\n",
    "- 만원 단위로 낮춰서하기\n",
    "- 성별, 근로형태, 고용형태, 주거소유형태 : 평균값으로 numeric 데이터 이상치 처리해주기"
   ]
  },
  {
   "cell_type": "code",
   "execution_count": 30,
   "metadata": {},
   "outputs": [],
   "source": [
    "# 이상치 처리 시작\n",
    "user_df_3 = user_df_2.copy()"
   ]
  },
  {
   "cell_type": "markdown",
   "metadata": {},
   "source": [
    "### 소득분위 구간 추가하기\n",
    "- https://insfiler.com/detail/rt_285_incomeq10-0001"
   ]
  },
  {
   "cell_type": "code",
   "execution_count": 31,
   "metadata": {},
   "outputs": [],
   "source": [
    "for col in [\"기대출금액\",\"연소득\",\"대출희망금액\"]:\n",
    "    user_df_3[col] = user_df_3[col] / 10000"
   ]
  },
  {
   "cell_type": "code",
   "execution_count": 32,
   "metadata": {},
   "outputs": [],
   "source": [
    "bins = [-2, 70, 170, 2400, 3100, 3800, 4600, 5500, 6600, 8100, 12600,1000001]\n",
    "#labels = ['null', '1분위', '9분위', '8등급', '7등급', '6등급', '5등급', '4등급', '3등급', '2등급', '1등급']\n",
    "labels = [0,1,2,3,4,5,6,7,8,9,10]\n",
    "\n",
    "\n",
    "user_df_3['연소득분위'] = pd.cut(user_df_3['연소득'],bins = bins, labels = labels)\n",
    "user_df_3.loc[user_df_3['연소득'].isnull(),'연소득'] = 0"
   ]
  },
  {
   "cell_type": "code",
   "execution_count": 33,
   "metadata": {},
   "outputs": [],
   "source": [
    "user_df_3['연소득분위'] = pd.cut(user_df_3['연소득'],bins = bins, labels = labels)"
   ]
  },
  {
   "cell_type": "markdown",
   "metadata": {},
   "source": [
    "##### 결측치 처리하기\n",
    "- 성별, 근로형태, 고용형태, 주거소유형태, 연소득분위로 하나의 그룹을 생성하고 해당 그룹의 평균값으로 채워주기\n",
    "\n",
    "- 기대출수, 기대출금액, 신용점수등급 결측치 채우기"
   ]
  },
  {
   "cell_type": "markdown",
   "metadata": {},
   "source": [
    "\"유저_성별\",\"근로형태\",\"고용형태\",\"주거소유형태\",\"연소득분위\""
   ]
  },
  {
   "cell_type": "code",
   "execution_count": 34,
   "metadata": {},
   "outputs": [],
   "source": [
    "def get_replace_null(data,col):\n",
    "    df = data.copy()\n",
    "\n",
    "    null_data = df[df[col].isnull()]\n",
    "\n",
    "    nonull_data = df[df[col].notnull()]\n",
    "    \n",
    "    # 대체할 데이터가 담긴\n",
    "    standard_df = nonull_data.groupby([\"유저_성별\",\"근로형태\",\"고용형태\",\"주거소유형태\",\"연소득분위\"]).mean().reset_index()\n",
    "    \n",
    "    # null값이 대체될 데이터\n",
    "    null_replace = pd.merge(null_data.drop(col,axis=1),\n",
    "\n",
    "                  standard_df[[\"유저_성별\",\"근로형태\",\"고용형태\",\"주거소유형태\",\"연소득분위\",col]]\n",
    "\n",
    "             ,on=[\"유저_성별\",\"근로형태\",\"고용형태\",\"주거소유형태\",\"연소득분위\"],how=\"inner\")\n",
    "\n",
    "    # 이상치 대체하고나서 concat해주기\n",
    "    final = pd.concat([null_replace[df.columns],\n",
    "               nonull_data],\n",
    "             axis = 0)\n",
    "\n",
    "    #final[col] = final[col].astype(int)\n",
    "    \n",
    "    return final.reset_index(drop=True)"
   ]
  },
  {
   "cell_type": "markdown",
   "metadata": {},
   "source": [
    "\"유저_성별\",\"근로형태\",\"고용형태\",\"주거소유형태\""
   ]
  },
  {
   "cell_type": "code",
   "execution_count": 35,
   "metadata": {},
   "outputs": [],
   "source": [
    "def get_replace_null_(data,col):\n",
    "    df = data.copy()\n",
    "\n",
    "    null_data = df[df[col].isnull()]\n",
    "\n",
    "    nonull_data = df[df[col].notnull()]\n",
    "    \n",
    "    # 대체할 데이터가 담긴\n",
    "    standard_df = nonull_data.groupby([\"유저_성별\",\"근로형태\",\"고용형태\",\"주거소유형태\"]).mean().reset_index()\n",
    "    \n",
    "    # null값이 대체될 데이터\n",
    "    null_replace = pd.merge(null_data.drop(col,axis=1),\n",
    "\n",
    "                  standard_df[[\"유저_성별\",\"근로형태\",\"고용형태\",\"주거소유형태\",col]]\n",
    "\n",
    "             ,on=[\"유저_성별\",\"근로형태\",\"고용형태\",\"주거소유형태\"],how=\"inner\")\n",
    "\n",
    "    # 이상치 대체하고나서 concat해주기\n",
    "    final = pd.concat([null_replace[df.columns],\n",
    "               nonull_data],\n",
    "             axis = 0)\n",
    "\n",
    "    #final[col] = final[col].astype(int)\n",
    "    \n",
    "    return final.reset_index(drop=True)"
   ]
  },
  {
   "cell_type": "code",
   "execution_count": 36,
   "metadata": {},
   "outputs": [],
   "source": [
    "for col in [\"기대출수\",\"기대출금액\"]:\n",
    "    user_df_3 = get_replace_null(user_df_3,col)\n",
    "    user_df_3 = get_replace_null_(user_df_3,col)\n",
    "    user_df_3[col] = user_df_3[col].astype(int)"
   ]
  },
  {
   "cell_type": "markdown",
   "metadata": {},
   "source": [
    "###### 신용점수 결측치 채우기\n",
    "- 신용점수가 0점인 얘들은 원래 다 결측치\n",
    "- 신용점수가 0점인 얘들은 신용점수랑 신용점수 등급 날려주기"
   ]
  },
  {
   "cell_type": "code",
   "execution_count": 37,
   "metadata": {},
   "outputs": [],
   "source": [
    "# 0을 결측치로 바꾸기\n",
    "user_df_3[\"한도조회_당시_유저_신용점수\"] = user_df_3[\"한도조회_당시_유저_신용점수\"].replace(0.0, np.NaN)\n",
    "\n",
    "user_df_3 = get_replace_null(user_df_3,\"한도조회_당시_유저_신용점수\")\n",
    "user_df_3 = get_replace_null_(user_df_3,\"한도조회_당시_유저_신용점수\")"
   ]
  },
  {
   "cell_type": "code",
   "execution_count": 38,
   "metadata": {},
   "outputs": [],
   "source": [
    "bins = [0, 444, 514, 599, 664, 749, 804, 839, 869, 899, 1000]\n",
    "#labels = ['null', '10등급', '9등급', '8등급', '7등급', '6등급', '5등급', '4등급', '3등급', '2등급', '1등급']\n",
    "labels = [10, 9, 8, 7, 6, 5, 4, 3, 2, 1]\n",
    "\n",
    "\n",
    "user_df_3['신용점수등급'] = pd.cut(user_df_3['한도조회_당시_유저_신용점수'],bins = bins, labels = labels)"
   ]
  },
  {
   "cell_type": "markdown",
   "metadata": {},
   "source": [
    "##### 개인회생자 결측치 처리하기\n",
    "- 9등급인 경우에는 0으로 할당하기"
   ]
  },
  {
   "cell_type": "code",
   "execution_count": 46,
   "metadata": {},
   "outputs": [
    {
     "data": {
      "text/plain": [
       "0     789514\n",
       "10    584585\n",
       "1      11321\n",
       "2       1340\n",
       "Name: 개인회생자, dtype: int64"
      ]
     },
     "execution_count": 46,
     "metadata": {},
     "output_type": "execute_result"
    }
   ],
   "source": [
    "user_df_3[\"개인회생자\"].value_counts()"
   ]
  },
  {
   "cell_type": "code",
   "execution_count": 39,
   "metadata": {},
   "outputs": [],
   "source": [
    "user_df_3_ = user_df_3.copy()"
   ]
  },
  {
   "cell_type": "code",
   "execution_count": 40,
   "metadata": {},
   "outputs": [],
   "source": [
    "user_df_3_null = user_df_3_[(user_df_3_[\"개인회생자\"] == 10) & (user_df_3_[\"신용점수등급\"] == 10)]\n",
    "user_df_3_nonull1 = user_df_3_[(user_df_3_[\"개인회생자\"] == 10) & (user_df_3_[\"신용점수등급\"] != 10)]\n",
    "user_df_3_nonull2 = user_df_3_[(user_df_3_[\"개인회생자\"] != 10)]"
   ]
  },
  {
   "cell_type": "markdown",
   "metadata": {},
   "source": [
    "##### 신용점수가 9등급이상인 것들 해결하기"
   ]
  },
  {
   "cell_type": "code",
   "execution_count": 41,
   "metadata": {},
   "outputs": [],
   "source": [
    "user_df_3_nonull1[\"개인회생자\"] = 0"
   ]
  },
  {
   "cell_type": "markdown",
   "metadata": {},
   "source": [
    "##### 신용점수가 10등급인 것들 해결하기\n",
    "- 신용점수가 150미만인 것들은 1로 할당\n",
    "- 신용점수가 150이상이면 1로 할당"
   ]
  },
  {
   "cell_type": "code",
   "execution_count": 42,
   "metadata": {},
   "outputs": [
    {
     "data": {
      "text/plain": [
       "<AxesSubplot:>"
      ]
     },
     "execution_count": 42,
     "metadata": {},
     "output_type": "execute_result"
    },
    {
     "data": {
      "image/png": "[encoded data removed]",
      "text/plain": [
       "<Figure size 432x288 with 1 Axes>"
      ]
     },
     "metadata": {
      "needs_background": "light"
     },
     "output_type": "display_data"
    }
   ],
   "source": [
    "user_df_3[(user_df_3[\"신용점수등급\"] == 10) &\n",
    "                  (user_df_3[\"개인회생자\"] == 0)][\"한도조회_당시_유저_신용점수\"].hist()"
   ]
  },
  {
   "cell_type": "code",
   "execution_count": 43,
   "metadata": {},
   "outputs": [
    {
     "data": {
      "text/plain": [
       "<AxesSubplot:>"
      ]
     },
     "execution_count": 43,
     "metadata": {},
     "output_type": "execute_result"
    },
    {
     "data": {
      "image/png": "[encoded data removed]",
      "text/plain": [
       "<Figure size 432x288 with 1 Axes>"
      ]
     },
     "metadata": {
      "needs_background": "light"
     },
     "output_type": "display_data"
    }
   ],
   "source": [
    "user_df_3[(user_df_3[\"신용점수등급\"] == 10) &\n",
    "                  (user_df_3[\"개인회생자\"] == 2)][\"한도조회_당시_유저_신용점수\"].hist()"
   ]
  },
  {
   "cell_type": "code",
   "execution_count": 44,
   "metadata": {},
   "outputs": [
    {
     "data": {
      "text/plain": [
       "<AxesSubplot:>"
      ]
     },
     "execution_count": 44,
     "metadata": {},
     "output_type": "execute_result"
    },
    {
     "data": {
      "image/png": "[encoded data removed]",
      "text/plain": [
       "<Figure size 432x288 with 1 Axes>"
      ]
     },
     "metadata": {
      "needs_background": "light"
     },
     "output_type": "display_data"
    }
   ],
   "source": [
    "user_df_3[(user_df_3[\"신용점수등급\"] == 10) &\n",
    "                  (user_df_3[\"개인회생자\"] == 1)][\"한도조회_당시_유저_신용점수\"].hist()"
   ]
  },
  {
   "cell_type": "code",
   "execution_count": 45,
   "metadata": {},
   "outputs": [],
   "source": [
    "user_df_3_null1 = user_df_3_null[user_df_3_null[\"한도조회_당시_유저_신용점수\"] < 150]\n",
    "user_df_3_null2 = user_df_3_null[user_df_3_null[\"한도조회_당시_유저_신용점수\"] >= 150]\n",
    "\n",
    "user_df_3_null1[\"개인회생자\"] = 1\n",
    "user_df_3_null2[\"개인회생자\"] = 0"
   ]
  },
  {
   "cell_type": "code",
   "execution_count": 46,
   "metadata": {},
   "outputs": [],
   "source": [
    "user_df_3_complete = pd.concat([user_df_3_nonull2,user_df_3_nonull1,user_df_3_null1,user_df_3_null2],axis=0)"
   ]
  },
  {
   "cell_type": "markdown",
   "metadata": {},
   "source": [
    "##### 기대출수 먼저 이상치 잡기\n",
    "##### 대출희망금액 먼저 이상치 잡기"
   ]
  },
  {
   "cell_type": "code",
   "execution_count": 47,
   "metadata": {},
   "outputs": [],
   "source": [
    "def find_outlier_z(data):\n",
    "    \n",
    "    threshold = 3\n",
    "    \n",
    "    mean = np.mean(data)\n",
    "    std = np.std(data)\n",
    "    \n",
    "    z_score = [(y-mean) / std for y in data]\n",
    "    \n",
    "    masks = np.where(np.abs(z_score) >= threshold)\n",
    "    \n",
    "    #print(mean+threshold*std)\n",
    "    #print(mean-threshold*std)\n",
    "    return masks[0]"
   ]
  },
  {
   "cell_type": "code",
   "execution_count": 48,
   "metadata": {},
   "outputs": [],
   "source": [
    "def no_outlier_z(data):\n",
    "    \n",
    "    threshold = 3\n",
    "    \n",
    "    mean = np.mean(data)\n",
    "    std = np.std(data)\n",
    "    \n",
    "    z_score = [(y-mean) / std for y in data]\n",
    "    \n",
    "    masks = np.where(np.abs(z_score) < threshold)\n",
    "    \n",
    "    #print(mean+threshold*std)\n",
    "    #print(mean-threshold*std)\n",
    "    return masks[0]"
   ]
  },
  {
   "cell_type": "markdown",
   "metadata": {},
   "source": [
    "결측을 채울 기준이 되는 dataframe\n",
    "- 기준이 되는 dataframe : standard_df"
   ]
  },
  {
   "cell_type": "code",
   "execution_count": 49,
   "metadata": {},
   "outputs": [],
   "source": [
    "def iqr_func(x):\n",
    "    q3, q1 = np.percentile(x, [75, 25])\n",
    "    iqr = q3 - q1\n",
    "    final = q3 + 1.5*iqr\n",
    "    return int(final)"
   ]
  },
  {
   "cell_type": "code",
   "execution_count": 50,
   "metadata": {},
   "outputs": [],
   "source": [
    "def get_replace_outlier(data,col):\n",
    "    # col에 해당하는 이상치 대체하기\n",
    "    # data : 이상치 대체할 데이터프레임\n",
    "    \n",
    "    df = data.copy()\n",
    "    \n",
    "    # 이상치 대체의 기준 dataframe\n",
    "    standard_df = df[df[col].notnull()].groupby([\"유저_성별\",\"근로형태\",\"고용형태\",\"주거소유형태\",\"연소득분위\"]\n",
    "                               ).agg({col: iqr_func}).reset_index()\n",
    "    \n",
    "    # 이상치의 index\n",
    "    outlier_index = find_outlier_z(df[col])\n",
    "    \n",
    "    # 이상치 아닌 것 index\n",
    "    nooutlier_index = no_outlier_z(df[col])\n",
    "    \n",
    "    # 이상치에 속하는 데이터\n",
    "    outlier_data = df.loc[outlier_index,:]\n",
    "    \n",
    "    # 이상치가 아닌 것에 속하는 데이터\n",
    "    nooutlier_data = df.loc[nooutlier_index,:]\n",
    "    \n",
    "    # 이상치가 대체된 데이터프레임\n",
    "    \n",
    "    outlier_replace = pd.merge(outlier_data.drop(col,axis=1),\n",
    "              \n",
    "              standard_df[[\"유저_성별\",\"근로형태\",\"고용형태\",\"주거소유형태\",\"연소득분위\",col]]\n",
    "         \n",
    "         ,on=[\"유저_성별\",\"근로형태\",\"고용형태\",\"주거소유형태\",\"연소득분위\"],how=\"inner\")\n",
    "\n",
    "    \n",
    "    # 이상치 대체하고나서 concat해주기\n",
    "    final = pd.concat([outlier_replace[df.columns],\n",
    "           nooutlier_data,\n",
    "          df[df[col].isnull()]],\n",
    "         axis = 0)\n",
    "    \n",
    "    \n",
    "    return final.reset_index(drop=True)"
   ]
  },
  {
   "cell_type": "markdown",
   "metadata": {},
   "source": [
    "##### user_df_4 : column의 이상치가 처리된 dataframe"
   ]
  },
  {
   "cell_type": "code",
   "execution_count": 51,
   "metadata": {},
   "outputs": [],
   "source": [
    "user_df_4 = get_replace_outlier(user_df_3_complete,\"기대출수\")\n",
    "\n",
    "user_df_4 = get_replace_outlier(user_df_4,\"기대출금액\")\n",
    "\n",
    "user_df_4 = get_replace_outlier(user_df_4,\"대출희망금액\")\n",
    "\n",
    "user_df_4 = get_replace_outlier(user_df_4,\"연소득\")"
   ]
  },
  {
   "cell_type": "markdown",
   "metadata": {},
   "source": [
    "##### user_df_5 : 연소득 0원 이상치가 처리된 dataframe"
   ]
  },
  {
   "cell_type": "code",
   "execution_count": 52,
   "metadata": {
    "scrolled": true
   },
   "outputs": [
    {
     "data": {
      "text/html": [
       "<div>\n",
       "<style scoped>\n",
       "    .dataframe tbody tr th:only-of-type {\n",
       "        vertical-align: middle;\n",
       "    }\n",
       "\n",
       "    .dataframe tbody tr th {\n",
       "        vertical-align: top;\n",
       "    }\n",
       "\n",
       "    .dataframe thead th {\n",
       "        text-align: right;\n",
       "    }\n",
       "</style>\n",
       "<table border=\"1\" class=\"dataframe\">\n",
       "  <thead>\n",
       "    <tr style=\"text-align: right;\">\n",
       "      <th></th>\n",
       "      <th>신청서_번호</th>\n",
       "      <th>유저_번호</th>\n",
       "      <th>유저_생년월일</th>\n",
       "      <th>유저_성별</th>\n",
       "      <th>생성일시</th>\n",
       "      <th>한도조회_당시_유저_신용점수</th>\n",
       "      <th>연소득</th>\n",
       "      <th>근로형태</th>\n",
       "      <th>입사연월</th>\n",
       "      <th>고용형태</th>\n",
       "      <th>주거소유형태</th>\n",
       "      <th>대출희망금액</th>\n",
       "      <th>대출_목적</th>\n",
       "      <th>기대출수</th>\n",
       "      <th>기대출금액</th>\n",
       "      <th>개인회생자</th>\n",
       "      <th>신용점수등급</th>\n",
       "      <th>연소득분위</th>\n",
       "    </tr>\n",
       "  </thead>\n",
       "  <tbody>\n",
       "    <tr>\n",
       "      <th>105</th>\n",
       "      <td>403583</td>\n",
       "      <td>802766</td>\n",
       "      <td>1980.0</td>\n",
       "      <td>1.0</td>\n",
       "      <td>2022-06-13 15:48:30</td>\n",
       "      <td>620.0</td>\n",
       "      <td>28500.0</td>\n",
       "      <td>EARNEDINCOME</td>\n",
       "      <td>20110201.0</td>\n",
       "      <td>정규직</td>\n",
       "      <td>자가</td>\n",
       "      <td>0.0</td>\n",
       "      <td>생활비</td>\n",
       "      <td>7.0</td>\n",
       "      <td>78600.0</td>\n",
       "      <td>0</td>\n",
       "      <td>7</td>\n",
       "      <td>10</td>\n",
       "    </tr>\n",
       "    <tr>\n",
       "      <th>106</th>\n",
       "      <td>1869885</td>\n",
       "      <td>802766</td>\n",
       "      <td>1980.0</td>\n",
       "      <td>1.0</td>\n",
       "      <td>2022-06-13 15:49:53</td>\n",
       "      <td>620.0</td>\n",
       "      <td>28500.0</td>\n",
       "      <td>EARNEDINCOME</td>\n",
       "      <td>20110201.0</td>\n",
       "      <td>정규직</td>\n",
       "      <td>자가</td>\n",
       "      <td>0.0</td>\n",
       "      <td>생활비</td>\n",
       "      <td>7.0</td>\n",
       "      <td>78600.0</td>\n",
       "      <td>0</td>\n",
       "      <td>7</td>\n",
       "      <td>10</td>\n",
       "    </tr>\n",
       "    <tr>\n",
       "      <th>259</th>\n",
       "      <td>688854</td>\n",
       "      <td>580934</td>\n",
       "      <td>1978.0</td>\n",
       "      <td>1.0</td>\n",
       "      <td>2022-03-12 10:17:15</td>\n",
       "      <td>940.0</td>\n",
       "      <td>28500.0</td>\n",
       "      <td>EARNEDINCOME</td>\n",
       "      <td>200909.0</td>\n",
       "      <td>정규직</td>\n",
       "      <td>자가</td>\n",
       "      <td>0.0</td>\n",
       "      <td>생활비</td>\n",
       "      <td>1.0</td>\n",
       "      <td>900.0</td>\n",
       "      <td>0</td>\n",
       "      <td>1</td>\n",
       "      <td>10</td>\n",
       "    </tr>\n",
       "    <tr>\n",
       "      <th>653</th>\n",
       "      <td>1341046</td>\n",
       "      <td>732757</td>\n",
       "      <td>1982.0</td>\n",
       "      <td>1.0</td>\n",
       "      <td>2022-05-06 10:29:46</td>\n",
       "      <td>650.0</td>\n",
       "      <td>34000.0</td>\n",
       "      <td>EARNEDINCOME</td>\n",
       "      <td>200801.0</td>\n",
       "      <td>정규직</td>\n",
       "      <td>전월세</td>\n",
       "      <td>0.0</td>\n",
       "      <td>생활비</td>\n",
       "      <td>4.0</td>\n",
       "      <td>1800.0</td>\n",
       "      <td>0</td>\n",
       "      <td>7</td>\n",
       "      <td>10</td>\n",
       "    </tr>\n",
       "    <tr>\n",
       "      <th>1486</th>\n",
       "      <td>2161187</td>\n",
       "      <td>134906</td>\n",
       "      <td>1983.0</td>\n",
       "      <td>1.0</td>\n",
       "      <td>2022-04-17 17:38:55</td>\n",
       "      <td>200.0</td>\n",
       "      <td>52500.0</td>\n",
       "      <td>PRIVATEBUSINESS</td>\n",
       "      <td>202112.0</td>\n",
       "      <td>정규직</td>\n",
       "      <td>전월세</td>\n",
       "      <td>0.0</td>\n",
       "      <td>생활비</td>\n",
       "      <td>1.0</td>\n",
       "      <td>8027.0</td>\n",
       "      <td>0</td>\n",
       "      <td>10</td>\n",
       "      <td>10</td>\n",
       "    </tr>\n",
       "    <tr>\n",
       "      <th>...</th>\n",
       "      <td>...</td>\n",
       "      <td>...</td>\n",
       "      <td>...</td>\n",
       "      <td>...</td>\n",
       "      <td>...</td>\n",
       "      <td>...</td>\n",
       "      <td>...</td>\n",
       "      <td>...</td>\n",
       "      <td>...</td>\n",
       "      <td>...</td>\n",
       "      <td>...</td>\n",
       "      <td>...</td>\n",
       "      <td>...</td>\n",
       "      <td>...</td>\n",
       "      <td>...</td>\n",
       "      <td>...</td>\n",
       "      <td>...</td>\n",
       "      <td>...</td>\n",
       "    </tr>\n",
       "    <tr>\n",
       "      <th>1385918</th>\n",
       "      <td>2030642</td>\n",
       "      <td>378579</td>\n",
       "      <td>NaN</td>\n",
       "      <td>1.0</td>\n",
       "      <td>2022-06-12 21:39:52</td>\n",
       "      <td>700.0</td>\n",
       "      <td>2300.0</td>\n",
       "      <td>EARNEDINCOME</td>\n",
       "      <td>20161201.0</td>\n",
       "      <td>정규직</td>\n",
       "      <td>전월세</td>\n",
       "      <td>0.0</td>\n",
       "      <td>생활비</td>\n",
       "      <td>3.0</td>\n",
       "      <td>3000.0</td>\n",
       "      <td>0</td>\n",
       "      <td>6</td>\n",
       "      <td>2</td>\n",
       "    </tr>\n",
       "    <tr>\n",
       "      <th>1386528</th>\n",
       "      <td>1494840</td>\n",
       "      <td>714122</td>\n",
       "      <td>NaN</td>\n",
       "      <td>0.0</td>\n",
       "      <td>2022-06-26 15:12:27</td>\n",
       "      <td>920.0</td>\n",
       "      <td>0.0</td>\n",
       "      <td>EARNEDINCOME</td>\n",
       "      <td>20220626.0</td>\n",
       "      <td>정규직</td>\n",
       "      <td>기타가족소유</td>\n",
       "      <td>0.0</td>\n",
       "      <td>기타</td>\n",
       "      <td>1.0</td>\n",
       "      <td>1500.0</td>\n",
       "      <td>0</td>\n",
       "      <td>1</td>\n",
       "      <td>0</td>\n",
       "    </tr>\n",
       "    <tr>\n",
       "      <th>1386546</th>\n",
       "      <td>84580</td>\n",
       "      <td>543558</td>\n",
       "      <td>NaN</td>\n",
       "      <td>1.0</td>\n",
       "      <td>2022-06-27 09:31:26</td>\n",
       "      <td>650.0</td>\n",
       "      <td>2000.0</td>\n",
       "      <td>FREELANCER</td>\n",
       "      <td>20210627.0</td>\n",
       "      <td>기타</td>\n",
       "      <td>전월세</td>\n",
       "      <td>0.0</td>\n",
       "      <td>기타</td>\n",
       "      <td>7.0</td>\n",
       "      <td>3900.0</td>\n",
       "      <td>0</td>\n",
       "      <td>7</td>\n",
       "      <td>2</td>\n",
       "    </tr>\n",
       "    <tr>\n",
       "      <th>1386568</th>\n",
       "      <td>334580</td>\n",
       "      <td>607766</td>\n",
       "      <td>NaN</td>\n",
       "      <td>1.0</td>\n",
       "      <td>2022-06-27 13:26:17</td>\n",
       "      <td>630.0</td>\n",
       "      <td>200.0</td>\n",
       "      <td>EARNEDINCOME</td>\n",
       "      <td>20211014.0</td>\n",
       "      <td>정규직</td>\n",
       "      <td>전월세</td>\n",
       "      <td>0.0</td>\n",
       "      <td>생활비</td>\n",
       "      <td>1.0</td>\n",
       "      <td>800.0</td>\n",
       "      <td>0</td>\n",
       "      <td>7</td>\n",
       "      <td>2</td>\n",
       "    </tr>\n",
       "    <tr>\n",
       "      <th>1386628</th>\n",
       "      <td>2101060</td>\n",
       "      <td>155059</td>\n",
       "      <td>NaN</td>\n",
       "      <td>0.0</td>\n",
       "      <td>2022-06-28 16:44:54</td>\n",
       "      <td>610.0</td>\n",
       "      <td>0.0</td>\n",
       "      <td>OTHERINCOME</td>\n",
       "      <td>NaN</td>\n",
       "      <td>기타</td>\n",
       "      <td>기타가족소유</td>\n",
       "      <td>0.0</td>\n",
       "      <td>생활비</td>\n",
       "      <td>1.0</td>\n",
       "      <td>100.0</td>\n",
       "      <td>0</td>\n",
       "      <td>7</td>\n",
       "      <td>0</td>\n",
       "    </tr>\n",
       "  </tbody>\n",
       "</table>\n",
       "<p>4237 rows × 18 columns</p>\n",
       "</div>"
      ],
      "text/plain": [
       "          신청서_번호   유저_번호  유저_생년월일  유저_성별                 생성일시  \\\n",
       "105       403583  802766   1980.0    1.0  2022-06-13 15:48:30   \n",
       "106      1869885  802766   1980.0    1.0  2022-06-13 15:49:53   \n",
       "259       688854  580934   1978.0    1.0  2022-03-12 10:17:15   \n",
       "653      1341046  732757   1982.0    1.0  2022-05-06 10:29:46   \n",
       "1486     2161187  134906   1983.0    1.0  2022-04-17 17:38:55   \n",
       "...          ...     ...      ...    ...                  ...   \n",
       "1385918  2030642  378579      NaN    1.0  2022-06-12 21:39:52   \n",
       "1386528  1494840  714122      NaN    0.0  2022-06-26 15:12:27   \n",
       "1386546    84580  543558      NaN    1.0  2022-06-27 09:31:26   \n",
       "1386568   334580  607766      NaN    1.0  2022-06-27 13:26:17   \n",
       "1386628  2101060  155059      NaN    0.0  2022-06-28 16:44:54   \n",
       "\n",
       "         한도조회_당시_유저_신용점수      연소득             근로형태        입사연월 고용형태  주거소유형태  \\\n",
       "105                620.0  28500.0     EARNEDINCOME  20110201.0  정규직      자가   \n",
       "106                620.0  28500.0     EARNEDINCOME  20110201.0  정규직      자가   \n",
       "259                940.0  28500.0     EARNEDINCOME    200909.0  정규직      자가   \n",
       "653                650.0  34000.0     EARNEDINCOME    200801.0  정규직     전월세   \n",
       "1486               200.0  52500.0  PRIVATEBUSINESS    202112.0  정규직     전월세   \n",
       "...                  ...      ...              ...         ...  ...     ...   \n",
       "1385918            700.0   2300.0     EARNEDINCOME  20161201.0  정규직     전월세   \n",
       "1386528            920.0      0.0     EARNEDINCOME  20220626.0  정규직  기타가족소유   \n",
       "1386546            650.0   2000.0       FREELANCER  20210627.0   기타     전월세   \n",
       "1386568            630.0    200.0     EARNEDINCOME  20211014.0  정규직     전월세   \n",
       "1386628            610.0      0.0      OTHERINCOME         NaN   기타  기타가족소유   \n",
       "\n",
       "         대출희망금액 대출_목적  기대출수    기대출금액  개인회생자 신용점수등급 연소득분위  \n",
       "105         0.0   생활비   7.0  78600.0      0      7    10  \n",
       "106         0.0   생활비   7.0  78600.0      0      7    10  \n",
       "259         0.0   생활비   1.0    900.0      0      1    10  \n",
       "653         0.0   생활비   4.0   1800.0      0      7    10  \n",
       "1486        0.0   생활비   1.0   8027.0      0     10    10  \n",
       "...         ...   ...   ...      ...    ...    ...   ...  \n",
       "1385918     0.0   생활비   3.0   3000.0      0      6     2  \n",
       "1386528     0.0    기타   1.0   1500.0      0      1     0  \n",
       "1386546     0.0    기타   7.0   3900.0      0      7     2  \n",
       "1386568     0.0   생활비   1.0    800.0      0      7     2  \n",
       "1386628     0.0   생활비   1.0    100.0      0      7     0  \n",
       "\n",
       "[4237 rows x 18 columns]"
      ]
     },
     "execution_count": 52,
     "metadata": {},
     "output_type": "execute_result"
    }
   ],
   "source": [
    "user_df_5 = user_df_4.copy()\n",
    "user_df_5[user_df_5[\"대출희망금액\"] == 0]"
   ]
  },
  {
   "cell_type": "markdown",
   "metadata": {},
   "source": [
    "#### 연소득 0원 데이터 처리하기\n",
    "- OTHERINCOME 기타소득을 제외하곤 연소득 0원을 평균으로 대체하기"
   ]
  },
  {
   "cell_type": "code",
   "execution_count": 53,
   "metadata": {},
   "outputs": [
    {
     "data": {
      "text/plain": [
       "OTHERINCOME        14881\n",
       "FREELANCER          1117\n",
       "PRIVATEBUSINESS      635\n",
       "EARNEDINCOME         499\n",
       "EARNEDINCOME2        177\n",
       "PRACTITIONER          20\n",
       "Name: 근로형태, dtype: int64"
      ]
     },
     "execution_count": 53,
     "metadata": {},
     "output_type": "execute_result"
    }
   ],
   "source": [
    "user_df_5[user_df_5[\"연소득\"] == 0][\"근로형태\"].value_counts()"
   ]
  },
  {
   "cell_type": "markdown",
   "metadata": {},
   "source": [
    "- 근로형태에 따라서 하나씩 평균값 대입"
   ]
  },
  {
   "cell_type": "code",
   "execution_count": 54,
   "metadata": {},
   "outputs": [
    {
     "name": "stdout",
     "output_type": "stream",
     "text": [
      "FREELANCER 전처리 끝\n",
      "PRIVATEBUSINESS 전처리 끝\n",
      "EARNEDINCOME 전처리 끝\n",
      "EARNEDINCOME2 전처리 끝\n",
      "PRACTITIONER 전처리 끝\n"
     ]
    }
   ],
   "source": [
    "df_lst = []\n",
    "\n",
    "for work_type in ['FREELANCER', 'PRIVATEBUSINESS', 'EARNEDINCOME', 'EARNEDINCOME2',\n",
    "       'PRACTITIONER']:\n",
    "    \n",
    "    # 연소득 0원 채워야하는 데이터\n",
    "    replaced = user_df_5[(user_df_5[\"연소득\"] == 0) & (user_df_5[\"근로형태\"] == work_type)]\n",
    "\n",
    "    # 연소득 0원이 아닌 데이터\n",
    "    no_replace = user_df_5[(user_df_5[\"연소득\"] != 0) & (user_df_5[\"근로형태\"] == work_type)]\n",
    "    \n",
    "    standard_df = user_df_5.groupby([\"유저_성별\",\"근로형태\",\"고용형태\",\"주거소유형태\"]).mean().reset_index()\n",
    "   \n",
    "    # 0값이 처리된 데이터\n",
    "    zero_replace = pd.merge(replaced.drop(\"연소득\",axis=1),\n",
    "\n",
    "                  standard_df[[\"유저_성별\",\"근로형태\",\"고용형태\",\"주거소유형태\",\"연소득\"]]\n",
    "\n",
    "             ,on=[\"유저_성별\",\"근로형태\",\"고용형태\",\"주거소유형태\"],how=\"inner\")\n",
    "\n",
    "    zero_replace = zero_replace[user_df_5.columns] # 0값이 처리된 데이터\n",
    "    zero_replace[\"연소득\"] = zero_replace[\"연소득\"].astype(int)\n",
    "    \n",
    "    print(work_type,\"전처리 끝\")\n",
    "    \n",
    "    df_lst.append(zero_replace)\n",
    "    df_lst.append(no_replace)\n",
    "    \n",
    "df_lst.append(user_df_5[user_df_5[\"근로형태\"] == \"OTHERINCOME\"])"
   ]
  },
  {
   "cell_type": "markdown",
   "metadata": {},
   "source": [
    "#### 대출희망금액 0원 전처리\n",
    "- \"유저_성별\",\"근로형태\",\"고용형태\",\"주거소유형태\",\"연소득분위\" 기반 평균으로 대체\n",
    "- 그래도 0이면?\n",
    "- \"유저_성별\",\"근로형태\",\"고용형태\",\"주거소유형태\" 기반 평균으로 대체"
   ]
  },
  {
   "cell_type": "code",
   "execution_count": 55,
   "metadata": {},
   "outputs": [],
   "source": [
    "user_df_5 = pd.concat(df_lst,axis=0).reset_index(drop=True)"
   ]
  },
  {
   "cell_type": "code",
   "execution_count": 64,
   "metadata": {},
   "outputs": [
    {
     "data": {
      "text/plain": [
       "(1386760, 18)"
      ]
     },
     "execution_count": 64,
     "metadata": {},
     "output_type": "execute_result"
    }
   ],
   "source": [
    "user_df_5.shape"
   ]
  },
  {
   "cell_type": "code",
   "execution_count": 65,
   "metadata": {},
   "outputs": [
    {
     "data": {
      "text/plain": [
       "EARNEDINCOME       2131\n",
       "OTHERINCOME        1429\n",
       "FREELANCER          299\n",
       "EARNEDINCOME2       207\n",
       "PRIVATEBUSINESS     113\n",
       "PRACTITIONER         58\n",
       "Name: 근로형태, dtype: int64"
      ]
     },
     "execution_count": 65,
     "metadata": {},
     "output_type": "execute_result"
    }
   ],
   "source": [
    "user_df_5[user_df_5[\"대출희망금액\"] == 0][\"근로형태\"].value_counts()"
   ]
  },
  {
   "cell_type": "code",
   "execution_count": 56,
   "metadata": {},
   "outputs": [],
   "source": [
    "# 대출희망금액 0원 채워야하는 데이터\n",
    "replaced = user_df_5[(user_df_5[\"대출희망금액\"] == 0)]\n",
    "\n",
    "# 대출희망금액 0원이 아닌 데이터\n",
    "no_replace = user_df_5[(user_df_5[\"대출희망금액\"] != 0)]\n",
    "    \n",
    "standard_df = user_df_5.groupby([\"유저_성별\",\"근로형태\",\"고용형태\",\"주거소유형태\",\"연소득분위\"]).mean().reset_index()"
   ]
  },
  {
   "cell_type": "code",
   "execution_count": 57,
   "metadata": {},
   "outputs": [],
   "source": [
    "# 0값이 처리된 데이터\n",
    "zero_replace = pd.merge(replaced.drop(\"대출희망금액\",axis=1),\n",
    "                  standard_df[[\"유저_성별\",\"근로형태\",\"고용형태\",\"주거소유형태\",\"연소득분위\",\"대출희망금액\"]]\n",
    "\n",
    "             ,on=[\"유저_성별\",\"근로형태\",\"고용형태\",\"주거소유형태\",\"연소득분위\"],how=\"inner\")\n",
    "\n",
    "zero_replace = zero_replace[user_df_5.columns] # 0값이 처리된 데이터\n",
    "zero_replace[\"대출희망금액\"] = zero_replace[\"대출희망금액\"].astype(int)"
   ]
  },
  {
   "cell_type": "code",
   "execution_count": 58,
   "metadata": {},
   "outputs": [],
   "source": [
    "user_df_5 = pd.concat([zero_replace,no_replace],axis=0).reset_index(drop=True)"
   ]
  },
  {
   "cell_type": "markdown",
   "metadata": {},
   "source": [
    "\"유저_성별\",\"근로형태\",\"고용형태\",\"주거소유형태\" 기반 평균으로 대체"
   ]
  },
  {
   "cell_type": "code",
   "execution_count": 59,
   "metadata": {},
   "outputs": [],
   "source": [
    "# 대출희망금액 0원 채워야하는 데이터\n",
    "replaced = user_df_5[(user_df_5[\"대출희망금액\"] == 0)]\n",
    "\n",
    "# 대출희망금액 0원이 아닌 데이터\n",
    "no_replace = user_df_5[(user_df_5[\"대출희망금액\"] != 0)]\n",
    "    \n",
    "standard_df = user_df_5.groupby([\"유저_성별\",\"근로형태\",\"고용형태\",\"주거소유형태\"]).mean().reset_index()\n",
    "\n",
    "# 0값이 처리된 데이터\n",
    "zero_replace = pd.merge(replaced.drop(\"대출희망금액\",axis=1),\n",
    "                  standard_df[[\"유저_성별\",\"근로형태\",\"고용형태\",\"주거소유형태\",\"대출희망금액\"]]\n",
    "\n",
    "             ,on=[\"유저_성별\",\"근로형태\",\"고용형태\",\"주거소유형태\"],how=\"inner\")\n",
    "\n",
    "zero_replace = zero_replace[user_df_5.columns] # 0값이 처리된 데이터\n",
    "zero_replace[\"대출희망금액\"] = zero_replace[\"대출희망금액\"].astype(int)\n",
    "\n",
    "user_df_5 = pd.concat([zero_replace,no_replace],axis=0).reset_index(drop=True)"
   ]
  },
  {
   "cell_type": "markdown",
   "metadata": {},
   "source": [
    "############### 이상치 처리 끝 #####################"
   ]
  },
  {
   "cell_type": "markdown",
   "metadata": {},
   "source": [
    "## 생년월일 이상치 처리"
   ]
  },
  {
   "cell_type": "code",
   "execution_count": 60,
   "metadata": {},
   "outputs": [],
   "source": [
    "user_df_5 = get_replace_null_(user_df_5,'유저_생년월일')\n",
    "user_df_5['유저_생년월일'] = user_df_5['유저_생년월일'].astype(int)"
   ]
  },
  {
   "cell_type": "markdown",
   "metadata": {},
   "source": [
    "## 입사연월 이상치 및 결측치 처리"
   ]
  },
  {
   "cell_type": "code",
   "execution_count": 61,
   "metadata": {},
   "outputs": [],
   "source": [
    "# 17만명중 600명만 입사연월이 있음 -> 이상치로 보고 모두 입사연월 제거\n",
    "user_df_5.loc[user_df_5['근로형태']=='OTHERINCOME','입사연월'] ='nan'"
   ]
  },
  {
   "cell_type": "code",
   "execution_count": 62,
   "metadata": {},
   "outputs": [
    {
     "data": {
      "text/plain": [
       "EARNEDINCOME       7\n",
       "PRIVATEBUSINESS    3\n",
       "Name: 근로형태, dtype: int64"
      ]
     },
     "execution_count": 62,
     "metadata": {},
     "output_type": "execute_result"
    }
   ],
   "source": [
    "user_df_5[user_df_5['입사연월'].isnull()]['근로형태'].value_counts()"
   ]
  },
  {
   "cell_type": "code",
   "execution_count": 63,
   "metadata": {},
   "outputs": [],
   "source": [
    "#입사연월은 평균값이 안됨 -> 최빈값으로 대체\n",
    "user_list = list(user_df_5[(user_df_5['입사연월'].isnull())&(user_df_5['근로형태']=='EARNEDINCOME')]['유저_번호'].index)+list(user_df_5[(user_df_5['입사연월'].isnull())&(user_df_5['근로형태']=='PRIVATEBUSINESS')]['유저_번호'].index)\n",
    "for i in user_list:\n",
    "    user_df_5.iloc[i,8] = user_df_5[(user_df_5['근로형태']==user_df_5.iloc[i,7])&(user_df_5['유저_생년월일']==user_df_5.iloc[i,2])&(user_df_5['유저_성별']==user_df_5.iloc[i,3])]['입사연월'].mode()[0]"
   ]
  },
  {
   "cell_type": "code",
   "execution_count": 64,
   "metadata": {},
   "outputs": [],
   "source": [
    "#생성일시 datetime으로 변경\n",
    "user_df_5['생성일시_연월'] = user_df_5['생성일시'].str[:7]\n",
    "user_df_5['생성일시_연월'] = user_df_5['생성일시_연월'].str.replace(pat=r'[^\\w]', repl=r'', regex=True)\n",
    "user_df_5['생성일시_연월'] = pd.to_datetime(user_df_5['생성일시_연월'],format = '%Y%m')"
   ]
  },
  {
   "cell_type": "code",
   "execution_count": 65,
   "metadata": {},
   "outputs": [],
   "source": [
    "#입사연월 datetime으로 변경\n",
    "user_df_5['입사연월_연월'] = user_df_5['입사연월'].astype(str).str[:6]\n",
    "user_df_5.loc[user_df_5['입사연월_연월']=='nan','입사연월_연월'] = '202301'# nan값인 데이터들 처리\n",
    "user_df_5.loc[user_df_5['입사연월'].isnull(),'입사연월'] = '202301'\n",
    "user_df_5['입사연월_연월'] = pd.to_datetime(user_df_5['입사연월_연월'],format = '%Y%m')"
   ]
  },
  {
   "cell_type": "markdown",
   "metadata": {},
   "source": [
    "유저_생년월일보다 입사연월_연월이 더 빠른경우->   \n",
    " [유저_생년월일,유저_성별,근로형태,고용형태]를 기준으로 최빈값 넣기"
   ]
  },
  {
   "cell_type": "code",
   "execution_count": 66,
   "metadata": {},
   "outputs": [],
   "source": [
    "user_df_5['유저_생년월일'] = pd.to_datetime(user_df_5['유저_생년월일'],format = '%Y') #유저 생년월일 datetime으로 변경\n",
    "temp_list =set(user_df_5[user_df_5['유저_생년월일']>user_df_5['입사연월_연월']]['신청서_번호'])#유저 생년월일이 입사연월보다 빠른 유저 리스트\n",
    "temp = list(user_df_5[user_df_5['신청서_번호'].isin(temp_list)].index)\n",
    "for i in temp:\n",
    "    user_df_5.iloc[i,-1] = user_df_5[(user_df_5['유저_생년월일']==user_df_5.iloc[i,2])\n",
    "                                              &(user_df_5['유저_성별']==user_df_5.iloc[i,3])\n",
    "                                              &(user_df_5['근로형태']==user_df_5.iloc[i,7])\n",
    "                                              &(user_df_5['고용형태']==user_df_5.iloc[i,9])]['입사연월_연월'].mode()[0]"
   ]
  },
  {
   "cell_type": "code",
   "execution_count": 67,
   "metadata": {},
   "outputs": [],
   "source": [
    "from datetime import datetime\n",
    "def diff_month(x): # 입사개월 계산 함수\n",
    "    return (x[0].year - x[1].year) * 12 + x[0].month - x[1].month + 1\n",
    "def diff_year(x): # 년차 계산 함수\n",
    "    return x[0].year - x[1].year"
   ]
  },
  {
   "cell_type": "code",
   "execution_count": 79,
   "metadata": {},
   "outputs": [
    {
     "data": {
      "text/plain": [
       "Index(['신청서_번호', '유저_번호', '유저_생년월일', '유저_성별', '생성일시', '한도조회_당시_유저_신용점수', '연소득',\n",
       "       '근로형태', '입사연월', '고용형태', '주거소유형태', '대출희망금액', '대출_목적', '기대출수', '기대출금액',\n",
       "       '개인회생자', '신용점수등급', '연소득분위', '생성일시_연월', '입사연월_연월'],\n",
       "      dtype='object')"
      ]
     },
     "execution_count": 79,
     "metadata": {},
     "output_type": "execute_result"
    }
   ],
   "source": [
    "user_df_5.columns"
   ]
  },
  {
   "cell_type": "code",
   "execution_count": 68,
   "metadata": {},
   "outputs": [],
   "source": [
    "user_df_5['입사개월'] = user_df_5[['생성일시_연월', '입사연월_연월']].apply(diff_month,axis=1)\n",
    "# 입사연월이 생성일시보다 빠르게 들어간 3명 최빈값으로 처리\n",
    "user_list = list(user_df_5[(user_df_5['입사개월']<0)&(user_df_5['근로형태']!='OTHERINCOME')]['신청서_번호'].index)\n",
    "for i in user_list:\n",
    "    user_df_5.iloc[i,-2] = user_df_5[(user_df_5['유저_생년월일']==user_df_5.iloc[i,2])\n",
    "                                              &(user_df_5['유저_성별']==user_df_5.iloc[i,3])\n",
    "                                              &(user_df_5['근로형태']==user_df_5.iloc[i,7])\n",
    "                                              &(user_df_5['고용형태']==user_df_5.iloc[i,9])]['입사연월_연월'].mode()[0]"
   ]
  },
  {
   "cell_type": "code",
   "execution_count": 69,
   "metadata": {},
   "outputs": [],
   "source": [
    "user_df_5['입사개월'] = user_df_5[['생성일시_연월', '입사연월_연월']].apply(diff_month,axis=1)\n",
    "user_df_5['입사개월'] = user_df_5['입사개월'].astype(int)\n",
    "user_df_5.loc[user_df_5['입사개월']<1,'입사개월'] = 0# 입사연월이 없는 otherincome 유저들은 0으로 mapping\n"
   ]
  },
  {
   "cell_type": "code",
   "execution_count": 70,
   "metadata": {},
   "outputs": [
    {
     "data": {
      "text/plain": [
       "PRIVATEBUSINESS    275\n",
       "EARNEDINCOME       187\n",
       "FREELANCER          54\n",
       "EARNEDINCOME2       16\n",
       "PRACTITIONER         9\n",
       "Name: 근로형태, dtype: int64"
      ]
     },
     "execution_count": 70,
     "metadata": {},
     "output_type": "execute_result"
    }
   ],
   "source": [
    "user_df_5['입사나이'] = user_df_5[['입사연월_연월','유저_생년월일']].apply(diff_year,axis =1)#입사나이\n",
    "user_df_5[user_df_5['입사나이']<15]['근로형태'].value_counts()\n"
   ]
  },
  {
   "cell_type": "code",
   "execution_count": 71,
   "metadata": {},
   "outputs": [],
   "source": [
    "# 법적 근무나이인 만 15세 이하인 유저들 중 사업과 프리랜서를 제외한 212명은 최빈값으로 처리\n",
    "user_list = list(user_df_5[(user_df_5['입사나이']<15)&(user_df_5['근로형태']!='PRIVATEBUSINESS')&(user_df_5['근로형태']!='FREELANCER')]['신청서_번호'].index)\n",
    "for i in user_list:\n",
    "    user_df_5.iloc[i,-3] = user_df_5[(user_df_5['유저_생년월일']==user_df_5.iloc[i,2])\n",
    "                                              &(user_df_5['유저_성별']==user_df_5.iloc[i,3])\n",
    "                                              &(user_df_5['근로형태']==user_df_5.iloc[i,7])\n",
    "                                              &(user_df_5['고용형태']==user_df_5.iloc[i,9])]['입사연월_연월'].mode()[0]"
   ]
  },
  {
   "cell_type": "code",
   "execution_count": 72,
   "metadata": {},
   "outputs": [],
   "source": [
    "#입사연월 변경으로 인한 입사개월 다시 계산 \n",
    "user_df_5['입사개월'] = user_df_5[['생성일시_연월', '입사연월_연월']].apply(diff_month,axis=1)\n",
    "user_df_5['입사개월'] = user_df_5['입사개월'].astype(int)\n",
    "user_df_5.loc[user_df_5['입사개월']<1,'입사개월'] = 0# 입사연월이 없는 otherincome 유저들은 0으로 mapping"
   ]
  },
  {
   "cell_type": "code",
   "execution_count": 73,
   "metadata": {},
   "outputs": [],
   "source": [
    "user_df_5['나이'] = user_df_5[['생성일시_연월','유저_생년월일']].apply(diff_year,axis =1)#나이\n",
    "user_df_5['나이'] = user_df_5['나이'].astype(int)"
   ]
  },
  {
   "cell_type": "code",
   "execution_count": 86,
   "metadata": {},
   "outputs": [
    {
     "name": "stdout",
     "output_type": "stream",
     "text": [
      "<class 'pandas.core.frame.DataFrame'>\n",
      "RangeIndex: 1386760 entries, 0 to 1386759\n",
      "Data columns (total 23 columns):\n",
      " #   Column           Non-Null Count    Dtype         \n",
      "---  ------           --------------    -----         \n",
      " 0   신청서_번호           1386760 non-null  int64         \n",
      " 1   유저_번호            1386760 non-null  int64         \n",
      " 2   유저_생년월일          1386760 non-null  datetime64[ns]\n",
      " 3   유저_성별            1386760 non-null  float64       \n",
      " 4   생성일시             1386760 non-null  object        \n",
      " 5   한도조회_당시_유저_신용점수  1386760 non-null  float64       \n",
      " 6   연소득              1386760 non-null  float64       \n",
      " 7   근로형태             1386760 non-null  object        \n",
      " 8   입사연월             1386760 non-null  object        \n",
      " 9   고용형태             1386760 non-null  object        \n",
      " 10  주거소유형태           1386760 non-null  object        \n",
      " 11  대출희망금액           1386760 non-null  float64       \n",
      " 12  대출_목적            1386760 non-null  object        \n",
      " 13  기대출수             1386760 non-null  float64       \n",
      " 14  기대출금액            1386760 non-null  float64       \n",
      " 15  개인회생자            1386760 non-null  int64         \n",
      " 16  신용점수등급           1386760 non-null  category      \n",
      " 17  연소득분위            1386760 non-null  category      \n",
      " 18  생성일시_연월          1386760 non-null  datetime64[ns]\n",
      " 19  입사연월_연월          1386760 non-null  datetime64[ns]\n",
      " 20  입사개월             1386760 non-null  int32         \n",
      " 21  입사나이             1386760 non-null  int64         \n",
      " 22  나이               1386760 non-null  int32         \n",
      "dtypes: category(2), datetime64[ns](3), float64(6), int32(2), int64(4), object(6)\n",
      "memory usage: 214.2+ MB\n"
     ]
    }
   ],
   "source": [
    "user_df_5.info()"
   ]
  },
  {
   "cell_type": "code",
   "execution_count": 87,
   "metadata": {},
   "outputs": [
    {
     "data": {
      "text/plain": [
       "Index(['신청서_번호', '유저_번호', '유저_생년월일', '유저_성별', '생성일시', '한도조회_당시_유저_신용점수', '연소득',\n",
       "       '근로형태', '입사연월', '고용형태', '주거소유형태', '대출희망금액', '대출_목적', '기대출수', '기대출금액',\n",
       "       '개인회생자', '신용점수등급', '연소득분위', '생성일시_연월', '입사연월_연월', '입사개월', '입사나이', '나이'],\n",
       "      dtype='object')"
      ]
     },
     "execution_count": 87,
     "metadata": {},
     "output_type": "execute_result"
    }
   ],
   "source": [
    "user_df_5.columns"
   ]
  },
  {
   "cell_type": "markdown",
   "metadata": {},
   "source": [
    "## 병합용 데이터 처리"
   ]
  },
  {
   "cell_type": "code",
   "execution_count": 74,
   "metadata": {},
   "outputs": [],
   "source": [
    "temp = user_df_5[['신청서_번호', '유저_번호', '유저_성별','근로형태', '고용형태', '주거소유형태', '대출희망금액', '대출_목적', '기대출수', '기대출금액',\n",
    "       '개인회생자', '신용점수등급', '연소득분위', '입사개월', '나이']]"
   ]
  },
  {
   "cell_type": "code",
   "execution_count": 75,
   "metadata": {},
   "outputs": [],
   "source": [
    "temp['기대출금액'] = round(temp['기대출금액'],-3)\n",
    "temp['대출희망금액'] = round(temp['대출희망금액'],-3)"
   ]
  },
  {
   "cell_type": "code",
   "execution_count": 79,
   "metadata": {},
   "outputs": [],
   "source": [
    "loan_df_train = loan_df[loan_df['신청_여부(타겟)'].notnull()]"
   ]
  },
  {
   "cell_type": "code",
   "execution_count": 89,
   "metadata": {},
   "outputs": [],
   "source": [
    "# df= pd.merge(temp,loan_df,how ='inner',on = '신청서_번호')\n",
    "clustering_df = pd.merge(temp,loan_df_train, how='left', left_on='신청서_번호', right_on='신청서_번호')"
   ]
  },
  {
   "cell_type": "code",
   "execution_count": 97,
   "metadata": {},
   "outputs": [],
   "source": [
    "# clustering_df.to_csv('clustering_df.csv')\n",
    "# df.to_csv('prediction_df.csv')"
   ]
  }
 ],
 "metadata": {
  "kernelspec": {
   "display_name": "Python 3 (ipykernel)",
   "language": "python",
   "name": "python3"
  },
  "language_info": {
   "codemirror_mode": {
    "name": "ipython",
    "version": 3
   },
   "file_extension": ".py",
   "mimetype": "text/x-python",
   "name": "python",
   "nbconvert_exporter": "python",
   "pygments_lexer": "ipython3",
   "version": "3.9.12"
  }
 },
 "nbformat": 4,
 "nbformat_minor": 4
}
