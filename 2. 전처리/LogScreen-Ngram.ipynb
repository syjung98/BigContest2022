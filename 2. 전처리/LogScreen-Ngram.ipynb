{
 "cells": [
  {
   "cell_type": "code",
   "execution_count": 1,
   "metadata": {},
   "outputs": [],
   "source": [
    "import pandas as pd\n",
    "import numpy as np\n",
    "import matplotlib.pyplot as plt\n",
    "from tqdm import tqdm\n",
    "\n",
    "import warnings\n",
    "warnings.filterwarnings('ignore')"
   ]
  },
  {
   "cell_type": "code",
   "execution_count": 164,
   "metadata": {},
   "outputs": [],
   "source": [
    "# load\n",
    "loan_result=pd.read_csv(\"../data/loan_result.csv\")\n",
    "log_data=pd.read_csv(\"../data/log_data.csv\")\n",
    "user_spec=pd.read_csv(\"../data/user_spec.csv\")\n",
    "\n",
    "# columns localize\n",
    "loan_result.columns=['신청서_번호', '한도조회_일시', '금융사_번호', '상품_번호', '승인한도', '승인금리', '신청_여부(y)']\n",
    "log_data.columns=['유저_번호', '행동명', '행동일시', '운영체제', '앱_버전', '일_코드']\n",
    "user_spec.columns=['신청서_번호', '유저_번호', '유저_생년월일', '유저_성별', '생성일시', '한도조회_당시_유저_신용점수', '연소득', '근로형태', '입사연월', '고용형태', '주거소유형태', '대출희망금액', '대출_목적', '개인회생자_여부', '개인회생자_납입_완료_여부', '기대출수', '기대출금액'] # 건강보험 타입이 정의서에는 있는데 데이터엔 없는듯"
   ]
  },
  {
   "cell_type": "code",
   "execution_count": 165,
   "metadata": {},
   "outputs": [],
   "source": [
    "log_data=log_data.drop_duplicates()\n",
    "user_spec=user_spec.drop_duplicates()"
   ]
  },
  {
   "cell_type": "code",
   "execution_count": 166,
   "metadata": {},
   "outputs": [
    {
     "data": {
      "text/html": [
       "<div>\n",
       "<style scoped>\n",
       "    .dataframe tbody tr th:only-of-type {\n",
       "        vertical-align: middle;\n",
       "    }\n",
       "\n",
       "    .dataframe tbody tr th {\n",
       "        vertical-align: top;\n",
       "    }\n",
       "\n",
       "    .dataframe thead th {\n",
       "        text-align: right;\n",
       "    }\n",
       "</style>\n",
       "<table border=\"1\" class=\"dataframe\">\n",
       "  <thead>\n",
       "    <tr style=\"text-align: right;\">\n",
       "      <th></th>\n",
       "      <th>유저_번호</th>\n",
       "      <th>행동명</th>\n",
       "      <th>행동일시</th>\n",
       "      <th>운영체제</th>\n",
       "      <th>앱_버전</th>\n",
       "      <th>일_코드</th>\n",
       "    </tr>\n",
       "  </thead>\n",
       "  <tbody>\n",
       "    <tr>\n",
       "      <th>0</th>\n",
       "      <td>720911</td>\n",
       "      <td>OpenApp</td>\n",
       "      <td>2022-03-01 00:00:00</td>\n",
       "      <td>iOS</td>\n",
       "      <td>3.6.0</td>\n",
       "      <td>2022-03-01</td>\n",
       "    </tr>\n",
       "    <tr>\n",
       "      <th>1</th>\n",
       "      <td>385811</td>\n",
       "      <td>Login</td>\n",
       "      <td>2022-03-01 00:00:00</td>\n",
       "      <td>Android</td>\n",
       "      <td>3.8.0</td>\n",
       "      <td>2022-03-01</td>\n",
       "    </tr>\n",
       "    <tr>\n",
       "      <th>2</th>\n",
       "      <td>125129</td>\n",
       "      <td>UseLoanManage</td>\n",
       "      <td>2022-03-01 00:00:00</td>\n",
       "      <td>Android</td>\n",
       "      <td>3.8.0</td>\n",
       "      <td>2022-03-01</td>\n",
       "    </tr>\n",
       "    <tr>\n",
       "      <th>3</th>\n",
       "      <td>706858</td>\n",
       "      <td>GetCreditInfo</td>\n",
       "      <td>2022-03-01 00:00:03</td>\n",
       "      <td>android</td>\n",
       "      <td>417</td>\n",
       "      <td>2022-03-01</td>\n",
       "    </tr>\n",
       "    <tr>\n",
       "      <th>4</th>\n",
       "      <td>512341</td>\n",
       "      <td>EndLoanApply</td>\n",
       "      <td>2022-03-01 00:00:03</td>\n",
       "      <td>Android</td>\n",
       "      <td>3.8.0</td>\n",
       "      <td>2022-03-01</td>\n",
       "    </tr>\n",
       "  </tbody>\n",
       "</table>\n",
       "</div>"
      ],
      "text/plain": [
       "    유저_번호            행동명                 행동일시     운영체제   앱_버전        일_코드\n",
       "0  720911        OpenApp  2022-03-01 00:00:00      iOS  3.6.0  2022-03-01\n",
       "1  385811          Login  2022-03-01 00:00:00  Android  3.8.0  2022-03-01\n",
       "2  125129  UseLoanManage  2022-03-01 00:00:00  Android  3.8.0  2022-03-01\n",
       "3  706858  GetCreditInfo  2022-03-01 00:00:03  android    417  2022-03-01\n",
       "4  512341   EndLoanApply  2022-03-01 00:00:03  Android  3.8.0  2022-03-01"
      ]
     },
     "execution_count": 166,
     "metadata": {},
     "output_type": "execute_result"
    }
   ],
   "source": [
    "# log_data sort by time(asc)\n",
    "log_data=log_data.sort_values('행동일시').reset_index(drop=True)\n",
    "log_data.head()"
   ]
  },
  {
   "cell_type": "code",
   "execution_count": 167,
   "metadata": {},
   "outputs": [],
   "source": [
    "# Datetime 변환\n",
    "log_data['행동일시'] = pd.to_datetime(log_data['행동일시'])\n",
    "log_data['일_코드'] = pd.to_datetime(log_data['일_코드'])\n",
    "loan_result['한도조회_일시'] = pd.to_datetime(loan_result['한도조회_일시'])\n",
    "user_spec['생성일시'] = pd.to_datetime(user_spec['생성일시'])"
   ]
  },
  {
   "cell_type": "code",
   "execution_count": 168,
   "metadata": {},
   "outputs": [
    {
     "data": {
      "text/html": [
       "<div>\n",
       "<style scoped>\n",
       "    .dataframe tbody tr th:only-of-type {\n",
       "        vertical-align: middle;\n",
       "    }\n",
       "\n",
       "    .dataframe tbody tr th {\n",
       "        vertical-align: top;\n",
       "    }\n",
       "\n",
       "    .dataframe thead th {\n",
       "        text-align: right;\n",
       "    }\n",
       "</style>\n",
       "<table border=\"1\" class=\"dataframe\">\n",
       "  <thead>\n",
       "    <tr style=\"text-align: right;\">\n",
       "      <th></th>\n",
       "      <th>유저_번호</th>\n",
       "      <th>행동명</th>\n",
       "      <th>행동일시</th>\n",
       "      <th>운영체제</th>\n",
       "      <th>앱_버전</th>\n",
       "      <th>일_코드</th>\n",
       "    </tr>\n",
       "  </thead>\n",
       "  <tbody>\n",
       "    <tr>\n",
       "      <th>1579216</th>\n",
       "      <td>12</td>\n",
       "      <td>OpenApp</td>\n",
       "      <td>2022-03-14 01:13:11</td>\n",
       "      <td>Android</td>\n",
       "      <td>3.8.0</td>\n",
       "      <td>2022-03-14</td>\n",
       "    </tr>\n",
       "    <tr>\n",
       "      <th>1579218</th>\n",
       "      <td>12</td>\n",
       "      <td>Login</td>\n",
       "      <td>2022-03-14 01:13:15</td>\n",
       "      <td>Android</td>\n",
       "      <td>3.8.0</td>\n",
       "      <td>2022-03-14</td>\n",
       "    </tr>\n",
       "    <tr>\n",
       "      <th>1579219</th>\n",
       "      <td>12</td>\n",
       "      <td>StartLoanApply</td>\n",
       "      <td>2022-03-14 01:13:21</td>\n",
       "      <td>Android</td>\n",
       "      <td>3.8.0</td>\n",
       "      <td>2022-03-14</td>\n",
       "    </tr>\n",
       "    <tr>\n",
       "      <th>1579220</th>\n",
       "      <td>12</td>\n",
       "      <td>ViewLoanApplyIntro</td>\n",
       "      <td>2022-03-14 01:13:22</td>\n",
       "      <td>Android</td>\n",
       "      <td>3.8.0</td>\n",
       "      <td>2022-03-14</td>\n",
       "    </tr>\n",
       "    <tr>\n",
       "      <th>1579230</th>\n",
       "      <td>12</td>\n",
       "      <td>CompleteIDCertification</td>\n",
       "      <td>2022-03-14 01:13:46</td>\n",
       "      <td>Android</td>\n",
       "      <td>3.8.0</td>\n",
       "      <td>2022-03-14</td>\n",
       "    </tr>\n",
       "    <tr>\n",
       "      <th>...</th>\n",
       "      <td>...</td>\n",
       "      <td>...</td>\n",
       "      <td>...</td>\n",
       "      <td>...</td>\n",
       "      <td>...</td>\n",
       "      <td>...</td>\n",
       "    </tr>\n",
       "    <tr>\n",
       "      <th>17274137</th>\n",
       "      <td>12</td>\n",
       "      <td>StartLoanApply</td>\n",
       "      <td>2022-06-30 14:46:53</td>\n",
       "      <td>Android</td>\n",
       "      <td>3.15.1</td>\n",
       "      <td>2022-06-30</td>\n",
       "    </tr>\n",
       "    <tr>\n",
       "      <th>17274141</th>\n",
       "      <td>12</td>\n",
       "      <td>ViewLoanApplyIntro</td>\n",
       "      <td>2022-06-30 14:46:53</td>\n",
       "      <td>Android</td>\n",
       "      <td>3.15.1</td>\n",
       "      <td>2022-06-30</td>\n",
       "    </tr>\n",
       "    <tr>\n",
       "      <th>17274203</th>\n",
       "      <td>12</td>\n",
       "      <td>CompleteIDCertification</td>\n",
       "      <td>2022-06-30 14:47:13</td>\n",
       "      <td>Android</td>\n",
       "      <td>3.15.1</td>\n",
       "      <td>2022-06-30</td>\n",
       "    </tr>\n",
       "    <tr>\n",
       "      <th>17274740</th>\n",
       "      <td>12</td>\n",
       "      <td>EndLoanApply</td>\n",
       "      <td>2022-06-30 14:49:45</td>\n",
       "      <td>Android</td>\n",
       "      <td>3.15.1</td>\n",
       "      <td>2022-06-30</td>\n",
       "    </tr>\n",
       "    <tr>\n",
       "      <th>17274758</th>\n",
       "      <td>12</td>\n",
       "      <td>EndLoanApply</td>\n",
       "      <td>2022-06-30 14:49:50</td>\n",
       "      <td>Android</td>\n",
       "      <td>3.15.1</td>\n",
       "      <td>2022-06-30</td>\n",
       "    </tr>\n",
       "  </tbody>\n",
       "</table>\n",
       "<p>114 rows × 6 columns</p>\n",
       "</div>"
      ],
      "text/plain": [
       "          유저_번호                      행동명                행동일시     운영체제    앱_버전  \\\n",
       "1579216      12                  OpenApp 2022-03-14 01:13:11  Android   3.8.0   \n",
       "1579218      12                    Login 2022-03-14 01:13:15  Android   3.8.0   \n",
       "1579219      12           StartLoanApply 2022-03-14 01:13:21  Android   3.8.0   \n",
       "1579220      12       ViewLoanApplyIntro 2022-03-14 01:13:22  Android   3.8.0   \n",
       "1579230      12  CompleteIDCertification 2022-03-14 01:13:46  Android   3.8.0   \n",
       "...         ...                      ...                 ...      ...     ...   \n",
       "17274137     12           StartLoanApply 2022-06-30 14:46:53  Android  3.15.1   \n",
       "17274141     12       ViewLoanApplyIntro 2022-06-30 14:46:53  Android  3.15.1   \n",
       "17274203     12  CompleteIDCertification 2022-06-30 14:47:13  Android  3.15.1   \n",
       "17274740     12             EndLoanApply 2022-06-30 14:49:45  Android  3.15.1   \n",
       "17274758     12             EndLoanApply 2022-06-30 14:49:50  Android  3.15.1   \n",
       "\n",
       "               일_코드  \n",
       "1579216  2022-03-14  \n",
       "1579218  2022-03-14  \n",
       "1579219  2022-03-14  \n",
       "1579220  2022-03-14  \n",
       "1579230  2022-03-14  \n",
       "...             ...  \n",
       "17274137 2022-06-30  \n",
       "17274141 2022-06-30  \n",
       "17274203 2022-06-30  \n",
       "17274740 2022-06-30  \n",
       "17274758 2022-06-30  \n",
       "\n",
       "[114 rows x 6 columns]"
      ]
     },
     "execution_count": 168,
     "metadata": {},
     "output_type": "execute_result"
    }
   ],
   "source": [
    "log_data[log_data['유저_번호']==12]"
   ]
  },
  {
   "cell_type": "code",
   "execution_count": 170,
   "metadata": {},
   "outputs": [
    {
     "data": {
      "text/html": [
       "<div>\n",
       "<style scoped>\n",
       "    .dataframe tbody tr th:only-of-type {\n",
       "        vertical-align: middle;\n",
       "    }\n",
       "\n",
       "    .dataframe tbody tr th {\n",
       "        vertical-align: top;\n",
       "    }\n",
       "\n",
       "    .dataframe thead th {\n",
       "        text-align: right;\n",
       "    }\n",
       "</style>\n",
       "<table border=\"1\" class=\"dataframe\">\n",
       "  <thead>\n",
       "    <tr style=\"text-align: right;\">\n",
       "      <th></th>\n",
       "      <th>유저_번호</th>\n",
       "      <th>행동명</th>\n",
       "      <th>행동일시</th>\n",
       "      <th>운영체제</th>\n",
       "      <th>앱_버전</th>\n",
       "      <th>일_코드</th>\n",
       "    </tr>\n",
       "  </thead>\n",
       "  <tbody>\n",
       "    <tr>\n",
       "      <th>11585096</th>\n",
       "      <td>879698</td>\n",
       "      <td>OpenApp</td>\n",
       "      <td>2022-05-24 22:33:24</td>\n",
       "      <td>iOS</td>\n",
       "      <td>NaN</td>\n",
       "      <td>2022-05-24</td>\n",
       "    </tr>\n",
       "    <tr>\n",
       "      <th>11585113</th>\n",
       "      <td>879698</td>\n",
       "      <td>ViewLoanApplyIntro</td>\n",
       "      <td>2022-05-24 22:33:32</td>\n",
       "      <td>iOS</td>\n",
       "      <td>NaN</td>\n",
       "      <td>2022-05-24</td>\n",
       "    </tr>\n",
       "    <tr>\n",
       "      <th>11585114</th>\n",
       "      <td>879698</td>\n",
       "      <td>StartLoanApply</td>\n",
       "      <td>2022-05-24 22:33:32</td>\n",
       "      <td>iOS</td>\n",
       "      <td>NaN</td>\n",
       "      <td>2022-05-24</td>\n",
       "    </tr>\n",
       "  </tbody>\n",
       "</table>\n",
       "</div>"
      ],
      "text/plain": [
       "           유저_번호                 행동명                행동일시 운영체제 앱_버전       일_코드\n",
       "11585096  879698             OpenApp 2022-05-24 22:33:24  iOS  NaN 2022-05-24\n",
       "11585113  879698  ViewLoanApplyIntro 2022-05-24 22:33:32  iOS  NaN 2022-05-24\n",
       "11585114  879698      StartLoanApply 2022-05-24 22:33:32  iOS  NaN 2022-05-24"
      ]
     },
     "execution_count": 170,
     "metadata": {},
     "output_type": "execute_result"
    }
   ],
   "source": [
    "log_data[log_data['유저_번호']==879698]"
   ]
  },
  {
   "cell_type": "code",
   "execution_count": 7,
   "metadata": {},
   "outputs": [
    {
     "name": "stdout",
     "output_type": "stream",
     "text": [
      "370436\n"
     ]
    }
   ],
   "source": [
    "# user_spec & log_data\n",
    "users=set(user_spec['유저_번호'])\n",
    "log_user=set(log_data['유저_번호'])\n",
    "count=[]\n",
    "\n",
    "for num in log_user:\n",
    "    if num in users:\n",
    "        count.append(num)\n",
    "\n",
    "print(len(count))"
   ]
  },
  {
   "cell_type": "markdown",
   "metadata": {},
   "source": [
    "## 주요 경로\n",
    "### 1. 경로의 종류\n",
    "#### 1) 5개의 스크린\n",
    "- 한도조회인트로페이지조회(ViewLoanApplyIntro), 대출관리서비스 이용(UseLoanManage), 여윳돈 계산기 이용(UsePrepayCalc), DSR 계산기 이용(UseDSRCalc), KCB 신용정보 조회(GetCreditInfo)\n",
    "- ['ViewLoanApplyIntro', 'UseLoanManage', 'UsePrepayCalc', 'UseDSRCalc', 'GetCreditInfo']\n",
    "- +a로 퍼널 포함\n",
    "- ['ViewLoanApplyIntro', 'StartLoanApply', 'CompleteIDCertification', 'EndLoanApply', 'UseLoanManage', 'UsePrepayCalc', 'UseDSRCalc', 'GetCreditInfo']\n",
    "#### 2) 시작점-종료점\n",
    "- OpenApp부터 그 다음 OpenApp 까지\n",
    "\n",
    "### 2. 슬라이싱\n",
    "- 0. log_data에서 5개의 스크린만 뽑기\n",
    "- 1. log_data를 user별로 \n",
    "- 2. OpenApp 앞뒤를 쪼개서 여러개의 리스트로 합친\n",
    "- 3. 전체 route_list에 넣음\n",
    "- 4. 겹치는 것의 종류 확인\n",
    "    + 5!+4!+3!+2!+1!=153 보다 많다면 쪼개야하나.. 일단 최대 길이 찾아서 대기..\n",
    "- 5. value_counts()"
   ]
  },
  {
   "cell_type": "code",
   "execution_count": 8,
   "metadata": {},
   "outputs": [
    {
     "data": {
      "text/plain": [
       "(14861363, 17359850, 577860)"
      ]
     },
     "execution_count": 8,
     "metadata": {},
     "output_type": "execute_result"
    }
   ],
   "source": [
    "screens = ['ViewLoanApplyIntro', 'UseLoanManage', 'UsePrepayCalc', 'UseDSRCalc', 'GetCreditInfo', \n",
    "           'StartLoanApply', 'CompleteIDCertification', 'EndLoanApply']\n",
    "main_route_log_df=log_data[(log_data['행동명']==\"OpenApp\")|\n",
    "                           (log_data['행동명']==screens[0])|\n",
    "                           (log_data['행동명']==screens[1])|\n",
    "                           (log_data['행동명']==screens[2])|\n",
    "                           (log_data['행동명']==screens[3])|\n",
    "                           (log_data['행동명']==screens[4])|\n",
    "                           (log_data['행동명']==screens[5])|\n",
    "                           (log_data['행동명']==screens[6])|\n",
    "                           (log_data['행동명']==screens[7])\n",
    "                           ]\n",
    "main_route_log_df.reset_index(drop=True, inplace=True)\n",
    "len(main_route_log_df), len(log_data), len(set(main_route_log_df['유저_번호']))"
   ]
  },
  {
   "cell_type": "markdown",
   "metadata": {},
   "source": [
    "#### OpenApp 기준 슬라이싱"
   ]
  },
  {
   "cell_type": "code",
   "execution_count": 89,
   "metadata": {},
   "outputs": [
    {
     "name": "stderr",
     "output_type": "stream",
     "text": [
      "100%|██████████| 577860/577860 [39:11<00:00, 245.71it/s] \n"
     ]
    }
   ],
   "source": [
    "users=list(set(main_route_log_df['유저_번호']))\n",
    "route_list=[]\n",
    "user_list=[]\n",
    "\n",
    "count_op=0\n",
    "\n",
    "# target의 idx들(복수)를 list로 추출\n",
    "def list_idx(arr, target):\n",
    "    return [i for i in range(len(arr)) if arr[i]==target]\n",
    "\n",
    "# 유저별로 OpenApp 기준 슬라이싱\n",
    "for i in tqdm(range(len(users))):\n",
    "    df=main_route_log_df[main_route_log_df['유저_번호']==users[i]]\n",
    "    idx_list=list_idx(list(df['행동명']), 'OpenApp')\n",
    "    if len(idx_list)>0 and len(df)>0:\n",
    "        for j in range(len(idx_list)):\n",
    "            start=idx_list[j]\n",
    "            try:\n",
    "                end=idx_list[j+1]\n",
    "                route_list.append(list(df['행동명'].iloc[start:end]))\n",
    "                user_list.append(users[i])\n",
    "            except IndexError:\n",
    "                count_op+=1\n",
    "                route_list.append(list(df['행동명'].iloc[start:]))\n",
    "                user_list.append(users[i])\n",
    "            \n",
    "        # route_list.append([df['행동명'].iloc[idx_list[i]:min(idx_list[i+1], len(df))] for i in range(len(idx_list))])\n",
    "    else: continue"
   ]
  },
  {
   "cell_type": "code",
   "execution_count": 130,
   "metadata": {},
   "outputs": [
    {
     "data": {
      "text/plain": [
       "(879698, 418602, 3456728)"
      ]
     },
     "execution_count": 130,
     "metadata": {},
     "output_type": "execute_result"
    }
   ],
   "source": [
    "max(user_list), count_op, len(user_list)\n"
   ]
  },
  {
   "cell_type": "markdown",
   "metadata": {},
   "source": [
    "- route_list와 user_list가 같은 idx를 공유"
   ]
  },
  {
   "cell_type": "code",
   "execution_count": 131,
   "metadata": {},
   "outputs": [
    {
     "data": {
      "text/plain": [
       "(3456728, 3456728)"
      ]
     },
     "execution_count": 131,
     "metadata": {},
     "output_type": "execute_result"
    }
   ],
   "source": [
    "len(route_list), len(user_list) # 같아야 함"
   ]
  },
  {
   "cell_type": "code",
   "execution_count": 132,
   "metadata": {},
   "outputs": [],
   "source": [
    "np.save('../data/route_list', np.array(route_list)) # 모든 루트\n",
    "np.save('../data/user_list', np.array(user_list)) # 해당 루트의 유저 번호(동일 idx)"
   ]
  },
  {
   "cell_type": "markdown",
   "metadata": {},
   "source": [
    "## 경로\n",
    "- 5개의 스크린을 기준으로 1~5개의 순서에 대한 permutation을 돌림\n",
    "- 0개부터 5개까지 [1 + 5 + 5*4 + 5*4*3 + 5*4*3*2 + 5*4*3*2*1 = **326**]\n",
    "- **326가지의 루트**가 있다"
   ]
  },
  {
   "cell_type": "code",
   "execution_count": 171,
   "metadata": {},
   "outputs": [
    {
     "data": {
      "text/plain": [
       "(330, 326)"
      ]
     },
     "execution_count": 171,
     "metadata": {},
     "output_type": "execute_result"
    }
   ],
   "source": [
    "from asyncore import poll3\n",
    "from itertools import permutations\n",
    "from itertools import combinations\n",
    "\n",
    "log_init=[('ViewLoanApplyIntro'), ('UseLoanManage'), ('UsePrepayCalc'), ('UseDSRCalc'), ('GetCreditInfo')]\n",
    "log_columns = [('ViewLoanApplyIntro'), ('UseLoanManage'),\n",
    "               ('UsePrepayCalc'), ('UseDSRCalc'), ('GetCreditInfo')]\n",
    "\n",
    "p2=list(permutations(log_init, 2))\n",
    "p3=list(permutations(log_init, 3))\n",
    "p4=list(permutations(log_init, 4))\n",
    "p5=list(permutations(log_init, 5))\n",
    "\n",
    "n1=5\n",
    "n2=len(p2)\n",
    "n3=len(p3)\n",
    "n4=len(p4)\n",
    "n5=len(p5)\n",
    "\n",
    "for arr in p2:\n",
    "    log_columns.append(arr)\n",
    "for arr in p3:\n",
    "    log_columns.append(arr)\n",
    "for arr in p4:\n",
    "    log_columns.append(arr)\n",
    "for arr in p5:\n",
    "    log_columns.append(arr)\n",
    "    \n",
    "log_columns.append((''))\n",
    "\n",
    "# 퍼널 용도 추가\n",
    "log_columns.append(tuple(('StartLoanApply', 'ViewLoanApplyIntro')))\n",
    "log_columns.append(tuple(('ViewLoanApplyIntro', 'StartLoanApply')))\n",
    "log_columns.append(tuple(('StartLoanApply', 'CompleteIDCertification')))\n",
    "log_columns.append(tuple(('CompleteIDCertification', 'EndLoanApply')))\n",
    "\n",
    "len(log_columns), n1+n2+n3+n4+n5+1 # 5개의 스크린의 1, 2, 3, 4, 5 순열 합"
   ]
  },
  {
   "cell_type": "markdown",
   "metadata": {},
   "source": [
    "- 아무 활동도 하지 않은 경로의 개수"
   ]
  },
  {
   "cell_type": "code",
   "execution_count": 172,
   "metadata": {},
   "outputs": [
    {
     "name": "stdout",
     "output_type": "stream",
     "text": [
      "943467명의 유저가 경로가 없음.\n"
     ]
    },
    {
     "data": {
      "text/html": [
       "<div>\n",
       "<style scoped>\n",
       "    .dataframe tbody tr th:only-of-type {\n",
       "        vertical-align: middle;\n",
       "    }\n",
       "\n",
       "    .dataframe tbody tr th {\n",
       "        vertical-align: top;\n",
       "    }\n",
       "\n",
       "    .dataframe thead th {\n",
       "        text-align: right;\n",
       "    }\n",
       "</style>\n",
       "<table border=\"1\" class=\"dataframe\">\n",
       "  <thead>\n",
       "    <tr style=\"text-align: right;\">\n",
       "      <th></th>\n",
       "      <th>count</th>\n",
       "    </tr>\n",
       "  </thead>\n",
       "  <tbody>\n",
       "    <tr>\n",
       "      <th>ViewLoanApplyIntro</th>\n",
       "      <td>0</td>\n",
       "    </tr>\n",
       "    <tr>\n",
       "      <th>UseLoanManage</th>\n",
       "      <td>0</td>\n",
       "    </tr>\n",
       "    <tr>\n",
       "      <th>UsePrepayCalc</th>\n",
       "      <td>0</td>\n",
       "    </tr>\n",
       "    <tr>\n",
       "      <th>UseDSRCalc</th>\n",
       "      <td>0</td>\n",
       "    </tr>\n",
       "    <tr>\n",
       "      <th>GetCreditInfo</th>\n",
       "      <td>0</td>\n",
       "    </tr>\n",
       "    <tr>\n",
       "      <th>...</th>\n",
       "      <td>...</td>\n",
       "    </tr>\n",
       "    <tr>\n",
       "      <th></th>\n",
       "      <td>943467</td>\n",
       "    </tr>\n",
       "    <tr>\n",
       "      <th>(StartLoanApply, ViewLoanApplyIntro)</th>\n",
       "      <td>0</td>\n",
       "    </tr>\n",
       "    <tr>\n",
       "      <th>(ViewLoanApplyIntro, StartLoanApply)</th>\n",
       "      <td>0</td>\n",
       "    </tr>\n",
       "    <tr>\n",
       "      <th>(StartLoanApply, CompleteIDCertification)</th>\n",
       "      <td>0</td>\n",
       "    </tr>\n",
       "    <tr>\n",
       "      <th>(CompleteIDCertification, EndLoanApply)</th>\n",
       "      <td>0</td>\n",
       "    </tr>\n",
       "  </tbody>\n",
       "</table>\n",
       "<p>330 rows × 1 columns</p>\n",
       "</div>"
      ],
      "text/plain": [
       "                                            count\n",
       "ViewLoanApplyIntro                              0\n",
       "UseLoanManage                                   0\n",
       "UsePrepayCalc                                   0\n",
       "UseDSRCalc                                      0\n",
       "GetCreditInfo                                   0\n",
       "...                                           ...\n",
       "                                           943467\n",
       "(StartLoanApply, ViewLoanApplyIntro)            0\n",
       "(ViewLoanApplyIntro, StartLoanApply)            0\n",
       "(StartLoanApply, CompleteIDCertification)       0\n",
       "(CompleteIDCertification, EndLoanApply)         0\n",
       "\n",
       "[330 rows x 1 columns]"
      ]
     },
     "execution_count": 172,
     "metadata": {},
     "output_type": "execute_result"
    }
   ],
   "source": [
    "log_ngram_df=pd.DataFrame([0]*len(log_columns), index=log_columns, columns=['count'])\n",
    "users_noroute=[]\n",
    "count=0\n",
    "for i in range(len(route_list)):\n",
    "    if len(route_list[i])==1: \n",
    "        count+=1\n",
    "        users_noroute.append(user_list[i])\n",
    "log_ngram_df.loc['']=count\n",
    "\n",
    "print(\"%d명의 유저가 경로가 없음.\"%(len(users_noroute)))\n",
    "log_ngram_df"
   ]
  },
  {
   "cell_type": "code",
   "execution_count": 173,
   "metadata": {},
   "outputs": [
    {
     "data": {
      "text/plain": [
       "['OpenApp',\n",
       " 'GetCreditInfo',\n",
       " 'UseLoanManage',\n",
       " 'GetCreditInfo',\n",
       " 'UsePrepayCalc',\n",
       " 'ViewLoanApplyIntro',\n",
       " 'StartLoanApply',\n",
       " 'CompleteIDCertification',\n",
       " 'EndLoanApply',\n",
       " 'UseLoanManage',\n",
       " 'GetCreditInfo']"
      ]
     },
     "execution_count": 173,
     "metadata": {},
     "output_type": "execute_result"
    }
   ],
   "source": [
    "route_list[0]"
   ]
  },
  {
   "cell_type": "code",
   "execution_count": 174,
   "metadata": {},
   "outputs": [
    {
     "data": {
      "text/plain": [
       "[20, 20, 20, 20, 20]"
      ]
     },
     "execution_count": 174,
     "metadata": {},
     "output_type": "execute_result"
    }
   ],
   "source": [
    "users_noroute[:5]"
   ]
  },
  {
   "cell_type": "code",
   "execution_count": 175,
   "metadata": {},
   "outputs": [
    {
     "data": {
      "text/plain": [
       "330"
      ]
     },
     "execution_count": 175,
     "metadata": {},
     "output_type": "execute_result"
    }
   ],
   "source": [
    "# 역색인용 dict\n",
    "log_dict={}\n",
    "for col in log_columns:\n",
    "    log_dict[str(col)]=[]\n",
    "    \n",
    "len(log_dict.keys())"
   ]
  },
  {
   "cell_type": "code",
   "execution_count": 176,
   "metadata": {},
   "outputs": [
    {
     "name": "stderr",
     "output_type": "stream",
     "text": [
      "100%|██████████| 3456728/3456728 [2:16:15<00:00, 422.79it/s]  \n"
     ]
    },
    {
     "data": {
      "text/html": [
       "<div>\n",
       "<style scoped>\n",
       "    .dataframe tbody tr th:only-of-type {\n",
       "        vertical-align: middle;\n",
       "    }\n",
       "\n",
       "    .dataframe tbody tr th {\n",
       "        vertical-align: top;\n",
       "    }\n",
       "\n",
       "    .dataframe thead th {\n",
       "        text-align: right;\n",
       "    }\n",
       "</style>\n",
       "<table border=\"1\" class=\"dataframe\">\n",
       "  <thead>\n",
       "    <tr style=\"text-align: right;\">\n",
       "      <th></th>\n",
       "      <th>count</th>\n",
       "    </tr>\n",
       "  </thead>\n",
       "  <tbody>\n",
       "    <tr>\n",
       "      <th>ViewLoanApplyIntro</th>\n",
       "      <td>1601168</td>\n",
       "    </tr>\n",
       "    <tr>\n",
       "      <th>UseLoanManage</th>\n",
       "      <td>1402808</td>\n",
       "    </tr>\n",
       "    <tr>\n",
       "      <th>UsePrepayCalc</th>\n",
       "      <td>5705</td>\n",
       "    </tr>\n",
       "    <tr>\n",
       "      <th>UseDSRCalc</th>\n",
       "      <td>3660</td>\n",
       "    </tr>\n",
       "    <tr>\n",
       "      <th>GetCreditInfo</th>\n",
       "      <td>2073473</td>\n",
       "    </tr>\n",
       "  </tbody>\n",
       "</table>\n",
       "</div>"
      ],
      "text/plain": [
       "                      count\n",
       "ViewLoanApplyIntro  1601168\n",
       "UseLoanManage       1402808\n",
       "UsePrepayCalc          5705\n",
       "UseDSRCalc             3660\n",
       "GetCreditInfo       2073473"
      ]
     },
     "execution_count": 176,
     "metadata": {},
     "output_type": "execute_result"
    }
   ],
   "source": [
    "# screens=['ViewLoanApplyIntro', 'UseLoanManage', 'UsePrepayCalc', 'UseDSRCalc', 'GetCreditInfo']\n",
    "\n",
    "# 조합별 개수 count와 역색인용 Dict 함께 돌리기\n",
    "for i in tqdm(range(len(route_list))):\n",
    "    if len(route_list[i])==1: continue\n",
    "    for n in range(1, len(route_list[i])):\n",
    "        # 원소 안의 2~5개의 순서 지킨 조합에서\n",
    "            # range에서도 1 빠지고 슬라이싱에서도 1 빠져서 머리 터지는 줄\n",
    "        for k in range(n+1, min(n+1+5, len(route_list[i])+1)):\n",
    "            # print(tuple(route_list[i][n:k]))\n",
    "            # 하나일 때랑 여러개 일 때 들어가는 [] 계층이 다름\n",
    "            if len(route_list[i][n:k])==1: \n",
    "                try:\n",
    "                    # count\n",
    "                    log_ngram_df.loc[route_list[i][n:k]]+=1\n",
    "                    # dict\n",
    "                    log_dict[str(route_list[i][n:k][0])].append(i)\n",
    "                except: continue\n",
    "            else: \n",
    "                try: \n",
    "                    # count\n",
    "                    log_ngram_df.loc[[tuple(route_list[i][n:k])]]+=1\n",
    "                    # dict\n",
    "                    log_dict[str(tuple(route_list[i][n:k]))].append(i)\n",
    "                except KeyError:\n",
    "                    continue\n",
    "log_ngram_df.head()"
   ]
  },
  {
   "cell_type": "code",
   "execution_count": 177,
   "metadata": {},
   "outputs": [],
   "source": [
    "# 역색인을 위한 dict 중복 제거 하면 안 돼!!\n",
    "# for key in list(log_dict.keys()):\n",
    "#     log_dict[key]=list(set(log_dict[key]))"
   ]
  },
  {
   "cell_type": "code",
   "execution_count": 178,
   "metadata": {},
   "outputs": [],
   "source": [
    "log_dict_user=log_dict.copy()\n",
    "\n",
    "for key in log_dict.keys():\n",
    "    users=[]\n",
    "    for i in range(len(log_dict[key])):\n",
    "        users.append(user_list[log_dict[key][i]])\n",
    "        \n",
    "    #users=list(set(users))\n",
    "    users.sort()\n",
    "    \n",
    "    log_dict_user[key]=users"
   ]
  },
  {
   "cell_type": "code",
   "execution_count": 179,
   "metadata": {},
   "outputs": [],
   "source": [
    "log_ngram_df.to_csv(\"../data/log_ngram_df.csv\", index=False)\n",
    "np.save('../data/log_columns.npy' ,log_columns)\n",
    "\n",
    "import pickle\n",
    "\n",
    "with open('../data/log_dict.pkl','wb') as f:\n",
    "    pickle.dump(log_dict,f)\n",
    "    \n",
    "with open('../data/log_dict_user.pkl','wb') as f:\n",
    "    pickle.dump(log_dict_user,f)\n",
    "\n",
    "# with open('data_dict.pkl','rb') as f:\n",
    "#     mydict = pickle.load(f)"
   ]
  },
  {
   "cell_type": "code",
   "execution_count": 181,
   "metadata": {},
   "outputs": [
    {
     "data": {
      "text/html": [
       "<div>\n",
       "<style scoped>\n",
       "    .dataframe tbody tr th:only-of-type {\n",
       "        vertical-align: middle;\n",
       "    }\n",
       "\n",
       "    .dataframe tbody tr th {\n",
       "        vertical-align: top;\n",
       "    }\n",
       "\n",
       "    .dataframe thead th {\n",
       "        text-align: right;\n",
       "    }\n",
       "</style>\n",
       "<table border=\"1\" class=\"dataframe\">\n",
       "  <thead>\n",
       "    <tr style=\"text-align: right;\">\n",
       "      <th></th>\n",
       "      <th>count</th>\n",
       "    </tr>\n",
       "  </thead>\n",
       "  <tbody>\n",
       "    <tr>\n",
       "      <th>ViewLoanApplyIntro</th>\n",
       "      <td>1601168</td>\n",
       "    </tr>\n",
       "    <tr>\n",
       "      <th>UseLoanManage</th>\n",
       "      <td>1402808</td>\n",
       "    </tr>\n",
       "    <tr>\n",
       "      <th>UsePrepayCalc</th>\n",
       "      <td>5705</td>\n",
       "    </tr>\n",
       "    <tr>\n",
       "      <th>UseDSRCalc</th>\n",
       "      <td>3660</td>\n",
       "    </tr>\n",
       "    <tr>\n",
       "      <th>GetCreditInfo</th>\n",
       "      <td>2073473</td>\n",
       "    </tr>\n",
       "    <tr>\n",
       "      <th>...</th>\n",
       "      <td>...</td>\n",
       "    </tr>\n",
       "    <tr>\n",
       "      <th></th>\n",
       "      <td>943467</td>\n",
       "    </tr>\n",
       "    <tr>\n",
       "      <th>(StartLoanApply, ViewLoanApplyIntro)</th>\n",
       "      <td>658613</td>\n",
       "    </tr>\n",
       "    <tr>\n",
       "      <th>(ViewLoanApplyIntro, StartLoanApply)</th>\n",
       "      <td>487270</td>\n",
       "    </tr>\n",
       "    <tr>\n",
       "      <th>(StartLoanApply, CompleteIDCertification)</th>\n",
       "      <td>338360</td>\n",
       "    </tr>\n",
       "    <tr>\n",
       "      <th>(CompleteIDCertification, EndLoanApply)</th>\n",
       "      <td>966778</td>\n",
       "    </tr>\n",
       "  </tbody>\n",
       "</table>\n",
       "<p>330 rows × 1 columns</p>\n",
       "</div>"
      ],
      "text/plain": [
       "                                             count\n",
       "ViewLoanApplyIntro                         1601168\n",
       "UseLoanManage                              1402808\n",
       "UsePrepayCalc                                 5705\n",
       "UseDSRCalc                                    3660\n",
       "GetCreditInfo                              2073473\n",
       "...                                            ...\n",
       "                                            943467\n",
       "(StartLoanApply, ViewLoanApplyIntro)        658613\n",
       "(ViewLoanApplyIntro, StartLoanApply)        487270\n",
       "(StartLoanApply, CompleteIDCertification)   338360\n",
       "(CompleteIDCertification, EndLoanApply)     966778\n",
       "\n",
       "[330 rows x 1 columns]"
      ]
     },
     "execution_count": 181,
     "metadata": {},
     "output_type": "execute_result"
    }
   ],
   "source": [
    "log_ngram_df # 하... ㅅㅂ.... 왜이렇게 많은데"
   ]
  },
  {
   "cell_type": "markdown",
   "metadata": {},
   "source": [
    "---"
   ]
  },
  {
   "cell_type": "markdown",
   "metadata": {},
   "source": [
    "## 시각화"
   ]
  },
  {
   "cell_type": "markdown",
   "metadata": {},
   "source": [
    "- df로 그래프 그려줌"
   ]
  },
  {
   "cell_type": "code",
   "execution_count": 182,
   "metadata": {},
   "outputs": [],
   "source": [
    "def plot_log_cols(log_columns_df, n=-1, rotation=45):\n",
    "    if n==-1: n=len(log_columns_df)\n",
    "    log_columns_str=[str(x) for x in log_columns_df.index]\n",
    "    plt.bar(log_columns_str[:n], log_columns_df.iloc[:n]['count'])\n",
    "    plt.xticks(log_columns_str[:n], rotation=rotation, fontsize=8)\n",
    "    plt.show()"
   ]
  },
  {
   "cell_type": "code",
   "execution_count": 183,
   "metadata": {},
   "outputs": [
    {
     "data": {
      "text/plain": [
       "(5, 20, 60, 120, 120)"
      ]
     },
     "execution_count": 183,
     "metadata": {},
     "output_type": "execute_result"
    }
   ],
   "source": [
    "n1, n2, n3, n4, n5"
   ]
  },
  {
   "cell_type": "code",
   "execution_count": 184,
   "metadata": {},
   "outputs": [
    {
     "data": {
      "text/plain": [
       "ViewLoanApplyIntro    1601168\n",
       "UseLoanManage         1402808\n",
       "UsePrepayCalc            5705\n",
       "UseDSRCalc               3660\n",
       "GetCreditInfo         2073473\n",
       "Name: count, dtype: int64"
      ]
     },
     "execution_count": 184,
     "metadata": {},
     "output_type": "execute_result"
    }
   ],
   "source": [
    "log_ngram_df.iloc[:n1]['count']"
   ]
  },
  {
   "cell_type": "code",
   "execution_count": 185,
   "metadata": {},
   "outputs": [
    {
     "data": {
      "image/png": "[encoded data removed]",
      "text/plain": [
       "<Figure size 432x288 with 1 Axes>"
      ]
     },
     "metadata": {
      "needs_background": "light"
     },
     "output_type": "display_data"
    }
   ],
   "source": [
    "plot_log_cols(log_ngram_df, n1)"
   ]
  },
  {
   "cell_type": "code",
   "execution_count": 186,
   "metadata": {},
   "outputs": [
    {
     "data": {
      "image/png": "[encoded data removed]",
      "text/plain": [
       "<Figure size 432x288 with 1 Axes>"
      ]
     },
     "metadata": {
      "needs_background": "light"
     },
     "output_type": "display_data"
    }
   ],
   "source": [
    "# 개수 순으로 정렬\n",
    "log_ngram_sort_df=log_ngram_df.sort_values(by=['count'], ascending=False)\n",
    "plot_log_cols(log_ngram_sort_df, n=20, rotation=90)\n"
   ]
  },
  {
   "cell_type": "code",
   "execution_count": 187,
   "metadata": {},
   "outputs": [
    {
     "data": {
      "text/html": [
       "<div>\n",
       "<style scoped>\n",
       "    .dataframe tbody tr th:only-of-type {\n",
       "        vertical-align: middle;\n",
       "    }\n",
       "\n",
       "    .dataframe tbody tr th {\n",
       "        vertical-align: top;\n",
       "    }\n",
       "\n",
       "    .dataframe thead th {\n",
       "        text-align: right;\n",
       "    }\n",
       "</style>\n",
       "<table border=\"1\" class=\"dataframe\">\n",
       "  <thead>\n",
       "    <tr style=\"text-align: right;\">\n",
       "      <th></th>\n",
       "      <th>count</th>\n",
       "    </tr>\n",
       "  </thead>\n",
       "  <tbody>\n",
       "    <tr>\n",
       "      <th>GetCreditInfo</th>\n",
       "      <td>2073473</td>\n",
       "    </tr>\n",
       "    <tr>\n",
       "      <th>ViewLoanApplyIntro</th>\n",
       "      <td>1601168</td>\n",
       "    </tr>\n",
       "    <tr>\n",
       "      <th>UseLoanManage</th>\n",
       "      <td>1402808</td>\n",
       "    </tr>\n",
       "    <tr>\n",
       "      <th>(CompleteIDCertification, EndLoanApply)</th>\n",
       "      <td>966778</td>\n",
       "    </tr>\n",
       "    <tr>\n",
       "      <th></th>\n",
       "      <td>943467</td>\n",
       "    </tr>\n",
       "    <tr>\n",
       "      <th>(UseLoanManage, GetCreditInfo)</th>\n",
       "      <td>681171</td>\n",
       "    </tr>\n",
       "    <tr>\n",
       "      <th>(StartLoanApply, ViewLoanApplyIntro)</th>\n",
       "      <td>658613</td>\n",
       "    </tr>\n",
       "    <tr>\n",
       "      <th>(GetCreditInfo, UseLoanManage)</th>\n",
       "      <td>565956</td>\n",
       "    </tr>\n",
       "    <tr>\n",
       "      <th>(ViewLoanApplyIntro, StartLoanApply)</th>\n",
       "      <td>487270</td>\n",
       "    </tr>\n",
       "    <tr>\n",
       "      <th>(StartLoanApply, CompleteIDCertification)</th>\n",
       "      <td>338360</td>\n",
       "    </tr>\n",
       "    <tr>\n",
       "      <th>(GetCreditInfo, ViewLoanApplyIntro)</th>\n",
       "      <td>195580</td>\n",
       "    </tr>\n",
       "    <tr>\n",
       "      <th>(UseLoanManage, ViewLoanApplyIntro)</th>\n",
       "      <td>98809</td>\n",
       "    </tr>\n",
       "    <tr>\n",
       "      <th>(ViewLoanApplyIntro, GetCreditInfo)</th>\n",
       "      <td>92326</td>\n",
       "    </tr>\n",
       "    <tr>\n",
       "      <th>(UseLoanManage, GetCreditInfo, ViewLoanApplyIntro)</th>\n",
       "      <td>81736</td>\n",
       "    </tr>\n",
       "    <tr>\n",
       "      <th>(GetCreditInfo, UseLoanManage, ViewLoanApplyIntro)</th>\n",
       "      <td>62552</td>\n",
       "    </tr>\n",
       "    <tr>\n",
       "      <th>(ViewLoanApplyIntro, UseLoanManage)</th>\n",
       "      <td>39242</td>\n",
       "    </tr>\n",
       "    <tr>\n",
       "      <th>(ViewLoanApplyIntro, UseLoanManage, GetCreditInfo)</th>\n",
       "      <td>20045</td>\n",
       "    </tr>\n",
       "    <tr>\n",
       "      <th>(ViewLoanApplyIntro, GetCreditInfo, UseLoanManage)</th>\n",
       "      <td>16604</td>\n",
       "    </tr>\n",
       "    <tr>\n",
       "      <th>(UseLoanManage, ViewLoanApplyIntro, GetCreditInfo)</th>\n",
       "      <td>9640</td>\n",
       "    </tr>\n",
       "    <tr>\n",
       "      <th>UsePrepayCalc</th>\n",
       "      <td>5705</td>\n",
       "    </tr>\n",
       "  </tbody>\n",
       "</table>\n",
       "</div>"
      ],
      "text/plain": [
       "                                                      count\n",
       "GetCreditInfo                                       2073473\n",
       "ViewLoanApplyIntro                                  1601168\n",
       "UseLoanManage                                       1402808\n",
       "(CompleteIDCertification, EndLoanApply)              966778\n",
       "                                                     943467\n",
       "(UseLoanManage, GetCreditInfo)                       681171\n",
       "(StartLoanApply, ViewLoanApplyIntro)                 658613\n",
       "(GetCreditInfo, UseLoanManage)                       565956\n",
       "(ViewLoanApplyIntro, StartLoanApply)                 487270\n",
       "(StartLoanApply, CompleteIDCertification)            338360\n",
       "(GetCreditInfo, ViewLoanApplyIntro)                  195580\n",
       "(UseLoanManage, ViewLoanApplyIntro)                   98809\n",
       "(ViewLoanApplyIntro, GetCreditInfo)                   92326\n",
       "(UseLoanManage, GetCreditInfo, ViewLoanApplyIntro)    81736\n",
       "(GetCreditInfo, UseLoanManage, ViewLoanApplyIntro)    62552\n",
       "(ViewLoanApplyIntro, UseLoanManage)                   39242\n",
       "(ViewLoanApplyIntro, UseLoanManage, GetCreditInfo)    20045\n",
       "(ViewLoanApplyIntro, GetCreditInfo, UseLoanManage)    16604\n",
       "(UseLoanManage, ViewLoanApplyIntro, GetCreditInfo)     9640\n",
       "UsePrepayCalc                                          5705"
      ]
     },
     "execution_count": 187,
     "metadata": {},
     "output_type": "execute_result"
    }
   ],
   "source": [
    "log_ngram_sort_df.head(20) "
   ]
  },
  {
   "cell_type": "markdown",
   "metadata": {},
   "source": [
    "- 상위 15% 파싱(min 190, count 48)"
   ]
  },
  {
   "cell_type": "code",
   "execution_count": 188,
   "metadata": {},
   "outputs": [
    {
     "data": {
      "text/html": [
       "<div>\n",
       "<style scoped>\n",
       "    .dataframe tbody tr th:only-of-type {\n",
       "        vertical-align: middle;\n",
       "    }\n",
       "\n",
       "    .dataframe tbody tr th {\n",
       "        vertical-align: top;\n",
       "    }\n",
       "\n",
       "    .dataframe thead th {\n",
       "        text-align: right;\n",
       "    }\n",
       "</style>\n",
       "<table border=\"1\" class=\"dataframe\">\n",
       "  <thead>\n",
       "    <tr style=\"text-align: right;\">\n",
       "      <th></th>\n",
       "      <th>count</th>\n",
       "    </tr>\n",
       "  </thead>\n",
       "  <tbody>\n",
       "    <tr>\n",
       "      <th>count</th>\n",
       "      <td>4.900000e+01</td>\n",
       "    </tr>\n",
       "    <tr>\n",
       "      <th>mean</th>\n",
       "      <td>2.116394e+05</td>\n",
       "    </tr>\n",
       "    <tr>\n",
       "      <th>std</th>\n",
       "      <td>4.587222e+05</td>\n",
       "    </tr>\n",
       "    <tr>\n",
       "      <th>min</th>\n",
       "      <td>2.280000e+02</td>\n",
       "    </tr>\n",
       "    <tr>\n",
       "      <th>25%</th>\n",
       "      <td>3.820000e+02</td>\n",
       "    </tr>\n",
       "    <tr>\n",
       "      <th>50%</th>\n",
       "      <td>1.872000e+03</td>\n",
       "    </tr>\n",
       "    <tr>\n",
       "      <th>75%</th>\n",
       "      <td>9.232600e+04</td>\n",
       "    </tr>\n",
       "    <tr>\n",
       "      <th>max</th>\n",
       "      <td>2.073473e+06</td>\n",
       "    </tr>\n",
       "  </tbody>\n",
       "</table>\n",
       "</div>"
      ],
      "text/plain": [
       "              count\n",
       "count  4.900000e+01\n",
       "mean   2.116394e+05\n",
       "std    4.587222e+05\n",
       "min    2.280000e+02\n",
       "25%    3.820000e+02\n",
       "50%    1.872000e+03\n",
       "75%    9.232600e+04\n",
       "max    2.073473e+06"
      ]
     },
     "execution_count": 188,
     "metadata": {},
     "output_type": "execute_result"
    }
   ],
   "source": [
    "log_ngram_sort_df_15=log_ngram_sort_df[:int(len(log_ngram_sort_df)*0.15)]\n",
    "log_ngram_sort_df_15.describe()"
   ]
  },
  {
   "cell_type": "markdown",
   "metadata": {},
   "source": [
    "- 첫 스크린 별로"
   ]
  },
  {
   "cell_type": "code",
   "execution_count": 189,
   "metadata": {},
   "outputs": [
    {
     "data": {
      "text/plain": [
       "['ViewLoanApplyIntro',\n",
       " 'UseLoanManage',\n",
       " 'UsePrepayCalc',\n",
       " 'UseDSRCalc',\n",
       " 'GetCreditInfo',\n",
       " 'StartLoanApply',\n",
       " 'CompleteIDCertification',\n",
       " 'EndLoanApply']"
      ]
     },
     "execution_count": 189,
     "metadata": {},
     "output_type": "execute_result"
    }
   ],
   "source": [
    "screens\n",
    "# SL, UL, UP, UD, GC"
   ]
  },
  {
   "cell_type": "code",
   "execution_count": 190,
   "metadata": {},
   "outputs": [],
   "source": [
    "SL=[x for x in log_ngram_sort_df_15.drop(['']).index if x[0]==screens[0] or x==screens[0]]\n",
    "UL=[x for x in log_ngram_sort_df_15.drop(['']).index if x[0]==screens[1] or x==screens[1]]\n",
    "UP=[x for x in log_ngram_sort_df_15.drop(['']).index if x[0]==screens[2] or x==screens[2]]\n",
    "UD=[x for x in log_ngram_sort_df_15.drop(['']).index if x[0]==screens[3] or x==screens[3]]\n",
    "GC=[x for x in log_ngram_sort_df_15.drop(['']).index if x[0]==screens[4] or x==screens[4]]"
   ]
  },
  {
   "cell_type": "code",
   "execution_count": 191,
   "metadata": {},
   "outputs": [],
   "source": [
    "# log_ngram_sort_df_15.loc[[list(list(SL)[0])]]\n",
    "SL_df=log_ngram_sort_df_15.loc[list(SL)]\n",
    "UL_df=log_ngram_sort_df_15.loc[list(UL)]\n",
    "UP_df=log_ngram_sort_df_15.loc[list(UP)]\n",
    "UD_df=log_ngram_sort_df_15.loc[list(UD)]\n",
    "GC_df=log_ngram_sort_df_15.loc[list(GC)]"
   ]
  },
  {
   "cell_type": "code",
   "execution_count": 192,
   "metadata": {},
   "outputs": [],
   "source": [
    "def plot_log_cols_info(log_columns_df, n=-1, rotation=45):\n",
    "    if n==-1: n=len(log_columns_df)\n",
    "    log_columns_str=[str(x) for x in log_columns_df.index]\n",
    "    plt.title(log_columns_str[0]+\"의 분포\")\n",
    "    plt.bar(log_columns_str[:n], log_columns_df.iloc[:n]['count'])\n",
    "    plt.xticks(log_columns_str[:n], rotation=rotation, fontsize=8)\n",
    "    plt.show()\n",
    "    print(log_columns_df.describe())"
   ]
  },
  {
   "cell_type": "code",
   "execution_count": 193,
   "metadata": {},
   "outputs": [
    {
     "data": {
      "image/png": "[encoded data removed]",
      "text/plain": [
       "<Figure size 432x288 with 1 Axes>"
      ]
     },
     "metadata": {
      "needs_background": "light"
     },
     "output_type": "display_data"
    },
    {
     "name": "stdout",
     "output_type": "stream",
     "text": [
      "              count\n",
      "count  8.000000e+00\n",
      "mean   2.821565e+05\n",
      "std    5.574194e+05\n",
      "min    2.560000e+02\n",
      "25%    1.253825e+04\n",
      "50%    2.964350e+04\n",
      "75%    1.910620e+05\n",
      "max    1.601168e+06\n"
     ]
    }
   ],
   "source": [
    "plot_log_cols_info(SL_df, rotation=90)"
   ]
  },
  {
   "cell_type": "code",
   "execution_count": 194,
   "metadata": {},
   "outputs": [
    {
     "data": {
      "image/png": "[encoded data removed]",
      "text/plain": [
       "<Figure size 432x288 with 1 Axes>"
      ]
     },
     "metadata": {
      "needs_background": "light"
     },
     "output_type": "display_data"
    },
    {
     "name": "stdout",
     "output_type": "stream",
     "text": [
      "              count\n",
      "count  1.400000e+01\n",
      "mean   1.629870e+05\n",
      "std    3.996639e+05\n",
      "min    2.390000e+02\n",
      "25%    3.677500e+02\n",
      "50%    1.405000e+03\n",
      "75%    6.371200e+04\n",
      "max    1.402808e+06\n"
     ]
    },
    {
     "data": {
      "text/plain": [
       "(None,)"
      ]
     },
     "execution_count": 194,
     "metadata": {},
     "output_type": "execute_result"
    }
   ],
   "source": [
    "plot_log_cols_info(UL_df, rotation=90), \n"
   ]
  },
  {
   "cell_type": "code",
   "execution_count": 195,
   "metadata": {},
   "outputs": [
    {
     "data": {
      "image/png": "[encoded data removed]",
      "text/plain": [
       "<Figure size 432x288 with 1 Axes>"
      ]
     },
     "metadata": {
      "needs_background": "light"
     },
     "output_type": "display_data"
    },
    {
     "name": "stdout",
     "output_type": "stream",
     "text": [
      "             count\n",
      "count     7.000000\n",
      "mean   1254.714286\n",
      "std    1985.695320\n",
      "min     228.000000\n",
      "25%     309.500000\n",
      "50%     526.000000\n",
      "75%     852.500000\n",
      "max    5705.000000\n"
     ]
    },
    {
     "data": {
      "text/plain": [
       "(None,)"
      ]
     },
     "execution_count": 195,
     "metadata": {},
     "output_type": "execute_result"
    }
   ],
   "source": [
    "plot_log_cols_info(UP_df, rotation=90), "
   ]
  },
  {
   "cell_type": "code",
   "execution_count": 196,
   "metadata": {},
   "outputs": [
    {
     "data": {
      "image/png": "[encoded data removed]",
      "text/plain": [
       "<Figure size 432x288 with 1 Axes>"
      ]
     },
     "metadata": {
      "needs_background": "light"
     },
     "output_type": "display_data"
    },
    {
     "name": "stdout",
     "output_type": "stream",
     "text": [
      "             count\n",
      "count     4.000000\n",
      "mean   1336.000000\n",
      "std    1554.608632\n",
      "min     382.000000\n",
      "25%     568.000000\n",
      "50%     651.000000\n",
      "75%    1419.000000\n",
      "max    3660.000000\n"
     ]
    },
    {
     "data": {
      "text/plain": [
       "(None,)"
      ]
     },
     "execution_count": 196,
     "metadata": {},
     "output_type": "execute_result"
    }
   ],
   "source": [
    "plot_log_cols_info(UD_df, rotation=90), "
   ]
  },
  {
   "cell_type": "code",
   "execution_count": 197,
   "metadata": {},
   "outputs": [
    {
     "data": {
      "image/png": "[encoded data removed]",
      "text/plain": [
       "<Figure size 432x288 with 1 Axes>"
      ]
     },
     "metadata": {
      "needs_background": "light"
     },
     "output_type": "display_data"
    },
    {
     "name": "stdout",
     "output_type": "stream",
     "text": [
      "              count\n",
      "count  1.200000e+01\n",
      "mean   2.424930e+05\n",
      "std    5.997095e+05\n",
      "min    2.300000e+02\n",
      "25%    7.960000e+02\n",
      "50%    2.085000e+03\n",
      "75%    9.580900e+04\n",
      "max    2.073473e+06\n"
     ]
    }
   ],
   "source": [
    "plot_log_cols_info(GC_df, rotation=90)"
   ]
  },
  {
   "cell_type": "markdown",
   "metadata": {},
   "source": [
    "- 색인"
   ]
  },
  {
   "cell_type": "code",
   "execution_count": 198,
   "metadata": {},
   "outputs": [
    {
     "data": {
      "text/plain": [
       "['ViewLoanApplyIntro',\n",
       " 'UseLoanManage',\n",
       " 'UsePrepayCalc',\n",
       " 'UseDSRCalc',\n",
       " 'GetCreditInfo',\n",
       " ('ViewLoanApplyIntro', 'UseLoanManage'),\n",
       " ('ViewLoanApplyIntro', 'UsePrepayCalc'),\n",
       " ('ViewLoanApplyIntro', 'UseDSRCalc'),\n",
       " ('ViewLoanApplyIntro', 'GetCreditInfo'),\n",
       " ('UseLoanManage', 'ViewLoanApplyIntro')]"
      ]
     },
     "execution_count": 198,
     "metadata": {},
     "output_type": "execute_result"
    }
   ],
   "source": [
    "log_columns[:10]"
   ]
  },
  {
   "cell_type": "code",
   "execution_count": 199,
   "metadata": {},
   "outputs": [
    {
     "data": {
      "text/html": [
       "<div>\n",
       "<style scoped>\n",
       "    .dataframe tbody tr th:only-of-type {\n",
       "        vertical-align: middle;\n",
       "    }\n",
       "\n",
       "    .dataframe tbody tr th {\n",
       "        vertical-align: top;\n",
       "    }\n",
       "\n",
       "    .dataframe thead th {\n",
       "        text-align: right;\n",
       "    }\n",
       "</style>\n",
       "<table border=\"1\" class=\"dataframe\">\n",
       "  <thead>\n",
       "    <tr style=\"text-align: right;\">\n",
       "      <th></th>\n",
       "      <th>count</th>\n",
       "      <th>rank</th>\n",
       "    </tr>\n",
       "  </thead>\n",
       "  <tbody>\n",
       "    <tr>\n",
       "      <th>GetCreditInfo</th>\n",
       "      <td>2073473</td>\n",
       "      <td>1</td>\n",
       "    </tr>\n",
       "    <tr>\n",
       "      <th>ViewLoanApplyIntro</th>\n",
       "      <td>1601168</td>\n",
       "      <td>2</td>\n",
       "    </tr>\n",
       "    <tr>\n",
       "      <th>UseLoanManage</th>\n",
       "      <td>1402808</td>\n",
       "      <td>3</td>\n",
       "    </tr>\n",
       "    <tr>\n",
       "      <th>(CompleteIDCertification, EndLoanApply)</th>\n",
       "      <td>966778</td>\n",
       "      <td>4</td>\n",
       "    </tr>\n",
       "    <tr>\n",
       "      <th></th>\n",
       "      <td>943467</td>\n",
       "      <td>5</td>\n",
       "    </tr>\n",
       "    <tr>\n",
       "      <th>(UseLoanManage, GetCreditInfo)</th>\n",
       "      <td>681171</td>\n",
       "      <td>6</td>\n",
       "    </tr>\n",
       "    <tr>\n",
       "      <th>(StartLoanApply, ViewLoanApplyIntro)</th>\n",
       "      <td>658613</td>\n",
       "      <td>7</td>\n",
       "    </tr>\n",
       "    <tr>\n",
       "      <th>(GetCreditInfo, UseLoanManage)</th>\n",
       "      <td>565956</td>\n",
       "      <td>8</td>\n",
       "    </tr>\n",
       "    <tr>\n",
       "      <th>(ViewLoanApplyIntro, StartLoanApply)</th>\n",
       "      <td>487270</td>\n",
       "      <td>9</td>\n",
       "    </tr>\n",
       "    <tr>\n",
       "      <th>(StartLoanApply, CompleteIDCertification)</th>\n",
       "      <td>338360</td>\n",
       "      <td>10</td>\n",
       "    </tr>\n",
       "    <tr>\n",
       "      <th>(GetCreditInfo, ViewLoanApplyIntro)</th>\n",
       "      <td>195580</td>\n",
       "      <td>11</td>\n",
       "    </tr>\n",
       "    <tr>\n",
       "      <th>(UseLoanManage, ViewLoanApplyIntro)</th>\n",
       "      <td>98809</td>\n",
       "      <td>12</td>\n",
       "    </tr>\n",
       "    <tr>\n",
       "      <th>(ViewLoanApplyIntro, GetCreditInfo)</th>\n",
       "      <td>92326</td>\n",
       "      <td>13</td>\n",
       "    </tr>\n",
       "    <tr>\n",
       "      <th>(UseLoanManage, GetCreditInfo, ViewLoanApplyIntro)</th>\n",
       "      <td>81736</td>\n",
       "      <td>14</td>\n",
       "    </tr>\n",
       "    <tr>\n",
       "      <th>(GetCreditInfo, UseLoanManage, ViewLoanApplyIntro)</th>\n",
       "      <td>62552</td>\n",
       "      <td>15</td>\n",
       "    </tr>\n",
       "    <tr>\n",
       "      <th>(ViewLoanApplyIntro, UseLoanManage)</th>\n",
       "      <td>39242</td>\n",
       "      <td>16</td>\n",
       "    </tr>\n",
       "    <tr>\n",
       "      <th>(ViewLoanApplyIntro, UseLoanManage, GetCreditInfo)</th>\n",
       "      <td>20045</td>\n",
       "      <td>17</td>\n",
       "    </tr>\n",
       "    <tr>\n",
       "      <th>(ViewLoanApplyIntro, GetCreditInfo, UseLoanManage)</th>\n",
       "      <td>16604</td>\n",
       "      <td>18</td>\n",
       "    </tr>\n",
       "    <tr>\n",
       "      <th>(UseLoanManage, ViewLoanApplyIntro, GetCreditInfo)</th>\n",
       "      <td>9640</td>\n",
       "      <td>19</td>\n",
       "    </tr>\n",
       "    <tr>\n",
       "      <th>UsePrepayCalc</th>\n",
       "      <td>5705</td>\n",
       "      <td>20</td>\n",
       "    </tr>\n",
       "    <tr>\n",
       "      <th>(GetCreditInfo, ViewLoanApplyIntro, UseLoanManage)</th>\n",
       "      <td>5328</td>\n",
       "      <td>21</td>\n",
       "    </tr>\n",
       "    <tr>\n",
       "      <th>UseDSRCalc</th>\n",
       "      <td>3660</td>\n",
       "      <td>22</td>\n",
       "    </tr>\n",
       "    <tr>\n",
       "      <th>(UseLoanManage, UsePrepayCalc)</th>\n",
       "      <td>2498</td>\n",
       "      <td>23</td>\n",
       "    </tr>\n",
       "    <tr>\n",
       "      <th>(GetCreditInfo, UseLoanManage, UsePrepayCalc)</th>\n",
       "      <td>2388</td>\n",
       "      <td>24</td>\n",
       "    </tr>\n",
       "    <tr>\n",
       "      <th>(UseLoanManage, UseDSRCalc)</th>\n",
       "      <td>1872</td>\n",
       "      <td>25</td>\n",
       "    </tr>\n",
       "    <tr>\n",
       "      <th>(GetCreditInfo, UseLoanManage, UseDSRCalc)</th>\n",
       "      <td>1782</td>\n",
       "      <td>26</td>\n",
       "    </tr>\n",
       "    <tr>\n",
       "      <th>(GetCreditInfo, UsePrepayCalc)</th>\n",
       "      <td>1148</td>\n",
       "      <td>27</td>\n",
       "    </tr>\n",
       "    <tr>\n",
       "      <th>(UsePrepayCalc, GetCreditInfo)</th>\n",
       "      <td>1130</td>\n",
       "      <td>28</td>\n",
       "    </tr>\n",
       "    <tr>\n",
       "      <th>(GetCreditInfo, UseDSRCalc)</th>\n",
       "      <td>970</td>\n",
       "      <td>29</td>\n",
       "    </tr>\n",
       "    <tr>\n",
       "      <th>(UseLoanManage, GetCreditInfo, UsePrepayCalc)</th>\n",
       "      <td>938</td>\n",
       "      <td>30</td>\n",
       "    </tr>\n",
       "    <tr>\n",
       "      <th>(UseLoanManage, GetCreditInfo, UseDSRCalc)</th>\n",
       "      <td>760</td>\n",
       "      <td>31</td>\n",
       "    </tr>\n",
       "    <tr>\n",
       "      <th>(UseDSRCalc, GetCreditInfo)</th>\n",
       "      <td>672</td>\n",
       "      <td>32</td>\n",
       "    </tr>\n",
       "    <tr>\n",
       "      <th>(UseDSRCalc, UsePrepayCalc)</th>\n",
       "      <td>630</td>\n",
       "      <td>33</td>\n",
       "    </tr>\n",
       "    <tr>\n",
       "      <th>(UsePrepayCalc, ViewLoanApplyIntro)</th>\n",
       "      <td>575</td>\n",
       "      <td>34</td>\n",
       "    </tr>\n",
       "    <tr>\n",
       "      <th>(UsePrepayCalc, GetCreditInfo, UseLoanManage)</th>\n",
       "      <td>526</td>\n",
       "      <td>35</td>\n",
       "    </tr>\n",
       "    <tr>\n",
       "      <th>(UseLoanManage, UsePrepayCalc, GetCreditInfo)</th>\n",
       "      <td>481</td>\n",
       "      <td>36</td>\n",
       "    </tr>\n",
       "    <tr>\n",
       "      <th>(UseDSRCalc, ViewLoanApplyIntro)</th>\n",
       "      <td>382</td>\n",
       "      <td>37</td>\n",
       "    </tr>\n",
       "    <tr>\n",
       "      <th>(UsePrepayCalc, UseDSRCalc)</th>\n",
       "      <td>350</td>\n",
       "      <td>38</td>\n",
       "    </tr>\n",
       "    <tr>\n",
       "      <th>(ViewLoanApplyIntro, UsePrepayCalc)</th>\n",
       "      <td>341</td>\n",
       "      <td>39</td>\n",
       "    </tr>\n",
       "    <tr>\n",
       "      <th>(UseLoanManage, UseDSRCalc, GetCreditInfo)</th>\n",
       "      <td>330</td>\n",
       "      <td>40</td>\n",
       "    </tr>\n",
       "    <tr>\n",
       "      <th>(UseLoanManage, UseDSRCalc, UsePrepayCalc)</th>\n",
       "      <td>290</td>\n",
       "      <td>41</td>\n",
       "    </tr>\n",
       "    <tr>\n",
       "      <th>(GetCreditInfo, UseLoanManage, UseDSRCalc, UsePrepayCalc)</th>\n",
       "      <td>274</td>\n",
       "      <td>42</td>\n",
       "    </tr>\n",
       "    <tr>\n",
       "      <th>(UsePrepayCalc, UseLoanManage)</th>\n",
       "      <td>269</td>\n",
       "      <td>43</td>\n",
       "    </tr>\n",
       "    <tr>\n",
       "      <th>(ViewLoanApplyIntro, UseDSRCalc)</th>\n",
       "      <td>256</td>\n",
       "      <td>44</td>\n",
       "    </tr>\n",
       "    <tr>\n",
       "      <th>(UseLoanManage, ViewLoanApplyIntro, UsePrepayCalc)</th>\n",
       "      <td>246</td>\n",
       "      <td>45</td>\n",
       "    </tr>\n",
       "    <tr>\n",
       "      <th>(UseLoanManage, UsePrepayCalc, ViewLoanApplyIntro)</th>\n",
       "      <td>239</td>\n",
       "      <td>46</td>\n",
       "    </tr>\n",
       "    <tr>\n",
       "      <th>(GetCreditInfo, UseLoanManage, ViewLoanApplyIntro, UsePrepayCalc)</th>\n",
       "      <td>235</td>\n",
       "      <td>47</td>\n",
       "    </tr>\n",
       "    <tr>\n",
       "      <th>(GetCreditInfo, UseLoanManage, UsePrepayCalc, ViewLoanApplyIntro)</th>\n",
       "      <td>230</td>\n",
       "      <td>48</td>\n",
       "    </tr>\n",
       "    <tr>\n",
       "      <th>(UsePrepayCalc, UseLoanManage, GetCreditInfo)</th>\n",
       "      <td>228</td>\n",
       "      <td>49</td>\n",
       "    </tr>\n",
       "  </tbody>\n",
       "</table>\n",
       "</div>"
      ],
      "text/plain": [
       "                                                      count  rank\n",
       "GetCreditInfo                                       2073473     1\n",
       "ViewLoanApplyIntro                                  1601168     2\n",
       "UseLoanManage                                       1402808     3\n",
       "(CompleteIDCertification, EndLoanApply)              966778     4\n",
       "                                                     943467     5\n",
       "(UseLoanManage, GetCreditInfo)                       681171     6\n",
       "(StartLoanApply, ViewLoanApplyIntro)                 658613     7\n",
       "(GetCreditInfo, UseLoanManage)                       565956     8\n",
       "(ViewLoanApplyIntro, StartLoanApply)                 487270     9\n",
       "(StartLoanApply, CompleteIDCertification)            338360    10\n",
       "(GetCreditInfo, ViewLoanApplyIntro)                  195580    11\n",
       "(UseLoanManage, ViewLoanApplyIntro)                   98809    12\n",
       "(ViewLoanApplyIntro, GetCreditInfo)                   92326    13\n",
       "(UseLoanManage, GetCreditInfo, ViewLoanApplyIntro)    81736    14\n",
       "(GetCreditInfo, UseLoanManage, ViewLoanApplyIntro)    62552    15\n",
       "(ViewLoanApplyIntro, UseLoanManage)                   39242    16\n",
       "(ViewLoanApplyIntro, UseLoanManage, GetCreditInfo)    20045    17\n",
       "(ViewLoanApplyIntro, GetCreditInfo, UseLoanManage)    16604    18\n",
       "(UseLoanManage, ViewLoanApplyIntro, GetCreditInfo)     9640    19\n",
       "UsePrepayCalc                                          5705    20\n",
       "(GetCreditInfo, ViewLoanApplyIntro, UseLoanManage)     5328    21\n",
       "UseDSRCalc                                             3660    22\n",
       "(UseLoanManage, UsePrepayCalc)                         2498    23\n",
       "(GetCreditInfo, UseLoanManage, UsePrepayCalc)          2388    24\n",
       "(UseLoanManage, UseDSRCalc)                            1872    25\n",
       "(GetCreditInfo, UseLoanManage, UseDSRCalc)             1782    26\n",
       "(GetCreditInfo, UsePrepayCalc)                         1148    27\n",
       "(UsePrepayCalc, GetCreditInfo)                         1130    28\n",
       "(GetCreditInfo, UseDSRCalc)                             970    29\n",
       "(UseLoanManage, GetCreditInfo, UsePrepayCalc)           938    30\n",
       "(UseLoanManage, GetCreditInfo, UseDSRCalc)              760    31\n",
       "(UseDSRCalc, GetCreditInfo)                             672    32\n",
       "(UseDSRCalc, UsePrepayCalc)                             630    33\n",
       "(UsePrepayCalc, ViewLoanApplyIntro)                     575    34\n",
       "(UsePrepayCalc, GetCreditInfo, UseLoanManage)           526    35\n",
       "(UseLoanManage, UsePrepayCalc, GetCreditInfo)           481    36\n",
       "(UseDSRCalc, ViewLoanApplyIntro)                        382    37\n",
       "(UsePrepayCalc, UseDSRCalc)                             350    38\n",
       "(ViewLoanApplyIntro, UsePrepayCalc)                     341    39\n",
       "(UseLoanManage, UseDSRCalc, GetCreditInfo)              330    40\n",
       "(UseLoanManage, UseDSRCalc, UsePrepayCalc)              290    41\n",
       "(GetCreditInfo, UseLoanManage, UseDSRCalc, UseP...      274    42\n",
       "(UsePrepayCalc, UseLoanManage)                          269    43\n",
       "(ViewLoanApplyIntro, UseDSRCalc)                        256    44\n",
       "(UseLoanManage, ViewLoanApplyIntro, UsePrepayCalc)      246    45\n",
       "(UseLoanManage, UsePrepayCalc, ViewLoanApplyIntro)      239    46\n",
       "(GetCreditInfo, UseLoanManage, ViewLoanApplyInt...      235    47\n",
       "(GetCreditInfo, UseLoanManage, UsePrepayCalc, V...      230    48\n",
       "(UsePrepayCalc, UseLoanManage, GetCreditInfo)           228    49"
      ]
     },
     "execution_count": 199,
     "metadata": {},
     "output_type": "execute_result"
    }
   ],
   "source": [
    "# 중요도?\n",
    "log_ngram_sort_df_15['rank']=[x for x in range(1, 50)]\n",
    "log_ngram_sort_df_15"
   ]
  },
  {
   "cell_type": "code",
   "execution_count": 201,
   "metadata": {},
   "outputs": [],
   "source": [
    "log_ngram_sort_df_15.to_csv(\"../data/log_ngram_sort_df_15.csv\")"
   ]
  },
  {
   "cell_type": "markdown",
   "metadata": {},
   "source": [
    "# user_spec에 추가\n",
    "1. 주 경로에 대한 유저별 count(12개)\n",
    "\n",
    "```python\n",
    "cols=['UG', 'GU', 'GV', 'UV', 'VG', 'UGV', 'GUV', 'VU', 'VUG', 'VGU', 'UVG', 'GVU']\n",
    "# log_dict_user 이용하면 될듯\n",
    "```\n",
    "\n",
    "2. 퍼널별 회수 추가\n",
    "- 각각 'VS', 'SC', 'CE'\n",
    "```python\n",
    "funnel_count_cols=['funnel_10', 'funnel_21', 'funnel_32']\n",
    "# log_dict_user 이용하면 될듯\n",
    "```\n"
   ]
  },
  {
   "cell_type": "code",
   "execution_count": null,
   "metadata": {},
   "outputs": [],
   "source": []
  },
  {
   "cell_type": "code",
   "execution_count": null,
   "metadata": {},
   "outputs": [],
   "source": []
  },
  {
   "cell_type": "markdown",
   "metadata": {},
   "source": [
    "___"
   ]
  },
  {
   "cell_type": "markdown",
   "metadata": {},
   "source": [
    "## 연관성 분석: \n",
    "\n",
    "1. Apriori algorithm [링크](https://hezzong.tistory.com/23)\n",
    "\n",
    "- 지지도(support) : 한 거래 항목 안에 A와 B를 동시에 포함하는 거래의 비율. 지지도는 A와 B가 함께 등장할 확률이다. 전체 거래의 수를 A와 B가 동시에 포함된 거래수를 나눠주면 구할 수 있다.\n",
    "- 신뢰도(confidence) : 항목 A가 포함하는 거래에 A와 B가 같이포함될 확률. 신뢰도는 조건부 확률과 유사하다. A가 일어났을 때 B의 확률이다. A의 확률을 A와 B가 동시에 포함될 확률을 나눠주면 구할 수 있다.\n",
    "- 향상도(lift) : A가 주어지지 않을 때의 품목 B의 확률에 비해 A가 주어졌을 때 품목 B의 증가 비율. B의 확률이 A가 일어났을 때 B의 확률을 나눴을 때 구할 수 있다. lift 값은 1이면 서로 독립적인 관계이며1보다 크면 두 품목이 서로 양의 상관관계, 1보다 작으면 두 품목이 서로 음의 상관관계이다. A와 B가 독립이면 분모, 분자가 같기 때문에 1이 나온다.\n",
    "\n",
    "2. FP-Growth algorithm \n",
    "\n",
    "3. DHP algorithm"
   ]
  },
  {
   "cell_type": "code",
   "execution_count": 43,
   "metadata": {},
   "outputs": [],
   "source": [
    "## 필터링..을 하기엔 너무 큰데.. 역색인으로 해놔서 괜찮은갈랑가\n",
    "from mlxtend.preprocessing import TransactionEncoder\n",
    "from mlxtend.frequent_patterns import apriori, association_rules, fpgrowth"
   ]
  },
  {
   "cell_type": "code",
   "execution_count": 44,
   "metadata": {},
   "outputs": [
    {
     "data": {
      "text/plain": [
       "3460762"
      ]
     },
     "execution_count": 44,
     "metadata": {},
     "output_type": "execute_result"
    }
   ],
   "source": [
    "r_list=list(np.load('../data/route_list.npy', allow_pickle=True)) # 모든 루트\n",
    "len(r_list)"
   ]
  },
  {
   "cell_type": "code",
   "execution_count": 45,
   "metadata": {},
   "outputs": [
    {
     "name": "stderr",
     "output_type": "stream",
     "text": [
      "100%|██████████| 3460762/3460762 [00:01<00:00, 2971948.11it/s]\n"
     ]
    },
    {
     "data": {
      "text/plain": [
       "1312737"
      ]
     },
     "execution_count": 45,
     "metadata": {},
     "output_type": "execute_result"
    }
   ],
   "source": [
    "# 연관 분석 정확도를 위하여 단일 행동 이하는 삭제\n",
    "route_list_duple=[]\n",
    "for i in tqdm(range(len(r_list))):\n",
    "    if len(r_list[i])>2: route_list_duple.append(r_list[i])\n",
    "    else: continue\n",
    "len(route_list_duple)"
   ]
  },
  {
   "cell_type": "code",
   "execution_count": 46,
   "metadata": {},
   "outputs": [
    {
     "data": {
      "text/html": [
       "<div>\n",
       "<style scoped>\n",
       "    .dataframe tbody tr th:only-of-type {\n",
       "        vertical-align: middle;\n",
       "    }\n",
       "\n",
       "    .dataframe tbody tr th {\n",
       "        vertical-align: top;\n",
       "    }\n",
       "\n",
       "    .dataframe thead th {\n",
       "        text-align: right;\n",
       "    }\n",
       "</style>\n",
       "<table border=\"1\" class=\"dataframe\">\n",
       "  <thead>\n",
       "    <tr style=\"text-align: right;\">\n",
       "      <th></th>\n",
       "      <th>GetCreditInfo</th>\n",
       "      <th>UseDSRCalc</th>\n",
       "      <th>UseLoanManage</th>\n",
       "      <th>UsePrepayCalc</th>\n",
       "      <th>ViewLoanApplyIntro</th>\n",
       "    </tr>\n",
       "  </thead>\n",
       "  <tbody>\n",
       "    <tr>\n",
       "      <th>0</th>\n",
       "      <td>True</td>\n",
       "      <td>False</td>\n",
       "      <td>True</td>\n",
       "      <td>True</td>\n",
       "      <td>True</td>\n",
       "    </tr>\n",
       "    <tr>\n",
       "      <th>1</th>\n",
       "      <td>True</td>\n",
       "      <td>False</td>\n",
       "      <td>True</td>\n",
       "      <td>False</td>\n",
       "      <td>True</td>\n",
       "    </tr>\n",
       "    <tr>\n",
       "      <th>2</th>\n",
       "      <td>True</td>\n",
       "      <td>False</td>\n",
       "      <td>True</td>\n",
       "      <td>False</td>\n",
       "      <td>True</td>\n",
       "    </tr>\n",
       "    <tr>\n",
       "      <th>3</th>\n",
       "      <td>True</td>\n",
       "      <td>False</td>\n",
       "      <td>True</td>\n",
       "      <td>False</td>\n",
       "      <td>True</td>\n",
       "    </tr>\n",
       "    <tr>\n",
       "      <th>4</th>\n",
       "      <td>True</td>\n",
       "      <td>False</td>\n",
       "      <td>False</td>\n",
       "      <td>False</td>\n",
       "      <td>True</td>\n",
       "    </tr>\n",
       "  </tbody>\n",
       "</table>\n",
       "</div>"
      ],
      "text/plain": [
       "   GetCreditInfo  UseDSRCalc  UseLoanManage  UsePrepayCalc  ViewLoanApplyIntro\n",
       "0           True       False           True           True                True\n",
       "1           True       False           True          False                True\n",
       "2           True       False           True          False                True\n",
       "3           True       False           True          False                True\n",
       "4           True       False          False          False                True"
      ]
     },
     "execution_count": 46,
     "metadata": {},
     "output_type": "execute_result"
    }
   ],
   "source": [
    "te = TransactionEncoder()\n",
    "te_ary=te.fit(route_list_duple).transform(route_list_duple)\n",
    "df=pd.DataFrame(te_ary, columns=te.columns_)\n",
    "df.drop(['OpenApp'], axis=1, inplace=True)\n",
    "df.head()"
   ]
  },
  {
   "cell_type": "code",
   "execution_count": 47,
   "metadata": {},
   "outputs": [
    {
     "data": {
      "text/html": [
       "<div>\n",
       "<style scoped>\n",
       "    .dataframe tbody tr th:only-of-type {\n",
       "        vertical-align: middle;\n",
       "    }\n",
       "\n",
       "    .dataframe tbody tr th {\n",
       "        vertical-align: top;\n",
       "    }\n",
       "\n",
       "    .dataframe thead th {\n",
       "        text-align: right;\n",
       "    }\n",
       "</style>\n",
       "<table border=\"1\" class=\"dataframe\">\n",
       "  <thead>\n",
       "    <tr style=\"text-align: right;\">\n",
       "      <th></th>\n",
       "      <th>support</th>\n",
       "      <th>itemsets</th>\n",
       "    </tr>\n",
       "  </thead>\n",
       "  <tbody>\n",
       "    <tr>\n",
       "      <th>0</th>\n",
       "      <td>0.892145</td>\n",
       "      <td>(GetCreditInfo)</td>\n",
       "    </tr>\n",
       "    <tr>\n",
       "      <th>1</th>\n",
       "      <td>0.748525</td>\n",
       "      <td>(UseLoanManage)</td>\n",
       "    </tr>\n",
       "    <tr>\n",
       "      <th>2</th>\n",
       "      <td>0.534673</td>\n",
       "      <td>(ViewLoanApplyIntro)</td>\n",
       "    </tr>\n",
       "    <tr>\n",
       "      <th>3</th>\n",
       "      <td>0.701786</td>\n",
       "      <td>(GetCreditInfo, UseLoanManage)</td>\n",
       "    </tr>\n",
       "    <tr>\n",
       "      <th>4</th>\n",
       "      <td>0.437216</td>\n",
       "      <td>(GetCreditInfo, ViewLoanApplyIntro)</td>\n",
       "    </tr>\n",
       "    <tr>\n",
       "      <th>5</th>\n",
       "      <td>0.316354</td>\n",
       "      <td>(ViewLoanApplyIntro, UseLoanManage)</td>\n",
       "    </tr>\n",
       "    <tr>\n",
       "      <th>6</th>\n",
       "      <td>0.280011</td>\n",
       "      <td>(GetCreditInfo, ViewLoanApplyIntro, UseLoanMan...</td>\n",
       "    </tr>\n",
       "  </tbody>\n",
       "</table>\n",
       "</div>"
      ],
      "text/plain": [
       "    support                                           itemsets\n",
       "0  0.892145                                    (GetCreditInfo)\n",
       "1  0.748525                                    (UseLoanManage)\n",
       "2  0.534673                               (ViewLoanApplyIntro)\n",
       "3  0.701786                     (GetCreditInfo, UseLoanManage)\n",
       "4  0.437216                (GetCreditInfo, ViewLoanApplyIntro)\n",
       "5  0.316354                (ViewLoanApplyIntro, UseLoanManage)\n",
       "6  0.280011  (GetCreditInfo, ViewLoanApplyIntro, UseLoanMan..."
      ]
     },
     "execution_count": 47,
     "metadata": {},
     "output_type": "execute_result"
    }
   ],
   "source": [
    "# supprot higher than 0.5\n",
    "frequent_itemsets = apriori(df, min_support=0.1, use_colnames=True)\n",
    "frequent_itemsets"
   ]
  },
  {
   "cell_type": "markdown",
   "metadata": {},
   "source": [
    "UseLoanManage와 GetCreditInfo 사이에는 양의 상관관계가 있다"
   ]
  },
  {
   "cell_type": "code",
   "execution_count": 48,
   "metadata": {},
   "outputs": [
    {
     "data": {
      "text/html": [
       "<div>\n",
       "<style scoped>\n",
       "    .dataframe tbody tr th:only-of-type {\n",
       "        vertical-align: middle;\n",
       "    }\n",
       "\n",
       "    .dataframe tbody tr th {\n",
       "        vertical-align: top;\n",
       "    }\n",
       "\n",
       "    .dataframe thead th {\n",
       "        text-align: right;\n",
       "    }\n",
       "</style>\n",
       "<table border=\"1\" class=\"dataframe\">\n",
       "  <thead>\n",
       "    <tr style=\"text-align: right;\">\n",
       "      <th></th>\n",
       "      <th>antecedents</th>\n",
       "      <th>consequents</th>\n",
       "      <th>antecedent support</th>\n",
       "      <th>consequent support</th>\n",
       "      <th>support</th>\n",
       "      <th>confidence</th>\n",
       "      <th>lift</th>\n",
       "      <th>leverage</th>\n",
       "      <th>conviction</th>\n",
       "    </tr>\n",
       "  </thead>\n",
       "  <tbody>\n",
       "    <tr>\n",
       "      <th>0</th>\n",
       "      <td>(GetCreditInfo)</td>\n",
       "      <td>(UseLoanManage)</td>\n",
       "      <td>0.892145</td>\n",
       "      <td>0.748525</td>\n",
       "      <td>0.701786</td>\n",
       "      <td>0.786627</td>\n",
       "      <td>1.050904</td>\n",
       "      <td>0.033993</td>\n",
       "      <td>1.178573</td>\n",
       "    </tr>\n",
       "    <tr>\n",
       "      <th>1</th>\n",
       "      <td>(UseLoanManage)</td>\n",
       "      <td>(GetCreditInfo)</td>\n",
       "      <td>0.748525</td>\n",
       "      <td>0.892145</td>\n",
       "      <td>0.701786</td>\n",
       "      <td>0.937559</td>\n",
       "      <td>1.050904</td>\n",
       "      <td>0.033993</td>\n",
       "      <td>1.727294</td>\n",
       "    </tr>\n",
       "    <tr>\n",
       "      <th>3</th>\n",
       "      <td>(ViewLoanApplyIntro)</td>\n",
       "      <td>(GetCreditInfo)</td>\n",
       "      <td>0.534673</td>\n",
       "      <td>0.892145</td>\n",
       "      <td>0.437216</td>\n",
       "      <td>0.817727</td>\n",
       "      <td>0.916585</td>\n",
       "      <td>-0.039790</td>\n",
       "      <td>0.591720</td>\n",
       "    </tr>\n",
       "    <tr>\n",
       "      <th>8</th>\n",
       "      <td>(ViewLoanApplyIntro, UseLoanManage)</td>\n",
       "      <td>(GetCreditInfo)</td>\n",
       "      <td>0.316354</td>\n",
       "      <td>0.892145</td>\n",
       "      <td>0.280011</td>\n",
       "      <td>0.885119</td>\n",
       "      <td>0.992124</td>\n",
       "      <td>-0.002223</td>\n",
       "      <td>0.938838</td>\n",
       "    </tr>\n",
       "  </tbody>\n",
       "</table>\n",
       "</div>"
      ],
      "text/plain": [
       "                           antecedents      consequents  antecedent support  \\\n",
       "0                      (GetCreditInfo)  (UseLoanManage)            0.892145   \n",
       "1                      (UseLoanManage)  (GetCreditInfo)            0.748525   \n",
       "3                 (ViewLoanApplyIntro)  (GetCreditInfo)            0.534673   \n",
       "8  (ViewLoanApplyIntro, UseLoanManage)  (GetCreditInfo)            0.316354   \n",
       "\n",
       "   consequent support   support  confidence      lift  leverage  conviction  \n",
       "0            0.748525  0.701786    0.786627  1.050904  0.033993    1.178573  \n",
       "1            0.892145  0.701786    0.937559  1.050904  0.033993    1.727294  \n",
       "3            0.892145  0.437216    0.817727  0.916585 -0.039790    0.591720  \n",
       "8            0.892145  0.280011    0.885119  0.992124 -0.002223    0.938838  "
      ]
     },
     "execution_count": 48,
     "metadata": {},
     "output_type": "execute_result"
    }
   ],
   "source": [
    "apriori_df=association_rules(frequent_itemsets, metric=\"lift\", min_threshold=0)\n",
    "apriori_df[apriori_df['confidence']>0.7]"
   ]
  },
  {
   "cell_type": "code",
   "execution_count": 49,
   "metadata": {},
   "outputs": [
    {
     "data": {
      "text/html": [
       "<div>\n",
       "<style scoped>\n",
       "    .dataframe tbody tr th:only-of-type {\n",
       "        vertical-align: middle;\n",
       "    }\n",
       "\n",
       "    .dataframe tbody tr th {\n",
       "        vertical-align: top;\n",
       "    }\n",
       "\n",
       "    .dataframe thead th {\n",
       "        text-align: right;\n",
       "    }\n",
       "</style>\n",
       "<table border=\"1\" class=\"dataframe\">\n",
       "  <thead>\n",
       "    <tr style=\"text-align: right;\">\n",
       "      <th></th>\n",
       "      <th>support</th>\n",
       "      <th>itemsets</th>\n",
       "    </tr>\n",
       "  </thead>\n",
       "  <tbody>\n",
       "    <tr>\n",
       "      <th>0</th>\n",
       "      <td>0.892145</td>\n",
       "      <td>(GetCreditInfo)</td>\n",
       "    </tr>\n",
       "    <tr>\n",
       "      <th>1</th>\n",
       "      <td>0.748525</td>\n",
       "      <td>(UseLoanManage)</td>\n",
       "    </tr>\n",
       "    <tr>\n",
       "      <th>2</th>\n",
       "      <td>0.534673</td>\n",
       "      <td>(ViewLoanApplyIntro)</td>\n",
       "    </tr>\n",
       "    <tr>\n",
       "      <th>3</th>\n",
       "      <td>0.701786</td>\n",
       "      <td>(GetCreditInfo, UseLoanManage)</td>\n",
       "    </tr>\n",
       "    <tr>\n",
       "      <th>4</th>\n",
       "      <td>0.437216</td>\n",
       "      <td>(GetCreditInfo, ViewLoanApplyIntro)</td>\n",
       "    </tr>\n",
       "  </tbody>\n",
       "</table>\n",
       "</div>"
      ],
      "text/plain": [
       "    support                             itemsets\n",
       "0  0.892145                      (GetCreditInfo)\n",
       "1  0.748525                      (UseLoanManage)\n",
       "2  0.534673                 (ViewLoanApplyIntro)\n",
       "3  0.701786       (GetCreditInfo, UseLoanManage)\n",
       "4  0.437216  (GetCreditInfo, ViewLoanApplyIntro)"
      ]
     },
     "execution_count": 49,
     "metadata": {},
     "output_type": "execute_result"
    }
   ],
   "source": [
    "frequent_itemsets_fp=fpgrowth(df, min_support=0.1, use_colnames=True)\n",
    "frequent_itemsets_fp.head()"
   ]
  },
  {
   "cell_type": "code",
   "execution_count": 50,
   "metadata": {},
   "outputs": [
    {
     "data": {
      "text/html": [
       "<div>\n",
       "<style scoped>\n",
       "    .dataframe tbody tr th:only-of-type {\n",
       "        vertical-align: middle;\n",
       "    }\n",
       "\n",
       "    .dataframe tbody tr th {\n",
       "        vertical-align: top;\n",
       "    }\n",
       "\n",
       "    .dataframe thead th {\n",
       "        text-align: right;\n",
       "    }\n",
       "</style>\n",
       "<table border=\"1\" class=\"dataframe\">\n",
       "  <thead>\n",
       "    <tr style=\"text-align: right;\">\n",
       "      <th></th>\n",
       "      <th>antecedents</th>\n",
       "      <th>consequents</th>\n",
       "      <th>antecedent support</th>\n",
       "      <th>consequent support</th>\n",
       "      <th>support</th>\n",
       "      <th>confidence</th>\n",
       "      <th>lift</th>\n",
       "      <th>leverage</th>\n",
       "      <th>conviction</th>\n",
       "    </tr>\n",
       "  </thead>\n",
       "  <tbody>\n",
       "    <tr>\n",
       "      <th>0</th>\n",
       "      <td>(GetCreditInfo)</td>\n",
       "      <td>(UseLoanManage)</td>\n",
       "      <td>0.892145</td>\n",
       "      <td>0.748525</td>\n",
       "      <td>0.701786</td>\n",
       "      <td>0.786627</td>\n",
       "      <td>1.050904</td>\n",
       "      <td>0.033993</td>\n",
       "      <td>1.178573</td>\n",
       "    </tr>\n",
       "    <tr>\n",
       "      <th>1</th>\n",
       "      <td>(UseLoanManage)</td>\n",
       "      <td>(GetCreditInfo)</td>\n",
       "      <td>0.748525</td>\n",
       "      <td>0.892145</td>\n",
       "      <td>0.701786</td>\n",
       "      <td>0.937559</td>\n",
       "      <td>1.050904</td>\n",
       "      <td>0.033993</td>\n",
       "      <td>1.727294</td>\n",
       "    </tr>\n",
       "    <tr>\n",
       "      <th>3</th>\n",
       "      <td>(ViewLoanApplyIntro)</td>\n",
       "      <td>(GetCreditInfo)</td>\n",
       "      <td>0.534673</td>\n",
       "      <td>0.892145</td>\n",
       "      <td>0.437216</td>\n",
       "      <td>0.817727</td>\n",
       "      <td>0.916585</td>\n",
       "      <td>-0.039790</td>\n",
       "      <td>0.591720</td>\n",
       "    </tr>\n",
       "    <tr>\n",
       "      <th>8</th>\n",
       "      <td>(ViewLoanApplyIntro, UseLoanManage)</td>\n",
       "      <td>(GetCreditInfo)</td>\n",
       "      <td>0.316354</td>\n",
       "      <td>0.892145</td>\n",
       "      <td>0.280011</td>\n",
       "      <td>0.885119</td>\n",
       "      <td>0.992124</td>\n",
       "      <td>-0.002223</td>\n",
       "      <td>0.938838</td>\n",
       "    </tr>\n",
       "  </tbody>\n",
       "</table>\n",
       "</div>"
      ],
      "text/plain": [
       "                           antecedents      consequents  antecedent support  \\\n",
       "0                      (GetCreditInfo)  (UseLoanManage)            0.892145   \n",
       "1                      (UseLoanManage)  (GetCreditInfo)            0.748525   \n",
       "3                 (ViewLoanApplyIntro)  (GetCreditInfo)            0.534673   \n",
       "8  (ViewLoanApplyIntro, UseLoanManage)  (GetCreditInfo)            0.316354   \n",
       "\n",
       "   consequent support   support  confidence      lift  leverage  conviction  \n",
       "0            0.748525  0.701786    0.786627  1.050904  0.033993    1.178573  \n",
       "1            0.892145  0.701786    0.937559  1.050904  0.033993    1.727294  \n",
       "3            0.892145  0.437216    0.817727  0.916585 -0.039790    0.591720  \n",
       "8            0.892145  0.280011    0.885119  0.992124 -0.002223    0.938838  "
      ]
     },
     "execution_count": 50,
     "metadata": {},
     "output_type": "execute_result"
    }
   ],
   "source": [
    "fp_df=association_rules(frequent_itemsets_fp, metric=\"lift\", min_threshold=0)\n",
    "fp_df[fp_df['confidence']>0.7]"
   ]
  },
  {
   "cell_type": "code",
   "execution_count": null,
   "metadata": {},
   "outputs": [],
   "source": []
  },
  {
   "cell_type": "markdown",
   "metadata": {},
   "source": []
  },
  {
   "cell_type": "markdown",
   "metadata": {},
   "source": [
    "## 군집화\n",
    "idx: user\n",
    "\n",
    "col: 326가지 중복 제외 경로"
   ]
  },
  {
   "cell_type": "code",
   "execution_count": 51,
   "metadata": {},
   "outputs": [
    {
     "data": {
      "text/html": [
       "<div>\n",
       "<style scoped>\n",
       "    .dataframe tbody tr th:only-of-type {\n",
       "        vertical-align: middle;\n",
       "    }\n",
       "\n",
       "    .dataframe tbody tr th {\n",
       "        vertical-align: top;\n",
       "    }\n",
       "\n",
       "    .dataframe thead th {\n",
       "        text-align: right;\n",
       "    }\n",
       "</style>\n",
       "<table border=\"1\" class=\"dataframe\">\n",
       "  <thead>\n",
       "    <tr style=\"text-align: right;\">\n",
       "      <th></th>\n",
       "      <th>ViewLoanApplyIntro</th>\n",
       "      <th>UseLoanManage</th>\n",
       "      <th>UsePrepayCalc</th>\n",
       "      <th>UseDSRCalc</th>\n",
       "      <th>GetCreditInfo</th>\n",
       "      <th>(ViewLoanApplyIntro, UseLoanManage)</th>\n",
       "      <th>(ViewLoanApplyIntro, UsePrepayCalc)</th>\n",
       "      <th>(ViewLoanApplyIntro, UseDSRCalc)</th>\n",
       "      <th>(ViewLoanApplyIntro, GetCreditInfo)</th>\n",
       "      <th>(UseLoanManage, ViewLoanApplyIntro)</th>\n",
       "      <th>...</th>\n",
       "      <th>(GetCreditInfo, UsePrepayCalc, UseLoanManage, UseDSRCalc, ViewLoanApplyIntro)</th>\n",
       "      <th>(GetCreditInfo, UsePrepayCalc, UseDSRCalc, ViewLoanApplyIntro, UseLoanManage)</th>\n",
       "      <th>(GetCreditInfo, UsePrepayCalc, UseDSRCalc, UseLoanManage, ViewLoanApplyIntro)</th>\n",
       "      <th>(GetCreditInfo, UseDSRCalc, ViewLoanApplyIntro, UseLoanManage, UsePrepayCalc)</th>\n",
       "      <th>(GetCreditInfo, UseDSRCalc, ViewLoanApplyIntro, UsePrepayCalc, UseLoanManage)</th>\n",
       "      <th>(GetCreditInfo, UseDSRCalc, UseLoanManage, ViewLoanApplyIntro, UsePrepayCalc)</th>\n",
       "      <th>(GetCreditInfo, UseDSRCalc, UseLoanManage, UsePrepayCalc, ViewLoanApplyIntro)</th>\n",
       "      <th>(GetCreditInfo, UseDSRCalc, UsePrepayCalc, ViewLoanApplyIntro, UseLoanManage)</th>\n",
       "      <th>(GetCreditInfo, UseDSRCalc, UsePrepayCalc, UseLoanManage, ViewLoanApplyIntro)</th>\n",
       "      <th></th>\n",
       "    </tr>\n",
       "  </thead>\n",
       "  <tbody>\n",
       "    <tr>\n",
       "      <th>0</th>\n",
       "      <td>0</td>\n",
       "      <td>0</td>\n",
       "      <td>0</td>\n",
       "      <td>0</td>\n",
       "      <td>0</td>\n",
       "      <td>0</td>\n",
       "      <td>0</td>\n",
       "      <td>0</td>\n",
       "      <td>0</td>\n",
       "      <td>0</td>\n",
       "      <td>...</td>\n",
       "      <td>0</td>\n",
       "      <td>0</td>\n",
       "      <td>0</td>\n",
       "      <td>0</td>\n",
       "      <td>0</td>\n",
       "      <td>0</td>\n",
       "      <td>0</td>\n",
       "      <td>0</td>\n",
       "      <td>0</td>\n",
       "      <td>0</td>\n",
       "    </tr>\n",
       "    <tr>\n",
       "      <th>1</th>\n",
       "      <td>0</td>\n",
       "      <td>0</td>\n",
       "      <td>0</td>\n",
       "      <td>0</td>\n",
       "      <td>0</td>\n",
       "      <td>0</td>\n",
       "      <td>0</td>\n",
       "      <td>0</td>\n",
       "      <td>0</td>\n",
       "      <td>0</td>\n",
       "      <td>...</td>\n",
       "      <td>0</td>\n",
       "      <td>0</td>\n",
       "      <td>0</td>\n",
       "      <td>0</td>\n",
       "      <td>0</td>\n",
       "      <td>0</td>\n",
       "      <td>0</td>\n",
       "      <td>0</td>\n",
       "      <td>0</td>\n",
       "      <td>0</td>\n",
       "    </tr>\n",
       "    <tr>\n",
       "      <th>2</th>\n",
       "      <td>0</td>\n",
       "      <td>0</td>\n",
       "      <td>0</td>\n",
       "      <td>0</td>\n",
       "      <td>0</td>\n",
       "      <td>0</td>\n",
       "      <td>0</td>\n",
       "      <td>0</td>\n",
       "      <td>0</td>\n",
       "      <td>0</td>\n",
       "      <td>...</td>\n",
       "      <td>0</td>\n",
       "      <td>0</td>\n",
       "      <td>0</td>\n",
       "      <td>0</td>\n",
       "      <td>0</td>\n",
       "      <td>0</td>\n",
       "      <td>0</td>\n",
       "      <td>0</td>\n",
       "      <td>0</td>\n",
       "      <td>0</td>\n",
       "    </tr>\n",
       "    <tr>\n",
       "      <th>3</th>\n",
       "      <td>0</td>\n",
       "      <td>0</td>\n",
       "      <td>0</td>\n",
       "      <td>0</td>\n",
       "      <td>0</td>\n",
       "      <td>0</td>\n",
       "      <td>0</td>\n",
       "      <td>0</td>\n",
       "      <td>0</td>\n",
       "      <td>0</td>\n",
       "      <td>...</td>\n",
       "      <td>0</td>\n",
       "      <td>0</td>\n",
       "      <td>0</td>\n",
       "      <td>0</td>\n",
       "      <td>0</td>\n",
       "      <td>0</td>\n",
       "      <td>0</td>\n",
       "      <td>0</td>\n",
       "      <td>0</td>\n",
       "      <td>0</td>\n",
       "    </tr>\n",
       "    <tr>\n",
       "      <th>4</th>\n",
       "      <td>0</td>\n",
       "      <td>0</td>\n",
       "      <td>0</td>\n",
       "      <td>0</td>\n",
       "      <td>0</td>\n",
       "      <td>0</td>\n",
       "      <td>0</td>\n",
       "      <td>0</td>\n",
       "      <td>0</td>\n",
       "      <td>0</td>\n",
       "      <td>...</td>\n",
       "      <td>0</td>\n",
       "      <td>0</td>\n",
       "      <td>0</td>\n",
       "      <td>0</td>\n",
       "      <td>0</td>\n",
       "      <td>0</td>\n",
       "      <td>0</td>\n",
       "      <td>0</td>\n",
       "      <td>0</td>\n",
       "      <td>0</td>\n",
       "    </tr>\n",
       "  </tbody>\n",
       "</table>\n",
       "<p>5 rows × 326 columns</p>\n",
       "</div>"
      ],
      "text/plain": [
       "   ViewLoanApplyIntro  UseLoanManage  UsePrepayCalc  UseDSRCalc  \\\n",
       "0                   0              0              0           0   \n",
       "1                   0              0              0           0   \n",
       "2                   0              0              0           0   \n",
       "3                   0              0              0           0   \n",
       "4                   0              0              0           0   \n",
       "\n",
       "   GetCreditInfo  (ViewLoanApplyIntro, UseLoanManage)  \\\n",
       "0              0                                    0   \n",
       "1              0                                    0   \n",
       "2              0                                    0   \n",
       "3              0                                    0   \n",
       "4              0                                    0   \n",
       "\n",
       "   (ViewLoanApplyIntro, UsePrepayCalc)  (ViewLoanApplyIntro, UseDSRCalc)  \\\n",
       "0                                    0                                 0   \n",
       "1                                    0                                 0   \n",
       "2                                    0                                 0   \n",
       "3                                    0                                 0   \n",
       "4                                    0                                 0   \n",
       "\n",
       "   (ViewLoanApplyIntro, GetCreditInfo)  (UseLoanManage, ViewLoanApplyIntro)  \\\n",
       "0                                    0                                    0   \n",
       "1                                    0                                    0   \n",
       "2                                    0                                    0   \n",
       "3                                    0                                    0   \n",
       "4                                    0                                    0   \n",
       "\n",
       "   ...  \\\n",
       "0  ...   \n",
       "1  ...   \n",
       "2  ...   \n",
       "3  ...   \n",
       "4  ...   \n",
       "\n",
       "   (GetCreditInfo, UsePrepayCalc, UseLoanManage, UseDSRCalc, ViewLoanApplyIntro)  \\\n",
       "0                                                  0                               \n",
       "1                                                  0                               \n",
       "2                                                  0                               \n",
       "3                                                  0                               \n",
       "4                                                  0                               \n",
       "\n",
       "   (GetCreditInfo, UsePrepayCalc, UseDSRCalc, ViewLoanApplyIntro, UseLoanManage)  \\\n",
       "0                                                  0                               \n",
       "1                                                  0                               \n",
       "2                                                  0                               \n",
       "3                                                  0                               \n",
       "4                                                  0                               \n",
       "\n",
       "   (GetCreditInfo, UsePrepayCalc, UseDSRCalc, UseLoanManage, ViewLoanApplyIntro)  \\\n",
       "0                                                  0                               \n",
       "1                                                  0                               \n",
       "2                                                  0                               \n",
       "3                                                  0                               \n",
       "4                                                  0                               \n",
       "\n",
       "   (GetCreditInfo, UseDSRCalc, ViewLoanApplyIntro, UseLoanManage, UsePrepayCalc)  \\\n",
       "0                                                  0                               \n",
       "1                                                  0                               \n",
       "2                                                  0                               \n",
       "3                                                  0                               \n",
       "4                                                  0                               \n",
       "\n",
       "   (GetCreditInfo, UseDSRCalc, ViewLoanApplyIntro, UsePrepayCalc, UseLoanManage)  \\\n",
       "0                                                  0                               \n",
       "1                                                  0                               \n",
       "2                                                  0                               \n",
       "3                                                  0                               \n",
       "4                                                  0                               \n",
       "\n",
       "   (GetCreditInfo, UseDSRCalc, UseLoanManage, ViewLoanApplyIntro, UsePrepayCalc)  \\\n",
       "0                                                  0                               \n",
       "1                                                  0                               \n",
       "2                                                  0                               \n",
       "3                                                  0                               \n",
       "4                                                  0                               \n",
       "\n",
       "   (GetCreditInfo, UseDSRCalc, UseLoanManage, UsePrepayCalc, ViewLoanApplyIntro)  \\\n",
       "0                                                  0                               \n",
       "1                                                  0                               \n",
       "2                                                  0                               \n",
       "3                                                  0                               \n",
       "4                                                  0                               \n",
       "\n",
       "   (GetCreditInfo, UseDSRCalc, UsePrepayCalc, ViewLoanApplyIntro, UseLoanManage)  \\\n",
       "0                                                  0                               \n",
       "1                                                  0                               \n",
       "2                                                  0                               \n",
       "3                                                  0                               \n",
       "4                                                  0                               \n",
       "\n",
       "   (GetCreditInfo, UseDSRCalc, UsePrepayCalc, UseLoanManage, ViewLoanApplyIntro)  \\\n",
       "0                                                  0                               \n",
       "1                                                  0                               \n",
       "2                                                  0                               \n",
       "3                                                  0                               \n",
       "4                                                  0                               \n",
       "\n",
       "      \n",
       "0  0  \n",
       "1  0  \n",
       "2  0  \n",
       "3  0  \n",
       "4  0  \n",
       "\n",
       "[5 rows x 326 columns]"
      ]
     },
     "execution_count": 51,
     "metadata": {},
     "output_type": "execute_result"
    }
   ],
   "source": [
    "# log_dict_user, log_columns\n",
    "cluster_df=pd.DataFrame([[0]*326]*370436, columns=log_columns)\n",
    "cluster_df.head()"
   ]
  },
  {
   "cell_type": "code",
   "execution_count": 52,
   "metadata": {},
   "outputs": [],
   "source": [
    "from ast import literal_eval\n",
    "\n",
    "for key in log_dict_user.keys():\n",
    "    for value in log_dict_user[key]:\n",
    "        # dict type이 하나는 str, 긴건 tuple이라\n",
    "        if len(key)>20: cluster_df.iloc[value][literal_eval(key)]+=1\n",
    "        else: cluster_df.iloc[value][key]+=1"
   ]
  },
  {
   "cell_type": "code",
   "execution_count": 53,
   "metadata": {},
   "outputs": [
    {
     "data": {
      "text/plain": [
       "(370436, 370436)"
      ]
     },
     "execution_count": 53,
     "metadata": {},
     "output_type": "execute_result"
    }
   ],
   "source": [
    "cluster_df_drop=cluster_df.dropna(axis=0) # \n",
    "len(cluster_df), len(cluster_df_drop)\n"
   ]
  },
  {
   "cell_type": "code",
   "execution_count": 54,
   "metadata": {},
   "outputs": [
    {
     "data": {
      "image/png": "[encoded data removed]",
      "text/plain": [
       "<Figure size 288x288 with 1 Axes>"
      ]
     },
     "metadata": {
      "needs_background": "light"
     },
     "output_type": "display_data"
    }
   ],
   "source": [
    "from sklearn.cluster import KMeans\n",
    "# 적절한 군집수 찾기\n",
    "# Inertia(군집 내 거리제곱합의 합) value (적정 군집수)\n",
    "\n",
    "ks = range(1,10)\n",
    "inertias = []\n",
    "\n",
    "for k in ks:\n",
    "    model = KMeans(n_clusters=k)\n",
    "    model.fit(cluster_df)\n",
    "    inertias.append(model.inertia_)\n",
    "\n",
    "# Plot ks vs inertias\n",
    "plt.figure(figsize=(4, 4))\n",
    "\n",
    "plt.plot(ks, inertias, '-o')\n",
    "plt.xlabel('number of clusters, k')\n",
    "plt.ylabel('inertia')\n",
    "plt.xticks(ks)\n",
    "plt.show()"
   ]
  },
  {
   "cell_type": "code",
   "execution_count": 55,
   "metadata": {},
   "outputs": [],
   "source": [
    "### 여러개의 클러스터링 갯수를 List로 입력 받아 각각의 클러스터링 결과를 시각화\n",
    "def visualize_kmeans_plot_multi(cluster_lists, X_features):\n",
    "\n",
    "    from sklearn.cluster import KMeans\n",
    "    from sklearn.decomposition import PCA\n",
    "    import pandas as pd\n",
    "    import numpy as np\n",
    "\n",
    "    # plt.subplots()으로 리스트에 기재된 클러스터링 만큼의 sub figures를 가지는 axs 생성\n",
    "    n_cols = len(cluster_lists)\n",
    "    fig, axs = plt.subplots(figsize=(4*n_cols, 4), nrows=1, ncols=n_cols)\n",
    "\n",
    "    # 입력 데이터의 FEATURE가 여러개일 경우 2차원 데이터 시각화가 어려우므로 PCA 변환하여 2차원 시각화\n",
    "    pca = PCA(n_components=2)\n",
    "    pca_transformed = pca.fit_transform(X_features)\n",
    "    dataframe = pd.DataFrame(pca_transformed, columns=['PCA1', 'PCA2'])\n",
    "\n",
    "    # 리스트에 기재된 클러스터링 갯수들을 차례로 iteration 수행하면서 KMeans 클러스터링 수행하고 시각화\n",
    "    for ind, n_cluster in enumerate(cluster_lists):\n",
    "\n",
    "        # KMeans 클러스터링으로 클러스터링 결과를 dataframe에 저장.\n",
    "        clusterer = KMeans(n_clusters=n_cluster, max_iter=500, random_state=0)\n",
    "        cluster_labels = clusterer.fit_predict(pca_transformed)\n",
    "        dataframe['cluster'] = cluster_labels\n",
    "\n",
    "        unique_labels = np.unique(clusterer.labels_)\n",
    "        markers = ['o', 's', '^', 'x', '*']\n",
    "\n",
    "        # 클러스터링 결과값 별로 scatter plot 으로 시각화\n",
    "        for label in unique_labels:\n",
    "            label_df = dataframe[dataframe['cluster'] == label]\n",
    "            if label == -1:\n",
    "                cluster_legend = 'Noise'\n",
    "            else:\n",
    "                cluster_legend = 'Cluster '+str(label)\n",
    "            axs[ind].scatter(x=label_df['PCA1'], y=label_df['PCA2'], s=70,\n",
    "                             edgecolor='k', marker=markers[label], label=cluster_legend)\n",
    "\n",
    "        axs[ind].set_title('Number of Cluster : ' + str(n_cluster))\n",
    "        axs[ind].legend(loc='upper right')\n",
    "\n",
    "    plt.show()\n"
   ]
  },
  {
   "cell_type": "code",
   "execution_count": 56,
   "metadata": {},
   "outputs": [],
   "source": [
    "### 여러개의 클러스터링 갯수를 List로 입력 받아 각각의 실루엣 계수를 면적으로 시각화한 함수 작성\n",
    "def visualize_silhouette(cluster_lists, X_features): \n",
    "    \n",
    "    from sklearn.datasets import make_blobs\n",
    "    from sklearn.cluster import KMeans\n",
    "    from sklearn.metrics import silhouette_samples, silhouette_score\n",
    "\n",
    "    import matplotlib.pyplot as plt\n",
    "    import matplotlib.cm as cm\n",
    "    import math\n",
    "    \n",
    "    # 입력값으로 클러스터링 갯수들을 리스트로 받아서, 각 갯수별로 클러스터링을 적용하고 실루엣 개수를 구함\n",
    "    n_cols = len(cluster_lists)\n",
    "    \n",
    "    # plt.subplots()으로 리스트에 기재된 클러스터링 수만큼의 sub figures를 가지는 axs 생성 \n",
    "    fig, axs = plt.subplots(figsize=(4*n_cols, 4), nrows=1, ncols=n_cols)\n",
    "    \n",
    "    # 리스트에 기재된 클러스터링 갯수들을 차례로 iteration 수행하면서 실루엣 개수 시각화\n",
    "    for ind, n_cluster in enumerate(cluster_lists):\n",
    "        \n",
    "        # KMeans 클러스터링 수행하고, 실루엣 스코어와 개별 데이터의 실루엣 값 계산. \n",
    "        clusterer = KMeans(n_clusters = n_cluster, max_iter=500, random_state=0)\n",
    "        cluster_labels = clusterer.fit_predict(X_features)\n",
    "        \n",
    "        sil_avg = silhouette_score(X_features, cluster_labels)\n",
    "        sil_values = silhouette_samples(X_features, cluster_labels)\n",
    "        \n",
    "        y_lower = 10\n",
    "        axs[ind].set_title('Number of Cluster : '+ str(n_cluster)+'\\n' \\\n",
    "                          'Silhouette Score :' + str(round(sil_avg,3)) )\n",
    "        axs[ind].set_xlabel(\"The silhouette coefficient values\")\n",
    "        axs[ind].set_ylabel(\"Cluster label\")\n",
    "        axs[ind].set_xlim([-0.1, 1])\n",
    "        axs[ind].set_ylim([0, len(X_features) + (n_cluster + 1) * 10])\n",
    "        axs[ind].set_yticks([])  # Clear the yaxis labels / ticks\n",
    "        axs[ind].set_xticks([0, 0.2, 0.4, 0.6, 0.8, 1])\n",
    "        \n",
    "        # 클러스터링 갯수별로 fill_betweenx( )형태의 막대 그래프 표현. \n",
    "        for i in range(n_cluster):\n",
    "            ith_cluster_sil_values = sil_values[cluster_labels==i]\n",
    "            ith_cluster_sil_values.sort()\n",
    "            \n",
    "            size_cluster_i = ith_cluster_sil_values.shape[0]\n",
    "            y_upper = y_lower + size_cluster_i\n",
    "            \n",
    "            color = cm.nipy_spectral(float(i) / n_cluster)\n",
    "            axs[ind].fill_betweenx(np.arange(y_lower, y_upper), 0, ith_cluster_sil_values, \\\n",
    "                                facecolor=color, edgecolor=color, alpha=0.7)\n",
    "            axs[ind].text(-0.05, y_lower + 0.5 * size_cluster_i, str(i))\n",
    "            y_lower = y_upper + 10\n",
    "            \n",
    "        axs[ind].axvline(x=sil_avg, color=\"red\", linestyle=\"--\")"
   ]
  },
  {
   "cell_type": "code",
   "execution_count": 57,
   "metadata": {},
   "outputs": [
    {
     "name": "stdout",
     "output_type": "stream",
     "text": [
      "실루엣 스코어: 0.997\n"
     ]
    }
   ],
   "source": [
    "from sklearn.preprocessing import StandardScaler\n",
    "from sklearn.cluster import KMeans\n",
    "from sklearn.metrics import silhouette_samples, silhouette_score\n",
    "\n",
    "X_features = cluster_df.values\n",
    "\n",
    "# KMeans\n",
    "kmeans = KMeans(n_clusters=3, random_state=0)\n",
    "labels = kmeans.fit_predict(X_features)\n",
    "\n",
    "# 실루엣 스코어\n",
    "silhouette_kmeans = silhouette_score(X_features, labels)\n",
    "print(f\"실루엣 스코어: {silhouette_kmeans:.3f}\")\n"
   ]
  },
  {
   "cell_type": "code",
   "execution_count": 58,
   "metadata": {},
   "outputs": [
    {
     "data": {
      "image/png": "[encoded data removed]",
      "text/plain": [
       "<Figure size 1152x288 with 4 Axes>"
      ]
     },
     "metadata": {
      "needs_background": "light"
     },
     "output_type": "display_data"
    },
    {
     "data": {
      "image/png": "[encoded data removed]",
      "text/plain": [
       "<Figure size 1152x288 with 4 Axes>"
      ]
     },
     "metadata": {
      "needs_background": "light"
     },
     "output_type": "display_data"
    }
   ],
   "source": [
    "visualize_silhouette([2,3,4,5],X_features)\n",
    "visualize_kmeans_plot_multi([2,3,4,5],X_features)"
   ]
  },
  {
   "cell_type": "code",
   "execution_count": 466,
   "metadata": {},
   "outputs": [
    {
     "data": {
      "text/html": [
       "<div>\n",
       "<style scoped>\n",
       "    .dataframe tbody tr th:only-of-type {\n",
       "        vertical-align: middle;\n",
       "    }\n",
       "\n",
       "    .dataframe tbody tr th {\n",
       "        vertical-align: top;\n",
       "    }\n",
       "\n",
       "    .dataframe thead th {\n",
       "        text-align: right;\n",
       "    }\n",
       "</style>\n",
       "<table border=\"1\" class=\"dataframe\">\n",
       "  <thead>\n",
       "    <tr style=\"text-align: right;\">\n",
       "      <th></th>\n",
       "      <th>StartLoanApply</th>\n",
       "      <th>UseLoanManage</th>\n",
       "      <th>UsePrepayCalc</th>\n",
       "      <th>UseDSRCalc</th>\n",
       "      <th>GetCreditInfo</th>\n",
       "      <th>(StartLoanApply, UseLoanManage)</th>\n",
       "      <th>(StartLoanApply, UsePrepayCalc)</th>\n",
       "      <th>(StartLoanApply, UseDSRCalc)</th>\n",
       "      <th>(StartLoanApply, GetCreditInfo)</th>\n",
       "      <th>(UseLoanManage, StartLoanApply)</th>\n",
       "      <th>...</th>\n",
       "      <th>(GetCreditInfo, UsePrepayCalc, UseDSRCalc, StartLoanApply, UseLoanManage)</th>\n",
       "      <th>(GetCreditInfo, UsePrepayCalc, UseDSRCalc, UseLoanManage, StartLoanApply)</th>\n",
       "      <th>(GetCreditInfo, UseDSRCalc, StartLoanApply, UseLoanManage, UsePrepayCalc)</th>\n",
       "      <th>(GetCreditInfo, UseDSRCalc, StartLoanApply, UsePrepayCalc, UseLoanManage)</th>\n",
       "      <th>(GetCreditInfo, UseDSRCalc, UseLoanManage, StartLoanApply, UsePrepayCalc)</th>\n",
       "      <th>(GetCreditInfo, UseDSRCalc, UseLoanManage, UsePrepayCalc, StartLoanApply)</th>\n",
       "      <th>(GetCreditInfo, UseDSRCalc, UsePrepayCalc, StartLoanApply, UseLoanManage)</th>\n",
       "      <th>(GetCreditInfo, UseDSRCalc, UsePrepayCalc, UseLoanManage, StartLoanApply)</th>\n",
       "      <th></th>\n",
       "      <th>cluster_label</th>\n",
       "    </tr>\n",
       "  </thead>\n",
       "  <tbody>\n",
       "    <tr>\n",
       "      <th>count</th>\n",
       "      <td>370436.000000</td>\n",
       "      <td>370436.000000</td>\n",
       "      <td>370436.000000</td>\n",
       "      <td>370436.000000</td>\n",
       "      <td>370436.000000</td>\n",
       "      <td>370436.000000</td>\n",
       "      <td>370436.000000</td>\n",
       "      <td>370436.000000</td>\n",
       "      <td>370436.000000</td>\n",
       "      <td>370436.000000</td>\n",
       "      <td>...</td>\n",
       "      <td>370436.000000</td>\n",
       "      <td>370436.0</td>\n",
       "      <td>370436.0</td>\n",
       "      <td>370436.0</td>\n",
       "      <td>370436.0</td>\n",
       "      <td>370436.0</td>\n",
       "      <td>370436.000000</td>\n",
       "      <td>370436.0</td>\n",
       "      <td>370436.0</td>\n",
       "      <td>370436.0</td>\n",
       "    </tr>\n",
       "    <tr>\n",
       "      <th>mean</th>\n",
       "      <td>0.012175</td>\n",
       "      <td>0.017358</td>\n",
       "      <td>0.001255</td>\n",
       "      <td>0.001228</td>\n",
       "      <td>0.017763</td>\n",
       "      <td>0.001209</td>\n",
       "      <td>0.000011</td>\n",
       "      <td>0.000016</td>\n",
       "      <td>0.001479</td>\n",
       "      <td>0.001002</td>\n",
       "      <td>...</td>\n",
       "      <td>0.000003</td>\n",
       "      <td>0.0</td>\n",
       "      <td>0.0</td>\n",
       "      <td>0.0</td>\n",
       "      <td>0.0</td>\n",
       "      <td>0.0</td>\n",
       "      <td>0.000003</td>\n",
       "      <td>0.0</td>\n",
       "      <td>0.0</td>\n",
       "      <td>0.0</td>\n",
       "    </tr>\n",
       "    <tr>\n",
       "      <th>std</th>\n",
       "      <td>0.246427</td>\n",
       "      <td>0.294089</td>\n",
       "      <td>0.079214</td>\n",
       "      <td>0.078358</td>\n",
       "      <td>0.297488</td>\n",
       "      <td>0.034755</td>\n",
       "      <td>0.003286</td>\n",
       "      <td>0.004025</td>\n",
       "      <td>0.038434</td>\n",
       "      <td>0.031631</td>\n",
       "      <td>...</td>\n",
       "      <td>0.001643</td>\n",
       "      <td>0.0</td>\n",
       "      <td>0.0</td>\n",
       "      <td>0.0</td>\n",
       "      <td>0.0</td>\n",
       "      <td>0.0</td>\n",
       "      <td>0.001643</td>\n",
       "      <td>0.0</td>\n",
       "      <td>0.0</td>\n",
       "      <td>0.0</td>\n",
       "    </tr>\n",
       "    <tr>\n",
       "      <th>min</th>\n",
       "      <td>0.000000</td>\n",
       "      <td>0.000000</td>\n",
       "      <td>0.000000</td>\n",
       "      <td>0.000000</td>\n",
       "      <td>0.000000</td>\n",
       "      <td>0.000000</td>\n",
       "      <td>0.000000</td>\n",
       "      <td>0.000000</td>\n",
       "      <td>0.000000</td>\n",
       "      <td>0.000000</td>\n",
       "      <td>...</td>\n",
       "      <td>0.000000</td>\n",
       "      <td>0.0</td>\n",
       "      <td>0.0</td>\n",
       "      <td>0.0</td>\n",
       "      <td>0.0</td>\n",
       "      <td>0.0</td>\n",
       "      <td>0.000000</td>\n",
       "      <td>0.0</td>\n",
       "      <td>0.0</td>\n",
       "      <td>0.0</td>\n",
       "    </tr>\n",
       "    <tr>\n",
       "      <th>25%</th>\n",
       "      <td>0.000000</td>\n",
       "      <td>0.000000</td>\n",
       "      <td>0.000000</td>\n",
       "      <td>0.000000</td>\n",
       "      <td>0.000000</td>\n",
       "      <td>0.000000</td>\n",
       "      <td>0.000000</td>\n",
       "      <td>0.000000</td>\n",
       "      <td>0.000000</td>\n",
       "      <td>0.000000</td>\n",
       "      <td>...</td>\n",
       "      <td>0.000000</td>\n",
       "      <td>0.0</td>\n",
       "      <td>0.0</td>\n",
       "      <td>0.0</td>\n",
       "      <td>0.0</td>\n",
       "      <td>0.0</td>\n",
       "      <td>0.000000</td>\n",
       "      <td>0.0</td>\n",
       "      <td>0.0</td>\n",
       "      <td>0.0</td>\n",
       "    </tr>\n",
       "    <tr>\n",
       "      <th>50%</th>\n",
       "      <td>0.000000</td>\n",
       "      <td>0.000000</td>\n",
       "      <td>0.000000</td>\n",
       "      <td>0.000000</td>\n",
       "      <td>0.000000</td>\n",
       "      <td>0.000000</td>\n",
       "      <td>0.000000</td>\n",
       "      <td>0.000000</td>\n",
       "      <td>0.000000</td>\n",
       "      <td>0.000000</td>\n",
       "      <td>...</td>\n",
       "      <td>0.000000</td>\n",
       "      <td>0.0</td>\n",
       "      <td>0.0</td>\n",
       "      <td>0.0</td>\n",
       "      <td>0.0</td>\n",
       "      <td>0.0</td>\n",
       "      <td>0.000000</td>\n",
       "      <td>0.0</td>\n",
       "      <td>0.0</td>\n",
       "      <td>0.0</td>\n",
       "    </tr>\n",
       "    <tr>\n",
       "      <th>75%</th>\n",
       "      <td>0.000000</td>\n",
       "      <td>0.000000</td>\n",
       "      <td>0.000000</td>\n",
       "      <td>0.000000</td>\n",
       "      <td>0.000000</td>\n",
       "      <td>0.000000</td>\n",
       "      <td>0.000000</td>\n",
       "      <td>0.000000</td>\n",
       "      <td>0.000000</td>\n",
       "      <td>0.000000</td>\n",
       "      <td>...</td>\n",
       "      <td>0.000000</td>\n",
       "      <td>0.0</td>\n",
       "      <td>0.0</td>\n",
       "      <td>0.0</td>\n",
       "      <td>0.0</td>\n",
       "      <td>0.0</td>\n",
       "      <td>0.000000</td>\n",
       "      <td>0.0</td>\n",
       "      <td>0.0</td>\n",
       "      <td>0.0</td>\n",
       "    </tr>\n",
       "    <tr>\n",
       "      <th>max</th>\n",
       "      <td>5.000000</td>\n",
       "      <td>5.000000</td>\n",
       "      <td>5.000000</td>\n",
       "      <td>5.000000</td>\n",
       "      <td>5.000000</td>\n",
       "      <td>1.000000</td>\n",
       "      <td>1.000000</td>\n",
       "      <td>1.000000</td>\n",
       "      <td>1.000000</td>\n",
       "      <td>1.000000</td>\n",
       "      <td>...</td>\n",
       "      <td>1.000000</td>\n",
       "      <td>0.0</td>\n",
       "      <td>0.0</td>\n",
       "      <td>0.0</td>\n",
       "      <td>0.0</td>\n",
       "      <td>0.0</td>\n",
       "      <td>1.000000</td>\n",
       "      <td>0.0</td>\n",
       "      <td>0.0</td>\n",
       "      <td>0.0</td>\n",
       "    </tr>\n",
       "  </tbody>\n",
       "</table>\n",
       "<p>8 rows × 327 columns</p>\n",
       "</div>"
      ],
      "text/plain": [
       "       StartLoanApply  UseLoanManage  UsePrepayCalc     UseDSRCalc  \\\n",
       "count   370436.000000  370436.000000  370436.000000  370436.000000   \n",
       "mean         0.012175       0.017358       0.001255       0.001228   \n",
       "std          0.246427       0.294089       0.079214       0.078358   \n",
       "min          0.000000       0.000000       0.000000       0.000000   \n",
       "25%          0.000000       0.000000       0.000000       0.000000   \n",
       "50%          0.000000       0.000000       0.000000       0.000000   \n",
       "75%          0.000000       0.000000       0.000000       0.000000   \n",
       "max          5.000000       5.000000       5.000000       5.000000   \n",
       "\n",
       "       GetCreditInfo  (StartLoanApply, UseLoanManage)  \\\n",
       "count  370436.000000                    370436.000000   \n",
       "mean        0.017763                         0.001209   \n",
       "std         0.297488                         0.034755   \n",
       "min         0.000000                         0.000000   \n",
       "25%         0.000000                         0.000000   \n",
       "50%         0.000000                         0.000000   \n",
       "75%         0.000000                         0.000000   \n",
       "max         5.000000                         1.000000   \n",
       "\n",
       "       (StartLoanApply, UsePrepayCalc)  (StartLoanApply, UseDSRCalc)  \\\n",
       "count                    370436.000000                 370436.000000   \n",
       "mean                          0.000011                      0.000016   \n",
       "std                           0.003286                      0.004025   \n",
       "min                           0.000000                      0.000000   \n",
       "25%                           0.000000                      0.000000   \n",
       "50%                           0.000000                      0.000000   \n",
       "75%                           0.000000                      0.000000   \n",
       "max                           1.000000                      1.000000   \n",
       "\n",
       "       (StartLoanApply, GetCreditInfo)  (UseLoanManage, StartLoanApply)  ...  \\\n",
       "count                    370436.000000                    370436.000000  ...   \n",
       "mean                          0.001479                         0.001002  ...   \n",
       "std                           0.038434                         0.031631  ...   \n",
       "min                           0.000000                         0.000000  ...   \n",
       "25%                           0.000000                         0.000000  ...   \n",
       "50%                           0.000000                         0.000000  ...   \n",
       "75%                           0.000000                         0.000000  ...   \n",
       "max                           1.000000                         1.000000  ...   \n",
       "\n",
       "       (GetCreditInfo, UsePrepayCalc, UseDSRCalc, StartLoanApply, UseLoanManage)  \\\n",
       "count                                      370436.000000                           \n",
       "mean                                            0.000003                           \n",
       "std                                             0.001643                           \n",
       "min                                             0.000000                           \n",
       "25%                                             0.000000                           \n",
       "50%                                             0.000000                           \n",
       "75%                                             0.000000                           \n",
       "max                                             1.000000                           \n",
       "\n",
       "       (GetCreditInfo, UsePrepayCalc, UseDSRCalc, UseLoanManage, StartLoanApply)  \\\n",
       "count                                           370436.0                           \n",
       "mean                                                 0.0                           \n",
       "std                                                  0.0                           \n",
       "min                                                  0.0                           \n",
       "25%                                                  0.0                           \n",
       "50%                                                  0.0                           \n",
       "75%                                                  0.0                           \n",
       "max                                                  0.0                           \n",
       "\n",
       "       (GetCreditInfo, UseDSRCalc, StartLoanApply, UseLoanManage, UsePrepayCalc)  \\\n",
       "count                                           370436.0                           \n",
       "mean                                                 0.0                           \n",
       "std                                                  0.0                           \n",
       "min                                                  0.0                           \n",
       "25%                                                  0.0                           \n",
       "50%                                                  0.0                           \n",
       "75%                                                  0.0                           \n",
       "max                                                  0.0                           \n",
       "\n",
       "       (GetCreditInfo, UseDSRCalc, StartLoanApply, UsePrepayCalc, UseLoanManage)  \\\n",
       "count                                           370436.0                           \n",
       "mean                                                 0.0                           \n",
       "std                                                  0.0                           \n",
       "min                                                  0.0                           \n",
       "25%                                                  0.0                           \n",
       "50%                                                  0.0                           \n",
       "75%                                                  0.0                           \n",
       "max                                                  0.0                           \n",
       "\n",
       "       (GetCreditInfo, UseDSRCalc, UseLoanManage, StartLoanApply, UsePrepayCalc)  \\\n",
       "count                                           370436.0                           \n",
       "mean                                                 0.0                           \n",
       "std                                                  0.0                           \n",
       "min                                                  0.0                           \n",
       "25%                                                  0.0                           \n",
       "50%                                                  0.0                           \n",
       "75%                                                  0.0                           \n",
       "max                                                  0.0                           \n",
       "\n",
       "       (GetCreditInfo, UseDSRCalc, UseLoanManage, UsePrepayCalc, StartLoanApply)  \\\n",
       "count                                           370436.0                           \n",
       "mean                                                 0.0                           \n",
       "std                                                  0.0                           \n",
       "min                                                  0.0                           \n",
       "25%                                                  0.0                           \n",
       "50%                                                  0.0                           \n",
       "75%                                                  0.0                           \n",
       "max                                                  0.0                           \n",
       "\n",
       "       (GetCreditInfo, UseDSRCalc, UsePrepayCalc, StartLoanApply, UseLoanManage)  \\\n",
       "count                                      370436.000000                           \n",
       "mean                                            0.000003                           \n",
       "std                                             0.001643                           \n",
       "min                                             0.000000                           \n",
       "25%                                             0.000000                           \n",
       "50%                                             0.000000                           \n",
       "75%                                             0.000000                           \n",
       "max                                             1.000000                           \n",
       "\n",
       "       (GetCreditInfo, UseDSRCalc, UsePrepayCalc, UseLoanManage, StartLoanApply)  \\\n",
       "count                                           370436.0                           \n",
       "mean                                                 0.0                           \n",
       "std                                                  0.0                           \n",
       "min                                                  0.0                           \n",
       "25%                                                  0.0                           \n",
       "50%                                                  0.0                           \n",
       "75%                                                  0.0                           \n",
       "max                                                  0.0                           \n",
       "\n",
       "                 cluster_label  \n",
       "count  370436.0       370436.0  \n",
       "mean        0.0            0.0  \n",
       "std         0.0            0.0  \n",
       "min         0.0            0.0  \n",
       "25%         0.0            0.0  \n",
       "50%         0.0            0.0  \n",
       "75%         0.0            0.0  \n",
       "max         0.0            0.0  \n",
       "\n",
       "[8 rows x 327 columns]"
      ]
     },
     "execution_count": 466,
     "metadata": {},
     "output_type": "execute_result"
    }
   ],
   "source": [
    "cluster_df.describe()"
   ]
  },
  {
   "cell_type": "markdown",
   "metadata": {},
   "source": [
    "-> 이상한 클러스터링의 원인: 너무나 sparse한 데이터.. 이렇게는 못할듯"
   ]
  },
  {
   "cell_type": "markdown",
   "metadata": {},
   "source": [
    "# 결국 유저 스펙에는 사용하기 어렵다는 결론이 나옴"
   ]
  },
  {
   "cell_type": "markdown",
   "metadata": {},
   "source": [
    "---"
   ]
  }
 ],
 "metadata": {
  "kernelspec": {
   "display_name": "Python 3.7.13 ('smartfarm')",
   "language": "python",
   "name": "python3"
  },
  "language_info": {
   "codemirror_mode": {
    "name": "ipython",
    "version": 3
   },
   "file_extension": ".py",
   "mimetype": "text/x-python",
   "name": "python",
   "nbconvert_exporter": "python",
   "pygments_lexer": "ipython3",
   "version": "3.7.13"
  },
  "orig_nbformat": 4,
  "vscode": {
   "interpreter": {
    "hash": "2f339d95b8d17851c48fc92de03245aeb578afe773ced39b669b273fa397e1a6"
   }
  }
 },
 "nbformat": 4,
 "nbformat_minor": 2
}
