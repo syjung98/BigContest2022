{
 "cells": [
  {
   "cell_type": "code",
   "execution_count": 7,
   "metadata": {},
   "outputs": [],
   "source": [
    "import pandas as pd\n",
    "import numpy as np\n",
    "import matplotlib.pyplot as plt\n",
    "from tqdm import tqdm\n",
    "import seaborn as sns\n",
    "import warnings; warnings.filterwarnings(\"ignore\")\n",
    "from matplotlib import rc\n",
    "rc('font', family='AppleGothic')\n",
    "plt.rcParams['axes.unicode_minus'] = False\n",
    "from scipy import stats\n",
    "from sklearn.cluster import KMeans\n",
    "from sklearn.decomposition import PCA"
   ]
  },
  {
   "cell_type": "code",
   "execution_count": 11,
   "metadata": {},
   "outputs": [],
   "source": [
    "df_na=pd.read_csv(\"../data/df_na.csv\")"
   ]
  },
  {
   "cell_type": "code",
   "execution_count": 3,
   "metadata": {},
   "outputs": [],
   "source": [
    "X_cluster_l=pd.read_csv(\"../data/X_cluster_l.csv\")\n",
    "X_cluster_r=pd.read_csv(\"../data/X_cluster_r.csv\")\n",
    "X_cluster_s=pd.read_csv(\"../data/X_cluster_s.csv\")"
   ]
  },
  {
   "cell_type": "code",
   "execution_count": 4,
   "metadata": {},
   "outputs": [],
   "source": [
    "X_spec=pd.read_csv(\"../data/X_spec.csv\")\n",
    "X_log=pd.read_csv(\"../data/X_log.csv\")\n",
    "X_route=pd.read_csv(\"../data/X_route.csv\")\n",
    "X_corred = pd.read_csv(\"../data/X_corred.csv\")"
   ]
  },
  {
   "cell_type": "markdown",
   "metadata": {},
   "source": [
    "# 클러스터링 정리"
   ]
  },
  {
   "cell_type": "code",
   "execution_count": 8,
   "metadata": {},
   "outputs": [
    {
     "data": {
      "text/plain": [
       "(159963, 159963, 159963, 159963)"
      ]
     },
     "execution_count": 8,
     "metadata": {},
     "output_type": "execute_result"
    }
   ],
   "source": [
    "len(X_corred), len(X_cluster_l), len(X_cluster_r), len(X_cluster_s)"
   ]
  },
  {
   "cell_type": "code",
   "execution_count": 12,
   "metadata": {},
   "outputs": [],
   "source": [
    "clusterer = KMeans(n_clusters=3, max_iter=500, random_state=0)\n",
    "cluster_labels = clusterer.fit_predict(X_cluster_l)\n",
    "X_cluster_l['cluster_label_l']=cluster_labels\n",
    "\n",
    "clusterer = KMeans(n_clusters=2, max_iter=500, random_state=0)\n",
    "cluster_labels2 = clusterer.fit_predict(X_cluster_r)\n",
    "X_cluster_r['cluster_label_r']=cluster_labels2\n",
    "\n",
    "clusterer = KMeans(n_clusters=3, max_iter=500, random_state=0)\n",
    "cluster_labels3 = clusterer.fit_predict(X_cluster_s)\n",
    "X_cluster_s['cluster_label_s']=cluster_labels3\n"
   ]
  },
  {
   "cell_type": "code",
   "execution_count": 13,
   "metadata": {},
   "outputs": [],
   "source": [
    "X_cluster_l['유저_번호']=df_na['유저_번호']\n",
    "X_cluster_r['유저_번호']=df_na['유저_번호']\n",
    "X_cluster_s['유저_번호']=df_na['유저_번호']"
   ]
  },
  {
   "cell_type": "code",
   "execution_count": 14,
   "metadata": {},
   "outputs": [
    {
     "data": {
      "text/html": [
       "<div>\n",
       "<style scoped>\n",
       "    .dataframe tbody tr th:only-of-type {\n",
       "        vertical-align: middle;\n",
       "    }\n",
       "\n",
       "    .dataframe tbody tr th {\n",
       "        vertical-align: top;\n",
       "    }\n",
       "\n",
       "    .dataframe thead th {\n",
       "        text-align: right;\n",
       "    }\n",
       "</style>\n",
       "<table border=\"1\" class=\"dataframe\">\n",
       "  <thead>\n",
       "    <tr style=\"text-align: right;\">\n",
       "      <th></th>\n",
       "      <th>유저_번호</th>\n",
       "      <th>cluster_label_l</th>\n",
       "      <th>cluster_label_r</th>\n",
       "      <th>cluster_label_s</th>\n",
       "    </tr>\n",
       "  </thead>\n",
       "  <tbody>\n",
       "    <tr>\n",
       "      <th>0</th>\n",
       "      <td>11.0</td>\n",
       "      <td>0</td>\n",
       "      <td>0</td>\n",
       "      <td>0</td>\n",
       "    </tr>\n",
       "    <tr>\n",
       "      <th>1</th>\n",
       "      <td>12.0</td>\n",
       "      <td>0</td>\n",
       "      <td>0</td>\n",
       "      <td>0</td>\n",
       "    </tr>\n",
       "    <tr>\n",
       "      <th>2</th>\n",
       "      <td>17.0</td>\n",
       "      <td>0</td>\n",
       "      <td>0</td>\n",
       "      <td>0</td>\n",
       "    </tr>\n",
       "    <tr>\n",
       "      <th>3</th>\n",
       "      <td>24.0</td>\n",
       "      <td>0</td>\n",
       "      <td>0</td>\n",
       "      <td>0</td>\n",
       "    </tr>\n",
       "    <tr>\n",
       "      <th>4</th>\n",
       "      <td>25.0</td>\n",
       "      <td>0</td>\n",
       "      <td>0</td>\n",
       "      <td>0</td>\n",
       "    </tr>\n",
       "    <tr>\n",
       "      <th>...</th>\n",
       "      <td>...</td>\n",
       "      <td>...</td>\n",
       "      <td>...</td>\n",
       "      <td>...</td>\n",
       "    </tr>\n",
       "    <tr>\n",
       "      <th>159958</th>\n",
       "      <td>879683.0</td>\n",
       "      <td>1</td>\n",
       "      <td>1</td>\n",
       "      <td>1</td>\n",
       "    </tr>\n",
       "    <tr>\n",
       "      <th>159959</th>\n",
       "      <td>879689.0</td>\n",
       "      <td>1</td>\n",
       "      <td>1</td>\n",
       "      <td>1</td>\n",
       "    </tr>\n",
       "    <tr>\n",
       "      <th>159960</th>\n",
       "      <td>879691.0</td>\n",
       "      <td>1</td>\n",
       "      <td>1</td>\n",
       "      <td>1</td>\n",
       "    </tr>\n",
       "    <tr>\n",
       "      <th>159961</th>\n",
       "      <td>879692.0</td>\n",
       "      <td>1</td>\n",
       "      <td>1</td>\n",
       "      <td>1</td>\n",
       "    </tr>\n",
       "    <tr>\n",
       "      <th>159962</th>\n",
       "      <td>879693.0</td>\n",
       "      <td>1</td>\n",
       "      <td>1</td>\n",
       "      <td>1</td>\n",
       "    </tr>\n",
       "  </tbody>\n",
       "</table>\n",
       "<p>159963 rows × 4 columns</p>\n",
       "</div>"
      ],
      "text/plain": [
       "           유저_번호  cluster_label_l  cluster_label_r  cluster_label_s\n",
       "0           11.0                0                0                0\n",
       "1           12.0                0                0                0\n",
       "2           17.0                0                0                0\n",
       "3           24.0                0                0                0\n",
       "4           25.0                0                0                0\n",
       "...          ...              ...              ...              ...\n",
       "159958  879683.0                1                1                1\n",
       "159959  879689.0                1                1                1\n",
       "159960  879691.0                1                1                1\n",
       "159961  879692.0                1                1                1\n",
       "159962  879693.0                1                1                1\n",
       "\n",
       "[159963 rows x 4 columns]"
      ]
     },
     "execution_count": 14,
     "metadata": {},
     "output_type": "execute_result"
    }
   ],
   "source": [
    "cluster_df = pd.concat([df_na['유저_번호'], X_cluster_l['cluster_label_l'], \n",
    "                        X_cluster_r['cluster_label_r'], X_cluster_s['cluster_label_s']], axis=1)\n",
    "cluster_df.to_csv(\"../data/cluster_df.csv\", index=False)\n",
    "cluster_df\n"
   ]
  },
  {
   "cell_type": "code",
   "execution_count": 15,
   "metadata": {},
   "outputs": [],
   "source": [
    "cluster000=cluster_df[(cluster_df['cluster_label_l']==0)&(cluster_df['cluster_label_r']==0)&(cluster_df['cluster_label_s']==0)]\n",
    "cluster001=cluster_df[(cluster_df['cluster_label_l']==0)&(cluster_df['cluster_label_r']==0)&(cluster_df['cluster_label_s']==1)]\n",
    "cluster002=cluster_df[(cluster_df['cluster_label_l']==0)&(cluster_df['cluster_label_r']==0)&(cluster_df['cluster_label_s']==2)]\n",
    "cluster010=cluster_df[(cluster_df['cluster_label_l']==0)&(cluster_df['cluster_label_r']==1)&(cluster_df['cluster_label_s']==0)]\n",
    "cluster011=cluster_df[(cluster_df['cluster_label_l']==0)&(cluster_df['cluster_label_r']==1)&(cluster_df['cluster_label_s']==1)]\n",
    "cluster012=cluster_df[(cluster_df['cluster_label_l']==0)&(cluster_df['cluster_label_r']==1)&(cluster_df['cluster_label_s']==2)]\n",
    "cluster100=cluster_df[(cluster_df['cluster_label_l']==1)&(cluster_df['cluster_label_r']==0)&(cluster_df['cluster_label_s']==0)]\n",
    "cluster101=cluster_df[(cluster_df['cluster_label_l']==1)&(cluster_df['cluster_label_r']==0)&(cluster_df['cluster_label_s']==1)]\n",
    "cluster102=cluster_df[(cluster_df['cluster_label_l']==1)&(cluster_df['cluster_label_r']==0)&(cluster_df['cluster_label_s']==2)]\n",
    "cluster110=cluster_df[(cluster_df['cluster_label_l']==1)&(cluster_df['cluster_label_r']==1)&(cluster_df['cluster_label_s']==0)]\n",
    "cluster111=cluster_df[(cluster_df['cluster_label_l']==1)&(cluster_df['cluster_label_r']==1)&(cluster_df['cluster_label_s']==1)]\n",
    "cluster112=cluster_df[(cluster_df['cluster_label_l']==1)&(cluster_df['cluster_label_r']==1)&(cluster_df['cluster_label_s']==2)]\n",
    "cluster200=cluster_df[(cluster_df['cluster_label_l']==2)&(cluster_df['cluster_label_r']==0)&(cluster_df['cluster_label_s']==0)]\n",
    "cluster201=cluster_df[(cluster_df['cluster_label_l']==2)&(cluster_df['cluster_label_r']==0)&(cluster_df['cluster_label_s']==1)]\n",
    "cluster202=cluster_df[(cluster_df['cluster_label_l']==2)&(cluster_df['cluster_label_r']==0)&(cluster_df['cluster_label_s']==2)]\n",
    "cluster210=cluster_df[(cluster_df['cluster_label_l']==2)&(cluster_df['cluster_label_r']==1)&(cluster_df['cluster_label_s']==0)]\n",
    "cluster211=cluster_df[(cluster_df['cluster_label_l']==2)&(cluster_df['cluster_label_r']==1)&(cluster_df['cluster_label_s']==1)]\n",
    "cluster212=cluster_df[(cluster_df['cluster_label_l']==2)&(cluster_df['cluster_label_r']==1)&(cluster_df['cluster_label_s']==2)]"
   ]
  },
  {
   "cell_type": "markdown",
   "metadata": {},
   "source": [
    "- 클러스터 개수 확인"
   ]
  },
  {
   "cell_type": "code",
   "execution_count": 66,
   "metadata": {},
   "outputs": [
    {
     "data": {
      "text/plain": [
       "(52671, 53696, 53596)"
      ]
     },
     "execution_count": 66,
     "metadata": {},
     "output_type": "execute_result"
    }
   ],
   "source": [
    "len(cluster_df[cluster_df['cluster_label_l']==0]), len(cluster_df[cluster_df['cluster_label_l']==1]), len(cluster_df[cluster_df['cluster_label_l']==2])"
   ]
  },
  {
   "cell_type": "code",
   "execution_count": 67,
   "metadata": {},
   "outputs": [
    {
     "data": {
      "text/plain": [
       "(80140, 79823)"
      ]
     },
     "execution_count": 67,
     "metadata": {},
     "output_type": "execute_result"
    }
   ],
   "source": [
    "len(cluster_df[cluster_df['cluster_label_r']==0]), len(cluster_df[cluster_df['cluster_label_r']==1])"
   ]
  },
  {
   "cell_type": "code",
   "execution_count": 68,
   "metadata": {},
   "outputs": [
    {
     "data": {
      "text/plain": [
       "(52727, 53635, 53601)"
      ]
     },
     "execution_count": 68,
     "metadata": {},
     "output_type": "execute_result"
    }
   ],
   "source": [
    "len(cluster_df[cluster_df['cluster_label_s']==0]), len(cluster_df[cluster_df['cluster_label_s']==1]), len(cluster_df[cluster_df['cluster_label_s']==2])"
   ]
  },
  {
   "cell_type": "code",
   "execution_count": 16,
   "metadata": {},
   "outputs": [
    {
     "data": {
      "text/plain": [
       "(52671, 0, 0, 0, 0, 0)"
      ]
     },
     "execution_count": 16,
     "metadata": {},
     "output_type": "execute_result"
    }
   ],
   "source": [
    "len(cluster000), len(cluster001), len(cluster002), len(cluster010), len(cluster011), len(cluster012)"
   ]
  },
  {
   "cell_type": "code",
   "execution_count": 17,
   "metadata": {},
   "outputs": [
    {
     "data": {
      "text/plain": [
       "(0, 0, 0, 0, 53635, 61)"
      ]
     },
     "execution_count": 17,
     "metadata": {},
     "output_type": "execute_result"
    }
   ],
   "source": [
    "len(cluster100), len(cluster101), len(cluster102), len(cluster110), len(cluster111), len(cluster112)"
   ]
  },
  {
   "cell_type": "code",
   "execution_count": 18,
   "metadata": {},
   "outputs": [
    {
     "data": {
      "text/plain": [
       "(56, 0, 27413, 0, 0, 26127)"
      ]
     },
     "execution_count": 18,
     "metadata": {},
     "output_type": "execute_result"
    }
   ],
   "source": [
    "len(cluster200), len(cluster201), len(cluster202), len(cluster210), len(cluster211), len(cluster212)"
   ]
  },
  {
   "cell_type": "code",
   "execution_count": 19,
   "metadata": {},
   "outputs": [
    {
     "data": {
      "text/plain": [
       "(52671, 53635, 27413, 26127)"
      ]
     },
     "execution_count": 19,
     "metadata": {},
     "output_type": "execute_result"
    }
   ],
   "source": [
    "# 타겟 군집 확정\n",
    "len(cluster000), len(cluster111), len(cluster202), len(cluster212)\n"
   ]
  },
  {
   "cell_type": "markdown",
   "metadata": {},
   "source": [
    "# PCA 정리\n",
    "### 1. PCA var와 실제 var의 상관계수 비교"
   ]
  },
  {
   "cell_type": "markdown",
   "metadata": {},
   "source": [
    "#### 유사한 변수들(이전에 상관계수로 드랍함)\n",
    "- [고유_일자] = [전체_이벤트, 앱_실행]\n",
    "- [R] = [마지막_로그_일자]\n",
    "- [앱실행비율] = [방문일자비율]\n",
    "- [M] = [신청서_갯수]\n",
    "- [funnel_100] = [funnel_01, funnel_10, funnel_32, funnel_21]\n",
    "- [세션당_한도조회_인트로_페이지_조회] = [세션당_본인인증완료]\n",
    "- [근로형태_2] = [고용형태_2]\n",
    "- [UV] = [GUV] \n",
    "- [대출_목적_2] = [대출_목적_3]\n",
    "- [근로형태_2] = [고용형태_1, 근로형태_1, 고용형태_2]\n"
   ]
  },
  {
   "cell_type": "code",
   "execution_count": 77,
   "metadata": {},
   "outputs": [
    {
     "name": "stdout",
     "output_type": "stream",
     "text": [
      "('pca_0', 'F') -0.8559968856248485\n",
      "('pca_0', 'R') -0.824156571090142\n",
      "('pca_0', '방문일자비율') -0.6465720195822446\n",
      "('pca_1', 'M') -0.7202583962479029\n",
      "('pca_2', '조회_전환_시간') 0.6291345237753516\n",
      "('pca_2', '첫_로그_일자') 0.8191351803399157\n",
      "('세션당_한도조회_시작하기_버튼_클릭', '세션당_한도조회_결과_확인') 0.7278374646798851\n",
      "('세션당_한도조회_시작하기_버튼_클릭', '세션당_한도조회_인트로_페이지_조회') 0.6723300047841451\n",
      "('세션당_한도조회_인트로_페이지_조회', '세션당_한도조회_결과_확인') 0.6447015168392775\n",
      "('세션당_대출관리_서비스_이용', '세션당_KCB_신용정보_조회') 0.6601811729946272\n"
     ]
    },
    {
     "data": {
      "image/png": "[encoded data removed]",
      "text/plain": [
       "<Figure size 432x288 with 2 Axes>"
      ]
     },
     "metadata": {
      "needs_background": "light"
     },
     "output_type": "display_data"
    }
   ],
   "source": [
    "# log\n",
    "\n",
    "pca = PCA(n_components=4)  # 주성분을 몇개로 할지 결정\n",
    "printcipalComponents = pca.fit_transform(X_log)\n",
    "principalDf=pd.DataFrame(printcipalComponents, columns=['pca_0', 'pca_1', 'pca_2', 'pca_3'])\n",
    "merge_df=pd.concat([principalDf, X_log], axis=1)\n",
    "corr_df = merge_df.corr()\n",
    "sns.heatmap(corr_df)\n",
    "\n",
    "corr_cols = corr_df.columns\n",
    "for i in range(len(corr_df)):\n",
    "    for j in range(len(corr_df)-1, i, -1):\n",
    "        if abs(corr_df.iloc[i].iloc[j]) > 0.6 and i != j:\n",
    "            print((corr_cols[i], corr_cols[j]), corr_df.iloc[i].iloc[j])\n"
   ]
  },
  {
   "cell_type": "code",
   "execution_count": 21,
   "metadata": {},
   "outputs": [
    {
     "name": "stdout",
     "output_type": "stream",
     "text": [
      "('pca_0', 'funnel_100') 0.83083009238741\n",
      "('pca_1', 'funnel_10_hesitate_mean') -0.7173383267064464\n",
      "('pca_3', 'funnel_32_hesitate_sec_mean') 0.6618436799861745\n",
      "('UG', 'GU') 0.6208697899792271\n",
      "('GV', 'UGV') 0.7147177048866\n"
     ]
    },
    {
     "data": {
      "image/png": "[encoded data removed]",
      "text/plain": [
       "<Figure size 432x288 with 2 Axes>"
      ]
     },
     "metadata": {
      "needs_background": "light"
     },
     "output_type": "display_data"
    }
   ],
   "source": [
    "# route\n",
    "\n",
    "pca = PCA(n_components=4)  # 주성분을 몇개로 할지 결정\n",
    "printcipalComponents = pca.fit_transform(X_route)\n",
    "principalDf=pd.DataFrame(printcipalComponents, columns=['pca_0', 'pca_1', 'pca_2', 'pca_3'])\n",
    "merge_df=pd.concat([principalDf, X_route], axis=1)\n",
    "corr_df = merge_df.corr()\n",
    "sns.heatmap(corr_df)\n",
    "\n",
    "corr_cols = corr_df.columns\n",
    "for i in range(len(corr_df)):\n",
    "    for j in range(len(corr_df)-1, i, -1):\n",
    "        if abs(corr_df.iloc[i].iloc[j]) > 0.6 and i != j:\n",
    "            print((corr_cols[i], corr_cols[j]), corr_df.iloc[i].iloc[j])\n"
   ]
  },
  {
   "cell_type": "code",
   "execution_count": 22,
   "metadata": {},
   "outputs": [
    {
     "name": "stdout",
     "output_type": "stream",
     "text": [
      "('pca_0', '주거소유형태_1') -0.9785900017706373\n",
      "('pca_0', '주거소유형태_0') 0.7659717541345179\n",
      "('pca_1', '주거소유형태_2') 0.7169596592020117\n",
      "('pca_3', '대출_목적_2') -0.6510048338303477\n",
      "('pca_3', '유저_성별') -0.6545636176252047\n",
      "('pca_4', '근로형태_0') 0.6509280068851411\n",
      "('pca_5', '근로형태_2') 0.634543761858147\n",
      "('주거소유형태_0', '주거소유형태_1') -0.6261058968130738\n"
     ]
    },
    {
     "data": {
      "image/png": "[encoded data removed]",
      "text/plain": [
       "<Figure size 432x288 with 2 Axes>"
      ]
     },
     "metadata": {
      "needs_background": "light"
     },
     "output_type": "display_data"
    }
   ],
   "source": [
    "# spec\n",
    "\n",
    "pca = PCA(n_components=6)  # 주성분을 몇개로 할지 결정\n",
    "printcipalComponents = pca.fit_transform(X_spec)\n",
    "principalDf=pd.DataFrame(printcipalComponents, columns=['pca_0', 'pca_1', 'pca_2', 'pca_3', 'pca_4', 'pca_5'])\n",
    "merge_df=pd.concat([principalDf, X_spec], axis=1)\n",
    "corr_df = merge_df.corr()\n",
    "sns.heatmap(corr_df)\n",
    "\n",
    "corr_cols = corr_df.columns\n",
    "for i in range(len(corr_df)):\n",
    "    for j in range(len(corr_df)-1, i, -1):\n",
    "        if abs(corr_df.iloc[i].iloc[j]) > 0.6 and i != j:\n",
    "            print((corr_cols[i], corr_cols[j]), corr_df.iloc[i].iloc[j])\n"
   ]
  },
  {
   "cell_type": "markdown",
   "metadata": {},
   "source": [
    "### 2. 1에서 나온 상관계수를 바탕으로 클러스터에서 PCA 값의 분포에 대한 해석\n",
    "\n",
    "- cluster000\n",
    "- cluster111\n",
    "- cluster202\n",
    "- cluster212"
   ]
  },
  {
   "cell_type": "markdown",
   "metadata": {},
   "source": [
    "### log 0, 1, 2"
   ]
  },
  {
   "cell_type": "code",
   "execution_count": 41,
   "metadata": {},
   "outputs": [
    {
     "data": {
      "text/html": [
       "<div>\n",
       "<style scoped>\n",
       "    .dataframe tbody tr th:only-of-type {\n",
       "        vertical-align: middle;\n",
       "    }\n",
       "\n",
       "    .dataframe tbody tr th {\n",
       "        vertical-align: top;\n",
       "    }\n",
       "\n",
       "    .dataframe thead th {\n",
       "        text-align: right;\n",
       "    }\n",
       "</style>\n",
       "<table border=\"1\" class=\"dataframe\">\n",
       "  <thead>\n",
       "    <tr style=\"text-align: right;\">\n",
       "      <th></th>\n",
       "      <th>0</th>\n",
       "      <th>1</th>\n",
       "      <th>2</th>\n",
       "      <th>3</th>\n",
       "      <th>cluster_label_l</th>\n",
       "      <th>유저_번호</th>\n",
       "    </tr>\n",
       "  </thead>\n",
       "  <tbody>\n",
       "    <tr>\n",
       "      <th>0</th>\n",
       "      <td>0.462033</td>\n",
       "      <td>-0.148422</td>\n",
       "      <td>-0.142316</td>\n",
       "      <td>0.193854</td>\n",
       "      <td>0</td>\n",
       "      <td>11.0</td>\n",
       "    </tr>\n",
       "    <tr>\n",
       "      <th>1</th>\n",
       "      <td>-0.308327</td>\n",
       "      <td>-0.285956</td>\n",
       "      <td>0.028130</td>\n",
       "      <td>-0.067655</td>\n",
       "      <td>0</td>\n",
       "      <td>12.0</td>\n",
       "    </tr>\n",
       "    <tr>\n",
       "      <th>2</th>\n",
       "      <td>0.671961</td>\n",
       "      <td>-0.395065</td>\n",
       "      <td>-0.029257</td>\n",
       "      <td>-0.036056</td>\n",
       "      <td>0</td>\n",
       "      <td>17.0</td>\n",
       "    </tr>\n",
       "    <tr>\n",
       "      <th>3</th>\n",
       "      <td>0.179076</td>\n",
       "      <td>0.245156</td>\n",
       "      <td>-0.502467</td>\n",
       "      <td>0.352737</td>\n",
       "      <td>0</td>\n",
       "      <td>24.0</td>\n",
       "    </tr>\n",
       "    <tr>\n",
       "      <th>4</th>\n",
       "      <td>0.166128</td>\n",
       "      <td>0.335760</td>\n",
       "      <td>0.175349</td>\n",
       "      <td>0.424588</td>\n",
       "      <td>0</td>\n",
       "      <td>25.0</td>\n",
       "    </tr>\n",
       "    <tr>\n",
       "      <th>...</th>\n",
       "      <td>...</td>\n",
       "      <td>...</td>\n",
       "      <td>...</td>\n",
       "      <td>...</td>\n",
       "      <td>...</td>\n",
       "      <td>...</td>\n",
       "    </tr>\n",
       "    <tr>\n",
       "      <th>52666</th>\n",
       "      <td>-0.539871</td>\n",
       "      <td>-0.166499</td>\n",
       "      <td>0.137057</td>\n",
       "      <td>0.101927</td>\n",
       "      <td>0</td>\n",
       "      <td>290846.0</td>\n",
       "    </tr>\n",
       "    <tr>\n",
       "      <th>52667</th>\n",
       "      <td>0.004954</td>\n",
       "      <td>0.517362</td>\n",
       "      <td>0.445723</td>\n",
       "      <td>0.078430</td>\n",
       "      <td>0</td>\n",
       "      <td>290853.0</td>\n",
       "    </tr>\n",
       "    <tr>\n",
       "      <th>52668</th>\n",
       "      <td>0.610595</td>\n",
       "      <td>0.122106</td>\n",
       "      <td>0.193985</td>\n",
       "      <td>-0.000124</td>\n",
       "      <td>0</td>\n",
       "      <td>290862.0</td>\n",
       "    </tr>\n",
       "    <tr>\n",
       "      <th>52669</th>\n",
       "      <td>0.188708</td>\n",
       "      <td>0.199424</td>\n",
       "      <td>0.348187</td>\n",
       "      <td>-0.064935</td>\n",
       "      <td>0</td>\n",
       "      <td>290866.0</td>\n",
       "    </tr>\n",
       "    <tr>\n",
       "      <th>52670</th>\n",
       "      <td>0.448248</td>\n",
       "      <td>-0.165061</td>\n",
       "      <td>-0.064745</td>\n",
       "      <td>0.144736</td>\n",
       "      <td>0</td>\n",
       "      <td>290867.0</td>\n",
       "    </tr>\n",
       "  </tbody>\n",
       "</table>\n",
       "<p>52671 rows × 6 columns</p>\n",
       "</div>"
      ],
      "text/plain": [
       "              0         1         2         3  cluster_label_l     유저_번호\n",
       "0      0.462033 -0.148422 -0.142316  0.193854                0      11.0\n",
       "1     -0.308327 -0.285956  0.028130 -0.067655                0      12.0\n",
       "2      0.671961 -0.395065 -0.029257 -0.036056                0      17.0\n",
       "3      0.179076  0.245156 -0.502467  0.352737                0      24.0\n",
       "4      0.166128  0.335760  0.175349  0.424588                0      25.0\n",
       "...         ...       ...       ...       ...              ...       ...\n",
       "52666 -0.539871 -0.166499  0.137057  0.101927                0  290846.0\n",
       "52667  0.004954  0.517362  0.445723  0.078430                0  290853.0\n",
       "52668  0.610595  0.122106  0.193985 -0.000124                0  290862.0\n",
       "52669  0.188708  0.199424  0.348187 -0.064935                0  290866.0\n",
       "52670  0.448248 -0.165061 -0.064745  0.144736                0  290867.0\n",
       "\n",
       "[52671 rows x 6 columns]"
      ]
     },
     "execution_count": 41,
     "metadata": {},
     "output_type": "execute_result"
    }
   ],
   "source": [
    "cluster_l0=X_cluster_l[X_cluster_l['cluster_label_l']==0]\n",
    "cluster_l0\n"
   ]
  },
  {
   "cell_type": "code",
   "execution_count": 42,
   "metadata": {},
   "outputs": [
    {
     "data": {
      "text/html": [
       "<div>\n",
       "<style scoped>\n",
       "    .dataframe tbody tr th:only-of-type {\n",
       "        vertical-align: middle;\n",
       "    }\n",
       "\n",
       "    .dataframe tbody tr th {\n",
       "        vertical-align: top;\n",
       "    }\n",
       "\n",
       "    .dataframe thead th {\n",
       "        text-align: right;\n",
       "    }\n",
       "</style>\n",
       "<table border=\"1\" class=\"dataframe\">\n",
       "  <thead>\n",
       "    <tr style=\"text-align: right;\">\n",
       "      <th></th>\n",
       "      <th>0</th>\n",
       "      <th>1</th>\n",
       "      <th>2</th>\n",
       "      <th>3</th>\n",
       "      <th>유저_번호</th>\n",
       "    </tr>\n",
       "    <tr>\n",
       "      <th>cluster_label_l</th>\n",
       "      <th></th>\n",
       "      <th></th>\n",
       "      <th></th>\n",
       "      <th></th>\n",
       "      <th></th>\n",
       "    </tr>\n",
       "  </thead>\n",
       "  <tbody>\n",
       "    <tr>\n",
       "      <th>0</th>\n",
       "      <td>-0.00035</td>\n",
       "      <td>0.001264</td>\n",
       "      <td>0.000773</td>\n",
       "      <td>0.000896</td>\n",
       "      <td>145109.500959</td>\n",
       "    </tr>\n",
       "  </tbody>\n",
       "</table>\n",
       "</div>"
      ],
      "text/plain": [
       "                       0         1         2         3          유저_번호\n",
       "cluster_label_l                                                      \n",
       "0               -0.00035  0.001264  0.000773  0.000896  145109.500959"
      ]
     },
     "execution_count": 42,
     "metadata": {},
     "output_type": "execute_result"
    }
   ],
   "source": [
    "cluster_l0.groupby(['cluster_label_l']).mean()"
   ]
  },
  {
   "cell_type": "code",
   "execution_count": 43,
   "metadata": {},
   "outputs": [
    {
     "data": {
      "image/png": "[encoded data removed]",
      "text/plain": [
       "<Figure size 432x288 with 1 Axes>"
      ]
     },
     "metadata": {
      "needs_background": "light"
     },
     "output_type": "display_data"
    },
    {
     "data": {
      "image/png": "[encoded data removed]",
      "text/plain": [
       "<Figure size 432x288 with 1 Axes>"
      ]
     },
     "metadata": {
      "needs_background": "light"
     },
     "output_type": "display_data"
    },
    {
     "data": {
      "image/png": "[encoded data removed]",
      "text/plain": [
       "<Figure size 432x288 with 1 Axes>"
      ]
     },
     "metadata": {
      "needs_background": "light"
     },
     "output_type": "display_data"
    },
    {
     "data": {
      "image/png": "[encoded data removed]",
      "text/plain": [
       "<Figure size 432x288 with 1 Axes>"
      ]
     },
     "metadata": {
      "needs_background": "light"
     },
     "output_type": "display_data"
    }
   ],
   "source": [
    "for i in range(4):\n",
    "    plt.hist(cluster_l0[str(i)])\n",
    "    plt.title(\"pca_\" + str(i))\n",
    "    plt.show()"
   ]
  },
  {
   "cell_type": "code",
   "execution_count": 44,
   "metadata": {},
   "outputs": [
    {
     "data": {
      "text/html": [
       "<div>\n",
       "<style scoped>\n",
       "    .dataframe tbody tr th:only-of-type {\n",
       "        vertical-align: middle;\n",
       "    }\n",
       "\n",
       "    .dataframe tbody tr th {\n",
       "        vertical-align: top;\n",
       "    }\n",
       "\n",
       "    .dataframe thead th {\n",
       "        text-align: right;\n",
       "    }\n",
       "</style>\n",
       "<table border=\"1\" class=\"dataframe\">\n",
       "  <thead>\n",
       "    <tr style=\"text-align: right;\">\n",
       "      <th></th>\n",
       "      <th>0</th>\n",
       "      <th>1</th>\n",
       "      <th>2</th>\n",
       "      <th>3</th>\n",
       "      <th>cluster_label_l</th>\n",
       "      <th>유저_번호</th>\n",
       "    </tr>\n",
       "  </thead>\n",
       "  <tbody>\n",
       "    <tr>\n",
       "      <th>106267</th>\n",
       "      <td>-0.637920</td>\n",
       "      <td>-0.086594</td>\n",
       "      <td>-0.048978</td>\n",
       "      <td>0.059891</td>\n",
       "      <td>1</td>\n",
       "      <td>584288.0</td>\n",
       "    </tr>\n",
       "    <tr>\n",
       "      <th>106268</th>\n",
       "      <td>0.196370</td>\n",
       "      <td>0.308038</td>\n",
       "      <td>0.351864</td>\n",
       "      <td>-0.092074</td>\n",
       "      <td>1</td>\n",
       "      <td>584295.0</td>\n",
       "    </tr>\n",
       "    <tr>\n",
       "      <th>106269</th>\n",
       "      <td>1.047860</td>\n",
       "      <td>-0.151838</td>\n",
       "      <td>-0.010423</td>\n",
       "      <td>0.198690</td>\n",
       "      <td>1</td>\n",
       "      <td>584298.0</td>\n",
       "    </tr>\n",
       "    <tr>\n",
       "      <th>106270</th>\n",
       "      <td>0.029099</td>\n",
       "      <td>0.177542</td>\n",
       "      <td>0.044249</td>\n",
       "      <td>0.523229</td>\n",
       "      <td>1</td>\n",
       "      <td>584302.0</td>\n",
       "    </tr>\n",
       "    <tr>\n",
       "      <th>106271</th>\n",
       "      <td>-0.322951</td>\n",
       "      <td>-0.289766</td>\n",
       "      <td>0.070636</td>\n",
       "      <td>-0.105386</td>\n",
       "      <td>1</td>\n",
       "      <td>584303.0</td>\n",
       "    </tr>\n",
       "    <tr>\n",
       "      <th>...</th>\n",
       "      <td>...</td>\n",
       "      <td>...</td>\n",
       "      <td>...</td>\n",
       "      <td>...</td>\n",
       "      <td>...</td>\n",
       "      <td>...</td>\n",
       "    </tr>\n",
       "    <tr>\n",
       "      <th>159958</th>\n",
       "      <td>-0.196124</td>\n",
       "      <td>-0.143046</td>\n",
       "      <td>0.201001</td>\n",
       "      <td>-0.182017</td>\n",
       "      <td>1</td>\n",
       "      <td>879683.0</td>\n",
       "    </tr>\n",
       "    <tr>\n",
       "      <th>159959</th>\n",
       "      <td>-0.311809</td>\n",
       "      <td>-0.159689</td>\n",
       "      <td>-0.161496</td>\n",
       "      <td>-0.076844</td>\n",
       "      <td>1</td>\n",
       "      <td>879689.0</td>\n",
       "    </tr>\n",
       "    <tr>\n",
       "      <th>159960</th>\n",
       "      <td>0.112068</td>\n",
       "      <td>-0.675404</td>\n",
       "      <td>0.006460</td>\n",
       "      <td>-0.469290</td>\n",
       "      <td>1</td>\n",
       "      <td>879691.0</td>\n",
       "    </tr>\n",
       "    <tr>\n",
       "      <th>159961</th>\n",
       "      <td>0.061579</td>\n",
       "      <td>-0.284920</td>\n",
       "      <td>-0.379626</td>\n",
       "      <td>-0.015217</td>\n",
       "      <td>1</td>\n",
       "      <td>879692.0</td>\n",
       "    </tr>\n",
       "    <tr>\n",
       "      <th>159962</th>\n",
       "      <td>-0.250957</td>\n",
       "      <td>0.201435</td>\n",
       "      <td>-0.508546</td>\n",
       "      <td>-0.163479</td>\n",
       "      <td>1</td>\n",
       "      <td>879693.0</td>\n",
       "    </tr>\n",
       "  </tbody>\n",
       "</table>\n",
       "<p>53696 rows × 6 columns</p>\n",
       "</div>"
      ],
      "text/plain": [
       "               0         1         2         3  cluster_label_l     유저_번호\n",
       "106267 -0.637920 -0.086594 -0.048978  0.059891                1  584288.0\n",
       "106268  0.196370  0.308038  0.351864 -0.092074                1  584295.0\n",
       "106269  1.047860 -0.151838 -0.010423  0.198690                1  584298.0\n",
       "106270  0.029099  0.177542  0.044249  0.523229                1  584302.0\n",
       "106271 -0.322951 -0.289766  0.070636 -0.105386                1  584303.0\n",
       "...          ...       ...       ...       ...              ...       ...\n",
       "159958 -0.196124 -0.143046  0.201001 -0.182017                1  879683.0\n",
       "159959 -0.311809 -0.159689 -0.161496 -0.076844                1  879689.0\n",
       "159960  0.112068 -0.675404  0.006460 -0.469290                1  879691.0\n",
       "159961  0.061579 -0.284920 -0.379626 -0.015217                1  879692.0\n",
       "159962 -0.250957  0.201435 -0.508546 -0.163479                1  879693.0\n",
       "\n",
       "[53696 rows x 6 columns]"
      ]
     },
     "execution_count": 44,
     "metadata": {},
     "output_type": "execute_result"
    }
   ],
   "source": [
    "cluster_l1=X_cluster_l[X_cluster_l['cluster_label_l']==1]\n",
    "cluster_l1"
   ]
  },
  {
   "cell_type": "code",
   "execution_count": 45,
   "metadata": {},
   "outputs": [
    {
     "data": {
      "text/html": [
       "<div>\n",
       "<style scoped>\n",
       "    .dataframe tbody tr th:only-of-type {\n",
       "        vertical-align: middle;\n",
       "    }\n",
       "\n",
       "    .dataframe tbody tr th {\n",
       "        vertical-align: top;\n",
       "    }\n",
       "\n",
       "    .dataframe thead th {\n",
       "        text-align: right;\n",
       "    }\n",
       "</style>\n",
       "<table border=\"1\" class=\"dataframe\">\n",
       "  <thead>\n",
       "    <tr style=\"text-align: right;\">\n",
       "      <th></th>\n",
       "      <th>0</th>\n",
       "      <th>1</th>\n",
       "      <th>2</th>\n",
       "      <th>3</th>\n",
       "      <th>유저_번호</th>\n",
       "    </tr>\n",
       "    <tr>\n",
       "      <th>cluster_label_l</th>\n",
       "      <th></th>\n",
       "      <th></th>\n",
       "      <th></th>\n",
       "      <th></th>\n",
       "      <th></th>\n",
       "    </tr>\n",
       "  </thead>\n",
       "  <tbody>\n",
       "    <tr>\n",
       "      <th>1</th>\n",
       "      <td>0.002182</td>\n",
       "      <td>-0.000484</td>\n",
       "      <td>-0.000299</td>\n",
       "      <td>0.000657</td>\n",
       "      <td>731944.228509</td>\n",
       "    </tr>\n",
       "  </tbody>\n",
       "</table>\n",
       "</div>"
      ],
      "text/plain": [
       "                        0         1         2         3          유저_번호\n",
       "cluster_label_l                                                       \n",
       "1                0.002182 -0.000484 -0.000299  0.000657  731944.228509"
      ]
     },
     "execution_count": 45,
     "metadata": {},
     "output_type": "execute_result"
    }
   ],
   "source": [
    "cluster_l1.groupby(['cluster_label_l']).mean()"
   ]
  },
  {
   "cell_type": "code",
   "execution_count": 46,
   "metadata": {},
   "outputs": [
    {
     "data": {
      "image/png": "[encoded data removed]",
      "text/plain": [
       "<Figure size 432x288 with 1 Axes>"
      ]
     },
     "metadata": {
      "needs_background": "light"
     },
     "output_type": "display_data"
    },
    {
     "data": {
      "image/png": "[encoded data removed]",
      "text/plain": [
       "<Figure size 432x288 with 1 Axes>"
      ]
     },
     "metadata": {
      "needs_background": "light"
     },
     "output_type": "display_data"
    },
    {
     "data": {
      "image/png": "[encoded data removed]",
      "text/plain": [
       "<Figure size 432x288 with 1 Axes>"
      ]
     },
     "metadata": {
      "needs_background": "light"
     },
     "output_type": "display_data"
    },
    {
     "data": {
      "image/png": "[encoded data removed]",
      "text/plain": [
       "<Figure size 432x288 with 1 Axes>"
      ]
     },
     "metadata": {
      "needs_background": "light"
     },
     "output_type": "display_data"
    }
   ],
   "source": [
    "for i in range(4):\n",
    "    plt.hist(cluster_l1[str(i)])\n",
    "    plt.title(\"pca_\" + str(i))\n",
    "    plt.show()"
   ]
  },
  {
   "cell_type": "code",
   "execution_count": 47,
   "metadata": {},
   "outputs": [
    {
     "data": {
      "text/html": [
       "<div>\n",
       "<style scoped>\n",
       "    .dataframe tbody tr th:only-of-type {\n",
       "        vertical-align: middle;\n",
       "    }\n",
       "\n",
       "    .dataframe tbody tr th {\n",
       "        vertical-align: top;\n",
       "    }\n",
       "\n",
       "    .dataframe thead th {\n",
       "        text-align: right;\n",
       "    }\n",
       "</style>\n",
       "<table border=\"1\" class=\"dataframe\">\n",
       "  <thead>\n",
       "    <tr style=\"text-align: right;\">\n",
       "      <th></th>\n",
       "      <th>0</th>\n",
       "      <th>1</th>\n",
       "      <th>2</th>\n",
       "      <th>3</th>\n",
       "      <th>cluster_label_l</th>\n",
       "      <th>유저_번호</th>\n",
       "    </tr>\n",
       "  </thead>\n",
       "  <tbody>\n",
       "    <tr>\n",
       "      <th>52671</th>\n",
       "      <td>-0.121832</td>\n",
       "      <td>-0.311223</td>\n",
       "      <td>0.036031</td>\n",
       "      <td>0.173959</td>\n",
       "      <td>2</td>\n",
       "      <td>290870.0</td>\n",
       "    </tr>\n",
       "    <tr>\n",
       "      <th>52672</th>\n",
       "      <td>0.313252</td>\n",
       "      <td>0.460664</td>\n",
       "      <td>-0.429255</td>\n",
       "      <td>0.223018</td>\n",
       "      <td>2</td>\n",
       "      <td>290874.0</td>\n",
       "    </tr>\n",
       "    <tr>\n",
       "      <th>52673</th>\n",
       "      <td>0.071695</td>\n",
       "      <td>0.452670</td>\n",
       "      <td>-0.510316</td>\n",
       "      <td>-0.033179</td>\n",
       "      <td>2</td>\n",
       "      <td>290876.0</td>\n",
       "    </tr>\n",
       "    <tr>\n",
       "      <th>52674</th>\n",
       "      <td>-0.586327</td>\n",
       "      <td>-0.230725</td>\n",
       "      <td>0.256194</td>\n",
       "      <td>0.063996</td>\n",
       "      <td>2</td>\n",
       "      <td>290887.0</td>\n",
       "    </tr>\n",
       "    <tr>\n",
       "      <th>52675</th>\n",
       "      <td>-0.048344</td>\n",
       "      <td>0.343934</td>\n",
       "      <td>0.196109</td>\n",
       "      <td>0.157614</td>\n",
       "      <td>2</td>\n",
       "      <td>290891.0</td>\n",
       "    </tr>\n",
       "    <tr>\n",
       "      <th>...</th>\n",
       "      <td>...</td>\n",
       "      <td>...</td>\n",
       "      <td>...</td>\n",
       "      <td>...</td>\n",
       "      <td>...</td>\n",
       "      <td>...</td>\n",
       "    </tr>\n",
       "    <tr>\n",
       "      <th>106262</th>\n",
       "      <td>1.031159</td>\n",
       "      <td>-0.106190</td>\n",
       "      <td>-0.173128</td>\n",
       "      <td>0.223525</td>\n",
       "      <td>2</td>\n",
       "      <td>584256.0</td>\n",
       "    </tr>\n",
       "    <tr>\n",
       "      <th>106263</th>\n",
       "      <td>-0.041888</td>\n",
       "      <td>0.313961</td>\n",
       "      <td>0.217666</td>\n",
       "      <td>0.166578</td>\n",
       "      <td>2</td>\n",
       "      <td>584265.0</td>\n",
       "    </tr>\n",
       "    <tr>\n",
       "      <th>106264</th>\n",
       "      <td>-0.424090</td>\n",
       "      <td>0.022817</td>\n",
       "      <td>-0.558528</td>\n",
       "      <td>-0.126253</td>\n",
       "      <td>2</td>\n",
       "      <td>584278.0</td>\n",
       "    </tr>\n",
       "    <tr>\n",
       "      <th>106265</th>\n",
       "      <td>-0.258529</td>\n",
       "      <td>0.435427</td>\n",
       "      <td>0.262721</td>\n",
       "      <td>-0.145266</td>\n",
       "      <td>2</td>\n",
       "      <td>584281.0</td>\n",
       "    </tr>\n",
       "    <tr>\n",
       "      <th>106266</th>\n",
       "      <td>-0.328304</td>\n",
       "      <td>-0.355656</td>\n",
       "      <td>0.091026</td>\n",
       "      <td>-0.088725</td>\n",
       "      <td>2</td>\n",
       "      <td>584282.0</td>\n",
       "    </tr>\n",
       "  </tbody>\n",
       "</table>\n",
       "<p>53596 rows × 6 columns</p>\n",
       "</div>"
      ],
      "text/plain": [
       "               0         1         2         3  cluster_label_l     유저_번호\n",
       "52671  -0.121832 -0.311223  0.036031  0.173959                2  290870.0\n",
       "52672   0.313252  0.460664 -0.429255  0.223018                2  290874.0\n",
       "52673   0.071695  0.452670 -0.510316 -0.033179                2  290876.0\n",
       "52674  -0.586327 -0.230725  0.256194  0.063996                2  290887.0\n",
       "52675  -0.048344  0.343934  0.196109  0.157614                2  290891.0\n",
       "...          ...       ...       ...       ...              ...       ...\n",
       "106262  1.031159 -0.106190 -0.173128  0.223525                2  584256.0\n",
       "106263 -0.041888  0.313961  0.217666  0.166578                2  584265.0\n",
       "106264 -0.424090  0.022817 -0.558528 -0.126253                2  584278.0\n",
       "106265 -0.258529  0.435427  0.262721 -0.145266                2  584281.0\n",
       "106266 -0.328304 -0.355656  0.091026 -0.088725                2  584282.0\n",
       "\n",
       "[53596 rows x 6 columns]"
      ]
     },
     "execution_count": 47,
     "metadata": {},
     "output_type": "execute_result"
    }
   ],
   "source": [
    "cluster_l2 = X_cluster_l[X_cluster_l['cluster_label_l'] == 2]\n",
    "cluster_l2"
   ]
  },
  {
   "cell_type": "code",
   "execution_count": 48,
   "metadata": {},
   "outputs": [
    {
     "data": {
      "text/html": [
       "<div>\n",
       "<style scoped>\n",
       "    .dataframe tbody tr th:only-of-type {\n",
       "        vertical-align: middle;\n",
       "    }\n",
       "\n",
       "    .dataframe tbody tr th {\n",
       "        vertical-align: top;\n",
       "    }\n",
       "\n",
       "    .dataframe thead th {\n",
       "        text-align: right;\n",
       "    }\n",
       "</style>\n",
       "<table border=\"1\" class=\"dataframe\">\n",
       "  <thead>\n",
       "    <tr style=\"text-align: right;\">\n",
       "      <th></th>\n",
       "      <th>0</th>\n",
       "      <th>1</th>\n",
       "      <th>2</th>\n",
       "      <th>3</th>\n",
       "      <th>유저_번호</th>\n",
       "    </tr>\n",
       "    <tr>\n",
       "      <th>cluster_label_l</th>\n",
       "      <th></th>\n",
       "      <th></th>\n",
       "      <th></th>\n",
       "      <th></th>\n",
       "      <th></th>\n",
       "    </tr>\n",
       "  </thead>\n",
       "  <tbody>\n",
       "    <tr>\n",
       "      <th>2</th>\n",
       "      <td>-0.001841</td>\n",
       "      <td>-0.000757</td>\n",
       "      <td>-0.00046</td>\n",
       "      <td>-0.001539</td>\n",
       "      <td>437399.274405</td>\n",
       "    </tr>\n",
       "  </tbody>\n",
       "</table>\n",
       "</div>"
      ],
      "text/plain": [
       "                        0         1        2         3          유저_번호\n",
       "cluster_label_l                                                      \n",
       "2               -0.001841 -0.000757 -0.00046 -0.001539  437399.274405"
      ]
     },
     "execution_count": 48,
     "metadata": {},
     "output_type": "execute_result"
    }
   ],
   "source": [
    "cluster_l2.groupby(['cluster_label_l']).mean()"
   ]
  },
  {
   "cell_type": "code",
   "execution_count": 49,
   "metadata": {},
   "outputs": [
    {
     "data": {
      "image/png": "[encoded data removed]",
      "text/plain": [
       "<Figure size 432x288 with 1 Axes>"
      ]
     },
     "metadata": {
      "needs_background": "light"
     },
     "output_type": "display_data"
    },
    {
     "data": {
      "image/png": "[encoded data removed]",
      "text/plain": [
       "<Figure size 432x288 with 1 Axes>"
      ]
     },
     "metadata": {
      "needs_background": "light"
     },
     "output_type": "display_data"
    },
    {
     "data": {
      "image/png": "[encoded data removed]",
      "text/plain": [
       "<Figure size 432x288 with 1 Axes>"
      ]
     },
     "metadata": {
      "needs_background": "light"
     },
     "output_type": "display_data"
    },
    {
     "data": {
      "image/png": "[encoded data removed]",
      "text/plain": [
       "<Figure size 432x288 with 1 Axes>"
      ]
     },
     "metadata": {
      "needs_background": "light"
     },
     "output_type": "display_data"
    }
   ],
   "source": [
    "for i in range(4):\n",
    "    plt.hist(cluster_l2[str(i)])\n",
    "    plt.title(\"pca_\" + str(i))\n",
    "    plt.show()\n"
   ]
  },
  {
   "cell_type": "markdown",
   "metadata": {},
   "source": [
    "### route 0, 1"
   ]
  },
  {
   "cell_type": "code",
   "execution_count": 50,
   "metadata": {},
   "outputs": [
    {
     "data": {
      "text/html": [
       "<div>\n",
       "<style scoped>\n",
       "    .dataframe tbody tr th:only-of-type {\n",
       "        vertical-align: middle;\n",
       "    }\n",
       "\n",
       "    .dataframe tbody tr th {\n",
       "        vertical-align: top;\n",
       "    }\n",
       "\n",
       "    .dataframe thead th {\n",
       "        text-align: right;\n",
       "    }\n",
       "</style>\n",
       "<table border=\"1\" class=\"dataframe\">\n",
       "  <thead>\n",
       "    <tr style=\"text-align: right;\">\n",
       "      <th></th>\n",
       "      <th>0</th>\n",
       "      <th>1</th>\n",
       "      <th>2</th>\n",
       "      <th>3</th>\n",
       "      <th>cluster_label_r</th>\n",
       "      <th>유저_번호</th>\n",
       "    </tr>\n",
       "  </thead>\n",
       "  <tbody>\n",
       "    <tr>\n",
       "      <th>0</th>\n",
       "      <td>-0.056278</td>\n",
       "      <td>0.074655</td>\n",
       "      <td>0.028864</td>\n",
       "      <td>0.070669</td>\n",
       "      <td>0</td>\n",
       "      <td>11.0</td>\n",
       "    </tr>\n",
       "    <tr>\n",
       "      <th>1</th>\n",
       "      <td>0.208724</td>\n",
       "      <td>0.189789</td>\n",
       "      <td>0.096364</td>\n",
       "      <td>-0.250214</td>\n",
       "      <td>0</td>\n",
       "      <td>12.0</td>\n",
       "    </tr>\n",
       "    <tr>\n",
       "      <th>2</th>\n",
       "      <td>-0.006804</td>\n",
       "      <td>-0.360561</td>\n",
       "      <td>-0.241682</td>\n",
       "      <td>0.079178</td>\n",
       "      <td>0</td>\n",
       "      <td>17.0</td>\n",
       "    </tr>\n",
       "    <tr>\n",
       "      <th>3</th>\n",
       "      <td>-0.293854</td>\n",
       "      <td>-0.200386</td>\n",
       "      <td>0.274652</td>\n",
       "      <td>0.292025</td>\n",
       "      <td>0</td>\n",
       "      <td>24.0</td>\n",
       "    </tr>\n",
       "    <tr>\n",
       "      <th>4</th>\n",
       "      <td>-0.136107</td>\n",
       "      <td>0.002056</td>\n",
       "      <td>0.059688</td>\n",
       "      <td>-0.037513</td>\n",
       "      <td>0</td>\n",
       "      <td>25.0</td>\n",
       "    </tr>\n",
       "    <tr>\n",
       "      <th>...</th>\n",
       "      <td>...</td>\n",
       "      <td>...</td>\n",
       "      <td>...</td>\n",
       "      <td>...</td>\n",
       "      <td>...</td>\n",
       "      <td>...</td>\n",
       "    </tr>\n",
       "    <tr>\n",
       "      <th>80135</th>\n",
       "      <td>0.143060</td>\n",
       "      <td>0.146191</td>\n",
       "      <td>0.066746</td>\n",
       "      <td>-0.140696</td>\n",
       "      <td>0</td>\n",
       "      <td>440615.0</td>\n",
       "    </tr>\n",
       "    <tr>\n",
       "      <th>80136</th>\n",
       "      <td>0.363169</td>\n",
       "      <td>-0.088067</td>\n",
       "      <td>0.559787</td>\n",
       "      <td>0.077033</td>\n",
       "      <td>0</td>\n",
       "      <td>440618.0</td>\n",
       "    </tr>\n",
       "    <tr>\n",
       "      <th>80137</th>\n",
       "      <td>-0.050001</td>\n",
       "      <td>-0.408806</td>\n",
       "      <td>-0.232149</td>\n",
       "      <td>0.073714</td>\n",
       "      <td>0</td>\n",
       "      <td>440624.0</td>\n",
       "    </tr>\n",
       "    <tr>\n",
       "      <th>80138</th>\n",
       "      <td>-0.021766</td>\n",
       "      <td>0.091887</td>\n",
       "      <td>0.025102</td>\n",
       "      <td>-0.106154</td>\n",
       "      <td>0</td>\n",
       "      <td>440627.0</td>\n",
       "    </tr>\n",
       "    <tr>\n",
       "      <th>80139</th>\n",
       "      <td>0.261097</td>\n",
       "      <td>0.376168</td>\n",
       "      <td>-0.081876</td>\n",
       "      <td>0.230048</td>\n",
       "      <td>0</td>\n",
       "      <td>440639.0</td>\n",
       "    </tr>\n",
       "  </tbody>\n",
       "</table>\n",
       "<p>80140 rows × 6 columns</p>\n",
       "</div>"
      ],
      "text/plain": [
       "              0         1         2         3  cluster_label_r     유저_번호\n",
       "0     -0.056278  0.074655  0.028864  0.070669                0      11.0\n",
       "1      0.208724  0.189789  0.096364 -0.250214                0      12.0\n",
       "2     -0.006804 -0.360561 -0.241682  0.079178                0      17.0\n",
       "3     -0.293854 -0.200386  0.274652  0.292025                0      24.0\n",
       "4     -0.136107  0.002056  0.059688 -0.037513                0      25.0\n",
       "...         ...       ...       ...       ...              ...       ...\n",
       "80135  0.143060  0.146191  0.066746 -0.140696                0  440615.0\n",
       "80136  0.363169 -0.088067  0.559787  0.077033                0  440618.0\n",
       "80137 -0.050001 -0.408806 -0.232149  0.073714                0  440624.0\n",
       "80138 -0.021766  0.091887  0.025102 -0.106154                0  440627.0\n",
       "80139  0.261097  0.376168 -0.081876  0.230048                0  440639.0\n",
       "\n",
       "[80140 rows x 6 columns]"
      ]
     },
     "execution_count": 50,
     "metadata": {},
     "output_type": "execute_result"
    }
   ],
   "source": [
    "cluster_r0 = X_cluster_r[X_cluster_r['cluster_label_r'] == 0]\n",
    "cluster_r0\n"
   ]
  },
  {
   "cell_type": "code",
   "execution_count": 51,
   "metadata": {},
   "outputs": [
    {
     "data": {
      "text/html": [
       "<div>\n",
       "<style scoped>\n",
       "    .dataframe tbody tr th:only-of-type {\n",
       "        vertical-align: middle;\n",
       "    }\n",
       "\n",
       "    .dataframe tbody tr th {\n",
       "        vertical-align: top;\n",
       "    }\n",
       "\n",
       "    .dataframe thead th {\n",
       "        text-align: right;\n",
       "    }\n",
       "</style>\n",
       "<table border=\"1\" class=\"dataframe\">\n",
       "  <thead>\n",
       "    <tr style=\"text-align: right;\">\n",
       "      <th></th>\n",
       "      <th>0</th>\n",
       "      <th>1</th>\n",
       "      <th>2</th>\n",
       "      <th>3</th>\n",
       "      <th>유저_번호</th>\n",
       "    </tr>\n",
       "    <tr>\n",
       "      <th>cluster_label_r</th>\n",
       "      <th></th>\n",
       "      <th></th>\n",
       "      <th></th>\n",
       "      <th></th>\n",
       "      <th></th>\n",
       "    </tr>\n",
       "  </thead>\n",
       "  <tbody>\n",
       "    <tr>\n",
       "      <th>0</th>\n",
       "      <td>-0.000393</td>\n",
       "      <td>0.000669</td>\n",
       "      <td>-0.000688</td>\n",
       "      <td>-0.000111</td>\n",
       "      <td>220830.131807</td>\n",
       "    </tr>\n",
       "  </tbody>\n",
       "</table>\n",
       "</div>"
      ],
      "text/plain": [
       "                        0         1         2         3          유저_번호\n",
       "cluster_label_r                                                       \n",
       "0               -0.000393  0.000669 -0.000688 -0.000111  220830.131807"
      ]
     },
     "execution_count": 51,
     "metadata": {},
     "output_type": "execute_result"
    }
   ],
   "source": [
    "cluster_r0.groupby(['cluster_label_r']).mean()"
   ]
  },
  {
   "cell_type": "code",
   "execution_count": 52,
   "metadata": {},
   "outputs": [
    {
     "data": {
      "image/png": "[encoded data removed]",
      "text/plain": [
       "<Figure size 432x288 with 1 Axes>"
      ]
     },
     "metadata": {
      "needs_background": "light"
     },
     "output_type": "display_data"
    },
    {
     "data": {
      "image/png": "[encoded data removed]",
      "text/plain": [
       "<Figure size 432x288 with 1 Axes>"
      ]
     },
     "metadata": {
      "needs_background": "light"
     },
     "output_type": "display_data"
    },
    {
     "data": {
      "image/png": "[encoded data removed]",
      "text/plain": [
       "<Figure size 432x288 with 1 Axes>"
      ]
     },
     "metadata": {
      "needs_background": "light"
     },
     "output_type": "display_data"
    },
    {
     "data": {
      "image/png": "[encoded data removed]",
      "text/plain": [
       "<Figure size 432x288 with 1 Axes>"
      ]
     },
     "metadata": {
      "needs_background": "light"
     },
     "output_type": "display_data"
    }
   ],
   "source": [
    "for i in range(4):\n",
    "    plt.hist(cluster_r0[str(i)])\n",
    "    plt.title(\"pca_\" + str(i))\n",
    "    plt.show()"
   ]
  },
  {
   "cell_type": "code",
   "execution_count": 53,
   "metadata": {},
   "outputs": [
    {
     "data": {
      "text/html": [
       "<div>\n",
       "<style scoped>\n",
       "    .dataframe tbody tr th:only-of-type {\n",
       "        vertical-align: middle;\n",
       "    }\n",
       "\n",
       "    .dataframe tbody tr th {\n",
       "        vertical-align: top;\n",
       "    }\n",
       "\n",
       "    .dataframe thead th {\n",
       "        text-align: right;\n",
       "    }\n",
       "</style>\n",
       "<table border=\"1\" class=\"dataframe\">\n",
       "  <thead>\n",
       "    <tr style=\"text-align: right;\">\n",
       "      <th></th>\n",
       "      <th>0</th>\n",
       "      <th>1</th>\n",
       "      <th>2</th>\n",
       "      <th>3</th>\n",
       "      <th>cluster_label_r</th>\n",
       "      <th>유저_번호</th>\n",
       "    </tr>\n",
       "  </thead>\n",
       "  <tbody>\n",
       "    <tr>\n",
       "      <th>80140</th>\n",
       "      <td>-0.128589</td>\n",
       "      <td>0.028896</td>\n",
       "      <td>0.025295</td>\n",
       "      <td>-0.060126</td>\n",
       "      <td>1</td>\n",
       "      <td>440650.0</td>\n",
       "    </tr>\n",
       "    <tr>\n",
       "      <th>80141</th>\n",
       "      <td>-0.744357</td>\n",
       "      <td>0.422704</td>\n",
       "      <td>-0.006480</td>\n",
       "      <td>-0.060944</td>\n",
       "      <td>1</td>\n",
       "      <td>440652.0</td>\n",
       "    </tr>\n",
       "    <tr>\n",
       "      <th>80142</th>\n",
       "      <td>0.689347</td>\n",
       "      <td>0.603945</td>\n",
       "      <td>-0.085168</td>\n",
       "      <td>-0.044064</td>\n",
       "      <td>1</td>\n",
       "      <td>440655.0</td>\n",
       "    </tr>\n",
       "    <tr>\n",
       "      <th>80143</th>\n",
       "      <td>0.182885</td>\n",
       "      <td>0.188453</td>\n",
       "      <td>0.050658</td>\n",
       "      <td>-0.006377</td>\n",
       "      <td>1</td>\n",
       "      <td>440657.0</td>\n",
       "    </tr>\n",
       "    <tr>\n",
       "      <th>80144</th>\n",
       "      <td>-0.287915</td>\n",
       "      <td>-0.078105</td>\n",
       "      <td>0.043974</td>\n",
       "      <td>-0.007741</td>\n",
       "      <td>1</td>\n",
       "      <td>440672.0</td>\n",
       "    </tr>\n",
       "    <tr>\n",
       "      <th>...</th>\n",
       "      <td>...</td>\n",
       "      <td>...</td>\n",
       "      <td>...</td>\n",
       "      <td>...</td>\n",
       "      <td>...</td>\n",
       "      <td>...</td>\n",
       "    </tr>\n",
       "    <tr>\n",
       "      <th>159958</th>\n",
       "      <td>0.296441</td>\n",
       "      <td>0.174119</td>\n",
       "      <td>-0.634655</td>\n",
       "      <td>0.184768</td>\n",
       "      <td>1</td>\n",
       "      <td>879683.0</td>\n",
       "    </tr>\n",
       "    <tr>\n",
       "      <th>159959</th>\n",
       "      <td>0.451132</td>\n",
       "      <td>-0.360999</td>\n",
       "      <td>0.264478</td>\n",
       "      <td>0.610950</td>\n",
       "      <td>1</td>\n",
       "      <td>879689.0</td>\n",
       "    </tr>\n",
       "    <tr>\n",
       "      <th>159960</th>\n",
       "      <td>-0.071968</td>\n",
       "      <td>-0.022050</td>\n",
       "      <td>0.128459</td>\n",
       "      <td>-0.232695</td>\n",
       "      <td>1</td>\n",
       "      <td>879691.0</td>\n",
       "    </tr>\n",
       "    <tr>\n",
       "      <th>159961</th>\n",
       "      <td>0.059162</td>\n",
       "      <td>-0.367243</td>\n",
       "      <td>-0.215790</td>\n",
       "      <td>0.046940</td>\n",
       "      <td>1</td>\n",
       "      <td>879692.0</td>\n",
       "    </tr>\n",
       "    <tr>\n",
       "      <th>159962</th>\n",
       "      <td>0.127262</td>\n",
       "      <td>0.150101</td>\n",
       "      <td>0.112318</td>\n",
       "      <td>-0.117499</td>\n",
       "      <td>1</td>\n",
       "      <td>879693.0</td>\n",
       "    </tr>\n",
       "  </tbody>\n",
       "</table>\n",
       "<p>79823 rows × 6 columns</p>\n",
       "</div>"
      ],
      "text/plain": [
       "               0         1         2         3  cluster_label_r     유저_번호\n",
       "80140  -0.128589  0.028896  0.025295 -0.060126                1  440650.0\n",
       "80141  -0.744357  0.422704 -0.006480 -0.060944                1  440652.0\n",
       "80142   0.689347  0.603945 -0.085168 -0.044064                1  440655.0\n",
       "80143   0.182885  0.188453  0.050658 -0.006377                1  440657.0\n",
       "80144  -0.287915 -0.078105  0.043974 -0.007741                1  440672.0\n",
       "...          ...       ...       ...       ...              ...       ...\n",
       "159958  0.296441  0.174119 -0.634655  0.184768                1  879683.0\n",
       "159959  0.451132 -0.360999  0.264478  0.610950                1  879689.0\n",
       "159960 -0.071968 -0.022050  0.128459 -0.232695                1  879691.0\n",
       "159961  0.059162 -0.367243 -0.215790  0.046940                1  879692.0\n",
       "159962  0.127262  0.150101  0.112318 -0.117499                1  879693.0\n",
       "\n",
       "[79823 rows x 6 columns]"
      ]
     },
     "execution_count": 53,
     "metadata": {},
     "output_type": "execute_result"
    }
   ],
   "source": [
    "cluster_r1 = X_cluster_r[X_cluster_r['cluster_label_r'] == 1]\n",
    "cluster_r1\n"
   ]
  },
  {
   "cell_type": "code",
   "execution_count": 54,
   "metadata": {},
   "outputs": [
    {
     "data": {
      "text/html": [
       "<div>\n",
       "<style scoped>\n",
       "    .dataframe tbody tr th:only-of-type {\n",
       "        vertical-align: middle;\n",
       "    }\n",
       "\n",
       "    .dataframe tbody tr th {\n",
       "        vertical-align: top;\n",
       "    }\n",
       "\n",
       "    .dataframe thead th {\n",
       "        text-align: right;\n",
       "    }\n",
       "</style>\n",
       "<table border=\"1\" class=\"dataframe\">\n",
       "  <thead>\n",
       "    <tr style=\"text-align: right;\">\n",
       "      <th></th>\n",
       "      <th>0</th>\n",
       "      <th>1</th>\n",
       "      <th>2</th>\n",
       "      <th>3</th>\n",
       "      <th>유저_번호</th>\n",
       "    </tr>\n",
       "    <tr>\n",
       "      <th>cluster_label_r</th>\n",
       "      <th></th>\n",
       "      <th></th>\n",
       "      <th></th>\n",
       "      <th></th>\n",
       "      <th></th>\n",
       "    </tr>\n",
       "  </thead>\n",
       "  <tbody>\n",
       "    <tr>\n",
       "      <th>1</th>\n",
       "      <td>0.000394</td>\n",
       "      <td>-0.000672</td>\n",
       "      <td>0.000691</td>\n",
       "      <td>0.000112</td>\n",
       "      <td>660098.775629</td>\n",
       "    </tr>\n",
       "  </tbody>\n",
       "</table>\n",
       "</div>"
      ],
      "text/plain": [
       "                        0         1         2         3          유저_번호\n",
       "cluster_label_r                                                       \n",
       "1                0.000394 -0.000672  0.000691  0.000112  660098.775629"
      ]
     },
     "execution_count": 54,
     "metadata": {},
     "output_type": "execute_result"
    }
   ],
   "source": [
    "cluster_r1.groupby(['cluster_label_r']).mean()"
   ]
  },
  {
   "cell_type": "code",
   "execution_count": 55,
   "metadata": {},
   "outputs": [
    {
     "data": {
      "image/png": "[encoded data removed]",
      "text/plain": [
       "<Figure size 432x288 with 1 Axes>"
      ]
     },
     "metadata": {
      "needs_background": "light"
     },
     "output_type": "display_data"
    },
    {
     "data": {
      "image/png": "[encoded data removed]",
      "text/plain": [
       "<Figure size 432x288 with 1 Axes>"
      ]
     },
     "metadata": {
      "needs_background": "light"
     },
     "output_type": "display_data"
    },
    {
     "data": {
      "image/png": "[encoded data removed]",
      "text/plain": [
       "<Figure size 432x288 with 1 Axes>"
      ]
     },
     "metadata": {
      "needs_background": "light"
     },
     "output_type": "display_data"
    },
    {
     "data": {
      "image/png": "[encoded data removed]",
      "text/plain": [
       "<Figure size 432x288 with 1 Axes>"
      ]
     },
     "metadata": {
      "needs_background": "light"
     },
     "output_type": "display_data"
    }
   ],
   "source": [
    "for i in range(4):\n",
    "    plt.hist(cluster_r1[str(i)])\n",
    "    plt.title(\"pca_\" + str(i))\n",
    "    plt.show()\n"
   ]
  },
  {
   "cell_type": "markdown",
   "metadata": {},
   "source": [
    "### spec 0, 1, 2"
   ]
  },
  {
   "cell_type": "code",
   "execution_count": 56,
   "metadata": {},
   "outputs": [
    {
     "data": {
      "text/html": [
       "<div>\n",
       "<style scoped>\n",
       "    .dataframe tbody tr th:only-of-type {\n",
       "        vertical-align: middle;\n",
       "    }\n",
       "\n",
       "    .dataframe tbody tr th {\n",
       "        vertical-align: top;\n",
       "    }\n",
       "\n",
       "    .dataframe thead th {\n",
       "        text-align: right;\n",
       "    }\n",
       "</style>\n",
       "<table border=\"1\" class=\"dataframe\">\n",
       "  <thead>\n",
       "    <tr style=\"text-align: right;\">\n",
       "      <th></th>\n",
       "      <th>0</th>\n",
       "      <th>1</th>\n",
       "      <th>2</th>\n",
       "      <th>3</th>\n",
       "      <th>4</th>\n",
       "      <th>5</th>\n",
       "      <th>cluster_label_s</th>\n",
       "      <th>유저_번호</th>\n",
       "    </tr>\n",
       "  </thead>\n",
       "  <tbody>\n",
       "    <tr>\n",
       "      <th>0</th>\n",
       "      <td>0.431451</td>\n",
       "      <td>1.146909</td>\n",
       "      <td>0.064521</td>\n",
       "      <td>0.162141</td>\n",
       "      <td>0.142828</td>\n",
       "      <td>-0.283634</td>\n",
       "      <td>0</td>\n",
       "      <td>11.0</td>\n",
       "    </tr>\n",
       "    <tr>\n",
       "      <th>1</th>\n",
       "      <td>-0.671419</td>\n",
       "      <td>-0.656972</td>\n",
       "      <td>0.555877</td>\n",
       "      <td>0.214783</td>\n",
       "      <td>-0.236754</td>\n",
       "      <td>-0.538815</td>\n",
       "      <td>0</td>\n",
       "      <td>12.0</td>\n",
       "    </tr>\n",
       "    <tr>\n",
       "      <th>2</th>\n",
       "      <td>-0.612281</td>\n",
       "      <td>0.048461</td>\n",
       "      <td>-0.380228</td>\n",
       "      <td>-0.305332</td>\n",
       "      <td>-0.323157</td>\n",
       "      <td>-0.031076</td>\n",
       "      <td>0</td>\n",
       "      <td>17.0</td>\n",
       "    </tr>\n",
       "    <tr>\n",
       "      <th>3</th>\n",
       "      <td>0.742441</td>\n",
       "      <td>-0.293596</td>\n",
       "      <td>-0.549364</td>\n",
       "      <td>-0.244909</td>\n",
       "      <td>-0.254017</td>\n",
       "      <td>0.063600</td>\n",
       "      <td>0</td>\n",
       "      <td>24.0</td>\n",
       "    </tr>\n",
       "    <tr>\n",
       "      <th>4</th>\n",
       "      <td>0.721894</td>\n",
       "      <td>-0.672469</td>\n",
       "      <td>-0.192924</td>\n",
       "      <td>-0.399731</td>\n",
       "      <td>0.095746</td>\n",
       "      <td>-0.623207</td>\n",
       "      <td>0</td>\n",
       "      <td>25.0</td>\n",
       "    </tr>\n",
       "    <tr>\n",
       "      <th>...</th>\n",
       "      <td>...</td>\n",
       "      <td>...</td>\n",
       "      <td>...</td>\n",
       "      <td>...</td>\n",
       "      <td>...</td>\n",
       "      <td>...</td>\n",
       "      <td>...</td>\n",
       "      <td>...</td>\n",
       "    </tr>\n",
       "    <tr>\n",
       "      <th>52722</th>\n",
       "      <td>0.385053</td>\n",
       "      <td>1.188208</td>\n",
       "      <td>0.138901</td>\n",
       "      <td>0.112521</td>\n",
       "      <td>0.391111</td>\n",
       "      <td>0.216978</td>\n",
       "      <td>0</td>\n",
       "      <td>291171.0</td>\n",
       "    </tr>\n",
       "    <tr>\n",
       "      <th>52723</th>\n",
       "      <td>0.712558</td>\n",
       "      <td>-0.602017</td>\n",
       "      <td>0.179415</td>\n",
       "      <td>0.925464</td>\n",
       "      <td>0.412804</td>\n",
       "      <td>-0.625499</td>\n",
       "      <td>0</td>\n",
       "      <td>291173.0</td>\n",
       "    </tr>\n",
       "    <tr>\n",
       "      <th>52724</th>\n",
       "      <td>-0.622302</td>\n",
       "      <td>0.119042</td>\n",
       "      <td>-0.007725</td>\n",
       "      <td>1.018224</td>\n",
       "      <td>-0.005817</td>\n",
       "      <td>-0.032874</td>\n",
       "      <td>0</td>\n",
       "      <td>291174.0</td>\n",
       "    </tr>\n",
       "    <tr>\n",
       "      <th>52725</th>\n",
       "      <td>0.382370</td>\n",
       "      <td>0.370033</td>\n",
       "      <td>0.628196</td>\n",
       "      <td>-0.643033</td>\n",
       "      <td>-0.088269</td>\n",
       "      <td>-0.787183</td>\n",
       "      <td>0</td>\n",
       "      <td>291181.0</td>\n",
       "    </tr>\n",
       "    <tr>\n",
       "      <th>52726</th>\n",
       "      <td>0.771485</td>\n",
       "      <td>0.103837</td>\n",
       "      <td>-0.756301</td>\n",
       "      <td>0.405064</td>\n",
       "      <td>0.325983</td>\n",
       "      <td>-0.118010</td>\n",
       "      <td>0</td>\n",
       "      <td>291203.0</td>\n",
       "    </tr>\n",
       "  </tbody>\n",
       "</table>\n",
       "<p>52727 rows × 8 columns</p>\n",
       "</div>"
      ],
      "text/plain": [
       "              0         1         2         3         4         5  \\\n",
       "0      0.431451  1.146909  0.064521  0.162141  0.142828 -0.283634   \n",
       "1     -0.671419 -0.656972  0.555877  0.214783 -0.236754 -0.538815   \n",
       "2     -0.612281  0.048461 -0.380228 -0.305332 -0.323157 -0.031076   \n",
       "3      0.742441 -0.293596 -0.549364 -0.244909 -0.254017  0.063600   \n",
       "4      0.721894 -0.672469 -0.192924 -0.399731  0.095746 -0.623207   \n",
       "...         ...       ...       ...       ...       ...       ...   \n",
       "52722  0.385053  1.188208  0.138901  0.112521  0.391111  0.216978   \n",
       "52723  0.712558 -0.602017  0.179415  0.925464  0.412804 -0.625499   \n",
       "52724 -0.622302  0.119042 -0.007725  1.018224 -0.005817 -0.032874   \n",
       "52725  0.382370  0.370033  0.628196 -0.643033 -0.088269 -0.787183   \n",
       "52726  0.771485  0.103837 -0.756301  0.405064  0.325983 -0.118010   \n",
       "\n",
       "       cluster_label_s     유저_번호  \n",
       "0                    0      11.0  \n",
       "1                    0      12.0  \n",
       "2                    0      17.0  \n",
       "3                    0      24.0  \n",
       "4                    0      25.0  \n",
       "...                ...       ...  \n",
       "52722                0  291171.0  \n",
       "52723                0  291173.0  \n",
       "52724                0  291174.0  \n",
       "52725                0  291181.0  \n",
       "52726                0  291203.0  \n",
       "\n",
       "[52727 rows x 8 columns]"
      ]
     },
     "execution_count": 56,
     "metadata": {},
     "output_type": "execute_result"
    }
   ],
   "source": [
    "cluster_s0=X_cluster_s[X_cluster_s['cluster_label_s']==0]\n",
    "cluster_s0"
   ]
  },
  {
   "cell_type": "code",
   "execution_count": 78,
   "metadata": {},
   "outputs": [
    {
     "data": {
      "text/html": [
       "<div>\n",
       "<style scoped>\n",
       "    .dataframe tbody tr th:only-of-type {\n",
       "        vertical-align: middle;\n",
       "    }\n",
       "\n",
       "    .dataframe tbody tr th {\n",
       "        vertical-align: top;\n",
       "    }\n",
       "\n",
       "    .dataframe thead th {\n",
       "        text-align: right;\n",
       "    }\n",
       "</style>\n",
       "<table border=\"1\" class=\"dataframe\">\n",
       "  <thead>\n",
       "    <tr style=\"text-align: right;\">\n",
       "      <th></th>\n",
       "      <th>0</th>\n",
       "      <th>1</th>\n",
       "      <th>2</th>\n",
       "      <th>3</th>\n",
       "      <th>4</th>\n",
       "      <th>5</th>\n",
       "      <th>유저_번호</th>\n",
       "    </tr>\n",
       "    <tr>\n",
       "      <th>cluster_label_s</th>\n",
       "      <th></th>\n",
       "      <th></th>\n",
       "      <th></th>\n",
       "      <th></th>\n",
       "      <th></th>\n",
       "      <th></th>\n",
       "      <th></th>\n",
       "    </tr>\n",
       "  </thead>\n",
       "  <tbody>\n",
       "    <tr>\n",
       "      <th>0</th>\n",
       "      <td>-0.004133</td>\n",
       "      <td>-0.002322</td>\n",
       "      <td>0.000978</td>\n",
       "      <td>-0.003192</td>\n",
       "      <td>-0.000488</td>\n",
       "      <td>-0.001454</td>\n",
       "      <td>145264.482277</td>\n",
       "    </tr>\n",
       "  </tbody>\n",
       "</table>\n",
       "</div>"
      ],
      "text/plain": [
       "                        0         1         2         3         4         5  \\\n",
       "cluster_label_s                                                               \n",
       "0               -0.004133 -0.002322  0.000978 -0.003192 -0.000488 -0.001454   \n",
       "\n",
       "                         유저_번호  \n",
       "cluster_label_s                 \n",
       "0                145264.482277  "
      ]
     },
     "execution_count": 78,
     "metadata": {},
     "output_type": "execute_result"
    }
   ],
   "source": [
    "cluster_s0.groupby(['cluster_label_s']).mean()"
   ]
  },
  {
   "cell_type": "code",
   "execution_count": 58,
   "metadata": {},
   "outputs": [
    {
     "data": {
      "image/png": "[encoded data removed]",
      "text/plain": [
       "<Figure size 432x288 with 1 Axes>"
      ]
     },
     "metadata": {
      "needs_background": "light"
     },
     "output_type": "display_data"
    },
    {
     "data": {
      "image/png": "[encoded data removed]",
      "text/plain": [
       "<Figure size 432x288 with 1 Axes>"
      ]
     },
     "metadata": {
      "needs_background": "light"
     },
     "output_type": "display_data"
    },
    {
     "data": {
      "image/png": "[encoded data removed]",
      "text/plain": [
       "<Figure size 432x288 with 1 Axes>"
      ]
     },
     "metadata": {
      "needs_background": "light"
     },
     "output_type": "display_data"
    },
    {
     "data": {
      "image/png": "[encoded data removed]",
      "text/plain": [
       "<Figure size 432x288 with 1 Axes>"
      ]
     },
     "metadata": {
      "needs_background": "light"
     },
     "output_type": "display_data"
    },
    {
     "data": {
      "image/png": "[encoded data removed]",
      "text/plain": [
       "<Figure size 432x288 with 1 Axes>"
      ]
     },
     "metadata": {
      "needs_background": "light"
     },
     "output_type": "display_data"
    },
    {
     "data": {
      "image/png": "[encoded data removed]",
      "text/plain": [
       "<Figure size 432x288 with 1 Axes>"
      ]
     },
     "metadata": {
      "needs_background": "light"
     },
     "output_type": "display_data"
    }
   ],
   "source": [
    "for i in range(6):\n",
    "    plt.hist(cluster_s0[str(i)])\n",
    "    plt.title(\"pca_\" + str(i))\n",
    "    plt.show()\n"
   ]
  },
  {
   "cell_type": "code",
   "execution_count": 59,
   "metadata": {},
   "outputs": [
    {
     "data": {
      "text/html": [
       "<div>\n",
       "<style scoped>\n",
       "    .dataframe tbody tr th:only-of-type {\n",
       "        vertical-align: middle;\n",
       "    }\n",
       "\n",
       "    .dataframe tbody tr th {\n",
       "        vertical-align: top;\n",
       "    }\n",
       "\n",
       "    .dataframe thead th {\n",
       "        text-align: right;\n",
       "    }\n",
       "</style>\n",
       "<table border=\"1\" class=\"dataframe\">\n",
       "  <thead>\n",
       "    <tr style=\"text-align: right;\">\n",
       "      <th></th>\n",
       "      <th>0</th>\n",
       "      <th>1</th>\n",
       "      <th>2</th>\n",
       "      <th>3</th>\n",
       "      <th>4</th>\n",
       "      <th>5</th>\n",
       "      <th>cluster_label_s</th>\n",
       "      <th>유저_번호</th>\n",
       "    </tr>\n",
       "  </thead>\n",
       "  <tbody>\n",
       "    <tr>\n",
       "      <th>106328</th>\n",
       "      <td>-0.688814</td>\n",
       "      <td>-0.433560</td>\n",
       "      <td>0.520182</td>\n",
       "      <td>0.116010</td>\n",
       "      <td>0.030729</td>\n",
       "      <td>0.583989</td>\n",
       "      <td>1</td>\n",
       "      <td>584627.0</td>\n",
       "    </tr>\n",
       "    <tr>\n",
       "      <th>106329</th>\n",
       "      <td>-0.651509</td>\n",
       "      <td>-0.278751</td>\n",
       "      <td>0.199195</td>\n",
       "      <td>0.366829</td>\n",
       "      <td>-0.585895</td>\n",
       "      <td>0.149791</td>\n",
       "      <td>1</td>\n",
       "      <td>584634.0</td>\n",
       "    </tr>\n",
       "    <tr>\n",
       "      <th>106330</th>\n",
       "      <td>0.725368</td>\n",
       "      <td>0.145779</td>\n",
       "      <td>-0.682273</td>\n",
       "      <td>0.357812</td>\n",
       "      <td>0.574908</td>\n",
       "      <td>0.380742</td>\n",
       "      <td>1</td>\n",
       "      <td>584635.0</td>\n",
       "    </tr>\n",
       "    <tr>\n",
       "      <th>106331</th>\n",
       "      <td>0.742077</td>\n",
       "      <td>-0.294359</td>\n",
       "      <td>-0.548831</td>\n",
       "      <td>-0.246671</td>\n",
       "      <td>-0.254133</td>\n",
       "      <td>0.066517</td>\n",
       "      <td>1</td>\n",
       "      <td>584638.0</td>\n",
       "    </tr>\n",
       "    <tr>\n",
       "      <th>106332</th>\n",
       "      <td>-0.695952</td>\n",
       "      <td>-0.064138</td>\n",
       "      <td>0.015590</td>\n",
       "      <td>-0.603519</td>\n",
       "      <td>0.541426</td>\n",
       "      <td>0.901633</td>\n",
       "      <td>1</td>\n",
       "      <td>584643.0</td>\n",
       "    </tr>\n",
       "    <tr>\n",
       "      <th>...</th>\n",
       "      <td>...</td>\n",
       "      <td>...</td>\n",
       "      <td>...</td>\n",
       "      <td>...</td>\n",
       "      <td>...</td>\n",
       "      <td>...</td>\n",
       "      <td>...</td>\n",
       "      <td>...</td>\n",
       "    </tr>\n",
       "    <tr>\n",
       "      <th>159958</th>\n",
       "      <td>0.714077</td>\n",
       "      <td>-0.429993</td>\n",
       "      <td>-0.079033</td>\n",
       "      <td>0.000084</td>\n",
       "      <td>1.292149</td>\n",
       "      <td>-0.370634</td>\n",
       "      <td>1</td>\n",
       "      <td>879683.0</td>\n",
       "    </tr>\n",
       "    <tr>\n",
       "      <th>159959</th>\n",
       "      <td>-0.671871</td>\n",
       "      <td>-0.657481</td>\n",
       "      <td>0.556271</td>\n",
       "      <td>0.212729</td>\n",
       "      <td>-0.237023</td>\n",
       "      <td>-0.536891</td>\n",
       "      <td>1</td>\n",
       "      <td>879689.0</td>\n",
       "    </tr>\n",
       "    <tr>\n",
       "      <th>159960</th>\n",
       "      <td>0.738459</td>\n",
       "      <td>-0.270658</td>\n",
       "      <td>-0.648701</td>\n",
       "      <td>-0.192413</td>\n",
       "      <td>-0.365316</td>\n",
       "      <td>0.158078</td>\n",
       "      <td>1</td>\n",
       "      <td>879691.0</td>\n",
       "    </tr>\n",
       "    <tr>\n",
       "      <th>159961</th>\n",
       "      <td>-0.662600</td>\n",
       "      <td>0.112900</td>\n",
       "      <td>-0.404540</td>\n",
       "      <td>-0.301361</td>\n",
       "      <td>-0.186558</td>\n",
       "      <td>0.564489</td>\n",
       "      <td>1</td>\n",
       "      <td>879692.0</td>\n",
       "    </tr>\n",
       "    <tr>\n",
       "      <th>159962</th>\n",
       "      <td>-0.688438</td>\n",
       "      <td>-0.432710</td>\n",
       "      <td>0.520593</td>\n",
       "      <td>0.118356</td>\n",
       "      <td>0.030017</td>\n",
       "      <td>0.581595</td>\n",
       "      <td>1</td>\n",
       "      <td>879693.0</td>\n",
       "    </tr>\n",
       "  </tbody>\n",
       "</table>\n",
       "<p>53635 rows × 8 columns</p>\n",
       "</div>"
      ],
      "text/plain": [
       "               0         1         2         3         4         5  \\\n",
       "106328 -0.688814 -0.433560  0.520182  0.116010  0.030729  0.583989   \n",
       "106329 -0.651509 -0.278751  0.199195  0.366829 -0.585895  0.149791   \n",
       "106330  0.725368  0.145779 -0.682273  0.357812  0.574908  0.380742   \n",
       "106331  0.742077 -0.294359 -0.548831 -0.246671 -0.254133  0.066517   \n",
       "106332 -0.695952 -0.064138  0.015590 -0.603519  0.541426  0.901633   \n",
       "...          ...       ...       ...       ...       ...       ...   \n",
       "159958  0.714077 -0.429993 -0.079033  0.000084  1.292149 -0.370634   \n",
       "159959 -0.671871 -0.657481  0.556271  0.212729 -0.237023 -0.536891   \n",
       "159960  0.738459 -0.270658 -0.648701 -0.192413 -0.365316  0.158078   \n",
       "159961 -0.662600  0.112900 -0.404540 -0.301361 -0.186558  0.564489   \n",
       "159962 -0.688438 -0.432710  0.520593  0.118356  0.030017  0.581595   \n",
       "\n",
       "        cluster_label_s     유저_번호  \n",
       "106328                1  584627.0  \n",
       "106329                1  584634.0  \n",
       "106330                1  584635.0  \n",
       "106331                1  584638.0  \n",
       "106332                1  584643.0  \n",
       "...                 ...       ...  \n",
       "159958                1  879683.0  \n",
       "159959                1  879689.0  \n",
       "159960                1  879691.0  \n",
       "159961                1  879692.0  \n",
       "159962                1  879693.0  \n",
       "\n",
       "[53635 rows x 8 columns]"
      ]
     },
     "execution_count": 59,
     "metadata": {},
     "output_type": "execute_result"
    }
   ],
   "source": [
    "cluster_s1 = X_cluster_s[X_cluster_s['cluster_label_s'] == 1]\n",
    "cluster_s1"
   ]
  },
  {
   "cell_type": "code",
   "execution_count": 60,
   "metadata": {},
   "outputs": [
    {
     "data": {
      "text/html": [
       "<div>\n",
       "<style scoped>\n",
       "    .dataframe tbody tr th:only-of-type {\n",
       "        vertical-align: middle;\n",
       "    }\n",
       "\n",
       "    .dataframe tbody tr th {\n",
       "        vertical-align: top;\n",
       "    }\n",
       "\n",
       "    .dataframe thead th {\n",
       "        text-align: right;\n",
       "    }\n",
       "</style>\n",
       "<table border=\"1\" class=\"dataframe\">\n",
       "  <thead>\n",
       "    <tr style=\"text-align: right;\">\n",
       "      <th></th>\n",
       "      <th>0</th>\n",
       "      <th>1</th>\n",
       "      <th>2</th>\n",
       "      <th>3</th>\n",
       "      <th>4</th>\n",
       "      <th>5</th>\n",
       "      <th>유저_번호</th>\n",
       "    </tr>\n",
       "    <tr>\n",
       "      <th>cluster_label_s</th>\n",
       "      <th></th>\n",
       "      <th></th>\n",
       "      <th></th>\n",
       "      <th></th>\n",
       "      <th></th>\n",
       "      <th></th>\n",
       "      <th></th>\n",
       "    </tr>\n",
       "  </thead>\n",
       "  <tbody>\n",
       "    <tr>\n",
       "      <th>1</th>\n",
       "      <td>0.004518</td>\n",
       "      <td>0.001889</td>\n",
       "      <td>-0.000704</td>\n",
       "      <td>0.002677</td>\n",
       "      <td>0.00171</td>\n",
       "      <td>0.001208</td>\n",
       "      <td>732111.969199</td>\n",
       "    </tr>\n",
       "  </tbody>\n",
       "</table>\n",
       "</div>"
      ],
      "text/plain": [
       "                        0         1         2         3        4         5  \\\n",
       "cluster_label_s                                                              \n",
       "1                0.004518  0.001889 -0.000704  0.002677  0.00171  0.001208   \n",
       "\n",
       "                         유저_번호  \n",
       "cluster_label_s                 \n",
       "1                732111.969199  "
      ]
     },
     "execution_count": 60,
     "metadata": {},
     "output_type": "execute_result"
    }
   ],
   "source": [
    "cluster_s1.groupby(['cluster_label_s']).mean()"
   ]
  },
  {
   "cell_type": "code",
   "execution_count": 61,
   "metadata": {},
   "outputs": [
    {
     "data": {
      "image/png": "[encoded data removed]",
      "text/plain": [
       "<Figure size 432x288 with 1 Axes>"
      ]
     },
     "metadata": {
      "needs_background": "light"
     },
     "output_type": "display_data"
    },
    {
     "data": {
      "image/png": "[encoded data removed]",
      "text/plain": [
       "<Figure size 432x288 with 1 Axes>"
      ]
     },
     "metadata": {
      "needs_background": "light"
     },
     "output_type": "display_data"
    },
    {
     "data": {
      "image/png": "[encoded data removed]",
      "text/plain": [
       "<Figure size 432x288 with 1 Axes>"
      ]
     },
     "metadata": {
      "needs_background": "light"
     },
     "output_type": "display_data"
    },
    {
     "data": {
      "image/png": "[encoded data removed]",
      "text/plain": [
       "<Figure size 432x288 with 1 Axes>"
      ]
     },
     "metadata": {
      "needs_background": "light"
     },
     "output_type": "display_data"
    },
    {
     "data": {
      "image/png": "[encoded data removed]",
      "text/plain": [
       "<Figure size 432x288 with 1 Axes>"
      ]
     },
     "metadata": {
      "needs_background": "light"
     },
     "output_type": "display_data"
    },
    {
     "data": {
      "image/png": "[encoded data removed]",
      "text/plain": [
       "<Figure size 432x288 with 1 Axes>"
      ]
     },
     "metadata": {
      "needs_background": "light"
     },
     "output_type": "display_data"
    }
   ],
   "source": [
    "for i in range(6):\n",
    "    plt.hist(cluster_s1[str(i)])\n",
    "    plt.title(\"pca_\" + str(i))\n",
    "    plt.show()\n"
   ]
  },
  {
   "cell_type": "code",
   "execution_count": 62,
   "metadata": {},
   "outputs": [
    {
     "data": {
      "text/html": [
       "<div>\n",
       "<style scoped>\n",
       "    .dataframe tbody tr th:only-of-type {\n",
       "        vertical-align: middle;\n",
       "    }\n",
       "\n",
       "    .dataframe tbody tr th {\n",
       "        vertical-align: top;\n",
       "    }\n",
       "\n",
       "    .dataframe thead th {\n",
       "        text-align: right;\n",
       "    }\n",
       "</style>\n",
       "<table border=\"1\" class=\"dataframe\">\n",
       "  <thead>\n",
       "    <tr style=\"text-align: right;\">\n",
       "      <th></th>\n",
       "      <th>0</th>\n",
       "      <th>1</th>\n",
       "      <th>2</th>\n",
       "      <th>3</th>\n",
       "      <th>4</th>\n",
       "      <th>5</th>\n",
       "      <th>cluster_label_s</th>\n",
       "      <th>유저_번호</th>\n",
       "    </tr>\n",
       "  </thead>\n",
       "  <tbody>\n",
       "    <tr>\n",
       "      <th>52727</th>\n",
       "      <td>-0.692062</td>\n",
       "      <td>-0.410534</td>\n",
       "      <td>0.420762</td>\n",
       "      <td>0.169960</td>\n",
       "      <td>-0.081132</td>\n",
       "      <td>0.677839</td>\n",
       "      <td>2</td>\n",
       "      <td>291208.0</td>\n",
       "    </tr>\n",
       "    <tr>\n",
       "      <th>52728</th>\n",
       "      <td>-0.649227</td>\n",
       "      <td>-0.106370</td>\n",
       "      <td>-0.059249</td>\n",
       "      <td>-0.555958</td>\n",
       "      <td>0.293264</td>\n",
       "      <td>0.403504</td>\n",
       "      <td>2</td>\n",
       "      <td>291216.0</td>\n",
       "    </tr>\n",
       "    <tr>\n",
       "      <th>52729</th>\n",
       "      <td>0.401857</td>\n",
       "      <td>0.748014</td>\n",
       "      <td>0.272828</td>\n",
       "      <td>-0.491471</td>\n",
       "      <td>-0.438185</td>\n",
       "      <td>-0.096428</td>\n",
       "      <td>2</td>\n",
       "      <td>291221.0</td>\n",
       "    </tr>\n",
       "    <tr>\n",
       "      <th>52730</th>\n",
       "      <td>0.328060</td>\n",
       "      <td>0.654193</td>\n",
       "      <td>0.815951</td>\n",
       "      <td>-0.291968</td>\n",
       "      <td>1.357257</td>\n",
       "      <td>-0.035523</td>\n",
       "      <td>2</td>\n",
       "      <td>291230.0</td>\n",
       "    </tr>\n",
       "    <tr>\n",
       "      <th>52731</th>\n",
       "      <td>-0.632856</td>\n",
       "      <td>-0.329276</td>\n",
       "      <td>-0.022482</td>\n",
       "      <td>-0.457667</td>\n",
       "      <td>0.025204</td>\n",
       "      <td>-0.720128</td>\n",
       "      <td>2</td>\n",
       "      <td>291232.0</td>\n",
       "    </tr>\n",
       "    <tr>\n",
       "      <th>...</th>\n",
       "      <td>...</td>\n",
       "      <td>...</td>\n",
       "      <td>...</td>\n",
       "      <td>...</td>\n",
       "      <td>...</td>\n",
       "      <td>...</td>\n",
       "      <td>...</td>\n",
       "      <td>...</td>\n",
       "    </tr>\n",
       "    <tr>\n",
       "      <th>106323</th>\n",
       "      <td>0.402288</td>\n",
       "      <td>0.749231</td>\n",
       "      <td>0.271412</td>\n",
       "      <td>-0.489039</td>\n",
       "      <td>-0.437269</td>\n",
       "      <td>-0.101157</td>\n",
       "      <td>2</td>\n",
       "      <td>584580.0</td>\n",
       "    </tr>\n",
       "    <tr>\n",
       "      <th>106324</th>\n",
       "      <td>-0.651588</td>\n",
       "      <td>-0.278320</td>\n",
       "      <td>0.199953</td>\n",
       "      <td>0.368053</td>\n",
       "      <td>-0.586371</td>\n",
       "      <td>0.149515</td>\n",
       "      <td>2</td>\n",
       "      <td>584588.0</td>\n",
       "    </tr>\n",
       "    <tr>\n",
       "      <th>106325</th>\n",
       "      <td>-0.688980</td>\n",
       "      <td>-0.219111</td>\n",
       "      <td>0.422742</td>\n",
       "      <td>0.814428</td>\n",
       "      <td>0.592677</td>\n",
       "      <td>-0.217911</td>\n",
       "      <td>2</td>\n",
       "      <td>584593.0</td>\n",
       "    </tr>\n",
       "    <tr>\n",
       "      <th>106326</th>\n",
       "      <td>0.705022</td>\n",
       "      <td>-0.448190</td>\n",
       "      <td>-0.228629</td>\n",
       "      <td>-0.495701</td>\n",
       "      <td>0.362854</td>\n",
       "      <td>0.496771</td>\n",
       "      <td>2</td>\n",
       "      <td>584609.0</td>\n",
       "    </tr>\n",
       "    <tr>\n",
       "      <th>106327</th>\n",
       "      <td>0.705295</td>\n",
       "      <td>-0.447723</td>\n",
       "      <td>-0.228926</td>\n",
       "      <td>-0.494499</td>\n",
       "      <td>0.362879</td>\n",
       "      <td>0.495134</td>\n",
       "      <td>2</td>\n",
       "      <td>584614.0</td>\n",
       "    </tr>\n",
       "  </tbody>\n",
       "</table>\n",
       "<p>53601 rows × 8 columns</p>\n",
       "</div>"
      ],
      "text/plain": [
       "               0         1         2         3         4         5  \\\n",
       "52727  -0.692062 -0.410534  0.420762  0.169960 -0.081132  0.677839   \n",
       "52728  -0.649227 -0.106370 -0.059249 -0.555958  0.293264  0.403504   \n",
       "52729   0.401857  0.748014  0.272828 -0.491471 -0.438185 -0.096428   \n",
       "52730   0.328060  0.654193  0.815951 -0.291968  1.357257 -0.035523   \n",
       "52731  -0.632856 -0.329276 -0.022482 -0.457667  0.025204 -0.720128   \n",
       "...          ...       ...       ...       ...       ...       ...   \n",
       "106323  0.402288  0.749231  0.271412 -0.489039 -0.437269 -0.101157   \n",
       "106324 -0.651588 -0.278320  0.199953  0.368053 -0.586371  0.149515   \n",
       "106325 -0.688980 -0.219111  0.422742  0.814428  0.592677 -0.217911   \n",
       "106326  0.705022 -0.448190 -0.228629 -0.495701  0.362854  0.496771   \n",
       "106327  0.705295 -0.447723 -0.228926 -0.494499  0.362879  0.495134   \n",
       "\n",
       "        cluster_label_s     유저_번호  \n",
       "52727                 2  291208.0  \n",
       "52728                 2  291216.0  \n",
       "52729                 2  291221.0  \n",
       "52730                 2  291230.0  \n",
       "52731                 2  291232.0  \n",
       "...                 ...       ...  \n",
       "106323                2  584580.0  \n",
       "106324                2  584588.0  \n",
       "106325                2  584593.0  \n",
       "106326                2  584609.0  \n",
       "106327                2  584614.0  \n",
       "\n",
       "[53601 rows x 8 columns]"
      ]
     },
     "execution_count": 62,
     "metadata": {},
     "output_type": "execute_result"
    }
   ],
   "source": [
    "cluster_s2=X_cluster_s[X_cluster_s['cluster_label_s']==2]\n",
    "cluster_s2\n",
    "\n"
   ]
  },
  {
   "cell_type": "code",
   "execution_count": 63,
   "metadata": {},
   "outputs": [
    {
     "data": {
      "text/html": [
       "<div>\n",
       "<style scoped>\n",
       "    .dataframe tbody tr th:only-of-type {\n",
       "        vertical-align: middle;\n",
       "    }\n",
       "\n",
       "    .dataframe tbody tr th {\n",
       "        vertical-align: top;\n",
       "    }\n",
       "\n",
       "    .dataframe thead th {\n",
       "        text-align: right;\n",
       "    }\n",
       "</style>\n",
       "<table border=\"1\" class=\"dataframe\">\n",
       "  <thead>\n",
       "    <tr style=\"text-align: right;\">\n",
       "      <th></th>\n",
       "      <th>0</th>\n",
       "      <th>1</th>\n",
       "      <th>2</th>\n",
       "      <th>3</th>\n",
       "      <th>4</th>\n",
       "      <th>5</th>\n",
       "      <th>유저_번호</th>\n",
       "    </tr>\n",
       "    <tr>\n",
       "      <th>cluster_label_s</th>\n",
       "      <th></th>\n",
       "      <th></th>\n",
       "      <th></th>\n",
       "      <th></th>\n",
       "      <th></th>\n",
       "      <th></th>\n",
       "      <th></th>\n",
       "    </tr>\n",
       "  </thead>\n",
       "  <tbody>\n",
       "    <tr>\n",
       "      <th>2</th>\n",
       "      <td>-0.000456</td>\n",
       "      <td>0.000395</td>\n",
       "      <td>-0.000258</td>\n",
       "      <td>0.000461</td>\n",
       "      <td>-0.001231</td>\n",
       "      <td>0.000222</td>\n",
       "      <td>437719.548236</td>\n",
       "    </tr>\n",
       "  </tbody>\n",
       "</table>\n",
       "</div>"
      ],
      "text/plain": [
       "                        0         1         2         3         4         5  \\\n",
       "cluster_label_s                                                               \n",
       "2               -0.000456  0.000395 -0.000258  0.000461 -0.001231  0.000222   \n",
       "\n",
       "                         유저_번호  \n",
       "cluster_label_s                 \n",
       "2                437719.548236  "
      ]
     },
     "execution_count": 63,
     "metadata": {},
     "output_type": "execute_result"
    }
   ],
   "source": [
    "cluster_s2.groupby(['cluster_label_s']).mean()\n",
    "\n"
   ]
  },
  {
   "cell_type": "code",
   "execution_count": 64,
   "metadata": {},
   "outputs": [
    {
     "data": {
      "image/png": "[encoded data removed]",
      "text/plain": [
       "<Figure size 432x288 with 1 Axes>"
      ]
     },
     "metadata": {
      "needs_background": "light"
     },
     "output_type": "display_data"
    },
    {
     "data": {
      "image/png": "[encoded data removed]",
      "text/plain": [
       "<Figure size 432x288 with 1 Axes>"
      ]
     },
     "metadata": {
      "needs_background": "light"
     },
     "output_type": "display_data"
    },
    {
     "data": {
      "image/png": "[encoded data removed]",
      "text/plain": [
       "<Figure size 432x288 with 1 Axes>"
      ]
     },
     "metadata": {
      "needs_background": "light"
     },
     "output_type": "display_data"
    },
    {
     "data": {
      "image/png": "[encoded data removed]",
      "text/plain": [
       "<Figure size 432x288 with 1 Axes>"
      ]
     },
     "metadata": {
      "needs_background": "light"
     },
     "output_type": "display_data"
    },
    {
     "data": {
      "image/png": "[encoded data removed]",
      "text/plain": [
       "<Figure size 432x288 with 1 Axes>"
      ]
     },
     "metadata": {
      "needs_background": "light"
     },
     "output_type": "display_data"
    },
    {
     "data": {
      "image/png": "[encoded data removed]",
      "text/plain": [
       "<Figure size 432x288 with 1 Axes>"
      ]
     },
     "metadata": {
      "needs_background": "light"
     },
     "output_type": "display_data"
    }
   ],
   "source": [
    "for i in range(6):\n",
    "    plt.hist(cluster_s2[str(i)])\n",
    "    plt.title(\"pca_\" + str(i))\n",
    "    plt.show()\n"
   ]
  }
 ],
 "metadata": {
  "kernelspec": {
   "display_name": "Python 3",
   "language": "python",
   "name": "python3"
  },
  "language_info": {
   "codemirror_mode": {
    "name": "ipython",
    "version": 3
   },
   "file_extension": ".py",
   "mimetype": "text/x-python",
   "name": "python",
   "nbconvert_exporter": "python",
   "pygments_lexer": "ipython3",
   "version": "3.8.5"
  },
  "vscode": {
   "interpreter": {
    "hash": "2f339d95b8d17851c48fc92de03245aeb578afe773ced39b669b273fa397e1a6"
   }
  }
 },
 "nbformat": 4,
 "nbformat_minor": 2
}
