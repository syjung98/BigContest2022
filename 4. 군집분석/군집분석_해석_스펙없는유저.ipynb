{
 "cells": [
  {
   "cell_type": "code",
   "execution_count": 66,
   "metadata": {},
   "outputs": [],
   "source": [
    "import pandas as pd\n",
    "import numpy as np\n",
    "import matplotlib.pyplot as plt\n",
    "from tqdm import tqdm\n",
    "import seaborn as sns\n",
    "import warnings; warnings.filterwarnings(\"ignore\")\n",
    "from matplotlib import rc\n",
    "rc('font', family='AppleGothic')\n",
    "plt.rcParams['axes.unicode_minus'] = False\n",
    "from scipy import stats\n",
    "from sklearn.cluster import KMeans\n",
    "from sklearn.decomposition import PCA"
   ]
  },
  {
   "cell_type": "code",
   "execution_count": 67,
   "metadata": {},
   "outputs": [],
   "source": [
    "df_na=pd.read_csv(\"../data/df_na_2.csv\")"
   ]
  },
  {
   "cell_type": "code",
   "execution_count": 68,
   "metadata": {},
   "outputs": [],
   "source": [
    "X_cluster_l_n=pd.read_csv(\"../data/no_spec_cluster_l_2.csv\")\n",
    "X_cluster_r_n=pd.read_csv(\"../data/no_spec_cluster_r_2.csv\")\n",
    "# X_cluster_s=pd.read_csv(\"../data/X_cluster_s.csv\")"
   ]
  },
  {
   "cell_type": "code",
   "execution_count": 69,
   "metadata": {},
   "outputs": [],
   "source": [
    "X_log_n =pd.read_csv(\"../data/no_spec_log_2.csv\")\n",
    "X_route_n =pd.read_csv(\"../data/no_spec_route_2.csv\")\n",
    "X_corred_n = pd.read_csv(\"../data/no_spec_corred_2.csv\")"
   ]
  },
  {
   "cell_type": "markdown",
   "metadata": {},
   "source": [
    "# 클러스터링 정리"
   ]
  },
  {
   "cell_type": "code",
   "execution_count": 70,
   "metadata": {},
   "outputs": [
    {
     "data": {
      "text/plain": [
       "(40788, 40788, 40788)"
      ]
     },
     "execution_count": 70,
     "metadata": {},
     "output_type": "execute_result"
    }
   ],
   "source": [
    "len(X_corred_n), len(X_cluster_l_n), len(X_cluster_r_n)"
   ]
  },
  {
   "cell_type": "code",
   "execution_count": 71,
   "metadata": {},
   "outputs": [],
   "source": [
    "clusterer = KMeans(n_clusters=2, max_iter=500, random_state=0)\n",
    "cluster_labels = clusterer.fit_predict(X_cluster_l_n)\n",
    "X_cluster_l_n['cluster_label_l']=cluster_labels\n",
    "\n",
    "clusterer = KMeans(n_clusters=2, max_iter=500, random_state=0)\n",
    "cluster_labels2 = clusterer.fit_predict(X_cluster_r_n)\n",
    "X_cluster_r_n['cluster_label_r']=cluster_labels2\n",
    "\n",
    "# clusterer = KMeans(n_clusters=3, max_iter=500, random_state=0)\n",
    "# cluster_labels3 = clusterer.fit_predict(X_cluster_s)\n",
    "# X_cluster_s)['cluster_label_s']=cluster_labels3\n",
    "\n",
    "# clusterer = KMeans(n_clusters=2, max_iter=500, random_state=0)\n",
    "# cluster_labels4 = clusterer.fit_predict(X_cluster_rl)\n",
    "# X_cluster_rl['cluster_label_rl']=cluster_labels4"
   ]
  },
  {
   "cell_type": "code",
   "execution_count": 72,
   "metadata": {},
   "outputs": [
    {
     "data": {
      "text/plain": [
       "array([1, 1, 1, ..., 1, 1, 0], dtype=int32)"
      ]
     },
     "execution_count": 72,
     "metadata": {},
     "output_type": "execute_result"
    }
   ],
   "source": [
    "cluster_labels"
   ]
  },
  {
   "cell_type": "code",
   "execution_count": 73,
   "metadata": {},
   "outputs": [],
   "source": [
    "X_cluster_l_n['유저_번호']=df_na['유저_번호']\n",
    "X_cluster_r_n['유저_번호']=df_na['유저_번호']\n",
    "# X_cluster_s['유저_번호']=df_na['유저_번호']\n",
    "# X_cluster_rl['유저_번호']=df_na['유저_번호']"
   ]
  },
  {
   "cell_type": "code",
   "execution_count": 74,
   "metadata": {},
   "outputs": [
    {
     "data": {
      "text/html": [
       "<div>\n",
       "<style scoped>\n",
       "    .dataframe tbody tr th:only-of-type {\n",
       "        vertical-align: middle;\n",
       "    }\n",
       "\n",
       "    .dataframe tbody tr th {\n",
       "        vertical-align: top;\n",
       "    }\n",
       "\n",
       "    .dataframe thead th {\n",
       "        text-align: right;\n",
       "    }\n",
       "</style>\n",
       "<table border=\"1\" class=\"dataframe\">\n",
       "  <thead>\n",
       "    <tr style=\"text-align: right;\">\n",
       "      <th></th>\n",
       "      <th>유저_번호</th>\n",
       "      <th>cluster_label_l</th>\n",
       "      <th>cluster_label_r</th>\n",
       "    </tr>\n",
       "  </thead>\n",
       "  <tbody>\n",
       "    <tr>\n",
       "      <th>0</th>\n",
       "      <td>21.0</td>\n",
       "      <td>1</td>\n",
       "      <td>0</td>\n",
       "    </tr>\n",
       "    <tr>\n",
       "      <th>1</th>\n",
       "      <td>62.0</td>\n",
       "      <td>1</td>\n",
       "      <td>1</td>\n",
       "    </tr>\n",
       "    <tr>\n",
       "      <th>2</th>\n",
       "      <td>94.0</td>\n",
       "      <td>1</td>\n",
       "      <td>1</td>\n",
       "    </tr>\n",
       "    <tr>\n",
       "      <th>3</th>\n",
       "      <td>153.0</td>\n",
       "      <td>0</td>\n",
       "      <td>1</td>\n",
       "    </tr>\n",
       "    <tr>\n",
       "      <th>4</th>\n",
       "      <td>230.0</td>\n",
       "      <td>0</td>\n",
       "      <td>1</td>\n",
       "    </tr>\n",
       "    <tr>\n",
       "      <th>...</th>\n",
       "      <td>...</td>\n",
       "      <td>...</td>\n",
       "      <td>...</td>\n",
       "    </tr>\n",
       "    <tr>\n",
       "      <th>40783</th>\n",
       "      <td>879576.0</td>\n",
       "      <td>1</td>\n",
       "      <td>1</td>\n",
       "    </tr>\n",
       "    <tr>\n",
       "      <th>40784</th>\n",
       "      <td>879629.0</td>\n",
       "      <td>1</td>\n",
       "      <td>1</td>\n",
       "    </tr>\n",
       "    <tr>\n",
       "      <th>40785</th>\n",
       "      <td>879644.0</td>\n",
       "      <td>1</td>\n",
       "      <td>1</td>\n",
       "    </tr>\n",
       "    <tr>\n",
       "      <th>40786</th>\n",
       "      <td>879653.0</td>\n",
       "      <td>1</td>\n",
       "      <td>1</td>\n",
       "    </tr>\n",
       "    <tr>\n",
       "      <th>40787</th>\n",
       "      <td>879667.0</td>\n",
       "      <td>0</td>\n",
       "      <td>0</td>\n",
       "    </tr>\n",
       "  </tbody>\n",
       "</table>\n",
       "<p>40788 rows × 3 columns</p>\n",
       "</div>"
      ],
      "text/plain": [
       "          유저_번호  cluster_label_l  cluster_label_r\n",
       "0          21.0                1                0\n",
       "1          62.0                1                1\n",
       "2          94.0                1                1\n",
       "3         153.0                0                1\n",
       "4         230.0                0                1\n",
       "...         ...              ...              ...\n",
       "40783  879576.0                1                1\n",
       "40784  879629.0                1                1\n",
       "40785  879644.0                1                1\n",
       "40786  879653.0                1                1\n",
       "40787  879667.0                0                0\n",
       "\n",
       "[40788 rows x 3 columns]"
      ]
     },
     "execution_count": 74,
     "metadata": {},
     "output_type": "execute_result"
    }
   ],
   "source": [
    "cluster_df = pd.concat([df_na['유저_번호'], X_cluster_l_n['cluster_label_l'], \n",
    "                        X_cluster_r_n['cluster_label_r']], axis=1) # X_cluster_rl['cluster_label_rl']\n",
    "cluster_df.to_csv(\"../data/cluster_df_no_spec.csv\", index=False)\n",
    "cluster_df"
   ]
  },
  {
   "cell_type": "code",
   "execution_count": 75,
   "metadata": {},
   "outputs": [],
   "source": [
    "cluster00=cluster_df[(cluster_df['cluster_label_l']==0)&(cluster_df['cluster_label_r']==0)]\n",
    "cluster01=cluster_df[(cluster_df['cluster_label_l']==0)&(cluster_df['cluster_label_r']==1)]\n",
    "cluster11=cluster_df[(cluster_df['cluster_label_l']==1)&(cluster_df['cluster_label_r']==1)]\n",
    "cluster10=cluster_df[(cluster_df['cluster_label_l']==1)&(cluster_df['cluster_label_r']==0)]\n",
    "\n",
    "# cluster20=cluster_df[(cluster_df['cluster_label_l']==2)&(cluster_df['cluster_label_r']==0)]\n",
    "# cluster21=cluster_df[(cluster_df['cluster_label_l']==2)&(cluster_df['cluster_label_r']==1)]\n",
    "# cluster02=cluster_df[(cluster_df['cluster_label_l']==0)&(cluster_df['cluster_label_r']==2)]\n",
    "# cluster12=cluster_df[(cluster_df['cluster_label_l']==1)&(cluster_df['cluster_label_r']==2)]"
   ]
  },
  {
   "cell_type": "code",
   "execution_count": 76,
   "metadata": {},
   "outputs": [
    {
     "data": {
      "text/plain": [
       "(3860, 12558, 16345, 8025)"
      ]
     },
     "execution_count": 76,
     "metadata": {},
     "output_type": "execute_result"
    }
   ],
   "source": [
    "len(cluster00), len(cluster01), len(cluster11), len(cluster10) #, len(cluster20), len(cluster21)"
   ]
  },
  {
   "cell_type": "code",
   "execution_count": 170,
   "metadata": {},
   "outputs": [
    {
     "data": {
      "text/plain": [
       "(3860, 12558, 16345, 8025)"
      ]
     },
     "execution_count": 170,
     "metadata": {},
     "output_type": "execute_result"
    }
   ],
   "source": [
    "#타겟 군집 확정 : 00 01 11 10\n",
    "\n",
    "len(cluster00), len(cluster01), len(cluster11), len(cluster10)"
   ]
  },
  {
   "cell_type": "markdown",
   "metadata": {},
   "source": [
    "# PCA 정리"
   ]
  },
  {
   "cell_type": "markdown",
   "metadata": {},
   "source": [
    "## 1. PCA var와 실제 var의 상관계수 비교"
   ]
  },
  {
   "cell_type": "markdown",
   "metadata": {},
   "source": [
    "- [고유_일자] = [전체_이벤트, 앱_실행]\n",
    "- [R] = [마지막_로그_일자]\n",
    "- [방문일자비율] = [앱실행비율]\n",
    "- [funnel_100] = [funnel_01, funnel_10]\n",
    "- [세션당_한도조회_인트로_페이지_조회] = [세션당_본인인증완료]\n",
    "- [UV] = [GUV]\n",
    "\n",
    "#### c.f 0.8 이상 상관관계 나오던 컬럼 목록\n",
    "\n",
    "    - ('고유_일자', '전체_이벤트') 0.8590380700988114\n",
    "    - ('고유_일자', '앱_실행') 0.9340776041472824\n",
    "    - ('마지막_로그_일자', 'R') -0.9234822161811861\n",
    "    - ('앱_실행', '전체_이벤트') 0.8912959918438876\n",
    "    - ('방문일자비율', '앱실행비율') 0.8841868915023686\n",
    "    - ('funnel_01', 'funnel_100') 0.8599806355605302\n",
    "    - ('funnel_10', 'funnel_100') 0.8091888579538411\n",
    "\n",
    "- ['VGU', 'GVU', 'VUG', 'UGV', 'UVG'] 의 경우엔 원본 넘겨줄 때부터 없었던 컬럼"
   ]
  },
  {
   "cell_type": "code",
   "execution_count": 173,
   "metadata": {},
   "outputs": [
    {
     "name": "stdout",
     "output_type": "stream",
     "text": [
      "('pca_0', 'F') 0.8739298217417427\n",
      "('pca_0', 'R') 0.913039522156053\n",
      "('pca_0', '방문일자비율') 0.6548076746340765\n",
      "('pca_0', '고유_일자') 0.6256264873919978\n",
      "('pca_1', '세션당_한도조회_인트로_페이지_조회') 0.41651949224910156\n",
      "('pca_1', '첫_로그_일자') -0.9280975313466109\n",
      "('pca_1', '고유_일자') -0.614502200774805\n",
      "('pca_2', 'F') -0.47163669889275744\n",
      "('pca_2', 'R') 0.40742470129529545\n",
      "('고유_일자', 'F') 0.6633715222573112\n",
      "('고유_일자', 'R') 0.49286003244204585\n",
      "('고유_일자', '방문일자비율') 0.5074878030332238\n",
      "('방문일자비율', 'F') 0.6457255091233964\n",
      "('방문일자비율', 'R') 0.49723618759559274\n",
      "('세션당_한도조회_시작하기_버튼_클릭', '세션당_한도조회_인트로_페이지_조회') 0.7826567516219883\n",
      "('세션당_대출관리_서비스_이용', '세션당_KCB_신용정보_조회') 0.5561062858202471\n",
      "('R', 'F') 0.6075397764854603\n"
     ]
    },
    {
     "data": {
      "image/png": "[encoded data removed]",
      "text/plain": [
       "<Figure size 432x288 with 2 Axes>"
      ]
     },
     "metadata": {
      "needs_background": "light"
     },
     "output_type": "display_data"
    }
   ],
   "source": [
    "# log\n",
    "\n",
    "pca = PCA(n_components=3)  # 주성분을 몇개로 할지 결정\n",
    "printcipalComponents = pca.fit_transform(X_log_n)\n",
    "# , columns=['principal component1', 'principal component2'])\n",
    "principalDf=pd.DataFrame(printcipalComponents, columns=['pca_0', 'pca_1', 'pca_2'])\n",
    "merge_df_l=pd.concat([principalDf, X_log_n], axis=1)\n",
    "corr_df = merge_df_l.corr()\n",
    "sns.heatmap(corr_df)\n",
    "\n",
    "corr_cols = corr_df.columns\n",
    "for i in range(len(corr_df)):\n",
    "    for j in range(len(corr_df)-1, i, -1):\n",
    "        if abs(corr_df.iloc[i].iloc[j]) > 0.4 and i != j:\n",
    "            print((corr_cols[i], corr_cols[j]), corr_df.iloc[i].iloc[j])"
   ]
  },
  {
   "cell_type": "code",
   "execution_count": 182,
   "metadata": {},
   "outputs": [
    {
     "name": "stdout",
     "output_type": "stream",
     "text": [
      "('pca_0', 'funnel_100') 0.9295824702735922\n",
      "('pca_0', 'funnel_10_hesitate_mean') 0.9039217156646909\n",
      "('pca_1', 'GU') 0.8328634399327404\n",
      "('pca_1', 'UG') 0.7884378281255746\n",
      "('pca_2', 'VG') 0.6593918695565416\n",
      "('pca_3', 'funnel_21') 0.5295216305026813\n",
      "('pca_3', 'funnel_21_hesitate_sec_mean') 0.7519696968664894\n",
      "('pca_4', 'UV') 0.4760142198573105\n",
      "('pca_4', 'GV') -0.453308589060847\n",
      "('UG', 'GU') 0.5419322479808214\n",
      "('funnel_10_hesitate_mean', 'funnel_100') 0.7362306730403855\n",
      "('funnel_21_hesitate_sec_mean', 'funnel_21') 0.4900393559098046\n",
      "('funnel_32_hesitate_sec_mean', 'funnel_32') 0.7748891829954464\n"
     ]
    },
    {
     "data": {
      "image/png": "[encoded data removed]",
      "text/plain": [
       "<Figure size 432x288 with 2 Axes>"
      ]
     },
     "metadata": {
      "needs_background": "light"
     },
     "output_type": "display_data"
    }
   ],
   "source": [
    "# route\n",
    "\n",
    "pca = PCA(n_components=5)  # 주성분을 몇개로 할지 결정\n",
    "printcipalComponents = pca.fit_transform(X_route_n)\n",
    "# , columns=['principal component1', 'principal component2'])\n",
    "principalDf=pd.DataFrame(printcipalComponents, columns=['pca_0', 'pca_1', 'pca_2', 'pca_3','pca_4'])\n",
    "merge_df_r=pd.concat([principalDf, X_route_n], axis=1)\n",
    "corr_df = merge_df_r.corr()\n",
    "sns.heatmap(corr_df)\n",
    "\n",
    "corr_cols = corr_df.columns\n",
    "for i in range(len(corr_df)):\n",
    "    for j in range(len(corr_df)-1, i, -1):\n",
    "        if abs(corr_df.iloc[i].iloc[j]) > 0.45 and i != j:\n",
    "            print((corr_cols[i], corr_cols[j]), corr_df.iloc[i].iloc[j])"
   ]
  },
  {
   "cell_type": "markdown",
   "metadata": {},
   "source": [
    "### 2. 1에서 나온 상관계수를 바탕으로 클러스터에서 PCA 값의 분포에 대한 해석"
   ]
  },
  {
   "cell_type": "markdown",
   "metadata": {},
   "source": [
    "- cluster00\n",
    "- cluster01\n",
    "- cluster10\n",
    "- cluster11"
   ]
  },
  {
   "cell_type": "code",
   "execution_count": 126,
   "metadata": {},
   "outputs": [
    {
     "data": {
      "text/html": [
       "<div>\n",
       "<style scoped>\n",
       "    .dataframe tbody tr th:only-of-type {\n",
       "        vertical-align: middle;\n",
       "    }\n",
       "\n",
       "    .dataframe tbody tr th {\n",
       "        vertical-align: top;\n",
       "    }\n",
       "\n",
       "    .dataframe thead th {\n",
       "        text-align: right;\n",
       "    }\n",
       "</style>\n",
       "<table border=\"1\" class=\"dataframe\">\n",
       "  <thead>\n",
       "    <tr style=\"text-align: right;\">\n",
       "      <th></th>\n",
       "      <th>유저_번호</th>\n",
       "      <th>cluster_label_l</th>\n",
       "      <th>cluster_label_r</th>\n",
       "    </tr>\n",
       "  </thead>\n",
       "  <tbody>\n",
       "    <tr>\n",
       "      <th>20</th>\n",
       "      <td>594.0</td>\n",
       "      <td>0</td>\n",
       "      <td>0</td>\n",
       "    </tr>\n",
       "    <tr>\n",
       "      <th>23</th>\n",
       "      <td>645.0</td>\n",
       "      <td>0</td>\n",
       "      <td>0</td>\n",
       "    </tr>\n",
       "    <tr>\n",
       "      <th>32</th>\n",
       "      <td>798.0</td>\n",
       "      <td>0</td>\n",
       "      <td>0</td>\n",
       "    </tr>\n",
       "    <tr>\n",
       "      <th>43</th>\n",
       "      <td>1131.0</td>\n",
       "      <td>0</td>\n",
       "      <td>0</td>\n",
       "    </tr>\n",
       "    <tr>\n",
       "      <th>51</th>\n",
       "      <td>1273.0</td>\n",
       "      <td>0</td>\n",
       "      <td>0</td>\n",
       "    </tr>\n",
       "    <tr>\n",
       "      <th>...</th>\n",
       "      <td>...</td>\n",
       "      <td>...</td>\n",
       "      <td>...</td>\n",
       "    </tr>\n",
       "    <tr>\n",
       "      <th>40753</th>\n",
       "      <td>878792.0</td>\n",
       "      <td>0</td>\n",
       "      <td>0</td>\n",
       "    </tr>\n",
       "    <tr>\n",
       "      <th>40758</th>\n",
       "      <td>878867.0</td>\n",
       "      <td>0</td>\n",
       "      <td>0</td>\n",
       "    </tr>\n",
       "    <tr>\n",
       "      <th>40768</th>\n",
       "      <td>879162.0</td>\n",
       "      <td>0</td>\n",
       "      <td>0</td>\n",
       "    </tr>\n",
       "    <tr>\n",
       "      <th>40777</th>\n",
       "      <td>879383.0</td>\n",
       "      <td>0</td>\n",
       "      <td>0</td>\n",
       "    </tr>\n",
       "    <tr>\n",
       "      <th>40787</th>\n",
       "      <td>879667.0</td>\n",
       "      <td>0</td>\n",
       "      <td>0</td>\n",
       "    </tr>\n",
       "  </tbody>\n",
       "</table>\n",
       "<p>3860 rows × 3 columns</p>\n",
       "</div>"
      ],
      "text/plain": [
       "          유저_번호  cluster_label_l  cluster_label_r\n",
       "20        594.0                0                0\n",
       "23        645.0                0                0\n",
       "32        798.0                0                0\n",
       "43       1131.0                0                0\n",
       "51       1273.0                0                0\n",
       "...         ...              ...              ...\n",
       "40753  878792.0                0                0\n",
       "40758  878867.0                0                0\n",
       "40768  879162.0                0                0\n",
       "40777  879383.0                0                0\n",
       "40787  879667.0                0                0\n",
       "\n",
       "[3860 rows x 3 columns]"
      ]
     },
     "execution_count": 126,
     "metadata": {},
     "output_type": "execute_result"
    }
   ],
   "source": [
    "cluster00"
   ]
  },
  {
   "cell_type": "markdown",
   "metadata": {},
   "source": [
    "## log 0, 1"
   ]
  },
  {
   "cell_type": "markdown",
   "metadata": {},
   "source": [
    "- log 0"
   ]
  },
  {
   "cell_type": "code",
   "execution_count": 174,
   "metadata": {},
   "outputs": [
    {
     "data": {
      "text/html": [
       "<div>\n",
       "<style scoped>\n",
       "    .dataframe tbody tr th:only-of-type {\n",
       "        vertical-align: middle;\n",
       "    }\n",
       "\n",
       "    .dataframe tbody tr th {\n",
       "        vertical-align: top;\n",
       "    }\n",
       "\n",
       "    .dataframe thead th {\n",
       "        text-align: right;\n",
       "    }\n",
       "</style>\n",
       "<table border=\"1\" class=\"dataframe\">\n",
       "  <thead>\n",
       "    <tr style=\"text-align: right;\">\n",
       "      <th></th>\n",
       "      <th>0</th>\n",
       "      <th>1</th>\n",
       "      <th>2</th>\n",
       "      <th>cluster_label_l</th>\n",
       "      <th>유저_번호</th>\n",
       "    </tr>\n",
       "  </thead>\n",
       "  <tbody>\n",
       "    <tr>\n",
       "      <th>3</th>\n",
       "      <td>-0.482293</td>\n",
       "      <td>-0.204514</td>\n",
       "      <td>0.267051</td>\n",
       "      <td>0</td>\n",
       "      <td>153.0</td>\n",
       "    </tr>\n",
       "    <tr>\n",
       "      <th>4</th>\n",
       "      <td>-0.482959</td>\n",
       "      <td>-0.175836</td>\n",
       "      <td>0.260507</td>\n",
       "      <td>0</td>\n",
       "      <td>230.0</td>\n",
       "    </tr>\n",
       "    <tr>\n",
       "      <th>5</th>\n",
       "      <td>-0.228859</td>\n",
       "      <td>0.155497</td>\n",
       "      <td>-0.008062</td>\n",
       "      <td>0</td>\n",
       "      <td>233.0</td>\n",
       "    </tr>\n",
       "    <tr>\n",
       "      <th>7</th>\n",
       "      <td>-0.213554</td>\n",
       "      <td>0.050517</td>\n",
       "      <td>-0.015042</td>\n",
       "      <td>0</td>\n",
       "      <td>276.0</td>\n",
       "    </tr>\n",
       "    <tr>\n",
       "      <th>8</th>\n",
       "      <td>-0.739189</td>\n",
       "      <td>-0.170902</td>\n",
       "      <td>0.044733</td>\n",
       "      <td>0</td>\n",
       "      <td>335.0</td>\n",
       "    </tr>\n",
       "    <tr>\n",
       "      <th>...</th>\n",
       "      <td>...</td>\n",
       "      <td>...</td>\n",
       "      <td>...</td>\n",
       "      <td>...</td>\n",
       "      <td>...</td>\n",
       "    </tr>\n",
       "    <tr>\n",
       "      <th>40773</th>\n",
       "      <td>-0.247714</td>\n",
       "      <td>0.077727</td>\n",
       "      <td>0.003242</td>\n",
       "      <td>0</td>\n",
       "      <td>879266.0</td>\n",
       "    </tr>\n",
       "    <tr>\n",
       "      <th>40777</th>\n",
       "      <td>-0.247413</td>\n",
       "      <td>0.017831</td>\n",
       "      <td>0.016483</td>\n",
       "      <td>0</td>\n",
       "      <td>879383.0</td>\n",
       "    </tr>\n",
       "    <tr>\n",
       "      <th>40778</th>\n",
       "      <td>-0.508919</td>\n",
       "      <td>-0.071007</td>\n",
       "      <td>-0.204822</td>\n",
       "      <td>0</td>\n",
       "      <td>879393.0</td>\n",
       "    </tr>\n",
       "    <tr>\n",
       "      <th>40782</th>\n",
       "      <td>-0.258722</td>\n",
       "      <td>-0.225312</td>\n",
       "      <td>0.020507</td>\n",
       "      <td>0</td>\n",
       "      <td>879550.0</td>\n",
       "    </tr>\n",
       "    <tr>\n",
       "      <th>40787</th>\n",
       "      <td>-0.552217</td>\n",
       "      <td>-0.060423</td>\n",
       "      <td>-0.154580</td>\n",
       "      <td>0</td>\n",
       "      <td>879667.0</td>\n",
       "    </tr>\n",
       "  </tbody>\n",
       "</table>\n",
       "<p>16418 rows × 5 columns</p>\n",
       "</div>"
      ],
      "text/plain": [
       "              0         1         2  cluster_label_l     유저_번호\n",
       "3     -0.482293 -0.204514  0.267051                0     153.0\n",
       "4     -0.482959 -0.175836  0.260507                0     230.0\n",
       "5     -0.228859  0.155497 -0.008062                0     233.0\n",
       "7     -0.213554  0.050517 -0.015042                0     276.0\n",
       "8     -0.739189 -0.170902  0.044733                0     335.0\n",
       "...         ...       ...       ...              ...       ...\n",
       "40773 -0.247714  0.077727  0.003242                0  879266.0\n",
       "40777 -0.247413  0.017831  0.016483                0  879383.0\n",
       "40778 -0.508919 -0.071007 -0.204822                0  879393.0\n",
       "40782 -0.258722 -0.225312  0.020507                0  879550.0\n",
       "40787 -0.552217 -0.060423 -0.154580                0  879667.0\n",
       "\n",
       "[16418 rows x 5 columns]"
      ]
     },
     "execution_count": 174,
     "metadata": {},
     "output_type": "execute_result"
    }
   ],
   "source": [
    "cluster_l0=X_cluster_l_n[X_cluster_l_n['cluster_label_l']==0]\n",
    "cluster_l0"
   ]
  },
  {
   "cell_type": "code",
   "execution_count": 175,
   "metadata": {},
   "outputs": [
    {
     "data": {
      "text/html": [
       "<div>\n",
       "<style scoped>\n",
       "    .dataframe tbody tr th:only-of-type {\n",
       "        vertical-align: middle;\n",
       "    }\n",
       "\n",
       "    .dataframe tbody tr th {\n",
       "        vertical-align: top;\n",
       "    }\n",
       "\n",
       "    .dataframe thead th {\n",
       "        text-align: right;\n",
       "    }\n",
       "</style>\n",
       "<table border=\"1\" class=\"dataframe\">\n",
       "  <thead>\n",
       "    <tr style=\"text-align: right;\">\n",
       "      <th></th>\n",
       "      <th>0</th>\n",
       "      <th>1</th>\n",
       "      <th>2</th>\n",
       "      <th>유저_번호</th>\n",
       "    </tr>\n",
       "    <tr>\n",
       "      <th>cluster_label_l</th>\n",
       "      <th></th>\n",
       "      <th></th>\n",
       "      <th></th>\n",
       "      <th></th>\n",
       "    </tr>\n",
       "  </thead>\n",
       "  <tbody>\n",
       "    <tr>\n",
       "      <th>0</th>\n",
       "      <td>-0.480397</td>\n",
       "      <td>0.013959</td>\n",
       "      <td>-0.020114</td>\n",
       "      <td>439565.650932</td>\n",
       "    </tr>\n",
       "  </tbody>\n",
       "</table>\n",
       "</div>"
      ],
      "text/plain": [
       "                        0         1         2          유저_번호\n",
       "cluster_label_l                                             \n",
       "0               -0.480397  0.013959 -0.020114  439565.650932"
      ]
     },
     "execution_count": 175,
     "metadata": {},
     "output_type": "execute_result"
    }
   ],
   "source": [
    "cluster_l0.groupby(['cluster_label_l']).mean()"
   ]
  },
  {
   "cell_type": "code",
   "execution_count": 176,
   "metadata": {
    "scrolled": true
   },
   "outputs": [
    {
     "data": {
      "image/png": "[encoded data removed]",
      "text/plain": [
       "<Figure size 432x288 with 1 Axes>"
      ]
     },
     "metadata": {
      "needs_background": "light"
     },
     "output_type": "display_data"
    },
    {
     "data": {
      "image/png": "[encoded data removed]",
      "text/plain": [
       "<Figure size 432x288 with 1 Axes>"
      ]
     },
     "metadata": {
      "needs_background": "light"
     },
     "output_type": "display_data"
    },
    {
     "data": {
      "image/png": "[encoded data removed]",
      "text/plain": [
       "<Figure size 432x288 with 1 Axes>"
      ]
     },
     "metadata": {
      "needs_background": "light"
     },
     "output_type": "display_data"
    }
   ],
   "source": [
    "for i in range(3):\n",
    "    plt.hist(cluster_l0[str(i)])\n",
    "    plt.title(\"pca_\" + str(i))\n",
    "    plt.show()"
   ]
  },
  {
   "cell_type": "markdown",
   "metadata": {},
   "source": [
    "- log 1"
   ]
  },
  {
   "cell_type": "code",
   "execution_count": 177,
   "metadata": {},
   "outputs": [
    {
     "data": {
      "text/html": [
       "<div>\n",
       "<style scoped>\n",
       "    .dataframe tbody tr th:only-of-type {\n",
       "        vertical-align: middle;\n",
       "    }\n",
       "\n",
       "    .dataframe tbody tr th {\n",
       "        vertical-align: top;\n",
       "    }\n",
       "\n",
       "    .dataframe thead th {\n",
       "        text-align: right;\n",
       "    }\n",
       "</style>\n",
       "<table border=\"1\" class=\"dataframe\">\n",
       "  <thead>\n",
       "    <tr style=\"text-align: right;\">\n",
       "      <th></th>\n",
       "      <th>0</th>\n",
       "      <th>1</th>\n",
       "      <th>2</th>\n",
       "      <th>cluster_label_l</th>\n",
       "      <th>유저_번호</th>\n",
       "    </tr>\n",
       "  </thead>\n",
       "  <tbody>\n",
       "    <tr>\n",
       "      <th>0</th>\n",
       "      <td>0.029685</td>\n",
       "      <td>0.224162</td>\n",
       "      <td>-0.276521</td>\n",
       "      <td>1</td>\n",
       "      <td>21.0</td>\n",
       "    </tr>\n",
       "    <tr>\n",
       "      <th>1</th>\n",
       "      <td>0.030441</td>\n",
       "      <td>0.094701</td>\n",
       "      <td>0.209257</td>\n",
       "      <td>1</td>\n",
       "      <td>62.0</td>\n",
       "    </tr>\n",
       "    <tr>\n",
       "      <th>2</th>\n",
       "      <td>0.021815</td>\n",
       "      <td>0.204147</td>\n",
       "      <td>-0.273216</td>\n",
       "      <td>1</td>\n",
       "      <td>94.0</td>\n",
       "    </tr>\n",
       "    <tr>\n",
       "      <th>6</th>\n",
       "      <td>-0.012659</td>\n",
       "      <td>-0.234109</td>\n",
       "      <td>0.243516</td>\n",
       "      <td>1</td>\n",
       "      <td>252.0</td>\n",
       "    </tr>\n",
       "    <tr>\n",
       "      <th>9</th>\n",
       "      <td>-0.008806</td>\n",
       "      <td>-0.086288</td>\n",
       "      <td>0.238150</td>\n",
       "      <td>1</td>\n",
       "      <td>354.0</td>\n",
       "    </tr>\n",
       "    <tr>\n",
       "      <th>...</th>\n",
       "      <td>...</td>\n",
       "      <td>...</td>\n",
       "      <td>...</td>\n",
       "      <td>...</td>\n",
       "      <td>...</td>\n",
       "    </tr>\n",
       "    <tr>\n",
       "      <th>40781</th>\n",
       "      <td>0.781887</td>\n",
       "      <td>0.720132</td>\n",
       "      <td>-0.107809</td>\n",
       "      <td>1</td>\n",
       "      <td>879447.0</td>\n",
       "    </tr>\n",
       "    <tr>\n",
       "      <th>40783</th>\n",
       "      <td>0.487239</td>\n",
       "      <td>-0.333598</td>\n",
       "      <td>0.205665</td>\n",
       "      <td>1</td>\n",
       "      <td>879576.0</td>\n",
       "    </tr>\n",
       "    <tr>\n",
       "      <th>40784</th>\n",
       "      <td>0.509193</td>\n",
       "      <td>-0.375004</td>\n",
       "      <td>-0.296975</td>\n",
       "      <td>1</td>\n",
       "      <td>879629.0</td>\n",
       "    </tr>\n",
       "    <tr>\n",
       "      <th>40785</th>\n",
       "      <td>0.705549</td>\n",
       "      <td>-0.380405</td>\n",
       "      <td>-0.035964</td>\n",
       "      <td>1</td>\n",
       "      <td>879644.0</td>\n",
       "    </tr>\n",
       "    <tr>\n",
       "      <th>40786</th>\n",
       "      <td>-0.045681</td>\n",
       "      <td>-0.216035</td>\n",
       "      <td>0.264411</td>\n",
       "      <td>1</td>\n",
       "      <td>879653.0</td>\n",
       "    </tr>\n",
       "  </tbody>\n",
       "</table>\n",
       "<p>24370 rows × 5 columns</p>\n",
       "</div>"
      ],
      "text/plain": [
       "              0         1         2  cluster_label_l     유저_번호\n",
       "0      0.029685  0.224162 -0.276521                1      21.0\n",
       "1      0.030441  0.094701  0.209257                1      62.0\n",
       "2      0.021815  0.204147 -0.273216                1      94.0\n",
       "6     -0.012659 -0.234109  0.243516                1     252.0\n",
       "9     -0.008806 -0.086288  0.238150                1     354.0\n",
       "...         ...       ...       ...              ...       ...\n",
       "40781  0.781887  0.720132 -0.107809                1  879447.0\n",
       "40783  0.487239 -0.333598  0.205665                1  879576.0\n",
       "40784  0.509193 -0.375004 -0.296975                1  879629.0\n",
       "40785  0.705549 -0.380405 -0.035964                1  879644.0\n",
       "40786 -0.045681 -0.216035  0.264411                1  879653.0\n",
       "\n",
       "[24370 rows x 5 columns]"
      ]
     },
     "execution_count": 177,
     "metadata": {},
     "output_type": "execute_result"
    }
   ],
   "source": [
    "cluster_l1=X_cluster_l_n[X_cluster_l_n['cluster_label_l']==1]\n",
    "cluster_l1"
   ]
  },
  {
   "cell_type": "code",
   "execution_count": 178,
   "metadata": {},
   "outputs": [
    {
     "data": {
      "text/html": [
       "<div>\n",
       "<style scoped>\n",
       "    .dataframe tbody tr th:only-of-type {\n",
       "        vertical-align: middle;\n",
       "    }\n",
       "\n",
       "    .dataframe tbody tr th {\n",
       "        vertical-align: top;\n",
       "    }\n",
       "\n",
       "    .dataframe thead th {\n",
       "        text-align: right;\n",
       "    }\n",
       "</style>\n",
       "<table border=\"1\" class=\"dataframe\">\n",
       "  <thead>\n",
       "    <tr style=\"text-align: right;\">\n",
       "      <th></th>\n",
       "      <th>0</th>\n",
       "      <th>1</th>\n",
       "      <th>2</th>\n",
       "      <th>유저_번호</th>\n",
       "    </tr>\n",
       "    <tr>\n",
       "      <th>cluster_label_l</th>\n",
       "      <th></th>\n",
       "      <th></th>\n",
       "      <th></th>\n",
       "      <th></th>\n",
       "    </tr>\n",
       "  </thead>\n",
       "  <tbody>\n",
       "    <tr>\n",
       "      <th>1</th>\n",
       "      <td>0.323642</td>\n",
       "      <td>-0.009404</td>\n",
       "      <td>0.013551</td>\n",
       "      <td>438936.01149</td>\n",
       "    </tr>\n",
       "  </tbody>\n",
       "</table>\n",
       "</div>"
      ],
      "text/plain": [
       "                        0         1         2         유저_번호\n",
       "cluster_label_l                                            \n",
       "1                0.323642 -0.009404  0.013551  438936.01149"
      ]
     },
     "execution_count": 178,
     "metadata": {},
     "output_type": "execute_result"
    }
   ],
   "source": [
    "cluster_l1.groupby(['cluster_label_l']).mean()"
   ]
  },
  {
   "cell_type": "code",
   "execution_count": 179,
   "metadata": {},
   "outputs": [
    {
     "data": {
      "image/png": "[encoded data removed]",
      "text/plain": [
       "<Figure size 432x288 with 1 Axes>"
      ]
     },
     "metadata": {
      "needs_background": "light"
     },
     "output_type": "display_data"
    },
    {
     "data": {
      "image/png": "[encoded data removed]",
      "text/plain": [
       "<Figure size 432x288 with 1 Axes>"
      ]
     },
     "metadata": {
      "needs_background": "light"
     },
     "output_type": "display_data"
    },
    {
     "data": {
      "image/png": "[encoded data removed]",
      "text/plain": [
       "<Figure size 432x288 with 1 Axes>"
      ]
     },
     "metadata": {
      "needs_background": "light"
     },
     "output_type": "display_data"
    }
   ],
   "source": [
    "for i in range(3):\n",
    "    plt.hist(cluster_l1[str(i)])\n",
    "    plt.title(\"pca_\" + str(i))\n",
    "    plt.show()"
   ]
  },
  {
   "cell_type": "markdown",
   "metadata": {},
   "source": [
    "## route 0,1"
   ]
  },
  {
   "cell_type": "markdown",
   "metadata": {},
   "source": [
    "- route 0"
   ]
  },
  {
   "cell_type": "code",
   "execution_count": 183,
   "metadata": {},
   "outputs": [
    {
     "data": {
      "text/html": [
       "<div>\n",
       "<style scoped>\n",
       "    .dataframe tbody tr th:only-of-type {\n",
       "        vertical-align: middle;\n",
       "    }\n",
       "\n",
       "    .dataframe tbody tr th {\n",
       "        vertical-align: top;\n",
       "    }\n",
       "\n",
       "    .dataframe thead th {\n",
       "        text-align: right;\n",
       "    }\n",
       "</style>\n",
       "<table border=\"1\" class=\"dataframe\">\n",
       "  <thead>\n",
       "    <tr style=\"text-align: right;\">\n",
       "      <th></th>\n",
       "      <th>0</th>\n",
       "      <th>1</th>\n",
       "      <th>2</th>\n",
       "      <th>3</th>\n",
       "      <th>4</th>\n",
       "      <th>cluster_label_r</th>\n",
       "      <th>유저_번호</th>\n",
       "    </tr>\n",
       "  </thead>\n",
       "  <tbody>\n",
       "    <tr>\n",
       "      <th>0</th>\n",
       "      <td>0.351109</td>\n",
       "      <td>-0.054408</td>\n",
       "      <td>0.080074</td>\n",
       "      <td>-0.109345</td>\n",
       "      <td>0.183303</td>\n",
       "      <td>0</td>\n",
       "      <td>21.0</td>\n",
       "    </tr>\n",
       "    <tr>\n",
       "      <th>18</th>\n",
       "      <td>0.798861</td>\n",
       "      <td>-0.185706</td>\n",
       "      <td>-0.278648</td>\n",
       "      <td>0.867673</td>\n",
       "      <td>0.402633</td>\n",
       "      <td>0</td>\n",
       "      <td>579.0</td>\n",
       "    </tr>\n",
       "    <tr>\n",
       "      <th>20</th>\n",
       "      <td>0.469107</td>\n",
       "      <td>-0.275534</td>\n",
       "      <td>-0.005759</td>\n",
       "      <td>-0.189282</td>\n",
       "      <td>-0.088757</td>\n",
       "      <td>0</td>\n",
       "      <td>594.0</td>\n",
       "    </tr>\n",
       "    <tr>\n",
       "      <th>23</th>\n",
       "      <td>0.335913</td>\n",
       "      <td>-0.034753</td>\n",
       "      <td>-0.093278</td>\n",
       "      <td>-0.162843</td>\n",
       "      <td>0.186594</td>\n",
       "      <td>0</td>\n",
       "      <td>645.0</td>\n",
       "    </tr>\n",
       "    <tr>\n",
       "      <th>24</th>\n",
       "      <td>0.358169</td>\n",
       "      <td>0.253882</td>\n",
       "      <td>-0.268506</td>\n",
       "      <td>-0.194006</td>\n",
       "      <td>0.042895</td>\n",
       "      <td>0</td>\n",
       "      <td>681.0</td>\n",
       "    </tr>\n",
       "    <tr>\n",
       "      <th>...</th>\n",
       "      <td>...</td>\n",
       "      <td>...</td>\n",
       "      <td>...</td>\n",
       "      <td>...</td>\n",
       "      <td>...</td>\n",
       "      <td>...</td>\n",
       "      <td>...</td>\n",
       "    </tr>\n",
       "    <tr>\n",
       "      <th>40764</th>\n",
       "      <td>0.858816</td>\n",
       "      <td>-0.047635</td>\n",
       "      <td>-0.484784</td>\n",
       "      <td>0.572189</td>\n",
       "      <td>-0.063859</td>\n",
       "      <td>0</td>\n",
       "      <td>879117.0</td>\n",
       "    </tr>\n",
       "    <tr>\n",
       "      <th>40768</th>\n",
       "      <td>0.287577</td>\n",
       "      <td>-0.166382</td>\n",
       "      <td>-0.102682</td>\n",
       "      <td>-0.173012</td>\n",
       "      <td>-0.008246</td>\n",
       "      <td>0</td>\n",
       "      <td>879162.0</td>\n",
       "    </tr>\n",
       "    <tr>\n",
       "      <th>40777</th>\n",
       "      <td>0.571676</td>\n",
       "      <td>0.444859</td>\n",
       "      <td>0.345050</td>\n",
       "      <td>0.023177</td>\n",
       "      <td>0.205614</td>\n",
       "      <td>0</td>\n",
       "      <td>879383.0</td>\n",
       "    </tr>\n",
       "    <tr>\n",
       "      <th>40781</th>\n",
       "      <td>0.309845</td>\n",
       "      <td>-0.301870</td>\n",
       "      <td>0.179685</td>\n",
       "      <td>-0.095097</td>\n",
       "      <td>0.139819</td>\n",
       "      <td>0</td>\n",
       "      <td>879447.0</td>\n",
       "    </tr>\n",
       "    <tr>\n",
       "      <th>40787</th>\n",
       "      <td>0.746668</td>\n",
       "      <td>0.040573</td>\n",
       "      <td>0.189713</td>\n",
       "      <td>-0.145356</td>\n",
       "      <td>0.321199</td>\n",
       "      <td>0</td>\n",
       "      <td>879667.0</td>\n",
       "    </tr>\n",
       "  </tbody>\n",
       "</table>\n",
       "<p>11885 rows × 7 columns</p>\n",
       "</div>"
      ],
      "text/plain": [
       "              0         1         2         3         4  cluster_label_r  \\\n",
       "0      0.351109 -0.054408  0.080074 -0.109345  0.183303                0   \n",
       "18     0.798861 -0.185706 -0.278648  0.867673  0.402633                0   \n",
       "20     0.469107 -0.275534 -0.005759 -0.189282 -0.088757                0   \n",
       "23     0.335913 -0.034753 -0.093278 -0.162843  0.186594                0   \n",
       "24     0.358169  0.253882 -0.268506 -0.194006  0.042895                0   \n",
       "...         ...       ...       ...       ...       ...              ...   \n",
       "40764  0.858816 -0.047635 -0.484784  0.572189 -0.063859                0   \n",
       "40768  0.287577 -0.166382 -0.102682 -0.173012 -0.008246                0   \n",
       "40777  0.571676  0.444859  0.345050  0.023177  0.205614                0   \n",
       "40781  0.309845 -0.301870  0.179685 -0.095097  0.139819                0   \n",
       "40787  0.746668  0.040573  0.189713 -0.145356  0.321199                0   \n",
       "\n",
       "          유저_번호  \n",
       "0          21.0  \n",
       "18        579.0  \n",
       "20        594.0  \n",
       "23        645.0  \n",
       "24        681.0  \n",
       "...         ...  \n",
       "40764  879117.0  \n",
       "40768  879162.0  \n",
       "40777  879383.0  \n",
       "40781  879447.0  \n",
       "40787  879667.0  \n",
       "\n",
       "[11885 rows x 7 columns]"
      ]
     },
     "execution_count": 183,
     "metadata": {},
     "output_type": "execute_result"
    }
   ],
   "source": [
    "cluster_r0 = X_cluster_r_n[X_cluster_r_n['cluster_label_r'] == 0]\n",
    "cluster_r0"
   ]
  },
  {
   "cell_type": "code",
   "execution_count": 184,
   "metadata": {},
   "outputs": [
    {
     "data": {
      "text/html": [
       "<div>\n",
       "<style scoped>\n",
       "    .dataframe tbody tr th:only-of-type {\n",
       "        vertical-align: middle;\n",
       "    }\n",
       "\n",
       "    .dataframe tbody tr th {\n",
       "        vertical-align: top;\n",
       "    }\n",
       "\n",
       "    .dataframe thead th {\n",
       "        text-align: right;\n",
       "    }\n",
       "</style>\n",
       "<table border=\"1\" class=\"dataframe\">\n",
       "  <thead>\n",
       "    <tr style=\"text-align: right;\">\n",
       "      <th></th>\n",
       "      <th>0</th>\n",
       "      <th>1</th>\n",
       "      <th>2</th>\n",
       "      <th>3</th>\n",
       "      <th>4</th>\n",
       "      <th>유저_번호</th>\n",
       "    </tr>\n",
       "    <tr>\n",
       "      <th>cluster_label_r</th>\n",
       "      <th></th>\n",
       "      <th></th>\n",
       "      <th></th>\n",
       "      <th></th>\n",
       "      <th></th>\n",
       "      <th></th>\n",
       "    </tr>\n",
       "  </thead>\n",
       "  <tbody>\n",
       "    <tr>\n",
       "      <th>0</th>\n",
       "      <td>0.49536</td>\n",
       "      <td>-0.052568</td>\n",
       "      <td>-0.02716</td>\n",
       "      <td>-0.02219</td>\n",
       "      <td>0.002338</td>\n",
       "      <td>439080.495835</td>\n",
       "    </tr>\n",
       "  </tbody>\n",
       "</table>\n",
       "</div>"
      ],
      "text/plain": [
       "                       0         1        2        3         4          유저_번호\n",
       "cluster_label_r                                                              \n",
       "0                0.49536 -0.052568 -0.02716 -0.02219  0.002338  439080.495835"
      ]
     },
     "execution_count": 184,
     "metadata": {},
     "output_type": "execute_result"
    }
   ],
   "source": [
    "cluster_r0.groupby(['cluster_label_r']).mean()"
   ]
  },
  {
   "cell_type": "code",
   "execution_count": 41,
   "metadata": {
    "scrolled": true
   },
   "outputs": [
    {
     "data": {
      "image/png": "[encoded data removed]",
      "text/plain": [
       "<Figure size 432x288 with 1 Axes>"
      ]
     },
     "metadata": {
      "needs_background": "light"
     },
     "output_type": "display_data"
    },
    {
     "data": {
      "image/png": "[encoded data removed]",
      "text/plain": [
       "<Figure size 432x288 with 1 Axes>"
      ]
     },
     "metadata": {
      "needs_background": "light"
     },
     "output_type": "display_data"
    },
    {
     "data": {
      "image/png": "[encoded data removed]",
      "text/plain": [
       "<Figure size 432x288 with 1 Axes>"
      ]
     },
     "metadata": {
      "needs_background": "light"
     },
     "output_type": "display_data"
    },
    {
     "data": {
      "image/png": "[encoded data removed]",
      "text/plain": [
       "<Figure size 432x288 with 1 Axes>"
      ]
     },
     "metadata": {
      "needs_background": "light"
     },
     "output_type": "display_data"
    }
   ],
   "source": [
    "for i in range(4):\n",
    "    plt.hist(cluster_r0[str(i)])\n",
    "    plt.title(\"pca_\" + str(i))\n",
    "    plt.show()"
   ]
  },
  {
   "cell_type": "markdown",
   "metadata": {},
   "source": [
    "- route 1"
   ]
  },
  {
   "cell_type": "code",
   "execution_count": 43,
   "metadata": {},
   "outputs": [
    {
     "data": {
      "text/html": [
       "<div>\n",
       "<style scoped>\n",
       "    .dataframe tbody tr th:only-of-type {\n",
       "        vertical-align: middle;\n",
       "    }\n",
       "\n",
       "    .dataframe tbody tr th {\n",
       "        vertical-align: top;\n",
       "    }\n",
       "\n",
       "    .dataframe thead th {\n",
       "        text-align: right;\n",
       "    }\n",
       "</style>\n",
       "<table border=\"1\" class=\"dataframe\">\n",
       "  <thead>\n",
       "    <tr style=\"text-align: right;\">\n",
       "      <th></th>\n",
       "      <th>0</th>\n",
       "      <th>1</th>\n",
       "      <th>2</th>\n",
       "      <th>3</th>\n",
       "      <th>4</th>\n",
       "      <th>cluster_label_r</th>\n",
       "    </tr>\n",
       "  </thead>\n",
       "  <tbody>\n",
       "    <tr>\n",
       "      <th>1</th>\n",
       "      <td>-0.232545</td>\n",
       "      <td>-0.029356</td>\n",
       "      <td>-0.013736</td>\n",
       "      <td>-0.006045</td>\n",
       "      <td>-0.009564</td>\n",
       "      <td>1</td>\n",
       "    </tr>\n",
       "    <tr>\n",
       "      <th>2</th>\n",
       "      <td>-0.246762</td>\n",
       "      <td>-0.105999</td>\n",
       "      <td>0.007766</td>\n",
       "      <td>-0.010589</td>\n",
       "      <td>0.040438</td>\n",
       "      <td>1</td>\n",
       "    </tr>\n",
       "    <tr>\n",
       "      <th>3</th>\n",
       "      <td>-0.220730</td>\n",
       "      <td>0.045263</td>\n",
       "      <td>-0.047856</td>\n",
       "      <td>-0.014254</td>\n",
       "      <td>0.031273</td>\n",
       "      <td>1</td>\n",
       "    </tr>\n",
       "    <tr>\n",
       "      <th>4</th>\n",
       "      <td>-0.247777</td>\n",
       "      <td>-0.125557</td>\n",
       "      <td>0.030254</td>\n",
       "      <td>0.004538</td>\n",
       "      <td>-0.062213</td>\n",
       "      <td>1</td>\n",
       "    </tr>\n",
       "    <tr>\n",
       "      <th>5</th>\n",
       "      <td>-0.221517</td>\n",
       "      <td>0.030092</td>\n",
       "      <td>-0.030413</td>\n",
       "      <td>-0.002521</td>\n",
       "      <td>-0.048349</td>\n",
       "      <td>1</td>\n",
       "    </tr>\n",
       "    <tr>\n",
       "      <th>...</th>\n",
       "      <td>...</td>\n",
       "      <td>...</td>\n",
       "      <td>...</td>\n",
       "      <td>...</td>\n",
       "      <td>...</td>\n",
       "      <td>...</td>\n",
       "    </tr>\n",
       "    <tr>\n",
       "      <th>40782</th>\n",
       "      <td>-0.221517</td>\n",
       "      <td>0.030092</td>\n",
       "      <td>-0.030413</td>\n",
       "      <td>-0.002521</td>\n",
       "      <td>-0.048349</td>\n",
       "      <td>1</td>\n",
       "    </tr>\n",
       "    <tr>\n",
       "      <th>40783</th>\n",
       "      <td>-0.247777</td>\n",
       "      <td>-0.125557</td>\n",
       "      <td>0.030254</td>\n",
       "      <td>0.004538</td>\n",
       "      <td>-0.062213</td>\n",
       "      <td>1</td>\n",
       "    </tr>\n",
       "    <tr>\n",
       "      <th>40784</th>\n",
       "      <td>-0.023928</td>\n",
       "      <td>0.442055</td>\n",
       "      <td>0.225886</td>\n",
       "      <td>0.062307</td>\n",
       "      <td>0.295805</td>\n",
       "      <td>1</td>\n",
       "    </tr>\n",
       "    <tr>\n",
       "      <th>40785</th>\n",
       "      <td>-0.200049</td>\n",
       "      <td>0.165680</td>\n",
       "      <td>-0.092412</td>\n",
       "      <td>-0.017437</td>\n",
       "      <td>0.025856</td>\n",
       "      <td>1</td>\n",
       "    </tr>\n",
       "    <tr>\n",
       "      <th>40786</th>\n",
       "      <td>-0.209702</td>\n",
       "      <td>0.104712</td>\n",
       "      <td>-0.064534</td>\n",
       "      <td>-0.010730</td>\n",
       "      <td>-0.007511</td>\n",
       "      <td>1</td>\n",
       "    </tr>\n",
       "  </tbody>\n",
       "</table>\n",
       "<p>28903 rows × 6 columns</p>\n",
       "</div>"
      ],
      "text/plain": [
       "              0         1         2         3         4  cluster_label_r\n",
       "1     -0.232545 -0.029356 -0.013736 -0.006045 -0.009564                1\n",
       "2     -0.246762 -0.105999  0.007766 -0.010589  0.040438                1\n",
       "3     -0.220730  0.045263 -0.047856 -0.014254  0.031273                1\n",
       "4     -0.247777 -0.125557  0.030254  0.004538 -0.062213                1\n",
       "5     -0.221517  0.030092 -0.030413 -0.002521 -0.048349                1\n",
       "...         ...       ...       ...       ...       ...              ...\n",
       "40782 -0.221517  0.030092 -0.030413 -0.002521 -0.048349                1\n",
       "40783 -0.247777 -0.125557  0.030254  0.004538 -0.062213                1\n",
       "40784 -0.023928  0.442055  0.225886  0.062307  0.295805                1\n",
       "40785 -0.200049  0.165680 -0.092412 -0.017437  0.025856                1\n",
       "40786 -0.209702  0.104712 -0.064534 -0.010730 -0.007511                1\n",
       "\n",
       "[28903 rows x 6 columns]"
      ]
     },
     "execution_count": 43,
     "metadata": {},
     "output_type": "execute_result"
    }
   ],
   "source": [
    "cluster_r1 = X_cluster_r_n[X_cluster_r_n['cluster_label_r'] == 1]\n",
    "cluster_r1"
   ]
  },
  {
   "cell_type": "code",
   "execution_count": 44,
   "metadata": {},
   "outputs": [
    {
     "data": {
      "text/html": [
       "<div>\n",
       "<style scoped>\n",
       "    .dataframe tbody tr th:only-of-type {\n",
       "        vertical-align: middle;\n",
       "    }\n",
       "\n",
       "    .dataframe tbody tr th {\n",
       "        vertical-align: top;\n",
       "    }\n",
       "\n",
       "    .dataframe thead th {\n",
       "        text-align: right;\n",
       "    }\n",
       "</style>\n",
       "<table border=\"1\" class=\"dataframe\">\n",
       "  <thead>\n",
       "    <tr style=\"text-align: right;\">\n",
       "      <th></th>\n",
       "      <th>0</th>\n",
       "      <th>1</th>\n",
       "      <th>2</th>\n",
       "      <th>3</th>\n",
       "      <th>4</th>\n",
       "    </tr>\n",
       "    <tr>\n",
       "      <th>cluster_label_r</th>\n",
       "      <th></th>\n",
       "      <th></th>\n",
       "      <th></th>\n",
       "      <th></th>\n",
       "      <th></th>\n",
       "    </tr>\n",
       "  </thead>\n",
       "  <tbody>\n",
       "    <tr>\n",
       "      <th>1</th>\n",
       "      <td>-0.203694</td>\n",
       "      <td>0.021616</td>\n",
       "      <td>0.011168</td>\n",
       "      <td>0.009125</td>\n",
       "      <td>-0.000962</td>\n",
       "    </tr>\n",
       "  </tbody>\n",
       "</table>\n",
       "</div>"
      ],
      "text/plain": [
       "                        0         1         2         3         4\n",
       "cluster_label_r                                                  \n",
       "1               -0.203694  0.021616  0.011168  0.009125 -0.000962"
      ]
     },
     "execution_count": 44,
     "metadata": {},
     "output_type": "execute_result"
    }
   ],
   "source": [
    "cluster_r1.groupby(['cluster_label_r']).mean()"
   ]
  },
  {
   "cell_type": "code",
   "execution_count": 45,
   "metadata": {},
   "outputs": [
    {
     "data": {
      "image/png": "[encoded data removed]",
      "text/plain": [
       "<Figure size 432x288 with 1 Axes>"
      ]
     },
     "metadata": {
      "needs_background": "light"
     },
     "output_type": "display_data"
    },
    {
     "data": {
      "image/png": "[encoded data removed]",
      "text/plain": [
       "<Figure size 432x288 with 1 Axes>"
      ]
     },
     "metadata": {
      "needs_background": "light"
     },
     "output_type": "display_data"
    },
    {
     "data": {
      "image/png": "[encoded data removed]",
      "text/plain": [
       "<Figure size 432x288 with 1 Axes>"
      ]
     },
     "metadata": {
      "needs_background": "light"
     },
     "output_type": "display_data"
    },
    {
     "data": {
      "image/png": "[encoded data removed]",
      "text/plain": [
       "<Figure size 432x288 with 1 Axes>"
      ]
     },
     "metadata": {
      "needs_background": "light"
     },
     "output_type": "display_data"
    },
    {
     "data": {
      "image/png": "[encoded data removed]",
      "text/plain": [
       "<Figure size 432x288 with 1 Axes>"
      ]
     },
     "metadata": {
      "needs_background": "light"
     },
     "output_type": "display_data"
    }
   ],
   "source": [
    "for i in range(5):\n",
    "    plt.hist(cluster_r1[str(i)])\n",
    "    plt.title(\"pca_\" + str(i))\n",
    "    plt.show()"
   ]
  }
 ],
 "metadata": {
  "kernelspec": {
   "display_name": "Python 3",
   "language": "python",
   "name": "python3"
  },
  "language_info": {
   "codemirror_mode": {
    "name": "ipython",
    "version": 3
   },
   "file_extension": ".py",
   "mimetype": "text/x-python",
   "name": "python",
   "nbconvert_exporter": "python",
   "pygments_lexer": "ipython3",
   "version": "3.8.5"
  }
 },
 "nbformat": 4,
 "nbformat_minor": 4
}
